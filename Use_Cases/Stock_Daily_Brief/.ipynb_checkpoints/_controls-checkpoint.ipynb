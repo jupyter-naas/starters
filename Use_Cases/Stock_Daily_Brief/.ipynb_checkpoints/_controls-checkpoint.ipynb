{
 "cells": [
  {
   "cell_type": "markdown",
   "metadata": {},
   "source": [
    "# Controls \n"
   ]
  },
  {
   "cell_type": "markdown",
   "metadata": {},
   "source": [
    "Get output file from production "
   ]
  },
  {
   "cell_type": "code",
   "execution_count": 6,
   "metadata": {},
   "outputs": [
    {
     "name": "stdout",
     "output_type": "stream",
     "text": [
      "File copied here /home/ftp/private-folder/Naas/Get Started/starters/Build_a_Trading_Assistant/prod_out_S01E07-notebooks-as-api.ipynb\n",
      "🕣 Your Notebook OUTPUT from production has been copied into your dev folder\n",
      "\n"
     ]
    }
   ],
   "source": [
    "import naas \n",
    "naas.api.get_output(\"S01E07-notebooks-as-api.ipynb\")"
   ]
  },
  {
   "cell_type": "markdown",
   "metadata": {},
   "source": [
    "This will download the user file from production"
   ]
  },
  {
   "cell_type": "code",
   "execution_count": 7,
   "metadata": {},
   "outputs": [
    {
     "name": "stdout",
     "output_type": "stream",
     "text": [
      "File copied here /home/ftp/private-folder/Naas/Get Started/starters/Build_a_Trading_Assistant/prod_users.txt\n",
      "🕣 Your Notebook from production has been copied into your dev folder.\n",
      "\n"
     ]
    }
   ],
   "source": [
    "naas.dependency.get(\"users.txt\")"
   ]
  },
  {
   "cell_type": "code",
   "execution_count": null,
   "metadata": {},
   "outputs": [],
   "source": []
  }
 ],
 "metadata": {
  "kernelspec": {
   "display_name": "Python 3",
   "language": "python",
   "name": "python3"
  },
  "language_info": {
   "codemirror_mode": {
    "name": "ipython",
    "version": 3
   },
   "file_extension": ".py",
   "mimetype": "text/x-python",
   "name": "python",
   "nbconvert_exporter": "python",
   "pygments_lexer": "ipython3",
   "version": "3.8.6"
  }
 },
 "nbformat": 4,
 "nbformat_minor": 4
}
