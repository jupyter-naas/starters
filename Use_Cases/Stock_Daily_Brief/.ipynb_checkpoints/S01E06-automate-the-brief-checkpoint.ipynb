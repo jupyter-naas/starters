{
 "cells": [
  {
   "cell_type": "markdown",
   "metadata": {},
   "source": [
    "# Automate your daily brief 💌"
   ]
  },
  {
   "cell_type": "markdown",
   "metadata": {},
   "source": [
    "Bring everything together in an email to get your daily brief."
   ]
  },
  {
   "cell_type": "markdown",
   "metadata": {},
   "source": [
    "## Import necessary packages"
   ]
  },
  {
   "cell_type": "code",
   "execution_count": 1,
   "metadata": {},
   "outputs": [],
   "source": [
    "import naas\n",
    "import naas_drivers"
   ]
  },
  {
   "cell_type": "markdown",
   "metadata": {},
   "source": [
    "## Set variables"
   ]
  },
  {
   "cell_type": "code",
   "execution_count": 2,
   "metadata": {},
   "outputs": [],
   "source": [
    "stock = 'TSLA'\n",
    "subject = \"⏰ Reminder - Follow your favorite company : Tesla\""
   ]
  },
  {
   "cell_type": "code",
   "execution_count": 3,
   "metadata": {},
   "outputs": [],
   "source": [
    "emails = open(\"users.txt\", \"r\").read()"
   ]
  },
  {
   "cell_type": "markdown",
   "metadata": {},
   "source": [
    "# Get stock data"
   ]
  },
  {
   "cell_type": "code",
   "execution_count": 4,
   "metadata": {},
   "outputs": [
    {
     "name": "stdout",
     "output_type": "stream",
     "text": [
      "getted data for TSLA https://query1.finance.yahoo.com/v7/finance/download/TSLA?period1=1587385416&period2=1604669016&interval=1d&events=history\n"
     ]
    },
    {
     "data": {
      "text/html": [
       "<div>\n",
       "<style scoped>\n",
       "    .dataframe tbody tr th:only-of-type {\n",
       "        vertical-align: middle;\n",
       "    }\n",
       "\n",
       "    .dataframe tbody tr th {\n",
       "        vertical-align: top;\n",
       "    }\n",
       "\n",
       "    .dataframe thead th {\n",
       "        text-align: right;\n",
       "    }\n",
       "</style>\n",
       "<table border=\"1\" class=\"dataframe\">\n",
       "  <thead>\n",
       "    <tr style=\"text-align: right;\">\n",
       "      <th></th>\n",
       "      <th>Date</th>\n",
       "      <th>Open</th>\n",
       "      <th>High</th>\n",
       "      <th>Low</th>\n",
       "      <th>Close</th>\n",
       "      <th>Adj Close</th>\n",
       "      <th>Volume</th>\n",
       "      <th>Company</th>\n",
       "      <th>MA20</th>\n",
       "      <th>MA50</th>\n",
       "    </tr>\n",
       "  </thead>\n",
       "  <tbody>\n",
       "    <tr>\n",
       "      <th>0</th>\n",
       "      <td>2020-04-20</td>\n",
       "      <td>146.539993</td>\n",
       "      <td>153.113998</td>\n",
       "      <td>142.442001</td>\n",
       "      <td>149.272003</td>\n",
       "      <td>149.272003</td>\n",
       "      <td>14746600</td>\n",
       "      <td>TSLA</td>\n",
       "      <td>NaN</td>\n",
       "      <td>NaN</td>\n",
       "    </tr>\n",
       "    <tr>\n",
       "      <th>1</th>\n",
       "      <td>2020-04-21</td>\n",
       "      <td>146.024002</td>\n",
       "      <td>150.666000</td>\n",
       "      <td>134.757996</td>\n",
       "      <td>137.343994</td>\n",
       "      <td>137.343994</td>\n",
       "      <td>20209100</td>\n",
       "      <td>TSLA</td>\n",
       "      <td>NaN</td>\n",
       "      <td>NaN</td>\n",
       "    </tr>\n",
       "    <tr>\n",
       "      <th>2</th>\n",
       "      <td>2020-04-22</td>\n",
       "      <td>140.796005</td>\n",
       "      <td>146.800003</td>\n",
       "      <td>137.742004</td>\n",
       "      <td>146.421997</td>\n",
       "      <td>146.421997</td>\n",
       "      <td>14224800</td>\n",
       "      <td>TSLA</td>\n",
       "      <td>NaN</td>\n",
       "      <td>NaN</td>\n",
       "    </tr>\n",
       "    <tr>\n",
       "      <th>3</th>\n",
       "      <td>2020-04-23</td>\n",
       "      <td>145.520004</td>\n",
       "      <td>146.800003</td>\n",
       "      <td>140.626007</td>\n",
       "      <td>141.126007</td>\n",
       "      <td>141.126007</td>\n",
       "      <td>13236700</td>\n",
       "      <td>TSLA</td>\n",
       "      <td>NaN</td>\n",
       "      <td>NaN</td>\n",
       "    </tr>\n",
       "    <tr>\n",
       "      <th>4</th>\n",
       "      <td>2020-04-24</td>\n",
       "      <td>142.162003</td>\n",
       "      <td>146.145996</td>\n",
       "      <td>139.636002</td>\n",
       "      <td>145.029999</td>\n",
       "      <td>145.029999</td>\n",
       "      <td>13237600</td>\n",
       "      <td>TSLA</td>\n",
       "      <td>NaN</td>\n",
       "      <td>NaN</td>\n",
       "    </tr>\n",
       "    <tr>\n",
       "      <th>...</th>\n",
       "      <td>...</td>\n",
       "      <td>...</td>\n",
       "      <td>...</td>\n",
       "      <td>...</td>\n",
       "      <td>...</td>\n",
       "      <td>...</td>\n",
       "      <td>...</td>\n",
       "      <td>...</td>\n",
       "      <td>...</td>\n",
       "      <td>...</td>\n",
       "    </tr>\n",
       "    <tr>\n",
       "      <th>136</th>\n",
       "      <td>2020-10-30</td>\n",
       "      <td>406.899994</td>\n",
       "      <td>407.589996</td>\n",
       "      <td>379.109985</td>\n",
       "      <td>388.040009</td>\n",
       "      <td>388.040009</td>\n",
       "      <td>42511300</td>\n",
       "      <td>TSLA</td>\n",
       "      <td>426.767999</td>\n",
       "      <td>422.377960</td>\n",
       "    </tr>\n",
       "    <tr>\n",
       "      <th>137</th>\n",
       "      <td>2020-11-02</td>\n",
       "      <td>394.000000</td>\n",
       "      <td>406.980011</td>\n",
       "      <td>392.299988</td>\n",
       "      <td>400.510010</td>\n",
       "      <td>400.510010</td>\n",
       "      <td>29021100</td>\n",
       "      <td>TSLA</td>\n",
       "      <td>425.509500</td>\n",
       "      <td>422.188240</td>\n",
       "    </tr>\n",
       "    <tr>\n",
       "      <th>138</th>\n",
       "      <td>2020-11-03</td>\n",
       "      <td>409.730011</td>\n",
       "      <td>427.769989</td>\n",
       "      <td>406.690002</td>\n",
       "      <td>423.899994</td>\n",
       "      <td>423.899994</td>\n",
       "      <td>34351700</td>\n",
       "      <td>TSLA</td>\n",
       "      <td>426.005499</td>\n",
       "      <td>422.609440</td>\n",
       "    </tr>\n",
       "    <tr>\n",
       "      <th>139</th>\n",
       "      <td>2020-11-04</td>\n",
       "      <td>430.619995</td>\n",
       "      <td>435.399994</td>\n",
       "      <td>417.100006</td>\n",
       "      <td>420.980011</td>\n",
       "      <td>420.980011</td>\n",
       "      <td>32143100</td>\n",
       "      <td>TSLA</td>\n",
       "      <td>425.789501</td>\n",
       "      <td>422.935681</td>\n",
       "    </tr>\n",
       "    <tr>\n",
       "      <th>140</th>\n",
       "      <td>2020-11-05</td>\n",
       "      <td>428.299988</td>\n",
       "      <td>440.000000</td>\n",
       "      <td>424.000000</td>\n",
       "      <td>438.089996</td>\n",
       "      <td>438.089996</td>\n",
       "      <td>28188800</td>\n",
       "      <td>TSLA</td>\n",
       "      <td>426.398000</td>\n",
       "      <td>423.084800</td>\n",
       "    </tr>\n",
       "  </tbody>\n",
       "</table>\n",
       "<p>141 rows × 10 columns</p>\n",
       "</div>"
      ],
      "text/plain": [
       "          Date        Open        High         Low       Close   Adj Close  \\\n",
       "0   2020-04-20  146.539993  153.113998  142.442001  149.272003  149.272003   \n",
       "1   2020-04-21  146.024002  150.666000  134.757996  137.343994  137.343994   \n",
       "2   2020-04-22  140.796005  146.800003  137.742004  146.421997  146.421997   \n",
       "3   2020-04-23  145.520004  146.800003  140.626007  141.126007  141.126007   \n",
       "4   2020-04-24  142.162003  146.145996  139.636002  145.029999  145.029999   \n",
       "..         ...         ...         ...         ...         ...         ...   \n",
       "136 2020-10-30  406.899994  407.589996  379.109985  388.040009  388.040009   \n",
       "137 2020-11-02  394.000000  406.980011  392.299988  400.510010  400.510010   \n",
       "138 2020-11-03  409.730011  427.769989  406.690002  423.899994  423.899994   \n",
       "139 2020-11-04  430.619995  435.399994  417.100006  420.980011  420.980011   \n",
       "140 2020-11-05  428.299988  440.000000  424.000000  438.089996  438.089996   \n",
       "\n",
       "       Volume Company        MA20        MA50  \n",
       "0    14746600    TSLA         NaN         NaN  \n",
       "1    20209100    TSLA         NaN         NaN  \n",
       "2    14224800    TSLA         NaN         NaN  \n",
       "3    13236700    TSLA         NaN         NaN  \n",
       "4    13237600    TSLA         NaN         NaN  \n",
       "..        ...     ...         ...         ...  \n",
       "136  42511300    TSLA  426.767999  422.377960  \n",
       "137  29021100    TSLA  425.509500  422.188240  \n",
       "138  34351700    TSLA  426.005499  422.609440  \n",
       "139  32143100    TSLA  425.789501  422.935681  \n",
       "140  28188800    TSLA  426.398000  423.084800  \n",
       "\n",
       "[141 rows x 10 columns]"
      ]
     },
     "execution_count": 4,
     "metadata": {},
     "output_type": "execute_result"
    }
   ],
   "source": [
    "data = naas_drivers.yahoofinance.get(stock, date_from=-200, moving_averages=[20,50])\n",
    "data"
   ]
  },
  {
   "cell_type": "markdown",
   "metadata": {},
   "source": [
    "## Calculate daily variations"
   ]
  },
  {
   "cell_type": "code",
   "execution_count": 5,
   "metadata": {},
   "outputs": [
    {
     "data": {
      "text/html": [
       "<div>\n",
       "<style scoped>\n",
       "    .dataframe tbody tr th:only-of-type {\n",
       "        vertical-align: middle;\n",
       "    }\n",
       "\n",
       "    .dataframe tbody tr th {\n",
       "        vertical-align: top;\n",
       "    }\n",
       "\n",
       "    .dataframe thead th {\n",
       "        text-align: right;\n",
       "    }\n",
       "</style>\n",
       "<table border=\"1\" class=\"dataframe\">\n",
       "  <thead>\n",
       "    <tr style=\"text-align: right;\">\n",
       "      <th></th>\n",
       "      <th>Date</th>\n",
       "      <th>Open</th>\n",
       "      <th>High</th>\n",
       "      <th>Low</th>\n",
       "      <th>Close</th>\n",
       "      <th>Adj Close</th>\n",
       "      <th>Volume</th>\n",
       "      <th>Company</th>\n",
       "      <th>MA20</th>\n",
       "      <th>MA50</th>\n",
       "    </tr>\n",
       "  </thead>\n",
       "  <tbody>\n",
       "    <tr>\n",
       "      <th>0</th>\n",
       "      <td>2020-11-05</td>\n",
       "      <td>428.299988</td>\n",
       "      <td>440.000000</td>\n",
       "      <td>424.000000</td>\n",
       "      <td>438.089996</td>\n",
       "      <td>438.089996</td>\n",
       "      <td>28188800</td>\n",
       "      <td>TSLA</td>\n",
       "      <td>426.398000</td>\n",
       "      <td>423.084800</td>\n",
       "    </tr>\n",
       "    <tr>\n",
       "      <th>1</th>\n",
       "      <td>2020-11-04</td>\n",
       "      <td>430.619995</td>\n",
       "      <td>435.399994</td>\n",
       "      <td>417.100006</td>\n",
       "      <td>420.980011</td>\n",
       "      <td>420.980011</td>\n",
       "      <td>32143100</td>\n",
       "      <td>TSLA</td>\n",
       "      <td>425.789501</td>\n",
       "      <td>422.935681</td>\n",
       "    </tr>\n",
       "    <tr>\n",
       "      <th>2</th>\n",
       "      <td>2020-11-03</td>\n",
       "      <td>409.730011</td>\n",
       "      <td>427.769989</td>\n",
       "      <td>406.690002</td>\n",
       "      <td>423.899994</td>\n",
       "      <td>423.899994</td>\n",
       "      <td>34351700</td>\n",
       "      <td>TSLA</td>\n",
       "      <td>426.005499</td>\n",
       "      <td>422.609440</td>\n",
       "    </tr>\n",
       "    <tr>\n",
       "      <th>3</th>\n",
       "      <td>2020-11-02</td>\n",
       "      <td>394.000000</td>\n",
       "      <td>406.980011</td>\n",
       "      <td>392.299988</td>\n",
       "      <td>400.510010</td>\n",
       "      <td>400.510010</td>\n",
       "      <td>29021100</td>\n",
       "      <td>TSLA</td>\n",
       "      <td>425.509500</td>\n",
       "      <td>422.188240</td>\n",
       "    </tr>\n",
       "    <tr>\n",
       "      <th>4</th>\n",
       "      <td>2020-10-30</td>\n",
       "      <td>406.899994</td>\n",
       "      <td>407.589996</td>\n",
       "      <td>379.109985</td>\n",
       "      <td>388.040009</td>\n",
       "      <td>388.040009</td>\n",
       "      <td>42511300</td>\n",
       "      <td>TSLA</td>\n",
       "      <td>426.767999</td>\n",
       "      <td>422.377960</td>\n",
       "    </tr>\n",
       "    <tr>\n",
       "      <th>...</th>\n",
       "      <td>...</td>\n",
       "      <td>...</td>\n",
       "      <td>...</td>\n",
       "      <td>...</td>\n",
       "      <td>...</td>\n",
       "      <td>...</td>\n",
       "      <td>...</td>\n",
       "      <td>...</td>\n",
       "      <td>...</td>\n",
       "      <td>...</td>\n",
       "    </tr>\n",
       "    <tr>\n",
       "      <th>136</th>\n",
       "      <td>2020-04-24</td>\n",
       "      <td>142.162003</td>\n",
       "      <td>146.145996</td>\n",
       "      <td>139.636002</td>\n",
       "      <td>145.029999</td>\n",
       "      <td>145.029999</td>\n",
       "      <td>13237600</td>\n",
       "      <td>TSLA</td>\n",
       "      <td>NaN</td>\n",
       "      <td>NaN</td>\n",
       "    </tr>\n",
       "    <tr>\n",
       "      <th>137</th>\n",
       "      <td>2020-04-23</td>\n",
       "      <td>145.520004</td>\n",
       "      <td>146.800003</td>\n",
       "      <td>140.626007</td>\n",
       "      <td>141.126007</td>\n",
       "      <td>141.126007</td>\n",
       "      <td>13236700</td>\n",
       "      <td>TSLA</td>\n",
       "      <td>NaN</td>\n",
       "      <td>NaN</td>\n",
       "    </tr>\n",
       "    <tr>\n",
       "      <th>138</th>\n",
       "      <td>2020-04-22</td>\n",
       "      <td>140.796005</td>\n",
       "      <td>146.800003</td>\n",
       "      <td>137.742004</td>\n",
       "      <td>146.421997</td>\n",
       "      <td>146.421997</td>\n",
       "      <td>14224800</td>\n",
       "      <td>TSLA</td>\n",
       "      <td>NaN</td>\n",
       "      <td>NaN</td>\n",
       "    </tr>\n",
       "    <tr>\n",
       "      <th>139</th>\n",
       "      <td>2020-04-21</td>\n",
       "      <td>146.024002</td>\n",
       "      <td>150.666000</td>\n",
       "      <td>134.757996</td>\n",
       "      <td>137.343994</td>\n",
       "      <td>137.343994</td>\n",
       "      <td>20209100</td>\n",
       "      <td>TSLA</td>\n",
       "      <td>NaN</td>\n",
       "      <td>NaN</td>\n",
       "    </tr>\n",
       "    <tr>\n",
       "      <th>140</th>\n",
       "      <td>2020-04-20</td>\n",
       "      <td>146.539993</td>\n",
       "      <td>153.113998</td>\n",
       "      <td>142.442001</td>\n",
       "      <td>149.272003</td>\n",
       "      <td>149.272003</td>\n",
       "      <td>14746600</td>\n",
       "      <td>TSLA</td>\n",
       "      <td>NaN</td>\n",
       "      <td>NaN</td>\n",
       "    </tr>\n",
       "  </tbody>\n",
       "</table>\n",
       "<p>141 rows × 10 columns</p>\n",
       "</div>"
      ],
      "text/plain": [
       "          Date        Open        High         Low       Close   Adj Close  \\\n",
       "0   2020-11-05  428.299988  440.000000  424.000000  438.089996  438.089996   \n",
       "1   2020-11-04  430.619995  435.399994  417.100006  420.980011  420.980011   \n",
       "2   2020-11-03  409.730011  427.769989  406.690002  423.899994  423.899994   \n",
       "3   2020-11-02  394.000000  406.980011  392.299988  400.510010  400.510010   \n",
       "4   2020-10-30  406.899994  407.589996  379.109985  388.040009  388.040009   \n",
       "..         ...         ...         ...         ...         ...         ...   \n",
       "136 2020-04-24  142.162003  146.145996  139.636002  145.029999  145.029999   \n",
       "137 2020-04-23  145.520004  146.800003  140.626007  141.126007  141.126007   \n",
       "138 2020-04-22  140.796005  146.800003  137.742004  146.421997  146.421997   \n",
       "139 2020-04-21  146.024002  150.666000  134.757996  137.343994  137.343994   \n",
       "140 2020-04-20  146.539993  153.113998  142.442001  149.272003  149.272003   \n",
       "\n",
       "       Volume Company        MA20        MA50  \n",
       "0    28188800    TSLA  426.398000  423.084800  \n",
       "1    32143100    TSLA  425.789501  422.935681  \n",
       "2    34351700    TSLA  426.005499  422.609440  \n",
       "3    29021100    TSLA  425.509500  422.188240  \n",
       "4    42511300    TSLA  426.767999  422.377960  \n",
       "..        ...     ...         ...         ...  \n",
       "136  13237600    TSLA         NaN         NaN  \n",
       "137  13236700    TSLA         NaN         NaN  \n",
       "138  14224800    TSLA         NaN         NaN  \n",
       "139  20209100    TSLA         NaN         NaN  \n",
       "140  14746600    TSLA         NaN         NaN  \n",
       "\n",
       "[141 rows x 10 columns]"
      ]
     },
     "execution_count": 5,
     "metadata": {},
     "output_type": "execute_result"
    }
   ],
   "source": [
    "data_display = data.copy()\n",
    "data_display = data_display.sort_values(by=\"Date\", ascending=False).reset_index(drop=True)\n",
    "data_display"
   ]
  },
  {
   "cell_type": "code",
   "execution_count": 6,
   "metadata": {},
   "outputs": [
    {
     "name": "stdout",
     "output_type": "stream",
     "text": [
      "438.09\n",
      "+17.11\n",
      "+4.06%\n"
     ]
    }
   ],
   "source": [
    "value = data_display.loc[0, \"Close\"]\n",
    "value_last = data_display.loc[1, \"Close\"]\n",
    "\n",
    "varv = value - value_last\n",
    "varp = varv / abs(value_last) * 100\n",
    "\n",
    "varv_diplay = '{:+.2f}'.format(varv)\n",
    "varp_diplay = '{:+.2f}%'.format(varp)\n",
    "value_display = '{:.2f}'.format(value)\n",
    "\n",
    "print(value_display)\n",
    "print(varv_diplay)\n",
    "print(varp_diplay)"
   ]
  },
  {
   "cell_type": "markdown",
   "metadata": {},
   "source": [
    "## Create chart"
   ]
  },
  {
   "cell_type": "code",
   "execution_count": 7,
   "metadata": {},
   "outputs": [
    {
     "name": "stdout",
     "output_type": "stream",
     "text": [
      "Chart candlestick generated\n"
     ]
    }
   ],
   "source": [
    "graph = naas_drivers.plotly.stock(data)"
   ]
  },
  {
   "cell_type": "markdown",
   "metadata": {},
   "source": [
    "## Export chart in png and html"
   ]
  },
  {
   "cell_type": "code",
   "execution_count": 8,
   "metadata": {},
   "outputs": [
    {
     "name": "stdout",
     "output_type": "stream",
     "text": [
      "Save as TSLA.html\n",
      "Save as TSLA.png\n"
     ]
    }
   ],
   "source": [
    "image_file = f\"{stock}.png\"\n",
    "html_file = f\"{stock}.html\"\n",
    "naas_drivers.plotly.export(graph, [html_file, image_file])"
   ]
  },
  {
   "cell_type": "markdown",
   "metadata": {},
   "source": [
    "## Expose image and html"
   ]
  },
  {
   "cell_type": "code",
   "execution_count": 9,
   "metadata": {},
   "outputs": [
    {
     "name": "stdout",
     "output_type": "stream",
     "text": [
      "👌 Well done! Your Assets has been sent to production.\n",
      "\n"
     ]
    },
    {
     "data": {
      "application/vnd.jupyter.widget-view+json": {
       "model_id": "0738c3605c6c4f0bad93c0c9ad886c1e",
       "version_major": 2,
       "version_minor": 0
      },
      "text/plain": [
       "Button(description='Copy URL', style=ButtonStyle())"
      ]
     },
     "metadata": {},
     "output_type": "display_data"
    },
    {
     "data": {
      "application/vnd.jupyter.widget-view+json": {
       "model_id": "0a951406ce1c4fe1b2802ce09579c9dc",
       "version_major": 2,
       "version_minor": 0
      },
      "text/plain": [
       "Output()"
      ]
     },
     "metadata": {},
     "output_type": "display_data"
    },
    {
     "name": "stdout",
     "output_type": "stream",
     "text": [
      "PS: to remove the \"Assets\" feature, just replace .add by .delete\n",
      "👌 Well done! Your Assets has been sent to production.\n",
      "\n"
     ]
    },
    {
     "data": {
      "application/vnd.jupyter.widget-view+json": {
       "model_id": "73f53b10bc6a4b5c8a7dfc6de8632a42",
       "version_major": 2,
       "version_minor": 0
      },
      "text/plain": [
       "Button(description='Copy URL', style=ButtonStyle())"
      ]
     },
     "metadata": {},
     "output_type": "display_data"
    },
    {
     "data": {
      "application/vnd.jupyter.widget-view+json": {
       "model_id": "eb3fdcba71c1466db308380187d8baae",
       "version_major": 2,
       "version_minor": 0
      },
      "text/plain": [
       "Output()"
      ]
     },
     "metadata": {},
     "output_type": "display_data"
    },
    {
     "name": "stdout",
     "output_type": "stream",
     "text": [
      "PS: to remove the \"Assets\" feature, just replace .add by .delete\n"
     ]
    }
   ],
   "source": [
    "url_img = naas.assets.add(image_file)\n",
    "url_html = naas.assets.add(html_file, params={\"inline\": True})"
   ]
  },
  {
   "cell_type": "markdown",
   "metadata": {},
   "source": [
    "## Get score of the news "
   ]
  },
  {
   "cell_type": "code",
   "execution_count": 20,
   "metadata": {},
   "outputs": [
    {
     "data": {
      "text/plain": [
       "'Neutral'"
      ]
     },
     "execution_count": 20,
     "metadata": {},
     "output_type": "execute_result"
    }
   ],
   "source": [
    "%run S01E04-score-the-news.ipynb\n",
    "sentiment_news"
   ]
  },
  {
   "cell_type": "markdown",
   "metadata": {},
   "source": [
    "## Get prediction chart"
   ]
  },
  {
   "cell_type": "code",
   "execution_count": 21,
   "metadata": {},
   "outputs": [
    {
     "name": "stdout",
     "output_type": "stream",
     "text": [
      "getted data for TSLA https://query1.finance.yahoo.com/v7/finance/download/TSLA?period1=1587385947&period2=1604669547&interval=1d&events=history\n",
      "Performing stepwise search to minimize aic\n",
      "Fit ARIMA: (1, 1, 1)x(0, 0, 0, 0) (constant=True); AIC=1192.903, BIC=1204.669, Time=0.215 seconds\n",
      "Fit ARIMA: (0, 1, 0)x(0, 0, 0, 0) (constant=True); AIC=1190.138, BIC=1196.021, Time=0.015 seconds\n",
      "Fit ARIMA: (1, 1, 0)x(0, 0, 0, 0) (constant=True); AIC=1190.977, BIC=1199.802, Time=0.089 seconds\n",
      "Fit ARIMA: (0, 1, 1)x(0, 0, 0, 0) (constant=True); AIC=1191.087, BIC=1199.912, Time=0.130 seconds\n",
      "Fit ARIMA: (0, 1, 0)x(0, 0, 0, 0) (constant=False); AIC=1190.250, BIC=1193.192, Time=0.010 seconds\n",
      "Total fit time: 0.466 seconds\n",
      "Chart linechart_close generated\n",
      "Save as TSLA_prediction.html\n",
      "Save as TSLA_prediction.png\n",
      "👌 Well done! Your Assets has been sent to production.\n",
      "\n"
     ]
    },
    {
     "data": {
      "application/vnd.jupyter.widget-view+json": {
       "model_id": "7cec95e6c9ef40128cf57ca456264406",
       "version_major": 2,
       "version_minor": 0
      },
      "text/plain": [
       "Button(description='Copy URL', style=ButtonStyle())"
      ]
     },
     "metadata": {},
     "output_type": "display_data"
    },
    {
     "data": {
      "application/vnd.jupyter.widget-view+json": {
       "model_id": "06a22fb26925490b8b274464a9eede27",
       "version_major": 2,
       "version_minor": 0
      },
      "text/plain": [
       "Output()"
      ]
     },
     "metadata": {},
     "output_type": "display_data"
    },
    {
     "name": "stdout",
     "output_type": "stream",
     "text": [
      "PS: to remove the \"Assets\" feature, just replace .add by .delete\n",
      "👌 Well done! Your Assets has been sent to production.\n",
      "\n"
     ]
    },
    {
     "data": {
      "application/vnd.jupyter.widget-view+json": {
       "model_id": "8e4ac702504a46e195e8b0caf96e61a8",
       "version_major": 2,
       "version_minor": 0
      },
      "text/plain": [
       "Button(description='Copy URL', style=ButtonStyle())"
      ]
     },
     "metadata": {},
     "output_type": "display_data"
    },
    {
     "data": {
      "application/vnd.jupyter.widget-view+json": {
       "model_id": "5ef40f52de2e40a2b32702a2062f7c54",
       "version_major": 2,
       "version_minor": 0
      },
      "text/plain": [
       "Output()"
      ]
     },
     "metadata": {},
     "output_type": "display_data"
    },
    {
     "name": "stdout",
     "output_type": "stream",
     "text": [
      "PS: to remove the \"Assets\" feature, just replace .add by .delete\n"
     ]
    }
   ],
   "source": [
    "%run S01E05-predict-the-future.ipynb"
   ]
  },
  {
   "cell_type": "code",
   "execution_count": 24,
   "metadata": {},
   "outputs": [
    {
     "data": {
      "text/html": [
       "\n",
       "            <script>\n",
       "                function resizeIframe_a2239eccadea43be8fdc330347526290(obj) {\n",
       "                    obj.style.height = obj.contentWindow.document.documentElement.scrollHeight + 'px';\n",
       "                }\n",
       "            </script>\n",
       "            <iframe id=\"FileFrame_a2239eccadea43be8fdc330347526290\" src=\"about:blank\"\n",
       "                style=\"border: 0; width: 100%; height: 100%\" onload=\"resizeIframe_a2239eccadea43be8fdc330347526290(this)\">\n",
       "            </iframe>\n",
       "            <script type=\"text/javascript\">\n",
       "            var doc_a2239eccadea43be8fdc330347526290 = document.getElementById('FileFrame_a2239eccadea43be8fdc330347526290').contentWindow.document;\n",
       "            doc_a2239eccadea43be8fdc330347526290.open();\n",
       "            doc_a2239eccadea43be8fdc330347526290.write(`<html lang='en'><head><meta httpequiv='Content-Type' content='text/html; charset=utf-8'/> <meta httpequiv='Content-Type' content='width=device-width, initial-scale=1'/> <meta name='viewport' content='width=device-width, initial-scale=1'/> <meta httpequiv='X-UA-Compatible' content='IE=edge'/> <style>\n",
       "/* CLIENT-SPECIFIC STYLES */\n",
       "body, table, td, a { -webkit-text-size-adjust: 100%; -ms-text-size-adjust: 100%; }\n",
       "table, td { mso-table-lspace: 0pt; mso-table-rspace: 0pt; }\n",
       "img { -ms-interpolation-mode: bicubic; }\n",
       "\n",
       "/* RESET STYLES */\n",
       "img { border: 0; height: auto; line-height: 100%; outline: none; text-decoration: none; }\n",
       "table { border-collapse: collapse !important; text-align: left !important; }\n",
       "body { height: 100% !important; margin: 0 !important; padding: 0 !important; width: 100% !important; }\n",
       "\n",
       "/* iOS BLUE LINKS */\n",
       "a[x-apple-data-detectors] {\n",
       "    color: inherit !important;\n",
       "    text-decoration: none !important;\n",
       "    font-size: inherit !important;\n",
       "    font-family: inherit !important;\n",
       "    font-weight: inherit !important;\n",
       "    line-height: inherit !important;\n",
       "}\n",
       "\n",
       "/* GMAIL BLUE LINKS */\n",
       "u + #body a {\n",
       "    color: inherit;\n",
       "    text-decoration: none;\n",
       "    font-size: inherit;\n",
       "    font-family: inherit;\n",
       "    font-weight: inherit;\n",
       "    line-height: inherit;\n",
       "}\n",
       "\n",
       "/* SAMSUNG MAIL BLUE LINKS */\n",
       "#MessageViewBody a {\n",
       "    color: inherit;\n",
       "    text-decoration: none;\n",
       "    font-size: inherit;\n",
       "    font-family: inherit;\n",
       "    font-weight: inherit;\n",
       "    line-height: inherit;\n",
       "}\n",
       "\n",
       "a { color: #B200FD; font-weight: 600; text-decoration: underline; }\n",
       "a:hover { color: #000000 !important; text-decoration: none !important; background-color: #5c1958 !important; }\n",
       "a.button:hover { color: #ffffff !important; background-color: #5c1958 !important; }\n",
       "\n",
       "td, th {\n",
       "    padding: 10px;\n",
       "}\n",
       "\n",
       "table * {\n",
       "    margin: 18px 0 !important;\n",
       "}\n",
       "\n",
       ".table_border {\n",
       "  border-collapse: collapse;\n",
       "  border-radius: 1em;\n",
       "  overflow: hidden;\n",
       "}\n",
       ".table_border tr:hover {\n",
       "  background-color: AliceBlue !important;\n",
       "  color: black;\n",
       "}\n",
       ".table_border tr:first-child td:first-of-type {\n",
       "  border-top-left-radius: 10px;\n",
       "}\n",
       ".table_border tr:first-child td:last-of-type {\n",
       "  border-top-right-radius: 10px;\n",
       "}\n",
       "\n",
       ".table_border tr:last-of-type td:first-of-type {\n",
       "  border-bottom-left-radius: 10px;\n",
       "}\n",
       ".table_border tr:last-of-type td:last-of-type {\n",
       "  border-bottom-right-radius: 10px;\n",
       "}\n",
       ".table_border tr:nth-child(even) { background-color: ghostwhite}\n",
       "\n",
       "@media screen and (min-width:600px) {\n",
       "    h1 { font-size: 48px !important; line-height: 48px !important; }\n",
       "    .intro { font-size: 24px !important; line-height: 36px !important; }\n",
       "}\n",
       ".basic_font {\n",
       "    font-family: 'Avenir Next', -apple-system, BlinkMacSystemFont, 'Segoe UI', Roboto, Helvetica, Arial, sans-serif, 'Apple Color Emoji', 'Segoe UI Emoji', 'Segoe UI Symbol';  # noqa: E501\n",
       "}\n",
       "</style> <title>Evolution of TSLA stock</title></head> <body style='margin: 0 !important; padding: 0 !important; '><div style='display: none; max-height: 0; overflow: hidden; '>Evolution of TSLA stock</div> <div style='display: none; max-height: 0; overflow: hidden; '>&nbsp;‌&nbsp;‌&nbsp;‌&nbsp;‌&nbsp;‌&nbsp;‌&nbsp;‌&nbsp;‌&nbsp;‌&nbsp;‌&nbsp;‌&nbsp;‌&nbsp;‌&nbsp;‌&nbsp;‌&nbsp;‌&nbsp;‌&nbsp;‌&nbsp;‌&nbsp;‌&nbsp;‌&nbsp;‌&nbsp;‌&nbsp;‌&nbsp;‌&nbsp;‌&nbsp;‌&nbsp;‌&nbsp;‌&nbsp;‌&nbsp;‌&nbsp;‌&nbsp;‌&nbsp;‌&nbsp;‌&nbsp;‌&nbsp;‌&nbsp;‌&nbsp;‌&nbsp;‌&nbsp;‌&nbsp;‌&nbsp;‌&nbsp;‌&nbsp;‌&nbsp;‌&nbsp;‌&nbsp;‌&nbsp;‌&nbsp;‌&nbsp;‌&nbsp;‌&nbsp;‌&nbsp;‌&nbsp;‌&nbsp;‌&nbsp;‌&nbsp;‌&nbsp;‌&nbsp;‌&nbsp;‌&nbsp;‌&nbsp;‌&nbsp;‌&nbsp;‌&nbsp;‌&nbsp;‌&nbsp;‌&nbsp;‌&nbsp;‌&nbsp;‌&nbsp;‌&nbsp;‌&nbsp;‌&nbsp;‌&nbsp;‌&nbsp;‌&nbsp;‌&nbsp;‌&nbsp;‌&nbsp;‌&nbsp;‌&nbsp;‌&nbsp;‌&nbsp;‌&nbsp;‌&nbsp;‌&nbsp;‌&nbsp;‌&nbsp;‌&nbsp;‌&nbsp;‌&nbsp;‌&nbsp;‌&nbsp;‌&nbsp;‌&nbsp;‌&nbsp;‌&nbsp;‌&nbsp;‌&nbsp;‌&nbsp;‌&nbsp;‌&nbsp;‌&nbsp;‌&nbsp;‌&nbsp;‌&nbsp;‌&nbsp;‌&nbsp;‌&nbsp;‌&nbsp;‌&nbsp;‌&nbsp;‌&nbsp;‌&nbsp;‌&nbsp;‌&nbsp;‌&nbsp;‌&nbsp;‌&nbsp;‌&nbsp;‌&nbsp;‌&nbsp;‌&nbsp;‌&nbsp;‌&nbsp;‌&nbsp;‌&nbsp;‌&nbsp;‌&nbsp;‌&nbsp;‌&nbsp;‌&nbsp;‌&nbsp;‌&nbsp;‌&nbsp;‌&nbsp;‌&nbsp;‌&nbsp;‌&nbsp;‌&nbsp;‌&nbsp;‌&nbsp;‌&nbsp;‌&nbsp;‌&nbsp;‌&nbsp;‌&nbsp;‌&nbsp;‌&nbsp;‌&nbsp;‌&nbsp;‌&nbsp;‌&nbsp;‌&nbsp;‌&nbsp;‌&nbsp;‌&nbsp;‌&nbsp;‌&nbsp;‌&nbsp;‌&nbsp;‌&nbsp;‌&nbsp;‌&nbsp;‌&nbsp;‌&nbsp;‌&nbsp;‌&nbsp;‌&nbsp;‌&nbsp;‌&nbsp;‌&nbsp;‌&nbsp;‌&nbsp;‌&nbsp;‌&nbsp;‌&nbsp;‌&nbsp;‌&nbsp;‌&nbsp;‌&nbsp;‌&nbsp;‌&nbsp;‌&nbsp;‌&nbsp;‌&nbsp;‌&nbsp;‌&nbsp;‌&nbsp;‌&nbsp;‌&nbsp;‌&nbsp;‌&nbsp;‌&nbsp;‌&nbsp;‌&nbsp;‌&nbsp;‌&nbsp;‌&nbsp;‌&nbsp;‌&nbsp;‌&nbsp;‌&nbsp;‌&nbsp;‌&nbsp;‌&nbsp;‌&nbsp;‌&nbsp;‌&nbsp;‌&nbsp;‌&nbsp;‌&nbsp;‌&nbsp;‌&nbsp;‌&nbsp;‌&nbsp;‌&nbsp;‌&nbsp;‌&nbsp;‌&nbsp;‌&nbsp;‌&nbsp;‌&nbsp;‌&nbsp;‌&nbsp;‌&nbsp;‌&nbsp;‌&nbsp;‌&nbsp;‌&nbsp;‌&nbsp;‌&nbsp;‌&nbsp;‌&nbsp;‌&nbsp;‌&nbsp;‌&nbsp;‌&nbsp;‌</div> \n",
       "<!--[if (gte mso 9)|(IE)]>\n",
       "<table cellspacing=\"0\" cellpadding=\"0\" border=\"0\" width=\"720\" align=\"center\" role=\"presentation\"><tr><td>\n",
       "<![endif]-->\n",
       " <div lang='en' class='basic_font' style='background-color: white; color: #2b2b2b; font-size: 18px; font-weight: 400; line-height: 28px; margin: 0 auto; max-width: 720px; padding: 40px 20px 40px 20px; '><header><h1 style='color: #000000; font-size: 32px; font-weight: 800; line-height: 32px; margin: 48px 0; text-align: center; '>Evolution of TSLA stock <br/></h1></header> <main><img src='https://i.pinimg.com/originals/e1/2a/67/e12a6721d52e079c5e33632f66ddb8a9.jpg?naas_uid=81e4df6c-e91b-4606-8f01-ecb48734b4ed' height='80%' width='100%' style='border-radius: 4px; margin: 0 auto 0 0; display: block; '/> <h2 style='color: #000000; font-size: 28px; font-weight: 600; line-height: 32px; margin: 48px 0 24px 0; text-align: center; '>📈 Last close price: 438.09</h2> <h2 style='color: #000000; font-size: 28px; font-weight: 600; line-height: 32px; margin: 48px 0 24px 0; text-align: center; '>🎰 Variations: +17.11 (+4.06%)</h2> <h2 style='color: #000000; font-size: 28px; font-weight: 600; line-height: 32px; margin: 48px 0 24px 0; text-align: center; '>😎 News sentiment: Neutral</h2> <center><div style='margin: 48px 0; '><a class='button' href='https://public.naas.ai/amVyZW15LTJFcmF2ZW5lbC00MGNhc2hzdG9yeS0yRWNvbQ==/asset/16b9aa558443cecf52f77f8b58d9e90ecca702681de1a0a0f81d0b47e655' style='background-color: black; color: white; border-radius: 4px; display: inline-block; font-family: sans-serif; font-size: 18px; font-weight: bold; line-height: 60px; text-align: center; text-decoration: none; width: 200px; max-width: 300px; padding-left: 10px; padding-right: 10px; -webkit-text-size-adjust: none; '>Actual</a></div></center> <p style='font-size: 18px; padding-left: 10px; padding-right: 10px; '>👉 Click on the button above to open dynamic chart.</p> <img src='https://public.naas.ai/amVyZW15LTJFcmF2ZW5lbC00MGNhc2hzdG9yeS0yRWNvbQ==/asset/7c4f42dba4b6d11e01808590a9d5ef451c34974547f916a8b8ecf2d8e934?naas_uid=48d057af-bf9c-49ef-8aae-a2da7ebceb44' height='80%' width='100%' style='border-radius: 4px; margin: 0 auto 0 0; display: block; '/> <center><div style='margin: 48px 0; '><a class='button' href='https://public.naas.ai/amVyZW15LTJFcmF2ZW5lbC00MGNhc2hzdG9yeS0yRWNvbQ==/asset/17264fb6a71f93c7563cd8b33a9cab02e33854a9efbbaf0dac1b7879df26' style='background-color: black; color: white; border-radius: 4px; display: inline-block; font-family: sans-serif; font-size: 18px; font-weight: bold; line-height: 60px; text-align: center; text-decoration: none; width: 200px; max-width: 300px; padding-left: 10px; padding-right: 10px; -webkit-text-size-adjust: none; '>Prediction</a></div></center> <p style='font-size: 18px; padding-left: 10px; padding-right: 10px; '>👉 Buy or Sell on <a href='https://www.etoro.com/markets/tsla'>Etoro</a></p> <a href='future'><img src='https://public.naas.ai/amVyZW15LTJFcmF2ZW5lbC00MGNhc2hzdG9yeS0yRWNvbQ==/asset/56b18fd0c19967844f62559f86a7329e7a6a79b9cda20d292e27df32e650?naas_uid=93c70e3c-6a89-4c18-98cd-c231e354dc90' height='80%' width='100%' style='border-radius: 4px; margin: 0 auto 0 0; display: block; '/></a> <h2 style='color: #000000; font-size: 28px; font-weight: 600; line-height: 32px; margin: 48px 0 24px 0; text-align: center; '>🔥 News hotlist</h2> <p><table style='width: 100%; ' class='table_border'><tr><td><a href='https://www.teslarati.com/toyota-ceo-fails-tesla-metaphor/?utm_campaign=cityfalcon&utm_medium=cityfalcon&utm_source=cityfalcon'><img src='https://cityfalconproduction.blob.core.windows.net/autotweetmedia/domains/logos/10442/large.png?naas_uid=d51429b1-65a1-4616-af66-7b367d00b065' height='80px' width='80px' style='border-radius: 4px; margin: 0 auto 0 auto; display: block; '/></a></td> <td><a href='https://www.teslarati.com/toyota-ceo-fails-tesla-metaphor/?utm_campaign=cityfalcon&utm_medium=cityfalcon&utm_source=cityfalcon'><p style='font-size: 18px; padding-left: 10px; padding-right: 10px; '>Toyota CEO attempts Tesla analogy and fails: ‘They aren't really making something that's real’</p></a></td> <td><a href='https://www.teslarati.com/toyota-ceo-fails-tesla-metaphor/?utm_campaign=cityfalcon&utm_medium=cityfalcon&utm_source=cityfalcon'></a></td></tr> <tr><td><a href='https://www.investors.com/news/li-auto-stock-falls-li-one-recall-china-electric-car-stocks-pause-nio-xpeng/?src=A00550A%3DaflCityFalcon&utm_campaign=cityfalcon&utm_medium=cityfalcon&utm_source=cityfalcon'><img src='https://cityfalconproduction.blob.core.windows.net/autotweetmedia/domains/logos/378/large.png?naas_uid=834ab72e-93d9-46db-b632-abf48e4ea55f' height='80px' width='80px' style='border-radius: 4px; margin: 0 auto 0 auto; display: block; '/></a></td> <td><a href='https://www.investors.com/news/li-auto-stock-falls-li-one-recall-china-electric-car-stocks-pause-nio-xpeng/?src=A00550A%3DaflCityFalcon&utm_campaign=cityfalcon&utm_medium=cityfalcon&utm_source=cityfalcon'><p style='font-size: 18px; padding-left: 10px; padding-right: 10px; '>Li Auto Recalls Li One SUVs; China Electric Car Stocks Take Breather</p></a></td> <td><a href='https://www.investors.com/news/li-auto-stock-falls-li-one-recall-china-electric-car-stocks-pause-nio-xpeng/?src=A00550A%3DaflCityFalcon&utm_campaign=cityfalcon&utm_medium=cityfalcon&utm_source=cityfalcon'></a></td></tr> <tr><td><a href='https://www.businesstoday.in/current/world/elon-musk-has-done-it-tesla-launches-its-own-tequila-for-250/story/421307.html?utm_campaign=cityfalcon&utm_medium=cityfalcon&utm_source=cityfalcon'><img src='https://cityfalconproduction.blob.core.windows.net/autotweetmedia/domains/logos/29760/large.png?naas_uid=eacbadf4-db43-4967-a807-748d06c219a9' height='80px' width='80px' style='border-radius: 4px; margin: 0 auto 0 auto; display: block; '/></a></td> <td><a href='https://www.businesstoday.in/current/world/elon-musk-has-done-it-tesla-launches-its-own-tequila-for-250/story/421307.html?utm_campaign=cityfalcon&utm_medium=cityfalcon&utm_source=cityfalcon'><p style='font-size: 18px; padding-left: 10px; padding-right: 10px; '>'Teslaquila': Elon Musk has done it! Tesla launches its own Tequila for $250</p></a></td> <td><a href='https://www.businesstoday.in/current/world/elon-musk-has-done-it-tesla-launches-its-own-tequila-for-250/story/421307.html?utm_campaign=cityfalcon&utm_medium=cityfalcon&utm_source=cityfalcon'></a></td></tr> <tr><td><a href='https://www.theguardian.com/technology/2020/nov/06/tesla-investor-defends-electric-carmakers-soaring-share-price?utm_campaign=cityfalcon&utm_medium=cityfalcon&utm_source=cityfalcon'><img src='https://cityfalconproduction.blob.core.windows.net/autotweetmedia/domains/logos/1678479/large.png?naas_uid=4ec8a3d9-206f-4597-b32c-d81aff20d09f' height='80px' width='80px' style='border-radius: 4px; margin: 0 auto 0 auto; display: block; '/></a></td> <td><a href='https://www.theguardian.com/technology/2020/nov/06/tesla-investor-defends-electric-carmakers-soaring-share-price?utm_campaign=cityfalcon&utm_medium=cityfalcon&utm_source=cityfalcon'><p style='font-size: 18px; padding-left: 10px; padding-right: 10px; '>Tesla investor defends electric carmaker's soaring share price</p></a></td> <td><a href='https://www.theguardian.com/technology/2020/nov/06/tesla-investor-defends-electric-carmakers-soaring-share-price?utm_campaign=cityfalcon&utm_medium=cityfalcon&utm_source=cityfalcon'></a></td></tr> <tr><td><a href='https://www.devdiscourse.com/article/entertainment/1299201-tesla-launches-250-tequila-runs-out-in-hours?utm_campaign=cityfalcon&utm_medium=cityfalcon&utm_source=cityfalcon'><img src='https://cityfalconproduction.blob.core.windows.net/autotweetmedia/domains/logos/607573/large.png?naas_uid=e00112b2-61bf-4ddf-85c5-dd308beff9eb' height='80px' width='80px' style='border-radius: 4px; margin: 0 auto 0 auto; display: block; '/></a></td> <td><a href='https://www.devdiscourse.com/article/entertainment/1299201-tesla-launches-250-tequila-runs-out-in-hours?utm_campaign=cityfalcon&utm_medium=cityfalcon&utm_source=cityfalcon'><p style='font-size: 18px; padding-left: 10px; padding-right: 10px; '>Tesla launches $250 Tequila, runs out in hours | Entertainment</p></a></td> <td><a href='https://www.devdiscourse.com/article/entertainment/1299201-tesla-launches-250-tequila-runs-out-in-hours?utm_campaign=cityfalcon&utm_medium=cityfalcon&utm_source=cityfalcon'></a></td></tr></table></p></main></div> \n",
       "<!--[if (gte mso 9)|(IE)]>\n",
       "</td></tr></table>\n",
       "<![endif]-->\n",
       "</body></html>`);\n",
       "            doc_a2239eccadea43be8fdc330347526290.close();\n",
       "            </script>\n",
       "            "
      ],
      "text/plain": [
       "<IPython.core.display.HTML object>"
      ]
     },
     "metadata": {},
     "output_type": "display_data"
    }
   ],
   "source": [
    "email_content = naas_drivers.html.generate( \n",
    "        display='iframe',\n",
    "        title=f'Evolution of {stock} stock',\n",
    "        image_0 = \"https://i.pinimg.com/originals/e1/2a/67/e12a6721d52e079c5e33632f66ddb8a9.jpg\",\n",
    "        heading_1 = f'📈 Last close price: {value_display}' ,\n",
    "        heading_2 = f'🎰 Variations: {varv_diplay} ({varp_diplay})' ,       \n",
    "        heading_3 = f'😎 News sentiment: {sentiment_news}' ,\n",
    "        \n",
    "        button_Actual_200px=url_html,\n",
    "        text_3 = \"👉 Click on the button above to open dynamic chart.\" ,\n",
    "        image= url_img,\n",
    "        button_Prediction_200px= url_html_file_prediction,\n",
    "        text_4 = \"👉 Buy or Sell on <a href='https://www.etoro.com/markets/tsla'>Etoro</a>\" ,\n",
    "        image_future = url_image_file_prediction,\n",
    "        heading_5 = \"🔥 News hotlist\",\n",
    "        table = table_news_email,\n",
    "        \n",
    ")"
   ]
  },
  {
   "cell_type": "markdown",
   "metadata": {},
   "source": [
    "# Send email to emails list"
   ]
  },
  {
   "cell_type": "code",
   "execution_count": 25,
   "metadata": {},
   "outputs": [
    {
     "name": "stdout",
     "output_type": "stream",
     "text": [
      "👌 💌 Email has been sent successfully !\n"
     ]
    },
    {
     "data": {
      "text/plain": [
       "{'email': 'send'}"
      ]
     },
     "execution_count": 25,
     "metadata": {},
     "output_type": "execute_result"
    }
   ],
   "source": [
    "naas.notifications.send(emails, subject, email_content)"
   ]
  },
  {
   "cell_type": "markdown",
   "metadata": {},
   "source": [
    "# Schedule this notebook and make it run every day at 9AM CET ."
   ]
  },
  {
   "cell_type": "code",
   "execution_count": 14,
   "metadata": {},
   "outputs": [
    {
     "name": "stdout",
     "output_type": "stream",
     "text": [
      "👌 Well done! Your Notebook has been sent to production. \n",
      "\n",
      "⏰ It will be scheduled \"At 09:00 every day\" (more on the syntax on https://crontab.guru/).\n",
      "\n",
      "Ps: to remove the \"Scheduler\", just replace .add by .delete\n"
     ]
    }
   ],
   "source": [
    "naas.scheduler.add(recurrence=\"0 9 * * *\")"
   ]
  },
  {
   "cell_type": "code",
   "execution_count": null,
   "metadata": {},
   "outputs": [],
   "source": []
  }
 ],
 "metadata": {
  "kernelspec": {
   "display_name": "Python 3",
   "language": "python",
   "name": "python3"
  },
  "language_info": {
   "codemirror_mode": {
    "name": "ipython",
    "version": 3
   },
   "file_extension": ".py",
   "mimetype": "text/x-python",
   "name": "python",
   "nbconvert_exporter": "python",
   "pygments_lexer": "ipython3",
   "version": "3.8.6"
  }
 },
 "nbformat": 4,
 "nbformat_minor": 4
}
