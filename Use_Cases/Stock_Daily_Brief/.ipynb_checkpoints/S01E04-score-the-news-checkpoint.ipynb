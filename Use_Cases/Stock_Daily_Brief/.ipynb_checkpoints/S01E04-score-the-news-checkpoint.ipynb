{
 "cells": [
  {
   "cell_type": "markdown",
   "metadata": {},
   "source": [
    "# 📰 Scan the mood, score the news\n",
    "\n",
    "You cannot read all the news. It's simply not possible. \n",
    "So, let's try to give the job to a machine that will scan the mood.\n",
    "\n",
    "What you will get here is global average score of that goes from -1 (negative) to 1 (positive). \n",
    "We use natural language processing. \n",
    "\n"
   ]
  },
  {
   "cell_type": "code",
   "execution_count": 1,
   "metadata": {},
   "outputs": [],
   "source": [
    "stock =\"TSLA\""
   ]
  },
  {
   "cell_type": "markdown",
   "metadata": {},
   "source": [
    "## Get the news from CityFalcon 👇\n",
    "City Falcon is a news agregator.<br>\n",
    "By default, you can with use our account on CityFalcon for test purpose."
   ]
  },
  {
   "cell_type": "code",
   "execution_count": 2,
   "metadata": {},
   "outputs": [],
   "source": [
    "import naas_drivers"
   ]
  },
  {
   "cell_type": "code",
   "execution_count": 13,
   "metadata": {},
   "outputs": [
    {
     "data": {
      "text/html": [
       "<div>\n",
       "<style scoped>\n",
       "    .dataframe tbody tr th:only-of-type {\n",
       "        vertical-align: middle;\n",
       "    }\n",
       "\n",
       "    .dataframe tbody tr th {\n",
       "        vertical-align: top;\n",
       "    }\n",
       "\n",
       "    .dataframe thead th {\n",
       "        text-align: right;\n",
       "    }\n",
       "</style>\n",
       "<table border=\"1\" class=\"dataframe\">\n",
       "  <thead>\n",
       "    <tr style=\"text-align: right;\">\n",
       "      <th></th>\n",
       "      <th>logo</th>\n",
       "      <th>text</th>\n",
       "      <th>row_link</th>\n",
       "    </tr>\n",
       "  </thead>\n",
       "  <tbody>\n",
       "    <tr>\n",
       "      <th>0</th>\n",
       "      <td>https://cityfalconproduction.blob.core.windows...</td>\n",
       "      <td>Tesla launches new winter tire and wheel packa...</td>\n",
       "      <td>https://electrek.co/2020/11/04/tesla-model-y-w...</td>\n",
       "    </tr>\n",
       "    <tr>\n",
       "      <th>1</th>\n",
       "      <td>https://cityfalconproduction.blob.core.windows...</td>\n",
       "      <td>First in-depth look at Tesla’s ‘refreshed’ Mod...</td>\n",
       "      <td>https://www.teslarati.com/tesla-model-3-refres...</td>\n",
       "    </tr>\n",
       "    <tr>\n",
       "      <th>2</th>\n",
       "      <td>https://cityfalconproduction.blob.core.windows...</td>\n",
       "      <td>NIO Stock: 5 Electric Vehicle Names to Buy in ...</td>\n",
       "      <td>https://www.fool.ca/2020/11/04/nio-stock-5-ele...</td>\n",
       "    </tr>\n",
       "    <tr>\n",
       "      <th>3</th>\n",
       "      <td>https://cityfalconproduction.blob.core.windows...</td>\n",
       "      <td>Model 3 Production Brought Tesla To Brink Of B...</td>\n",
       "      <td>https://oilprice.com/Latest-Energy-News/World-...</td>\n",
       "    </tr>\n",
       "    <tr>\n",
       "      <th>4</th>\n",
       "      <td>https://cityfalconproduction.blob.core.windows...</td>\n",
       "      <td>Model 3 Production Brought Tesla To Brink Of B...</td>\n",
       "      <td>https://oilprice.com/Latest-Energy-News/World-...</td>\n",
       "    </tr>\n",
       "    <tr>\n",
       "      <th>...</th>\n",
       "      <td>...</td>\n",
       "      <td>...</td>\n",
       "      <td>...</td>\n",
       "    </tr>\n",
       "    <tr>\n",
       "      <th>64</th>\n",
       "      <td>https://cityfalconproduction.blob.core.windows...</td>\n",
       "      <td>Tesla Model 3 owner tests SpaceX Starlink beta...</td>\n",
       "      <td>https://www.teslarati.com/spacex-starlink-beta...</td>\n",
       "    </tr>\n",
       "    <tr>\n",
       "      <th>65</th>\n",
       "      <td>https://cityfalconproduction.blob.core.windows...</td>\n",
       "      <td>Tesla releases new software update with Autopi...</td>\n",
       "      <td>https://toptech.news/tesla-releases-new-softwa...</td>\n",
       "    </tr>\n",
       "    <tr>\n",
       "      <th>66</th>\n",
       "      <td>https://cityfalconproduction.blob.core.windows...</td>\n",
       "      <td>Tesla 2020.44 OTA Software Update Gets New Voi...</td>\n",
       "      <td>https://www.tesmanian.com/blogs/tesmanian-blog...</td>\n",
       "    </tr>\n",
       "    <tr>\n",
       "      <th>67</th>\n",
       "      <td>https://cityfalconproduction.blob.core.windows...</td>\n",
       "      <td>Elon Musk Had a Private Meeting With Volkswage...</td>\n",
       "      <td>https://ncfacanada.org/elon-musk-had-a-private...</td>\n",
       "    </tr>\n",
       "    <tr>\n",
       "      <th>68</th>\n",
       "      <td>https://cityfalconproduction.blob.core.windows...</td>\n",
       "      <td>Tesla introduces Spotify improvements, Autopil...</td>\n",
       "      <td>https://www.teslarati.com/tesla-spotify-autopi...</td>\n",
       "    </tr>\n",
       "  </tbody>\n",
       "</table>\n",
       "<p>69 rows × 3 columns</p>\n",
       "</div>"
      ],
      "text/plain": [
       "                                                 logo  \\\n",
       "0   https://cityfalconproduction.blob.core.windows...   \n",
       "1   https://cityfalconproduction.blob.core.windows...   \n",
       "2   https://cityfalconproduction.blob.core.windows...   \n",
       "3   https://cityfalconproduction.blob.core.windows...   \n",
       "4   https://cityfalconproduction.blob.core.windows...   \n",
       "..                                                ...   \n",
       "64  https://cityfalconproduction.blob.core.windows...   \n",
       "65  https://cityfalconproduction.blob.core.windows...   \n",
       "66  https://cityfalconproduction.blob.core.windows...   \n",
       "67  https://cityfalconproduction.blob.core.windows...   \n",
       "68  https://cityfalconproduction.blob.core.windows...   \n",
       "\n",
       "                                                 text  \\\n",
       "0   Tesla launches new winter tire and wheel packa...   \n",
       "1   First in-depth look at Tesla’s ‘refreshed’ Mod...   \n",
       "2   NIO Stock: 5 Electric Vehicle Names to Buy in ...   \n",
       "3   Model 3 Production Brought Tesla To Brink Of B...   \n",
       "4   Model 3 Production Brought Tesla To Brink Of B...   \n",
       "..                                                ...   \n",
       "64  Tesla Model 3 owner tests SpaceX Starlink beta...   \n",
       "65  Tesla releases new software update with Autopi...   \n",
       "66  Tesla 2020.44 OTA Software Update Gets New Voi...   \n",
       "67  Elon Musk Had a Private Meeting With Volkswage...   \n",
       "68  Tesla introduces Spotify improvements, Autopil...   \n",
       "\n",
       "                                             row_link  \n",
       "0   https://electrek.co/2020/11/04/tesla-model-y-w...  \n",
       "1   https://www.teslarati.com/tesla-model-3-refres...  \n",
       "2   https://www.fool.ca/2020/11/04/nio-stock-5-ele...  \n",
       "3   https://oilprice.com/Latest-Energy-News/World-...  \n",
       "4   https://oilprice.com/Latest-Energy-News/World-...  \n",
       "..                                                ...  \n",
       "64  https://www.teslarati.com/spacex-starlink-beta...  \n",
       "65  https://toptech.news/tesla-releases-new-softwa...  \n",
       "66  https://www.tesmanian.com/blogs/tesmanian-blog...  \n",
       "67  https://ncfacanada.org/elon-musk-had-a-private...  \n",
       "68  https://www.teslarati.com/tesla-spotify-autopi...  \n",
       "\n",
       "[69 rows x 3 columns]"
      ]
     },
     "execution_count": 13,
     "metadata": {},
     "output_type": "execute_result"
    }
   ],
   "source": [
    "import os\n",
    "naas_drivers.cityfalcon.connect(os.environ.get(\"CITYFALCON_KEY\", None))\n",
    "table_news = naas_drivers.cityfalcon.get(stock, fields=[\"logo\", \"title\", \"link\"])\n",
    "table_news.rename(columns={'title':'text'}, inplace=True)\n",
    "table_news.rename(columns={'link':'row_link'}, inplace=True)\n",
    "table_news"
   ]
  },
  {
   "cell_type": "code",
   "execution_count": 14,
   "metadata": {},
   "outputs": [],
   "source": [
    "table_news_scored =  naas_drivers.sentiment.get(table_news, column_name=\"text\")"
   ]
  },
  {
   "cell_type": "code",
   "execution_count": 15,
   "metadata": {},
   "outputs": [
    {
     "data": {
      "text/plain": [
       "0.0651086956521739"
      ]
     },
     "execution_count": 15,
     "metadata": {},
     "output_type": "execute_result"
    }
   ],
   "source": [
    "score_news = table_news_scored[\"Score\"].mean()\n",
    "score_news"
   ]
  },
  {
   "cell_type": "code",
   "execution_count": 16,
   "metadata": {},
   "outputs": [
    {
     "data": {
      "text/plain": [
       "'Positive'"
      ]
     },
     "execution_count": 16,
     "metadata": {},
     "output_type": "execute_result"
    }
   ],
   "source": [
    "sentiment_news = naas_drivers.sentiment.categorize(score_news)\n",
    "sentiment_news"
   ]
  },
  {
   "cell_type": "markdown",
   "metadata": {},
   "source": [
    "# Create the news hotlist 🔥"
   ]
  },
  {
   "cell_type": "code",
   "execution_count": 17,
   "metadata": {},
   "outputs": [
    {
     "data": {
      "text/html": [
       "<div>\n",
       "<style scoped>\n",
       "    .dataframe tbody tr th:only-of-type {\n",
       "        vertical-align: middle;\n",
       "    }\n",
       "\n",
       "    .dataframe tbody tr th {\n",
       "        vertical-align: top;\n",
       "    }\n",
       "\n",
       "    .dataframe thead th {\n",
       "        text-align: right;\n",
       "    }\n",
       "</style>\n",
       "<table border=\"1\" class=\"dataframe\">\n",
       "  <thead>\n",
       "    <tr style=\"text-align: right;\">\n",
       "      <th></th>\n",
       "      <th>logo</th>\n",
       "      <th>text</th>\n",
       "      <th>row_link</th>\n",
       "      <th>senti_score</th>\n",
       "    </tr>\n",
       "  </thead>\n",
       "  <tbody>\n",
       "    <tr>\n",
       "      <th>0</th>\n",
       "      <td>https://cityfalconproduction.blob.core.windows...</td>\n",
       "      <td>Tesla launches new winter tire and wheel packa...</td>\n",
       "      <td>https://electrek.co/2020/11/04/tesla-model-y-w...</td>\n",
       "      <td>{'neg': 0.0, 'neu': 1.0, 'pos': 0.0, 'compound...</td>\n",
       "    </tr>\n",
       "    <tr>\n",
       "      <th>1</th>\n",
       "      <td>https://cityfalconproduction.blob.core.windows...</td>\n",
       "      <td>First in-depth look at Tesla’s ‘refreshed’ Mod...</td>\n",
       "      <td>https://www.teslarati.com/tesla-model-3-refres...</td>\n",
       "      <td>{'neg': 0.0, 'neu': 1.0, 'pos': 0.0, 'compound...</td>\n",
       "    </tr>\n",
       "    <tr>\n",
       "      <th>2</th>\n",
       "      <td>https://cityfalconproduction.blob.core.windows...</td>\n",
       "      <td>NIO Stock: 5 Electric Vehicle Names to Buy in ...</td>\n",
       "      <td>https://www.fool.ca/2020/11/04/nio-stock-5-ele...</td>\n",
       "      <td>{'neg': 0.0, 'neu': 1.0, 'pos': 0.0, 'compound...</td>\n",
       "    </tr>\n",
       "    <tr>\n",
       "      <th>3</th>\n",
       "      <td>https://cityfalconproduction.blob.core.windows...</td>\n",
       "      <td>Model 3 Production Brought Tesla To Brink Of B...</td>\n",
       "      <td>https://oilprice.com/Latest-Energy-News/World-...</td>\n",
       "      <td>{'neg': 0.0, 'neu': 1.0, 'pos': 0.0, 'compound...</td>\n",
       "    </tr>\n",
       "    <tr>\n",
       "      <th>4</th>\n",
       "      <td>https://cityfalconproduction.blob.core.windows...</td>\n",
       "      <td>Model 3 Production Brought Tesla To Brink Of B...</td>\n",
       "      <td>https://oilprice.com/Latest-Energy-News/World-...</td>\n",
       "      <td>{'neg': 0.0, 'neu': 1.0, 'pos': 0.0, 'compound...</td>\n",
       "    </tr>\n",
       "  </tbody>\n",
       "</table>\n",
       "</div>"
      ],
      "text/plain": [
       "                                                logo  \\\n",
       "0  https://cityfalconproduction.blob.core.windows...   \n",
       "1  https://cityfalconproduction.blob.core.windows...   \n",
       "2  https://cityfalconproduction.blob.core.windows...   \n",
       "3  https://cityfalconproduction.blob.core.windows...   \n",
       "4  https://cityfalconproduction.blob.core.windows...   \n",
       "\n",
       "                                                text  \\\n",
       "0  Tesla launches new winter tire and wheel packa...   \n",
       "1  First in-depth look at Tesla’s ‘refreshed’ Mod...   \n",
       "2  NIO Stock: 5 Electric Vehicle Names to Buy in ...   \n",
       "3  Model 3 Production Brought Tesla To Brink Of B...   \n",
       "4  Model 3 Production Brought Tesla To Brink Of B...   \n",
       "\n",
       "                                            row_link  \\\n",
       "0  https://electrek.co/2020/11/04/tesla-model-y-w...   \n",
       "1  https://www.teslarati.com/tesla-model-3-refres...   \n",
       "2  https://www.fool.ca/2020/11/04/nio-stock-5-ele...   \n",
       "3  https://oilprice.com/Latest-Energy-News/World-...   \n",
       "4  https://oilprice.com/Latest-Energy-News/World-...   \n",
       "\n",
       "                                         senti_score  \n",
       "0  {'neg': 0.0, 'neu': 1.0, 'pos': 0.0, 'compound...  \n",
       "1  {'neg': 0.0, 'neu': 1.0, 'pos': 0.0, 'compound...  \n",
       "2  {'neg': 0.0, 'neu': 1.0, 'pos': 0.0, 'compound...  \n",
       "3  {'neg': 0.0, 'neu': 1.0, 'pos': 0.0, 'compound...  \n",
       "4  {'neg': 0.0, 'neu': 1.0, 'pos': 0.0, 'compound...  "
      ]
     },
     "execution_count": 17,
     "metadata": {},
     "output_type": "execute_result"
    }
   ],
   "source": [
    "table_news_email = table_news[:5]\n",
    "table_news_email"
   ]
  },
  {
   "cell_type": "code",
   "execution_count": null,
   "metadata": {},
   "outputs": [],
   "source": []
  }
 ],
 "metadata": {
  "kernelspec": {
   "display_name": "Python 3",
   "language": "python",
   "name": "python3"
  },
  "language_info": {
   "codemirror_mode": {
    "name": "ipython",
    "version": 3
   },
   "file_extension": ".py",
   "mimetype": "text/x-python",
   "name": "python",
   "nbconvert_exporter": "python",
   "pygments_lexer": "ipython3",
   "version": "3.8.6"
  }
 },
 "nbformat": 4,
 "nbformat_minor": 4
}
