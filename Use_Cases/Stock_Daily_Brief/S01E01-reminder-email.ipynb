{
 "cells": [
  {
   "cell_type": "markdown",
   "metadata": {},
   "source": [
    "# ⏰ Send friendly email reminder in minutes\n",
    "\n",
    "Let's start with an email to remind myselft I need to follow the stocks. \n",
    "<br>\n",
    "I am following up tasks mosltly over emails (like a checklist) so, this canal is always better.\n",
    "\n",
    "\n",
    "👉 I want to receive it every morning at 9am CET."
   ]
  },
  {
   "cell_type": "code",
   "execution_count": 1,
   "metadata": {},
   "outputs": [],
   "source": [
    "import naas"
   ]
  },
  {
   "cell_type": "code",
   "execution_count": 2,
   "metadata": {},
   "outputs": [
    {
     "name": "stdout",
     "output_type": "stream",
     "text": [
      "👌 Well done! Your Notebook has been sent to production. \n",
      "\n",
      "⏰ It will be scheduled \"At 09:00 every day\" (more on the syntax on https://crontab.guru/).\n",
      "\n",
      "Ps: to remove the \"Scheduler\", just replace .add by .delete\n"
     ]
    }
   ],
   "source": [
    "naas.scheduler.add(recurrence=\"0 9 * * *\")"
   ]
  },
  {
   "cell_type": "code",
   "execution_count": 3,
   "metadata": {},
   "outputs": [],
   "source": [
    "email = \"jeremy.ravenel@cashstory.com\"\n",
    "subject = \"⏰ Reminder - Follow your favorite company : Tesla\"\n",
    "content = '''\n",
    "<p>Hey there,&nbsp;</p>\n",
    "<p>Hope you are doing well 🙏</p>\n",
    "<p>This is a reminder for you to check how <a href=\"https://finance.yahoo.com/quote/TSLA/\">Tesla</a> stock is doing today.&nbsp;</p>\n",
    "<p>Best,&nbsp;</p>\n",
    "'''\n"
   ]
  },
  {
   "cell_type": "code",
   "execution_count": 4,
   "metadata": {},
   "outputs": [
    {
     "name": "stdout",
     "output_type": "stream",
     "text": [
      "👌 💌 Email has been sent successfully !\n"
     ]
    },
    {
     "data": {
      "text/plain": [
       "{'email': 'send'}"
      ]
     },
     "execution_count": 4,
     "metadata": {},
     "output_type": "execute_result"
    }
   ],
   "source": [
    "naas.notifications.send(email_to=email, subject=subject, html=content)"
   ]
  },
  {
   "cell_type": "markdown",
   "metadata": {},
   "source": [
    "Transcript : \n",
    "- Hello World, this is Jeremy from CashStory : Naas mother company. In this video I will show you how to send yourself daily reminder about almost anything by email in less than 1 minutes using Naas awesome features!\n",
    "- This will show you how the scheduler and notification feature works \n",
    "- This is the first of a series of videos I will post almost everyday on this channel before the official Launch of Naas on the 1st of Novembre, so make sure you hit the subscribe butoon and let get started !\n",
    "- This will be an great way to show you how to get started really quick on Naas, and understand its power. \n",
    "- So to get started, let me give yoou a little bit of context. \n",
    "- I worked in Finance for over 8 years now, mostly using Excel to do my personal or company use. \n",
    "- Excel is great but you get to limitation real quick when it comes to run automated task and access to a large scomputing power\n",
    "- So we dreamed about a data engine that could get any data we need to perform analysis and reporting in no time."
   ]
  },
  {
   "cell_type": "code",
   "execution_count": null,
   "metadata": {
    "jupyter": {
     "source_hidden": true
    }
   },
   "outputs": [],
   "source": []
  }
 ],
 "metadata": {
  "kernelspec": {
   "display_name": "Python 3",
   "language": "python",
   "name": "python3"
  },
  "language_info": {
   "codemirror_mode": {
    "name": "ipython",
    "version": 3
   },
   "file_extension": ".py",
   "mimetype": "text/x-python",
   "name": "python",
   "nbconvert_exporter": "python",
   "pygments_lexer": "ipython3",
   "version": "3.8.6"
  }
 },
 "nbformat": 4,
 "nbformat_minor": 4
}
