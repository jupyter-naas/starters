{
 "cells": [
  {
   "cell_type": "markdown",
   "metadata": {},
   "source": [
    "# 📰 Scan the mood, score the news\n",
    "\n",
    "You cannot read all the news. It's simply not possible. \n",
    "So, let's try to give the job to a machine that will scan the mood.\n",
    "\n",
    "What you will get here is global average score of that goes from -1 (negative) to 1 (positive). \n",
    "We use natural language processing. \n",
    "\n"
   ]
  },
  {
   "cell_type": "code",
   "execution_count": 1,
   "metadata": {},
   "outputs": [],
   "source": [
    "stock =\"TSLA\""
   ]
  },
  {
   "cell_type": "markdown",
   "metadata": {},
   "source": [
    "## Get the news from CityFalcon 👇\n",
    "City Falcon is a news agregator.<br>\n",
    "By default, you can with use our account on CityFalcon for test purpose."
   ]
  },
  {
   "cell_type": "code",
   "execution_count": 2,
   "metadata": {},
   "outputs": [],
   "source": [
    "import naas_drivers"
   ]
  },
  {
   "cell_type": "code",
   "execution_count": 3,
   "metadata": {},
   "outputs": [
    {
     "data": {
      "text/html": [
       "<div>\n",
       "<style scoped>\n",
       "    .dataframe tbody tr th:only-of-type {\n",
       "        vertical-align: middle;\n",
       "    }\n",
       "\n",
       "    .dataframe tbody tr th {\n",
       "        vertical-align: top;\n",
       "    }\n",
       "\n",
       "    .dataframe thead th {\n",
       "        text-align: right;\n",
       "    }\n",
       "</style>\n",
       "<table border=\"1\" class=\"dataframe\">\n",
       "  <thead>\n",
       "    <tr style=\"text-align: right;\">\n",
       "      <th></th>\n",
       "      <th>logo</th>\n",
       "      <th>text</th>\n",
       "      <th>row_link</th>\n",
       "    </tr>\n",
       "  </thead>\n",
       "  <tbody>\n",
       "    <tr>\n",
       "      <th>0</th>\n",
       "      <td>https://cityfalconproduction.blob.core.windows...</td>\n",
       "      <td>Elon Musk launches $250 a bottle Tesla tequila...</td>\n",
       "      <td>https://www.dailymail.co.uk/news/article-89212...</td>\n",
       "    </tr>\n",
       "    <tr>\n",
       "      <th>1</th>\n",
       "      <td>https://cityfalconproduction.blob.core.windows...</td>\n",
       "      <td>Elon Musk launches $250 a bottle Tesla tequila</td>\n",
       "      <td>https://www.dailymail.co.uk/news/article-89212...</td>\n",
       "    </tr>\n",
       "    <tr>\n",
       "      <th>2</th>\n",
       "      <td>https://cityfalconproduction.blob.core.windows...</td>\n",
       "      <td>Toyota CEO attempts Tesla analogy and fails: ‘...</td>\n",
       "      <td>https://www.teslarati.com/toyota-ceo-fails-tes...</td>\n",
       "    </tr>\n",
       "    <tr>\n",
       "      <th>3</th>\n",
       "      <td>https://cityfalconproduction.blob.core.windows...</td>\n",
       "      <td>Li Auto Recalls Li One SUVs; China Electric Ca...</td>\n",
       "      <td>https://www.investors.com/news/li-auto-stock-f...</td>\n",
       "    </tr>\n",
       "    <tr>\n",
       "      <th>4</th>\n",
       "      <td>https://cityfalconproduction.blob.core.windows...</td>\n",
       "      <td>'Teslaquila': Elon Musk has done it! Tesla lau...</td>\n",
       "      <td>https://www.businesstoday.in/current/world/elo...</td>\n",
       "    </tr>\n",
       "    <tr>\n",
       "      <th>...</th>\n",
       "      <td>...</td>\n",
       "      <td>...</td>\n",
       "      <td>...</td>\n",
       "    </tr>\n",
       "    <tr>\n",
       "      <th>95</th>\n",
       "      <td>https://cityfalconproduction.blob.core.windows...</td>\n",
       "      <td>Tesla ‘mania’ spoils notorious short-seller Ei...</td>\n",
       "      <td>https://www.teslarati.com/tesla-mania-greenlig...</td>\n",
       "    </tr>\n",
       "    <tr>\n",
       "      <th>96</th>\n",
       "      <td>https://cityfalconproduction.blob.core.windows...</td>\n",
       "      <td>TSLA Bear Hedge-Fund Greenlight Capital Loses ...</td>\n",
       "      <td>https://www.tesmanian.com/blogs/tesmanian-blog...</td>\n",
       "    </tr>\n",
       "    <tr>\n",
       "      <th>97</th>\n",
       "      <td>https://cityfalconproduction.blob.core.windows...</td>\n",
       "      <td>Tesla Model 3 updates: Take a closer look at t...</td>\n",
       "      <td>https://www.cnet.com/roadshow/news/tesla-model...</td>\n",
       "    </tr>\n",
       "    <tr>\n",
       "      <th>98</th>\n",
       "      <td>https://cityfalconproduction.blob.core.windows...</td>\n",
       "      <td>Why Nio is a Better Buy Than Tesla</td>\n",
       "      <td>https://investorplace.com/2020/11/nio-stock-wh...</td>\n",
       "    </tr>\n",
       "    <tr>\n",
       "      <th>99</th>\n",
       "      <td>https://cityfalconproduction.blob.core.windows...</td>\n",
       "      <td>Tesla Submits Application For Model Y Manufact...</td>\n",
       "      <td>http://feeds.benzinga.com/~r/benzinga/media/~3...</td>\n",
       "    </tr>\n",
       "  </tbody>\n",
       "</table>\n",
       "<p>100 rows × 3 columns</p>\n",
       "</div>"
      ],
      "text/plain": [
       "                                                 logo  \\\n",
       "0   https://cityfalconproduction.blob.core.windows...   \n",
       "1   https://cityfalconproduction.blob.core.windows...   \n",
       "2   https://cityfalconproduction.blob.core.windows...   \n",
       "3   https://cityfalconproduction.blob.core.windows...   \n",
       "4   https://cityfalconproduction.blob.core.windows...   \n",
       "..                                                ...   \n",
       "95  https://cityfalconproduction.blob.core.windows...   \n",
       "96  https://cityfalconproduction.blob.core.windows...   \n",
       "97  https://cityfalconproduction.blob.core.windows...   \n",
       "98  https://cityfalconproduction.blob.core.windows...   \n",
       "99  https://cityfalconproduction.blob.core.windows...   \n",
       "\n",
       "                                                 text  \\\n",
       "0   Elon Musk launches $250 a bottle Tesla tequila...   \n",
       "1      Elon Musk launches $250 a bottle Tesla tequila   \n",
       "2   Toyota CEO attempts Tesla analogy and fails: ‘...   \n",
       "3   Li Auto Recalls Li One SUVs; China Electric Ca...   \n",
       "4   'Teslaquila': Elon Musk has done it! Tesla lau...   \n",
       "..                                                ...   \n",
       "95  Tesla ‘mania’ spoils notorious short-seller Ei...   \n",
       "96  TSLA Bear Hedge-Fund Greenlight Capital Loses ...   \n",
       "97  Tesla Model 3 updates: Take a closer look at t...   \n",
       "98                 Why Nio is a Better Buy Than Tesla   \n",
       "99  Tesla Submits Application For Model Y Manufact...   \n",
       "\n",
       "                                             row_link  \n",
       "0   https://www.dailymail.co.uk/news/article-89212...  \n",
       "1   https://www.dailymail.co.uk/news/article-89212...  \n",
       "2   https://www.teslarati.com/toyota-ceo-fails-tes...  \n",
       "3   https://www.investors.com/news/li-auto-stock-f...  \n",
       "4   https://www.businesstoday.in/current/world/elo...  \n",
       "..                                                ...  \n",
       "95  https://www.teslarati.com/tesla-mania-greenlig...  \n",
       "96  https://www.tesmanian.com/blogs/tesmanian-blog...  \n",
       "97  https://www.cnet.com/roadshow/news/tesla-model...  \n",
       "98  https://investorplace.com/2020/11/nio-stock-wh...  \n",
       "99  http://feeds.benzinga.com/~r/benzinga/media/~3...  \n",
       "\n",
       "[100 rows x 3 columns]"
      ]
     },
     "execution_count": 3,
     "metadata": {},
     "output_type": "execute_result"
    }
   ],
   "source": [
    "import os\n",
    "naas_drivers.cityfalcon.connect(os.environ.get(\"CITYFALCON_KEY\", None))\n",
    "table_news = naas_drivers.cityfalcon.get(stock, fields=[\"logo\", \"title\", \"link\"])\n",
    "table_news.rename(columns={'title':'text'}, inplace=True)\n",
    "table_news.rename(columns={'link':'row_link'}, inplace=True)\n",
    "table_news"
   ]
  },
  {
   "cell_type": "code",
   "execution_count": 4,
   "metadata": {},
   "outputs": [],
   "source": [
    "table_news_scored =  naas_drivers.sentiment.get(table_news, column_name=\"text\")"
   ]
  },
  {
   "cell_type": "code",
   "execution_count": 5,
   "metadata": {},
   "outputs": [
    {
     "data": {
      "text/plain": [
       "0.041847"
      ]
     },
     "execution_count": 5,
     "metadata": {},
     "output_type": "execute_result"
    }
   ],
   "source": [
    "score_news = table_news_scored[\"Score\"].mean()\n",
    "score_news"
   ]
  },
  {
   "cell_type": "code",
   "execution_count": 6,
   "metadata": {},
   "outputs": [
    {
     "data": {
      "text/plain": [
       "'Neutral'"
      ]
     },
     "execution_count": 6,
     "metadata": {},
     "output_type": "execute_result"
    }
   ],
   "source": [
    "sentiment_news = naas_drivers.sentiment.categorize(score_news)\n",
    "sentiment_news"
   ]
  },
  {
   "cell_type": "markdown",
   "metadata": {},
   "source": [
    "# Create the news hotlist 🔥"
   ]
  },
  {
   "cell_type": "code",
   "execution_count": 7,
   "metadata": {},
   "outputs": [
    {
     "data": {
      "text/html": [
       "<div>\n",
       "<style scoped>\n",
       "    .dataframe tbody tr th:only-of-type {\n",
       "        vertical-align: middle;\n",
       "    }\n",
       "\n",
       "    .dataframe tbody tr th {\n",
       "        vertical-align: top;\n",
       "    }\n",
       "\n",
       "    .dataframe thead th {\n",
       "        text-align: right;\n",
       "    }\n",
       "</style>\n",
       "<table border=\"1\" class=\"dataframe\">\n",
       "  <thead>\n",
       "    <tr style=\"text-align: right;\">\n",
       "      <th></th>\n",
       "      <th>logo</th>\n",
       "      <th>text</th>\n",
       "      <th>row_link</th>\n",
       "      <th>senti_score</th>\n",
       "    </tr>\n",
       "  </thead>\n",
       "  <tbody>\n",
       "    <tr>\n",
       "      <th>0</th>\n",
       "      <td>https://cityfalconproduction.blob.core.windows...</td>\n",
       "      <td>Elon Musk launches $250 a bottle Tesla tequila...</td>\n",
       "      <td>https://www.dailymail.co.uk/news/article-89212...</td>\n",
       "      <td>{'neg': 0.0, 'neu': 1.0, 'pos': 0.0, 'compound...</td>\n",
       "    </tr>\n",
       "    <tr>\n",
       "      <th>1</th>\n",
       "      <td>https://cityfalconproduction.blob.core.windows...</td>\n",
       "      <td>Elon Musk launches $250 a bottle Tesla tequila</td>\n",
       "      <td>https://www.dailymail.co.uk/news/article-89212...</td>\n",
       "      <td>{'neg': 0.0, 'neu': 1.0, 'pos': 0.0, 'compound...</td>\n",
       "    </tr>\n",
       "    <tr>\n",
       "      <th>2</th>\n",
       "      <td>https://cityfalconproduction.blob.core.windows...</td>\n",
       "      <td>Toyota CEO attempts Tesla analogy and fails: ‘...</td>\n",
       "      <td>https://www.teslarati.com/toyota-ceo-fails-tes...</td>\n",
       "      <td>{'neg': 0.177, 'neu': 0.823, 'pos': 0.0, 'comp...</td>\n",
       "    </tr>\n",
       "    <tr>\n",
       "      <th>3</th>\n",
       "      <td>https://cityfalconproduction.blob.core.windows...</td>\n",
       "      <td>Li Auto Recalls Li One SUVs; China Electric Ca...</td>\n",
       "      <td>https://www.investors.com/news/li-auto-stock-f...</td>\n",
       "      <td>{'neg': 0.0, 'neu': 1.0, 'pos': 0.0, 'compound...</td>\n",
       "    </tr>\n",
       "    <tr>\n",
       "      <th>4</th>\n",
       "      <td>https://cityfalconproduction.blob.core.windows...</td>\n",
       "      <td>'Teslaquila': Elon Musk has done it! Tesla lau...</td>\n",
       "      <td>https://www.businesstoday.in/current/world/elo...</td>\n",
       "      <td>{'neg': 0.0, 'neu': 1.0, 'pos': 0.0, 'compound...</td>\n",
       "    </tr>\n",
       "  </tbody>\n",
       "</table>\n",
       "</div>"
      ],
      "text/plain": [
       "                                                logo  \\\n",
       "0  https://cityfalconproduction.blob.core.windows...   \n",
       "1  https://cityfalconproduction.blob.core.windows...   \n",
       "2  https://cityfalconproduction.blob.core.windows...   \n",
       "3  https://cityfalconproduction.blob.core.windows...   \n",
       "4  https://cityfalconproduction.blob.core.windows...   \n",
       "\n",
       "                                                text  \\\n",
       "0  Elon Musk launches $250 a bottle Tesla tequila...   \n",
       "1     Elon Musk launches $250 a bottle Tesla tequila   \n",
       "2  Toyota CEO attempts Tesla analogy and fails: ‘...   \n",
       "3  Li Auto Recalls Li One SUVs; China Electric Ca...   \n",
       "4  'Teslaquila': Elon Musk has done it! Tesla lau...   \n",
       "\n",
       "                                            row_link  \\\n",
       "0  https://www.dailymail.co.uk/news/article-89212...   \n",
       "1  https://www.dailymail.co.uk/news/article-89212...   \n",
       "2  https://www.teslarati.com/toyota-ceo-fails-tes...   \n",
       "3  https://www.investors.com/news/li-auto-stock-f...   \n",
       "4  https://www.businesstoday.in/current/world/elo...   \n",
       "\n",
       "                                         senti_score  \n",
       "0  {'neg': 0.0, 'neu': 1.0, 'pos': 0.0, 'compound...  \n",
       "1  {'neg': 0.0, 'neu': 1.0, 'pos': 0.0, 'compound...  \n",
       "2  {'neg': 0.177, 'neu': 0.823, 'pos': 0.0, 'comp...  \n",
       "3  {'neg': 0.0, 'neu': 1.0, 'pos': 0.0, 'compound...  \n",
       "4  {'neg': 0.0, 'neu': 1.0, 'pos': 0.0, 'compound...  "
      ]
     },
     "execution_count": 7,
     "metadata": {},
     "output_type": "execute_result"
    }
   ],
   "source": [
    "table_news_email = table_news[:5]\n",
    "table_news_email"
   ]
  }
 ],
 "metadata": {
  "kernelspec": {
   "display_name": "Python 3",
   "language": "python",
   "name": "python3"
  },
  "language_info": {
   "codemirror_mode": {
    "name": "ipython",
    "version": 3
   },
   "file_extension": ".py",
   "mimetype": "text/x-python",
   "name": "python",
   "nbconvert_exporter": "python",
   "pygments_lexer": "ipython3",
   "version": "3.8.6"
  }
 },
 "nbformat": 4,
 "nbformat_minor": 4
}
