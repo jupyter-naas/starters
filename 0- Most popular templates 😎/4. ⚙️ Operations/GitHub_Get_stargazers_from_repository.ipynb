{
 "cells": [
  {
   "cell_type": "markdown",
   "id": "644ab0cd-1ff1-4087-b14a-2b4e596c6807",
   "metadata": {
    "papermill": {},
    "tags": []
   },
   "source": [
    "<img width=\"10%\" alt=\"Naas\" src=\"https://landen.imgix.net/jtci2pxwjczr/assets/5ice39g4.png?w=160\"/>"
   ]
  },
  {
   "cell_type": "markdown",
   "id": "b00c39ca-3d99-48c6-8e7c-b1462f696749",
   "metadata": {
    "papermill": {},
    "tags": []
   },
   "source": [
    "# GitHub - Get stargazers from repository\n",
    "<a href=\"https://app.naas.ai/user-redirect/naas/downloader?url=https://raw.githubusercontent.com/jupyter-naas/awesome-notebooks/master/GitHub/GitHub_Get_stargazers_from_repository.ipynb\" target=\"_parent\"><img src=\"https://naasai-public.s3.eu-west-3.amazonaws.com/open_in_naas.svg\"/></a>"
   ]
  },
  {
   "cell_type": "markdown",
   "id": "ec6f2c33-5600-4324-a3e5-9e470926ea21",
   "metadata": {
    "execution": {
     "iopub.execute_input": "2022-01-19T17:29:04.864875Z",
     "iopub.status.busy": "2022-01-19T17:29:04.864611Z",
     "iopub.status.idle": "2022-01-19T17:29:04.881259Z",
     "shell.execute_reply": "2022-01-19T17:29:04.880462Z",
     "shell.execute_reply.started": "2022-01-19T17:29:04.864810Z"
    },
    "papermill": {},
    "tags": []
   },
   "source": [
    "**Tags:** #github #stars #naas_drivers #operations #analytics #html #plotly #csv #image #png"
   ]
  },
  {
   "cell_type": "markdown",
   "id": "831e5714-3d01-4b39-86b7-661e83691e63",
   "metadata": {
    "papermill": {},
    "tags": []
   },
   "source": [
    "**Author:** [Sanjeet Attili](https://www.linkedin.com/in/sanjeet-attili-760bab190/)"
   ]
  },
  {
   "cell_type": "markdown",
   "id": "4100d88c-3b61-41ee-acb8-d9aa012e7843",
   "metadata": {
    "papermill": {},
    "tags": []
   },
   "source": [
    "This notebook enables you to get a dataframe of all the stargazers of a particular Github repository."
   ]
  },
  {
   "cell_type": "markdown",
   "id": "3d06b4aa-5607-475d-a5c7-d4896f02efbb",
   "metadata": {
    "papermill": {},
    "tags": []
   },
   "source": [
    "## Input"
   ]
  },
  {
   "cell_type": "markdown",
   "id": "1a3276ae-5b97-4737-ba44-0b748c4ad216",
   "metadata": {
    "papermill": {},
    "tags": []
   },
   "source": [
    "### Imports"
   ]
  },
  {
   "cell_type": "code",
   "execution_count": null,
   "id": "120e7d13-d71b-4faa-8d71-416c2fa0c2c6",
   "metadata": {
    "papermill": {},
    "tags": []
   },
   "outputs": [],
   "source": [
    "import pandas as pd\n",
    "import requests\n",
    "import os\n",
    "from urllib.parse import urlencode\n",
    "from datetime import datetime\n",
    "import plotly.graph_objects as go\n",
    "from naas_drivers import github\n",
    "import naas"
   ]
  },
  {
   "cell_type": "markdown",
   "id": "6f87bbb1-c2b7-4dc3-b1fb-109c15841392",
   "metadata": {
    "papermill": {},
    "tags": []
   },
   "source": [
    "### Setup GitHub\n",
    "**How to find your personal access token on GitHub?**\n",
    "\n",
    "- First we need to create a personal access token to get the details of our organization from here: https://github.com/settings/tokens\n",
    "- You will be asked to select scopes for the token. Which scopes you choose will determine what information and actions you will be able to perform against the API.\n",
    "- You should be careful with the ones prefixed with write:, delete: and admin: as these might be quite destructive.\n",
    "- You can find description of each scope in docs here (https://docs.github.com/en/developers/apps/building-oauth-apps/scopes-for-oauth-apps)."
   ]
  },
  {
   "cell_type": "code",
   "execution_count": null,
   "id": "534f2053-a2a9-4899-abf8-0192c83f9c94",
   "metadata": {
    "papermill": {},
    "tags": []
   },
   "outputs": [],
   "source": [
    "# GitHub token\n",
    "GITHUB_TOKEN = \"ENTER_YOUR_GITHUB_TOKEN_HERE\" # EXAMPLE : \"ghp_fUYP0Z5i29AG4ggX8owctGnHU**********\" \n",
    "\n",
    "# Github repo on which we want to create issues.\n",
    "REPO_URL = \"ENTER_YOUR_REPO_URL_HERE\" # EXAMPLE : \"https://github.com/jupyter-naas/awesome-notebooks/\""
   ]
  },
  {
   "cell_type": "markdown",
   "id": "d8c845b7-ef77-4ba2-877b-66eca1116c7e",
   "metadata": {
    "papermill": {},
    "tags": []
   },
   "source": [
    "### Setup Outputs"
   ]
  },
  {
   "cell_type": "code",
   "execution_count": null,
   "id": "d34cda87-0ba2-4992-bb11-506cd6a4e52b",
   "metadata": {
    "papermill": {},
    "tags": []
   },
   "outputs": [],
   "source": [
    "# Outputs\n",
    "name_output = f\"awesome-notebooks\"\n",
    "csv_output = f\"{name_output}.csv\"\n",
    "html_output = f\"{name_output}.html\"\n",
    "image_output = f\"{name_output}.png\""
   ]
  },
  {
   "cell_type": "markdown",
   "id": "65bb6473-255b-4cc8-a821-dca6c828b269",
   "metadata": {
    "papermill": {},
    "tags": []
   },
   "source": [
    "## Model"
   ]
  },
  {
   "cell_type": "markdown",
   "id": "7bfb0a01-048c-42e6-b26e-f6179e94a15e",
   "metadata": {
    "papermill": {},
    "tags": []
   },
   "source": [
    "### Get stargazers"
   ]
  },
  {
   "cell_type": "code",
   "execution_count": null,
   "id": "4227b553-0c64-42c4-9514-ac17a70b05e0",
   "metadata": {
    "papermill": {},
    "tags": []
   },
   "outputs": [],
   "source": [
    "df_stargazers = github.connect(GITHUB_TOKEN).repos.get_stargazers(REPO_URL)\n",
    "df_stargazers"
   ]
  },
  {
   "cell_type": "markdown",
   "id": "1cfd7e4a-b23e-43c5-a4a0-f6987b24dbaa",
   "metadata": {
    "papermill": {},
    "tags": []
   },
   "source": [
    "### Get trend"
   ]
  },
  {
   "cell_type": "code",
   "execution_count": null,
   "id": "6ad39d7d-818a-44f3-a3e8-afc18dfcbe2f",
   "metadata": {
    "papermill": {},
    "tags": []
   },
   "outputs": [],
   "source": [
    "def get_trend(df,\n",
    "              date_col_name='STARRED_AT',\n",
    "              value_col_name=\"ID\",\n",
    "              date_order='asc'):\n",
    "    \n",
    "    # Format date\n",
    "    df[date_col_name] = pd.to_datetime(df[date_col_name]).dt.strftime(\"%Y-%m-%d\")\n",
    "    df = df.groupby(date_col_name, as_index=False).agg({value_col_name: \"count\"})\n",
    "    d = datetime.now().date()\n",
    "    d2 = df.loc[df.index[0], date_col_name]\n",
    "    idx = pd.date_range(d2, d, freq = \"D\")\n",
    "    \n",
    "    df.set_index(date_col_name, drop=True, inplace=True)\n",
    "    df.index = pd.DatetimeIndex(df.index)\n",
    "    df = df.reindex(idx, fill_value=0)\n",
    "    df[date_col_name] = pd.DatetimeIndex(df.index)\n",
    "    \n",
    "    # Calc sum cum\n",
    "    df[\"value_cum\"] = df.agg({value_col_name: \"cumsum\"})\n",
    "    return df.reset_index(drop=True)\n",
    "\n",
    "df_trend = get_trend(df_stargazers)\n",
    "df_trend.tail(1)"
   ]
  },
  {
   "cell_type": "markdown",
   "id": "9c4c9039-086e-4f14-9bc4-5900c7206678",
   "metadata": {
    "papermill": {},
    "tags": []
   },
   "source": [
    "### Plotting a line chart to get trend"
   ]
  },
  {
   "cell_type": "code",
   "execution_count": null,
   "id": "7f433f48-09db-4e0b-b55d-ce07909899a7",
   "metadata": {
    "papermill": {},
    "tags": []
   },
   "outputs": [],
   "source": [
    "def create_linechart(df, date, value, repo_url):\n",
    "    # Get repo name\n",
    "    repo_name = repo_url.split(\"https://github.com/\")[-1].split(\"/\")[-1]\n",
    "    \n",
    "    # Get last value\n",
    "    last_value = df.loc[df.index[-1], value]\n",
    "    \n",
    "    # Init\n",
    "    fig = go.Figure()\n",
    "    \n",
    "    # Create fig\n",
    "    fig.add_trace(\n",
    "        go.Scatter(\n",
    "            x=df[date].to_list(),\n",
    "            y=df[value].to_list(),\n",
    "            mode=\"lines+text\",\n",
    "            line=dict(color=\"black\"),\n",
    "        )\n",
    "    )\n",
    "    fig.update_traces(marker_color='black')\n",
    "    fig.update_layout(\n",
    "        title=f\"⭐<b> Stars - {repo_name}</b><br><span style='font-size: 13px;'>Total stars as of today: {last_value}</span>\",\n",
    "        title_font=dict(family=\"Arial\", size=18, color=\"black\"),\n",
    "        plot_bgcolor=\"#ffffff\",\n",
    "        width=1200,\n",
    "        height=800,\n",
    "        paper_bgcolor=\"white\",\n",
    "        xaxis_title=\"Date\",\n",
    "        xaxis_title_font=dict(family=\"Arial\", size=11, color=\"black\"),\n",
    "        yaxis_title='No. of stars',\n",
    "        yaxis_title_font=dict(family=\"Arial\", size=11, color=\"black\"),\n",
    "        margin_pad=10,\n",
    "    )\n",
    "    fig.show()\n",
    "    return fig\n",
    "\n",
    "fig = create_linechart(df_trend, \"STARRED_AT\", \"value_cum\", REPO_URL)"
   ]
  },
  {
   "cell_type": "markdown",
   "id": "e856e144-c91c-484a-9ec5-9a7c709ef71a",
   "metadata": {
    "papermill": {},
    "tags": []
   },
   "source": [
    "## Output"
   ]
  },
  {
   "cell_type": "markdown",
   "id": "c5e4289f-d386-4c0a-932c-d9bc606efd62",
   "metadata": {
    "papermill": {},
    "tags": []
   },
   "source": [
    "### Save and share your csv file"
   ]
  },
  {
   "cell_type": "code",
   "execution_count": null,
   "id": "3f9268b0-bc26-4edf-8e43-01996b8c9254",
   "metadata": {
    "papermill": {},
    "tags": []
   },
   "outputs": [],
   "source": [
    "# Save your dataframe in CSV\n",
    "df_trend.to_csv(csv_output, index=False)\n",
    "\n",
    "# Share output with naas\n",
    "naas.asset.add(csv_output)\n",
    "\n",
    "#-> Uncomment the line below to remove your asset\n",
    "# naas.asset.delete(csv_output)"
   ]
  },
  {
   "cell_type": "markdown",
   "id": "d3b790c0-de40-4c21-8715-ead23117f678",
   "metadata": {
    "papermill": {},
    "tags": []
   },
   "source": [
    "### Save and share your graph in HTML"
   ]
  },
  {
   "cell_type": "code",
   "execution_count": null,
   "id": "921ea2d0-36c8-4ebf-a6cf-3fa65a8e0e88",
   "metadata": {
    "papermill": {},
    "tags": []
   },
   "outputs": [],
   "source": [
    "# Save your graph in HTML\n",
    "fig.write_html(html_output)\n",
    "\n",
    "# Share output with naas\n",
    "naas.asset.add(html_output, params={\"inline\": True})\n",
    "\n",
    "#-> Uncomment the line below to remove your asset\n",
    "# naas.asset.delete(html_output)"
   ]
  },
  {
   "cell_type": "markdown",
   "id": "41ac8b8f-47da-4c16-8131-1b297ec0b7b7",
   "metadata": {
    "papermill": {},
    "tags": []
   },
   "source": [
    "### Save and share your graph in image"
   ]
  },
  {
   "cell_type": "code",
   "execution_count": null,
   "id": "4aca97be-6ed0-486e-a9c0-25280f741f58",
   "metadata": {
    "papermill": {},
    "tags": []
   },
   "outputs": [],
   "source": [
    "# Save your graph in PNG\n",
    "fig.write_image(image_output)\n",
    "\n",
    "# Share output with naas\n",
    "naas.asset.add(image_output, params={\"inline\": True})\n",
    "\n",
    "#-> Uncomment the line below to remove your asset\n",
    "# naas.asset.delete(image_output)"
   ]
  }
 ],
 "metadata": {
  "kernelspec": {
   "display_name": "Python 3",
   "language": "python",
   "name": "python3"
  },
  "language_info": {
   "codemirror_mode": {
    "name": "ipython",
    "version": 3
   },
   "file_extension": ".py",
   "mimetype": "text/x-python",
   "name": "python",
   "nbconvert_exporter": "python",
   "pygments_lexer": "ipython3",
   "version": "3.9.6"
  },
  "naas": {
   "notebook_id": "664bf003-cb88-4fc4-abe2-604d02977fbb",
   "notebook_path": "GitHub/GitHub_Get_stargazers_from_repository.ipynb"
  },
  "papermill": {
   "default_parameters": {},
   "environment_variables": {},
   "parameters": {},
   "version": "2.3.3"
  }
 },
 "nbformat": 4,
 "nbformat_minor": 5
}
