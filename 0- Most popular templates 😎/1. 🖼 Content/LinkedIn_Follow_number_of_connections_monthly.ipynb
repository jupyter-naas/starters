{
 "cells": [
  {
   "cell_type": "markdown",
   "id": "fresh-danish",
   "metadata": {
    "execution": {
     "iopub.execute_input": "2021-01-25T08:00:35.294800Z",
     "iopub.status.busy": "2021-01-25T08:00:35.294557Z",
     "iopub.status.idle": "2021-01-25T08:00:35.307281Z",
     "shell.execute_reply": "2021-01-25T08:00:35.306468Z",
     "shell.execute_reply.started": "2021-01-25T08:00:35.294775Z"
    },
    "papermill": {},
    "tags": []
   },
   "source": [
    "<img width=\"10%\" alt=\"Naas\" src=\"https://landen.imgix.net/jtci2pxwjczr/assets/5ice39g4.png?w=160\"/>"
   ]
  },
  {
   "cell_type": "markdown",
   "id": "federal-pixel",
   "metadata": {
    "papermill": {},
    "tags": []
   },
   "source": [
    "# LinkedIn - Follow number of connections monthly\n",
    "<a href=\"https://app.naas.ai/user-redirect/naas/downloader?url=https://raw.githubusercontent.com/jupyter-naas/awesome-notebooks/master/LinkedIn/LinkedIn_Follow_number_of_connections_monthly.ipynb\" target=\"_parent\"><img src=\"https://naasai-public.s3.eu-west-3.amazonaws.com/open_in_naas.svg\"/></a>"
   ]
  },
  {
   "cell_type": "markdown",
   "id": "be29252a-5f47-44cc-a178-c734ab5f042b",
   "metadata": {
    "papermill": {},
    "tags": []
   },
   "source": [
    "**Tags:** #linkedin #network #connections #naas_drivers #analytics #csv #html #image #content #plotly"
   ]
  },
  {
   "cell_type": "markdown",
   "id": "ce9b6fcd-b307-40ba-b872-668562f81947",
   "metadata": {
    "papermill": {},
    "tags": []
   },
   "source": [
    "**Author:** [Florent Ravenel](https://www.linkedin.com/in/florent-ravenel/)"
   ]
  },
  {
   "cell_type": "markdown",
   "id": "0b24b251-164d-40f3-b2ea-5958394f39a2",
   "metadata": {
    "papermill": {},
    "tags": []
   },
   "source": [
    "This template gives you an overview of your LinkedIn connections over the last 12 months, making it easier to track your efforts in connecting with your LinkedIn network.<br>"
   ]
  },
  {
   "cell_type": "markdown",
   "id": "normal-rochester",
   "metadata": {
    "papermill": {},
    "tags": []
   },
   "source": [
    "## Input"
   ]
  },
  {
   "cell_type": "markdown",
   "id": "import_cell",
   "metadata": {
    "papermill": {},
    "tags": []
   },
   "source": [
    "### Import libraries"
   ]
  },
  {
   "cell_type": "code",
   "execution_count": null,
   "id": "recreational-season",
   "metadata": {
    "papermill": {},
    "tags": []
   },
   "outputs": [],
   "source": [
    "from naas_drivers import linkedin\n",
    "import pandas as pd\n",
    "from datetime import datetime\n",
    "import naas\n",
    "import plotly.graph_objects as go\n",
    "from plotly.subplots import make_subplots"
   ]
  },
  {
   "cell_type": "markdown",
   "id": "wrapped-benjamin",
   "metadata": {
    "papermill": {},
    "tags": []
   },
   "source": [
    "### Setup LinkedIn\n",
    "👉 <a href='https://www.notion.so/LinkedIn-driver-Get-your-cookies-d20a8e7e508e42af8a5b52e33f3dba75'>How to get your cookies ?</a>"
   ]
  },
  {
   "cell_type": "code",
   "execution_count": null,
   "id": "yellow-footage",
   "metadata": {
    "papermill": {},
    "tags": []
   },
   "outputs": [],
   "source": [
    "# LinkedIn cookies\n",
    "LI_AT = \"ENTER_YOUR_COOKIE_HERE\" # EXAMPLE : \"AQFAzQN_PLPR4wAAAXc-FCKmgiMit5FLdY1af3-2\"\n",
    "JSESSIONID = \"ENTER_YOUR_JSESSIONID_HERE\" # EXAMPLE : \"ajax:8379907400220387585\""
   ]
  },
  {
   "cell_type": "markdown",
   "id": "66b77860-a95b-486c-a153-9cab521de365",
   "metadata": {
    "papermill": {},
    "tags": []
   },
   "source": [
    "### Setup Outputs\n",
    "Create CSV to store your posts stats.<br>\n",
    "PS: This CSV could be used in others LinkedIn templates."
   ]
  },
  {
   "cell_type": "code",
   "execution_count": null,
   "id": "63ba2bd2-cc65-4ddf-8d01-42460006a159",
   "metadata": {
    "papermill": {},
    "tags": []
   },
   "outputs": [],
   "source": [
    "# Inputs\n",
    "csv_input = f\"LINKEDIN_CONNECTIONS.csv\"\n",
    "no_rolling_months = 12 # number of rolling months\n",
    "\n",
    "# Outputs\n",
    "name_output = f\"LINKEDIN_CONNECTIONS_MONTHLY_{str(no_rolling_months)}R\"\n",
    "csv_output = f\"{name_output}.csv\"\n",
    "html_output = f\"{name_output}.html\"\n",
    "image_output = f\"{name_output}.png\""
   ]
  },
  {
   "cell_type": "markdown",
   "id": "7b3d02cf-32da-4900-b34d-eb289ba2a429",
   "metadata": {
    "papermill": {},
    "tags": []
   },
   "source": [
    "### Setup Naas scheduler"
   ]
  },
  {
   "cell_type": "code",
   "execution_count": null,
   "id": "b8f3fed0-a29e-4639-a1bb-98a40816eba2",
   "metadata": {
    "papermill": {},
    "tags": []
   },
   "outputs": [],
   "source": [
    "# Schedule your notebook everyday at 9:00 AM\n",
    "naas.scheduler.add(cron=\"0 9 * * *\")\n",
    "\n",
    "# this notebook will run each week until de-scheduled\n",
    "# to de-schedule this notebook, simply run the following command: \n",
    "# naas.scheduler.delete()"
   ]
  },
  {
   "cell_type": "markdown",
   "id": "pediatric-emerald",
   "metadata": {
    "papermill": {},
    "tags": []
   },
   "source": [
    "## Model"
   ]
  },
  {
   "cell_type": "markdown",
   "id": "differential-agenda",
   "metadata": {
    "execution": {
     "iopub.execute_input": "2021-05-15T10:12:55.887028Z",
     "iopub.status.busy": "2021-05-15T10:12:55.886761Z",
     "iopub.status.idle": "2021-05-15T10:12:55.899441Z",
     "shell.execute_reply": "2021-05-15T10:12:55.898476Z",
     "shell.execute_reply.started": "2021-05-15T10:12:55.886964Z"
    },
    "papermill": {},
    "tags": []
   },
   "source": [
    "### Get your connections from CSV\n",
    "All your connections will be stored in CSV."
   ]
  },
  {
   "cell_type": "code",
   "execution_count": null,
   "id": "e6d6e3f0-2935-409d-aecd-d4bb0769225d",
   "metadata": {
    "papermill": {},
    "tags": []
   },
   "outputs": [],
   "source": [
    "def get_csv(file_path):\n",
    "    try:\n",
    "        df = pd.read_csv(file_path)\n",
    "    except FileNotFoundError as e:\n",
    "        # Empty dataframe returned\n",
    "        return pd.DataFrame()\n",
    "    return df"
   ]
  },
  {
   "cell_type": "code",
   "execution_count": null,
   "id": "e99979b7-3396-4662-a783-af90fd4a1cb4",
   "metadata": {
    "papermill": {},
    "tags": []
   },
   "outputs": [],
   "source": [
    "df_connections = get_csv(csv_input)\n",
    "df_connections"
   ]
  },
  {
   "cell_type": "markdown",
   "id": "008432ae-b05e-4069-b4a5-2b1eca0cd624",
   "metadata": {
    "papermill": {},
    "tags": []
   },
   "source": [
    "### Update last connections\n",
    "It will get the last connections posts from LinkedIn API.<br>\n",
    "PS: On the first execution all connections will be retrieved. The execution could take some times depending of the size of your network."
   ]
  },
  {
   "cell_type": "code",
   "execution_count": null,
   "id": "0f8659ae-5cc0-4f05-a1b8-07bec1451a00",
   "metadata": {
    "papermill": {},
    "tags": []
   },
   "outputs": [],
   "source": [
    "def update_connections(df,\n",
    "                       csv_input):\n",
    "    # Init variables\n",
    "    profiles = []\n",
    "    new_connections = 0\n",
    "    \n",
    "    # Get existing connections if not get all connections\n",
    "    if len(df) > 0:\n",
    "        profiles = df[\"PROFILE_ID\"].unique()\n",
    "        \n",
    "        # Get new connections\n",
    "        update = True\n",
    "        \n",
    "        while update:\n",
    "            start = 0\n",
    "            df_new = linkedin.connect(LI_AT, JSESSIONID).network.get_connections(start=start,\n",
    "                                                                                 count=100,\n",
    "                                                                                 limit=100)\n",
    "            df_new[\"DATE_EXTRACT\"] = datetime.now().strftime(\"%Y-%m-%d %H:%M:%S\")\n",
    "            new_profiles = df_new[\"PROFILE_ID\"].unique()\n",
    "            for i, p in enumerate(new_profiles):\n",
    "                if p in profiles:\n",
    "                    update = False\n",
    "                    df_new = df_new[:i]\n",
    "                    print(i, \"new connections\")\n",
    "                    break\n",
    "            start += 100\n",
    "            new_connections += i\n",
    "            df = pd.concat([df_new, df]).drop_duplicates(\"PROFILE_ID\", keep=\"first\").reset_index(drop=True)\n",
    "            df.to_csv(csv_input, index=False)\n",
    "    else:\n",
    "        df = linkedin.connect(LI_AT, JSESSIONID).network.get_connections(limit=-1)\n",
    "        df[\"DATE_EXTRACT\"] = datetime.now().strftime(\"%Y-%m-%d %H:%M:%S\")\n",
    "        \n",
    "    # Concat, save database in CSV and dependency in production\n",
    "    if new_connections > 0:\n",
    "        print(f\"🚀 {new_connections} new connections found in LinkedIn.\")\n",
    "    else:\n",
    "        print(f\"🛑 No new connections found in LinkedIn.\")\n",
    "    df.to_csv(csv_input, index=False)\n",
    "    naas.dependency.add(csv_input)\n",
    "    \n",
    "    print(\"Total LinkedIn connections:\", len(df))\n",
    "    return df.reset_index(drop=True)\n",
    "\n",
    "df_connections = update_connections(df_connections, csv_input)\n",
    "df_connections"
   ]
  },
  {
   "cell_type": "markdown",
   "id": "963ffdc2-eb5c-4b31-9b1e-cf7842e20374",
   "metadata": {
    "papermill": {},
    "tags": []
   },
   "source": [
    "### Get trend dataframe\n",
    "Create dataframe with number of LinkedIn views cumulated by monthly with variation"
   ]
  },
  {
   "cell_type": "code",
   "execution_count": null,
   "id": "68ea26fd-88f4-4703-9c9a-8148d05fa340",
   "metadata": {
    "papermill": {},
    "tags": []
   },
   "outputs": [],
   "source": [
    "def get_trend(df_init,\n",
    "              col_date,\n",
    "              col_value,\n",
    "              label,\n",
    "              months_limit=12):\n",
    "    # Init variable\n",
    "    df = df_init.copy()\n",
    "    \n",
    "    # By week\n",
    "    df[col_date] = pd.to_datetime(df[col_date].str[:-6]).dt.strftime(\"%Y-%m\")\n",
    "    df = df.groupby([col_date], as_index=False).agg({col_value: \"count\"})\n",
    "    \n",
    "    # Calc sum cum\n",
    "    df[\"VALUE\"] = df.agg({col_value: \"cumsum\"})\n",
    "    \n",
    "    # Cleaning\n",
    "    to_rename = {\n",
    "        col_date: \"DATE\",\n",
    "        col_value: \"VARV\"\n",
    "    }\n",
    "    df = df.rename(columns=to_rename)\n",
    "    \n",
    "    # Calc var\n",
    "    df[\"VALUE_COMP\"] = df[\"VALUE\"] - df[\"VARV\"]\n",
    "    df[\"VARP\"] = df[\"VARV\"] / abs(df[\"VALUE_COMP\"])\n",
    "    df[\"LABEL\"] = label\n",
    "    df = df[[\"DATE\", \"LABEL\", \"VALUE\", \"VALUE_COMP\", \"VARV\", \"VARP\"]].reset_index(drop=True)\n",
    "    \n",
    "    # Prep data\n",
    "    df[\"VALUE_D\"] = df[\"VALUE\"].map(\"{:,.0f}\".format).str.replace(\",\", \" \")\n",
    "    df[\"VARV_D\"] = df[\"VARV\"].map(\"{:,.0f}\".format).str.replace(\",\", \" \")\n",
    "    df.loc[df[\"VARV\"] > 0, \"VARV_D\"] = \"+\" + df[\"VARV_D\"]\n",
    "    df[\"VARP_D\"] = df[\"VARP\"].map(\"{:,.0%}\".format).str.replace(\",\", \" \")\n",
    "    df.loc[df[\"VARP\"] > 0, \"VARP_D\"] = \"+\" + df[\"VARP_D\"]\n",
    "    \n",
    "    # Create hovertext\n",
    "    df[\"TEXT\"] = (\"<b>\" + df[\"LABEL\"] + \" as of \" + df[\"DATE\"] + \": \" + df[\"VALUE_D\"] + \"</b> <span style='font-size: 14px;'>(\" + df[\"VARP_D\"] + \" growth)</span><br>\"\n",
    "                  \"<span style='font-size: 14px;'>\" + df[\"VARV_D\"] + \" connections this month</span>\")\n",
    "    for index, row in df.iterrows():\n",
    "        if index > 0:\n",
    "            n = df.loc[df.index[index], \"VARV\"]\n",
    "            n_1 = df.loc[df.index[index-1], \"VARV\"]\n",
    "            df.loc[df.index[index], \"VARV_COMP\"] = n_1\n",
    "            df.loc[df.index[index], \"VARV_VARV\"] = n - n_1\n",
    "            df.loc[df.index[index], \"VARP_VARV\"] = 0\n",
    "            if n_1 > 0:\n",
    "                df.loc[df.index[index], \"VARP_VARV\"] = (n - n_1) / abs(n_1)\n",
    "    return df[-months_limit:].reset_index(drop=True)\n",
    "\n",
    "df_trend = get_trend(df_connections,\n",
    "                     col_date=\"CREATED_AT\",\n",
    "                     col_value=\"PROFILE_ID\",\n",
    "                     label=\"LinkedIn connections\",\n",
    "                     months_limit=no_rolling_months)\n",
    "\n",
    "df_trend.tail(5)"
   ]
  },
  {
   "cell_type": "markdown",
   "id": "af9e19f3-cb92-468b-8327-e5c7a320cbf0",
   "metadata": {
    "papermill": {},
    "tags": []
   },
   "source": [
    "### Create barlinechart using Plotly"
   ]
  },
  {
   "cell_type": "code",
   "execution_count": null,
   "id": "fd3324f3-3e84-49aa-9aea-f0df4e4ebdb0",
   "metadata": {
    "papermill": {},
    "tags": []
   },
   "outputs": [],
   "source": [
    "def create_barlinechart(df,\n",
    "                        label=\"DATE\",\n",
    "                        value=\"VALUE\",\n",
    "                        varv=\"VARV\",\n",
    "                        varp=\"VARP\",\n",
    "                        text=\"TEXT\",\n",
    "                        xaxis_title=\"Months\",\n",
    "                        yaxis_title_r=None,\n",
    "                        yaxis_title_l=None):    \n",
    "    # Create figure with secondary y-axis\n",
    "    fig = make_subplots(specs=[[{\"secondary_y\": True}]])\n",
    "\n",
    "    # Add traces\n",
    "    fig.add_trace(\n",
    "        go.Bar(\n",
    "            x=df[label],\n",
    "            y=df[varv],\n",
    "            hoverinfo=\"text\",\n",
    "            text=df[\"VARV_D\"],\n",
    "            hovertext=df[text],\n",
    "            marker=dict(color=\"#ADD8E6\"),\n",
    "        ),\n",
    "        secondary_y=False,\n",
    "    )\n",
    "    fig.add_trace(\n",
    "        go.Scatter(\n",
    "            x=df[label],\n",
    "            y=df[value],\n",
    "            mode=\"lines\",\n",
    "            hoverinfo=\"text\",\n",
    "            text=df[\"VALUE_D\"],\n",
    "            hovertext=df[text],\n",
    "            line=dict(color=\"#0A66C2\", width=2.5),\n",
    "        ),\n",
    "        secondary_y=True,\n",
    "    )\n",
    "\n",
    "    # Add figure title\n",
    "    fig.update_layout(\n",
    "        title=df.loc[df.index[-1], text],\n",
    "        title_font=dict(family=\"Arial\", size=18, color=\"black\"),\n",
    "        legend=None,\n",
    "        plot_bgcolor=\"#ffffff\",\n",
    "        width=1200,\n",
    "        height=800,\n",
    "        paper_bgcolor=\"white\",\n",
    "        xaxis_title=xaxis_title,\n",
    "        xaxis_title_font=dict(family=\"Arial\", size=10, color=\"black\"),\n",
    "    )\n",
    "\n",
    "    # Set y-axes titles\n",
    "    fig.update_yaxes(\n",
    "        title_text=yaxis_title_r,\n",
    "        title_font=dict(family=\"Arial\", size=10, color=\"black\"),\n",
    "        secondary_y=False\n",
    "    )\n",
    "    fig.update_yaxes(\n",
    "        title_text=yaxis_title_l,\n",
    "        title_font=dict(family=\"Arial\", size=10, color=\"black\"),\n",
    "        secondary_y=True\n",
    "    )\n",
    "    fig.update_traces(showlegend=False)\n",
    "    fig.show()\n",
    "    return fig\n",
    "\n",
    "fig = create_barlinechart(df_trend,\n",
    "                          yaxis_title_r=\"Monthly connections\",\n",
    "                          yaxis_title_l=\"Total connections\")"
   ]
  },
  {
   "cell_type": "markdown",
   "id": "piano-stylus",
   "metadata": {
    "papermill": {},
    "tags": []
   },
   "source": [
    "## Output"
   ]
  },
  {
   "cell_type": "markdown",
   "id": "micro-funds",
   "metadata": {
    "papermill": {},
    "tags": []
   },
   "source": [
    "### Save and share your csv file"
   ]
  },
  {
   "cell_type": "code",
   "execution_count": null,
   "id": "threaded-minister",
   "metadata": {
    "papermill": {},
    "tags": []
   },
   "outputs": [],
   "source": [
    "# Save your dataframe in CSV\n",
    "df_trend.to_csv(csv_output, index=False)\n",
    "\n",
    "# Share output with naas\n",
    "naas.asset.add(csv_output)\n",
    "\n",
    "#-> Uncomment the line below to remove your asset\n",
    "# naas.asset.delete(csv_output)"
   ]
  },
  {
   "cell_type": "markdown",
   "id": "0bbe4f5f-0962-4f32-b2b9-ddd9f2183093",
   "metadata": {
    "papermill": {},
    "tags": []
   },
   "source": [
    "### Save and share your graph in HTML"
   ]
  },
  {
   "cell_type": "code",
   "execution_count": null,
   "id": "a995ab0f-eb82-4dc2-8741-c397255702b3",
   "metadata": {
    "papermill": {},
    "tags": []
   },
   "outputs": [],
   "source": [
    "# Save your graph in HTML\n",
    "fig.write_html(html_output)\n",
    "\n",
    "# Share output with naas\n",
    "naas.asset.add(html_output, params={\"inline\": True})\n",
    "\n",
    "#-> Uncomment the line below to remove your asset\n",
    "# naas.asset.delete(html_output)"
   ]
  },
  {
   "cell_type": "markdown",
   "id": "bccb99e4-b73b-4f50-acc6-aa5c9ad89b65",
   "metadata": {
    "papermill": {},
    "tags": []
   },
   "source": [
    "### Save and share your graph in image"
   ]
  },
  {
   "cell_type": "code",
   "execution_count": null,
   "id": "2133c4ad-f964-49a0-8d36-93bf078d68a6",
   "metadata": {
    "papermill": {},
    "tags": []
   },
   "outputs": [],
   "source": [
    "# Save your graph in PNG\n",
    "fig.write_image(image_output)\n",
    "\n",
    "# Share output with naas\n",
    "naas.asset.add(image_output)\n",
    "\n",
    "#-> Uncomment the line below to remove your asset\n",
    "# naas.asset.delete(image_output)"
   ]
  }
 ],
 "metadata": {
  "kernelspec": {
   "display_name": "Python 3",
   "language": "python",
   "name": "python3"
  },
  "language_info": {
   "codemirror_mode": {
    "name": "ipython",
    "version": 3
   },
   "file_extension": ".py",
   "mimetype": "text/x-python",
   "name": "python",
   "nbconvert_exporter": "python",
   "pygments_lexer": "ipython3",
   "version": "3.9.6"
  },
  "naas": {
   "notebook_id": "c45ccb48-ed43-40a5-bb29-abb054d43357",
   "notebook_path": "LinkedIn/LinkedIn_Get_connections_from_network.ipynb"
  },
  "papermill": {
   "default_parameters": {},
   "environment_variables": {},
   "parameters": {},
   "version": "2.3.3"
  },
  "widgets": {
   "application/vnd.jupyter.widget-state+json": {
    "state": {},
    "version_major": 2,
    "version_minor": 0
   }
  }
 },
 "nbformat": 4,
 "nbformat_minor": 5
}
