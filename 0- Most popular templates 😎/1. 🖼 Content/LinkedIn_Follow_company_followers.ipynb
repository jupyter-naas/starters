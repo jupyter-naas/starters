{
 "cells": [
  {
   "cell_type": "markdown",
   "id": "fresh-danish",
   "metadata": {
    "execution": {
     "iopub.execute_input": "2021-01-25T08:00:35.294800Z",
     "iopub.status.busy": "2021-01-25T08:00:35.294557Z",
     "iopub.status.idle": "2021-01-25T08:00:35.307281Z",
     "shell.execute_reply": "2021-01-25T08:00:35.306468Z",
     "shell.execute_reply.started": "2021-01-25T08:00:35.294775Z"
    },
    "papermill": {},
    "tags": []
   },
   "source": [
    "<img width=\"10%\" alt=\"Naas\" src=\"https://landen.imgix.net/jtci2pxwjczr/assets/5ice39g4.png?w=160\"/>"
   ]
  },
  {
   "cell_type": "markdown",
   "id": "federal-pixel",
   "metadata": {
    "papermill": {},
    "tags": []
   },
   "source": [
    "# LinkedIn - Follow company followers\n",
    "<a href=\"https://app.naas.ai/user-redirect/naas/downloader?url=https://raw.githubusercontent.com/jupyter-naas/awesome-notebooks/master/LinkedIn/LinkedIn_Follow_company_followers.ipynb\" target=\"_parent\"><img src=\"https://naasai-public.s3.eu-west-3.amazonaws.com/open_in_naas.svg\"/></a>"
   ]
  },
  {
   "cell_type": "markdown",
   "id": "be29252a-5f47-44cc-a178-c734ab5f042b",
   "metadata": {
    "papermill": {},
    "tags": []
   },
   "source": [
    "**Tags:** #linkedin #company #followers #naas_drivers #analytics #automation #csv #html #image #content #plotly"
   ]
  },
  {
   "cell_type": "markdown",
   "id": "ce9b6fcd-b307-40ba-b872-668562f81947",
   "metadata": {
    "papermill": {},
    "tags": []
   },
   "source": [
    "**Author:** [Florent Ravenel](https://www.linkedin.com/in/florent-ravenel/)"
   ]
  },
  {
   "cell_type": "markdown",
   "id": "normal-rochester",
   "metadata": {
    "papermill": {},
    "tags": []
   },
   "source": [
    "## Input"
   ]
  },
  {
   "cell_type": "markdown",
   "id": "import_cell",
   "metadata": {
    "papermill": {},
    "tags": []
   },
   "source": [
    "### Import library"
   ]
  },
  {
   "cell_type": "code",
   "execution_count": 1,
   "id": "recreational-season",
   "metadata": {
    "execution": {
     "iopub.execute_input": "2022-04-22T12:47:30.442338Z",
     "iopub.status.busy": "2022-04-22T12:47:30.442110Z",
     "iopub.status.idle": "2022-04-22T12:47:32.646802Z",
     "shell.execute_reply": "2022-04-22T12:47:32.645927Z",
     "shell.execute_reply.started": "2022-04-22T12:47:30.442274Z"
    },
    "papermill": {},
    "tags": []
   },
   "outputs": [],
   "source": [
    "from naas_drivers import linkedin\n",
    "import pandas as pd\n",
    "from datetime import datetime\n",
    "import naas\n",
    "import plotly.graph_objects as go"
   ]
  },
  {
   "cell_type": "markdown",
   "id": "wrapped-benjamin",
   "metadata": {
    "papermill": {},
    "tags": []
   },
   "source": [
    "### Setup LinkedIn\n",
    "👉 <a href='https://www.notion.so/LinkedIn-driver-Get-your-cookies-d20a8e7e508e42af8a5b52e33f3dba75'>How to get your cookies ?</a>"
   ]
  },
  {
   "cell_type": "code",
   "execution_count": 2,
   "id": "yellow-footage",
   "metadata": {
    "execution": {
     "iopub.execute_input": "2022-04-22T12:47:32.648900Z",
     "iopub.status.busy": "2022-04-22T12:47:32.648668Z",
     "iopub.status.idle": "2022-04-22T12:47:32.869190Z",
     "shell.execute_reply": "2022-04-22T12:47:32.868358Z",
     "shell.execute_reply.started": "2022-04-22T12:47:32.648875Z"
    },
    "papermill": {},
    "tags": []
   },
   "outputs": [],
   "source": [
    "# Credentials\n",
    "LI_AT = 'YOUR_COOKIE_LI_AT'  # EXAMPLE AQFAzQN_PLPR4wAAAXc-FCKmgiMit5FLdY1af3-2\n",
    "JSESSIONID = 'YOUR_COOKIE_JSESSIONID'  # EXAMPLE ajax:8379907400220387585\n",
    "\n",
    "# Company URL\n",
    "COMPANY_URL = \"https://www.linkedin.com/company/naas-ai/\""
   ]
  },
  {
   "cell_type": "markdown",
   "id": "66b77860-a95b-486c-a153-9cab521de365",
   "metadata": {
    "papermill": {},
    "tags": []
   },
   "source": [
    "### Setup variables"
   ]
  },
  {
   "cell_type": "code",
   "execution_count": 3,
   "id": "63ba2bd2-cc65-4ddf-8d01-42460006a159",
   "metadata": {
    "execution": {
     "iopub.execute_input": "2022-04-22T12:47:32.871016Z",
     "iopub.status.busy": "2022-04-22T12:47:32.870739Z",
     "iopub.status.idle": "2022-04-22T12:47:32.876533Z",
     "shell.execute_reply": "2022-04-22T12:47:32.875532Z",
     "shell.execute_reply.started": "2022-04-22T12:47:32.870981Z"
    },
    "papermill": {},
    "tags": []
   },
   "outputs": [],
   "source": [
    "# Inputs\n",
    "csv_input = \"LinkedIn_company_followers.csv\"\n",
    "\n",
    "# Outputs\n",
    "company_name = COMPANY_URL.strip().split(\"company/\")[-1].split(\"/\")[0]\n",
    "title = f\"{company_name} : LinkedIn company followers\"\n",
    "name_output = \"LinkedIn_company_followers_trend\"\n",
    "csv_output = f\"{name_output}.csv\"\n",
    "html_output = f\"{name_output}.html\"\n",
    "image_output = f\"{name_output}.png\""
   ]
  },
  {
   "cell_type": "markdown",
   "id": "ec12b890-c407-4147-a877-354c0eab21c2",
   "metadata": {
    "papermill": {},
    "tags": []
   },
   "source": [
    "### Setup Naas"
   ]
  },
  {
   "cell_type": "code",
   "execution_count": 4,
   "id": "26cf5d15-f0a2-4f38-a02a-f53ec20bbdf6",
   "metadata": {
    "execution": {
     "iopub.execute_input": "2022-04-22T12:47:32.878097Z",
     "iopub.status.busy": "2022-04-22T12:47:32.877815Z",
     "iopub.status.idle": "2022-04-22T12:47:33.470776Z",
     "shell.execute_reply": "2022-04-22T12:47:33.469688Z",
     "shell.execute_reply.started": "2022-04-22T12:47:32.878063Z"
    },
    "papermill": {},
    "tags": []
   },
   "outputs": [],
   "source": [
    "# Schedule your notebook everyday at 9:00 AM\n",
    "naas.scheduler.add(cron=\"0 9 * * *\")\n",
    "\n",
    "#-> Uncomment the line below to remove your scheduler\n",
    "# naas.scheduler.delete()"
   ]
  },
  {
   "cell_type": "markdown",
   "id": "pediatric-emerald",
   "metadata": {
    "papermill": {},
    "tags": []
   },
   "source": [
    "## Model"
   ]
  },
  {
   "cell_type": "markdown",
   "id": "differential-agenda",
   "metadata": {
    "execution": {
     "iopub.execute_input": "2021-05-15T10:12:55.887028Z",
     "iopub.status.busy": "2021-05-15T10:12:55.886761Z",
     "iopub.status.idle": "2021-05-15T10:12:55.899441Z",
     "shell.execute_reply": "2021-05-15T10:12:55.898476Z",
     "shell.execute_reply.started": "2021-05-15T10:12:55.886964Z"
    },
    "papermill": {},
    "tags": []
   },
   "source": [
    "### Get followers from company\n",
    "**Available columns :**\n",
    "- FIRSTNAME : First name\n",
    "- LASTNAME : Last name\n",
    "- OCCUPATION : Text below the name in the profile page\n",
    "- PROFILE_PICTURE : Profile picture URL\n",
    "- PROFILE_URL : Profile URL\n",
    "- PROFILE_ID : LinkedIn profile id\n",
    "- PUBLIC_ID : LinkedIn public profile id\n",
    "- FOLLOWED_AT : Date of following company\n",
    "- DISTANCE : Distance between your profile"
   ]
  },
  {
   "cell_type": "code",
   "execution_count": 5,
   "id": "8b27df3a-166a-4f05-836c-aec268a5a9d5",
   "metadata": {
    "execution": {
     "iopub.execute_input": "2022-04-22T12:47:33.472791Z",
     "iopub.status.busy": "2022-04-22T12:47:33.472411Z",
     "iopub.status.idle": "2022-04-22T12:47:33.531108Z",
     "shell.execute_reply": "2022-04-22T12:47:33.530243Z",
     "shell.execute_reply.started": "2022-04-22T12:47:33.472751Z"
    },
    "papermill": {},
    "tags": []
   },
   "outputs": [],
   "source": [
    "# Get company followers from CSV stored in your local (Returns empty if CSV does not exist)\n",
    "def get_company_followers(file_path):\n",
    "    try:\n",
    "        df = pd.read_csv(file_path)\n",
    "    except FileNotFoundError as e:\n",
    "        # Empty dataframe returned\n",
    "        return pd.DataFrame()\n",
    "    return df\n",
    "\n",
    "df_followers = get_company_followers(csv_input)\n",
    "df_followers"
   ]
  },
  {
   "cell_type": "code",
   "execution_count": 6,
   "id": "eb4b0e94-614a-4a6f-b631-811c4a4b4122",
   "metadata": {
    "execution": {
     "iopub.execute_input": "2022-04-22T12:47:33.532702Z",
     "iopub.status.busy": "2022-04-22T12:47:33.532353Z",
     "iopub.status.idle": "2022-04-22T12:47:39.396186Z",
     "shell.execute_reply": "2022-04-22T12:47:39.395320Z",
     "shell.execute_reply.started": "2022-04-22T12:47:33.532676Z"
    },
    "papermill": {},
    "tags": []
   },
   "outputs": [],
   "source": [
    "def get_new_followers(df, input_path):\n",
    "    # Get all profiles\n",
    "    profiles = []\n",
    "    if len(df) > 0:\n",
    "        profiles = df.PROFILE_ID.unique()\n",
    "    start = 0\n",
    "    while True:\n",
    "        tmp_df = linkedin.connect(LI_AT, JSESSIONID).company.get_followers(COMPANY_URL,\n",
    "                                                                           start=start,\n",
    "                                                                           limit=1,\n",
    "                                                                           sleep=False)\n",
    "        profile_id = None\n",
    "        if \"PROFILE_ID\" in tmp_df.columns:\n",
    "            profile_id = tmp_df.loc[0, \"PROFILE_ID\"]\n",
    "        if profile_id in profiles:\n",
    "            break\n",
    "        else:\n",
    "            df = pd.concat([tmp_df, df])\n",
    "            df.to_csv(input_path, index=False)\n",
    "            start += 1\n",
    "    return df.reset_index(drop=True)\n",
    "\n",
    "merged_df = get_new_followers(df_followers, csv_input)\n",
    "merged_df"
   ]
  },
  {
   "cell_type": "markdown",
   "id": "963ffdc2-eb5c-4b31-9b1e-cf7842e20374",
   "metadata": {
    "papermill": {},
    "tags": []
   },
   "source": [
    "### Prep trend data"
   ]
  },
  {
   "cell_type": "code",
   "execution_count": 7,
   "id": "68ea26fd-88f4-4703-9c9a-8148d05fa340",
   "metadata": {
    "execution": {
     "iopub.execute_input": "2022-04-22T12:47:39.397423Z",
     "iopub.status.busy": "2022-04-22T12:47:39.397203Z",
     "iopub.status.idle": "2022-04-22T12:47:39.449704Z",
     "shell.execute_reply": "2022-04-22T12:47:39.448939Z",
     "shell.execute_reply.started": "2022-04-22T12:47:39.397389Z"
    },
    "papermill": {},
    "tags": []
   },
   "outputs": [],
   "source": [
    "def get_trend(df,\n",
    "              date_col_name=None,\n",
    "              value_col_name=None,\n",
    "              date_order='asc'):\n",
    "    \n",
    "    # Format date\n",
    "    df[date_col_name] = pd.to_datetime(df[date_col_name]).dt.strftime(\"%Y-%m-%d\")\n",
    "    df = df.groupby(date_col_name, as_index=False).agg({value_col_name: \"count\"})\n",
    "    d = datetime.now().date()\n",
    "    d2 = df.loc[df.index[0], date_col_name]\n",
    "    idx = pd.date_range(d2, d, freq=\"D\")\n",
    "    \n",
    "    df.set_index(date_col_name, drop=True, inplace=True)\n",
    "    df.index = pd.DatetimeIndex(df.index)\n",
    "    df = df.reindex(idx, fill_value=0)\n",
    "    df[date_col_name] = pd.DatetimeIndex(df.index)\n",
    "    \n",
    "    # Calc sum cum\n",
    "    df[\"VALUE_CUM\"] = df.agg({value_col_name: \"cumsum\"})\n",
    "    \n",
    "    df[\"TEXT\"] = (df['VALUE_CUM'].astype(str) + \" as of \" + df[date_col_name].dt.strftime(\"%Y-%m-%d\") +\n",
    "                  \" (+\" + df[value_col_name].astype(str) + \" vs yesterday)\")\n",
    "    return df.reset_index(drop=True)\n",
    "\n",
    "df_trend = get_trend(merged_df, \"FOLLOWED_AT\", \"PROFILE_ID\")\n",
    "df_trend"
   ]
  },
  {
   "cell_type": "markdown",
   "id": "af9e19f3-cb92-468b-8327-e5c7a320cbf0",
   "metadata": {
    "papermill": {},
    "tags": []
   },
   "source": [
    "### Create linechart"
   ]
  },
  {
   "cell_type": "code",
   "execution_count": 8,
   "id": "fd3324f3-3e84-49aa-9aea-f0df4e4ebdb0",
   "metadata": {
    "execution": {
     "iopub.execute_input": "2022-04-22T12:47:39.451933Z",
     "iopub.status.busy": "2022-04-22T12:47:39.451705Z",
     "iopub.status.idle": "2022-04-22T12:47:39.651983Z",
     "shell.execute_reply": "2022-04-22T12:47:39.651146Z",
     "shell.execute_reply.started": "2022-04-22T12:47:39.451906Z"
    },
    "papermill": {},
    "tags": []
   },
   "outputs": [],
   "source": [
    "def create_linechart(df, label, value, text, title):\n",
    "    # Init\n",
    "    fig = go.Figure()\n",
    "    \n",
    "    # Create fig\n",
    "    fig.add_trace(\n",
    "        go.Scatter(\n",
    "            x=df[label],\n",
    "            y=df[value],\n",
    "            text=df[text],\n",
    "            hoverinfo=\"text\",\n",
    "            mode=\"lines\",\n",
    "            stackgroup=\"one\"\n",
    "        )\n",
    "    )\n",
    "    fig.update_layout(\n",
    "        title=f\"<b>{title}</b><br><span style='font-size: 13px;'>{df.loc[df.index[-1], 'TEXT']}</span>\",\n",
    "        title_font=dict(family=\"Arial\", size=18, color=\"black\"),\n",
    "        plot_bgcolor=\"#ffffff\",\n",
    "        width=1200,\n",
    "        height=800,\n",
    "        paper_bgcolor=\"white\",\n",
    "        margin_pad=10,\n",
    "    )\n",
    "    fig.show()\n",
    "    return fig\n",
    "\n",
    "fig = create_linechart(df_trend, \"FOLLOWED_AT\", \"VALUE_CUM\", \"TEXT\", title)"
   ]
  },
  {
   "cell_type": "markdown",
   "id": "piano-stylus",
   "metadata": {
    "papermill": {},
    "tags": []
   },
   "source": [
    "## Output"
   ]
  },
  {
   "cell_type": "markdown",
   "id": "micro-funds",
   "metadata": {
    "papermill": {},
    "tags": []
   },
   "source": [
    "### Save outputs"
   ]
  },
  {
   "cell_type": "code",
   "execution_count": 9,
   "id": "threaded-minister",
   "metadata": {
    "execution": {
     "iopub.execute_input": "2022-04-22T12:47:39.653370Z",
     "iopub.status.busy": "2022-04-22T12:47:39.653161Z",
     "iopub.status.idle": "2022-04-22T12:47:41.201612Z",
     "shell.execute_reply": "2022-04-22T12:47:41.200593Z",
     "shell.execute_reply.started": "2022-04-22T12:47:39.653344Z"
    },
    "papermill": {},
    "tags": []
   },
   "outputs": [],
   "source": [
    "df_trend.to_csv(csv_output, index=False)\n",
    "fig.write_html(html_output)\n",
    "fig.write_image(image_output)"
   ]
  },
  {
   "cell_type": "markdown",
   "id": "0bbe4f5f-0962-4f32-b2b9-ddd9f2183093",
   "metadata": {
    "papermill": {},
    "tags": []
   },
   "source": [
    "### Save and share CSV with naas"
   ]
  },
  {
   "cell_type": "code",
   "execution_count": 10,
   "id": "fa3fec29-f8f8-450b-a273-5f388275aa73",
   "metadata": {
    "execution": {
     "iopub.execute_input": "2022-04-22T12:47:41.203249Z",
     "iopub.status.busy": "2022-04-22T12:47:41.202957Z",
     "iopub.status.idle": "2022-04-22T12:47:41.712404Z",
     "shell.execute_reply": "2022-04-22T12:47:41.711510Z",
     "shell.execute_reply.started": "2022-04-22T12:47:41.203208Z"
    },
    "papermill": {},
    "tags": []
   },
   "outputs": [],
   "source": [
    "naas.asset.add(csv_output)\n",
    "\n",
    "#-> to remove your outputs, uncomment the lines and execute the cell\n",
    "# naas.asset.delete(csv_output)"
   ]
  },
  {
   "cell_type": "markdown",
   "id": "bd5d372c-9130-47ca-a3fc-81ffd91d27ef",
   "metadata": {
    "papermill": {},
    "tags": []
   },
   "source": [
    "### Save and share HTML with naas"
   ]
  },
  {
   "cell_type": "code",
   "execution_count": 11,
   "id": "a995ab0f-eb82-4dc2-8741-c397255702b3",
   "metadata": {
    "execution": {
     "iopub.execute_input": "2022-04-22T12:47:41.713981Z",
     "iopub.status.busy": "2022-04-22T12:47:41.713661Z",
     "iopub.status.idle": "2022-04-22T12:47:42.313458Z",
     "shell.execute_reply": "2022-04-22T12:47:42.312386Z",
     "shell.execute_reply.started": "2022-04-22T12:47:41.713945Z"
    },
    "papermill": {},
    "tags": []
   },
   "outputs": [],
   "source": [
    "naas.asset.add(html_output, params={\"inline\": True})\n",
    "\n",
    "#-> to remove your outputs, uncomment the lines and execute the cell\n",
    "# naas.asset.delete(html_output)"
   ]
  },
  {
   "cell_type": "markdown",
   "id": "17ad675c-0ac6-4e06-9000-3d714f446376",
   "metadata": {
    "papermill": {},
    "tags": []
   },
   "source": [
    "### Save and share image with naas"
   ]
  },
  {
   "cell_type": "code",
   "execution_count": 12,
   "id": "db156a34-02b4-4887-bb1a-a1458cc2be14",
   "metadata": {
    "execution": {
     "iopub.execute_input": "2022-04-22T12:47:42.314976Z",
     "iopub.status.busy": "2022-04-22T12:47:42.314715Z",
     "iopub.status.idle": "2022-04-22T12:47:42.736289Z",
     "shell.execute_reply": "2022-04-22T12:47:42.735352Z",
     "shell.execute_reply.started": "2022-04-22T12:47:42.314941Z"
    },
    "papermill": {},
    "tags": []
   },
   "outputs": [],
   "source": [
    "naas.asset.add(image_output, params={\"inline\": True})\n",
    "\n",
    "#-> to remove your outputs, uncomment the lines and execute the cell\n",
    "# naas.asset.delete(image_output)"
   ]
  }
 ],
 "metadata": {
  "kernelspec": {
   "display_name": "Python 3",
   "language": "python",
   "name": "python3"
  },
  "language_info": {
   "codemirror_mode": {
    "name": "ipython",
    "version": 3
   },
   "file_extension": ".py",
   "mimetype": "text/x-python",
   "name": "python",
   "nbconvert_exporter": "python",
   "pygments_lexer": "ipython3",
   "version": "3.9.6"
  },
  "naas": {
   "notebook_id": "c45ccb48-ed43-40a5-bb29-abb054d43357",
   "notebook_path": "LinkedIn/LinkedIn_Get_connections_from_network.ipynb"
  },
  "papermill": {
   "default_parameters": {},
   "environment_variables": {},
   "parameters": {},
   "version": "2.3.3"
  },
  "widgets": {
   "application/vnd.jupyter.widget-state+json": {
    "state": {},
    "version_major": 2,
    "version_minor": 0
   }
  }
 },
 "nbformat": 4,
 "nbformat_minor": 5
}
