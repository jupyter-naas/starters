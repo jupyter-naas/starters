{
 "cells": [
  {
   "cell_type": "markdown",
   "id": "a6fcf7c9",
   "metadata": {
    "papermill": {},
    "tags": []
   },
   "source": [
    "<img width=\"10%\" alt=\"Naas\" src=\"https://landen.imgix.net/jtci2pxwjczr/assets/5ice39g4.png?w=160\"/>\n"
   ]
  },
  {
   "cell_type": "markdown",
   "id": "7217870e",
   "metadata": {
    "papermill": {},
    "tags": []
   },
   "source": [
    "# LinkedIn - Linkedin Follow number of content published\n",
    "<a href=\"https://app.naas.ai/user-redirect/naas/downloader?url=https://raw.githubusercontent.com/jupyter-naas/awesome-notebooks/master/LinkedIn/Linkedin_Follow_number_of_content_published.ipynb\" target=\"_parent\"><img src=\"https://naasai-public.s3.eu-west-3.amazonaws.com/open_in_naas.svg\"/></a>"
   ]
  },
  {
   "cell_type": "markdown",
   "id": "c8756b96",
   "metadata": {
    "papermill": {},
    "tags": []
   },
   "source": [
    "**Tags:** #linkedin #html #plotly #csv #image #content #analytics #automation"
   ]
  },
  {
   "cell_type": "markdown",
   "id": "520d91fd",
   "metadata": {
    "papermill": {},
    "tags": []
   },
   "source": [
    "**Author:** [Sanjeet Attili](https://www.linkedin.com/in/sanjeet-attili-760bab190/)"
   ]
  },
  {
   "cell_type": "markdown",
   "id": "50f12968-23e2-4039-aa47-99f4168e63ff",
   "metadata": {
    "papermill": {},
    "tags": []
   },
   "source": [
    "With this notebook, you can see the evolution the number of content published on LinkedIn on your personal profile, cumulated, daily since first activity."
   ]
  },
  {
   "cell_type": "markdown",
   "id": "227b8ffb",
   "metadata": {
    "papermill": {},
    "tags": []
   },
   "source": [
    "## Input"
   ]
  },
  {
   "cell_type": "markdown",
   "id": "fb2817fb",
   "metadata": {
    "papermill": {},
    "tags": []
   },
   "source": [
    "### Import libraries"
   ]
  },
  {
   "cell_type": "code",
   "execution_count": null,
   "id": "423e1f0b",
   "metadata": {
    "papermill": {},
    "tags": []
   },
   "outputs": [],
   "source": [
    "from naas_drivers import linkedin\n",
    "import naas\n",
    "import pandas as pd\n",
    "from datetime import datetime\n",
    "import plotly.graph_objects as go"
   ]
  },
  {
   "cell_type": "markdown",
   "id": "eac9b99c",
   "metadata": {
    "papermill": {},
    "tags": []
   },
   "source": [
    "### Setup LinkedIn\n",
    "- [Get your cookies](/d20a8e7e508e42af8a5b52e33f3dba75)"
   ]
  },
  {
   "cell_type": "code",
   "execution_count": null,
   "id": "43658990",
   "metadata": {
    "papermill": {},
    "tags": []
   },
   "outputs": [],
   "source": [
    "# Lindekin cookies\n",
    "LI_AT = \"AQEDARCNSioDe6wmAAABfqF-HR4AAAF-xYqhHlYAtSu7EZZEpFer0UZF-GLuz2DNSz4asOOyCRxPGFjenv37irMObYYgxxxxxxx\"\n",
    "JSESSIONID = \"ajax:12XXXXXXXXXXXXXXXXX\"\n",
    "\n",
    "# Enter profile URL\n",
    "PROFILE_URL = \"PROFILE_URL\""
   ]
  },
  {
   "cell_type": "markdown",
   "id": "024797b3",
   "metadata": {
    "papermill": {},
    "tags": []
   },
   "source": [
    "### Setup Outputs"
   ]
  },
  {
   "cell_type": "code",
   "execution_count": null,
   "id": "17dcc289",
   "metadata": {
    "papermill": {},
    "tags": []
   },
   "outputs": [],
   "source": [
    "# Outputs\n",
    "name_output = \"LinkedIn_Total_content_published\"\n",
    "csv_output = f\"{name_output}.csv\"\n",
    "html_output = f\"{name_output}.html\"\n",
    "image_output = f\"{name_output}.png\""
   ]
  },
  {
   "cell_type": "markdown",
   "id": "77361ce8",
   "metadata": {
    "papermill": {},
    "tags": []
   },
   "source": [
    "### Setup Naas"
   ]
  },
  {
   "cell_type": "code",
   "execution_count": null,
   "id": "3fe47a43",
   "metadata": {
    "papermill": {},
    "tags": []
   },
   "outputs": [],
   "source": [
    "# Schedule your notebook everyday at 9:00 AM\n",
    "naas.scheduler.add(cron=\"0 9 * * *\")\n",
    "\n",
    "#-> Uncomment the line below to remove your scheduler\n",
    "# naas.scheduler.delete()"
   ]
  },
  {
   "cell_type": "markdown",
   "id": "1bb8c4cd",
   "metadata": {
    "papermill": {},
    "tags": []
   },
   "source": [
    "## Model"
   ]
  },
  {
   "cell_type": "markdown",
   "id": "f3a785f3",
   "metadata": {
    "papermill": {},
    "tags": []
   },
   "source": [
    "### Get posts feed"
   ]
  },
  {
   "cell_type": "code",
   "execution_count": null,
   "id": "e46a0b5d",
   "metadata": {
    "papermill": {},
    "tags": []
   },
   "outputs": [],
   "source": [
    "# Get posts feed from CSV stored in your local (Returns empty if CSV does not exist)\n",
    "def get_past_feeds(csv_output):\n",
    "    try:\n",
    "        df = pd.read_csv(csv_output)\n",
    "    except FileNotFoundError as e:\n",
    "        # Empty dataframe returned\n",
    "        return pd.DataFrame()\n",
    "    return df\n",
    "\n",
    "df_posts_feed = get_past_feeds(csv_output)\n",
    "df_posts_feed"
   ]
  },
  {
   "cell_type": "markdown",
   "id": "cc1b8635",
   "metadata": {
    "papermill": {},
    "tags": []
   },
   "source": [
    "### Get new posts"
   ]
  },
  {
   "cell_type": "code",
   "execution_count": null,
   "id": "b68eed6b",
   "metadata": {
    "papermill": {},
    "tags": []
   },
   "outputs": [],
   "source": [
    "def get_posts(df):\n",
    "    # Get last post URL in dataframe\n",
    "    if len(df) == 0:\n",
    "        last_post_url = None\n",
    "    else:\n",
    "        last_post_url = df.POST_URL[0]\n",
    "    # Get new posts since last url (this part is important to optimize script performance)\n",
    "    until = {}\n",
    "    if last_post_url:\n",
    "        until = {\"POST_URL\": last_post_url}\n",
    "\n",
    "    df_posts_feed = linkedin.connect(LI_AT, JSESSIONID).profile.get_posts_feed(PROFILE_URL, until=until, limit=-1)\n",
    "\n",
    "    # Merge dataframe\n",
    "    merge_df = df.append(df_posts_feed, ignore_index=False)\n",
    "    merge_df.sort_values(by = 'PUBLISHED_DATE', ascending = False, inplace=True)\n",
    "    \n",
    "    # Keeps/updates the latest views count value for that day\n",
    "    merge_df.drop_duplicates('POST_URL', keep = 'last', inplace=True)\n",
    "    \n",
    "    return merge_df\n",
    "\n",
    "merged_df = get_posts(df_posts_feed)\n",
    "merged_df"
   ]
  },
  {
   "cell_type": "markdown",
   "id": "833fdb3f",
   "metadata": {
    "papermill": {},
    "tags": []
   },
   "source": [
    "### Get trend"
   ]
  },
  {
   "cell_type": "code",
   "execution_count": null,
   "id": "c074f8e3",
   "metadata": {
    "papermill": {},
    "tags": []
   },
   "outputs": [],
   "source": [
    "# Create dataframe with number of LinkedIn views cumulated by date with daily variation\n",
    "# -> Empty date must be fullfiled with last value\n",
    "\n",
    "def get_trend(posts_df):\n",
    "    \n",
    "    # taking activity_id instead of content_id as the\n",
    "    # content_id seems to be None for some type of content.\n",
    "    \n",
    "    df = posts_df.copy()\n",
    "    date_col_name='PUBLISHED_DATE'\n",
    "    value_col_name=\"ACTIVITY_ID\"\n",
    "    date_order='asc'\n",
    "    \n",
    "    # Format date\n",
    "    for idx, item in enumerate(df['PUBLISHED_DATE']):\n",
    "        df.loc[idx, 'PUBLISHED_DATE'] = item.split('+')[0]\n",
    "    \n",
    "    df[date_col_name] = pd.to_datetime(df[date_col_name]).dt.strftime(\"%Y-%m-%d\")\n",
    "    df = df.groupby(date_col_name, as_index=False).agg({value_col_name: \"count\"})\n",
    "    d = datetime.now().date()\n",
    "    d2 = df.loc[df.index[0], date_col_name]\n",
    "    idx = pd.date_range(d2, d, freq = \"D\")\n",
    "    \n",
    "    df.set_index(date_col_name, drop=True, inplace=True)\n",
    "    df.index = pd.DatetimeIndex(df.index)\n",
    "    df = df.reindex(idx, fill_value=0)\n",
    "    df[date_col_name] = pd.DatetimeIndex(df.index)\n",
    "    \n",
    "    # Calc sum cum\n",
    "    df[\"value_cum\"] = df.agg({value_col_name: \"cumsum\"})\n",
    "    df.drop(columns='ACTIVITY_ID', inplace=True)\n",
    "    return df.reset_index(drop=True)\n",
    "\n",
    "df_trend = get_trend(merged_df)\n",
    "df_trend"
   ]
  },
  {
   "cell_type": "markdown",
   "id": "942c681d",
   "metadata": {
    "papermill": {},
    "tags": []
   },
   "source": [
    "## Output\n"
   ]
  },
  {
   "cell_type": "markdown",
   "id": "804c9127",
   "metadata": {
    "papermill": {},
    "tags": []
   },
   "source": [
    "### Display linechart"
   ]
  },
  {
   "cell_type": "code",
   "execution_count": null,
   "id": "f740a80d",
   "metadata": {
    "papermill": {},
    "tags": []
   },
   "outputs": [],
   "source": [
    "def create_linechart(df, label, value, title):\n",
    "    # Init\n",
    "    fig = go.Figure()\n",
    "    \n",
    "    # Create fig\n",
    "    fig.add_trace(\n",
    "        go.Scatter(\n",
    "            x=df[label],\n",
    "            y=df[value],\n",
    "            mode=\"lines\",\n",
    "        )\n",
    "    )\n",
    "    fig.update_traces(marker_color='black')\n",
    "    fig.update_layout(\n",
    "        title=title,\n",
    "        title_font=dict(family=\"Arial\", size=18, color=\"black\"),\n",
    "        plot_bgcolor=\"#ffffff\",\n",
    "        width=1200,\n",
    "        height=800,\n",
    "        paper_bgcolor=\"white\",\n",
    "        margin_pad=10,\n",
    "    )\n",
    "    fig.show()\n",
    "    return fig\n",
    "\n",
    "fig = create_linechart(df_trend, label=\"PUBLISHED_DATE\", value=\"value_cum\", title='Total Content Published')"
   ]
  },
  {
   "cell_type": "markdown",
   "id": "b4bb71da",
   "metadata": {
    "papermill": {},
    "tags": []
   },
   "source": [
    "### Save and share your csv file"
   ]
  },
  {
   "cell_type": "code",
   "execution_count": null,
   "id": "d43c7763",
   "metadata": {
    "papermill": {},
    "tags": []
   },
   "outputs": [],
   "source": [
    "# Save your dataframe in CSV\n",
    "merged_df.to_csv(csv_output, index=False)\n",
    "\n",
    "# Share output with naas\n",
    "naas.asset.add(csv_output)\n",
    "\n",
    "#-> Uncomment the line below to remove your asset\n",
    "# naas.asset.delete(csv_output)"
   ]
  },
  {
   "cell_type": "markdown",
   "id": "2f26c093",
   "metadata": {
    "papermill": {},
    "tags": []
   },
   "source": [
    "### Save and share your graph in HTML"
   ]
  },
  {
   "cell_type": "code",
   "execution_count": null,
   "id": "6e0caceb",
   "metadata": {
    "papermill": {},
    "tags": []
   },
   "outputs": [],
   "source": [
    "# Save your graph in HTML\n",
    "fig.write_html(html_output)\n",
    "\n",
    "# Share output with naas\n",
    "naas.asset.add(html_output, params={\"inline\": True})\n",
    "\n",
    "#-> Uncomment the line below to remove your asset\n",
    "# naas.asset.delete(html_output)"
   ]
  },
  {
   "cell_type": "markdown",
   "id": "e327122e",
   "metadata": {
    "papermill": {},
    "tags": []
   },
   "source": [
    "### Save and share your graph in image"
   ]
  },
  {
   "cell_type": "code",
   "execution_count": null,
   "id": "124b1576",
   "metadata": {
    "papermill": {},
    "tags": []
   },
   "outputs": [],
   "source": [
    "# Save your graph in PNG\n",
    "fig.write_image(image_output)\n",
    "\n",
    "# Share output with naas\n",
    "naas.asset.add(image_output, params={\"inline\": True})\n",
    "\n",
    "#-> Uncomment the line below to remove your asset\n",
    "# naas.asset.delete(image_output)"
   ]
  },
  {
   "cell_type": "code",
   "execution_count": null,
   "id": "77ee31fc-475c-48ac-8b9f-1d91577228e7",
   "metadata": {
    "papermill": {},
    "tags": []
   },
   "outputs": [],
   "source": []
  }
 ],
 "metadata": {
  "kernelspec": {
   "display_name": "Python 3",
   "language": "python",
   "name": "python3"
  },
  "language_info": {
   "codemirror_mode": {
    "name": "ipython",
    "version": 3
   },
   "file_extension": ".py",
   "mimetype": "text/x-python",
   "name": "python",
   "nbconvert_exporter": "python",
   "pygments_lexer": "ipython3",
   "version": "3.9.6"
  },
  "papermill": {
   "default_parameters": {},
   "environment_variables": {},
   "parameters": {},
   "version": "2.3.4"
  }
 },
 "nbformat": 4,
 "nbformat_minor": 5
}
