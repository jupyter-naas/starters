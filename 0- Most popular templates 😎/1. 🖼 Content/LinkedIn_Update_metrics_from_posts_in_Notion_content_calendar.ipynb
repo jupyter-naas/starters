{
 "cells": [
  {
   "cell_type": "markdown",
   "id": "9123d12a",
   "metadata": {
    "papermill": {},
    "tags": []
   },
   "source": [
    "<img width=\"10%\" alt=\"Naas\" src=\"https://landen.imgix.net/jtci2pxwjczr/assets/5ice39g4.png?w=160\"/>"
   ]
  },
  {
   "cell_type": "markdown",
   "id": "08335725",
   "metadata": {
    "papermill": {},
    "tags": []
   },
   "source": [
    "# LinkedIn - Update metrics from posts in Notion content calendar\n",
    "<a href=\"https://app.naas.ai/user-redirect/naas/downloader?url=https://raw.githubusercontent.com/jupyter-naas/awesome-notebooks/master/LinkedIn/LinkedIn_Update_metrics_from_posts_in_Notion_content_calendar.ipynb\" target=\"_parent\"><img src=\"https://naasai-public.s3.eu-west-3.amazonaws.com/open_in_naas.svg\"/></a>"
   ]
  },
  {
   "cell_type": "markdown",
   "id": "e717bb38",
   "metadata": {
    "papermill": {},
    "tags": []
   },
   "source": [
    "**Tags:** #linkedin #profile #post #feed #naas_drivers #notion #automation #analytics #naas #scheduler #content #plotly #html #csv #image"
   ]
  },
  {
   "cell_type": "markdown",
   "id": "fece88f2-a877-433e-b864-51730b0a17eb",
   "metadata": {
    "papermill": {},
    "tags": []
   },
   "source": [
    "**Author:** [Florent Ravenel](https://www.linkedin.com/in/florent-ravenel/)"
   ]
  },
  {
   "cell_type": "markdown",
   "id": "c1caa0c3-851c-4873-9bdf-c561c28e3f4c",
   "metadata": {
    "papermill": {},
    "tags": []
   },
   "source": [
    "With this notebook, you can update your content calendar in Notion with all metrics from any profile posts in LinkedIn:\n",
    "- **Publication date:** When the post has been published.\n",
    "- **Name:** First sentence of post.\n",
    "- **Author:** Name of post author.\n",
    "- **Content type:** Content type of post (Image, Text, Video, Article, Polls).\n",
    "- **Platform:** \"LinkedIn\" by default.\n",
    "- **Status:** \"Published ✨\" by default.\n",
    "- **Engagment score:** Ratio between views and likes/comments (It will be at 0 if you are not the author of the post)\n",
    "- **Views:** Amount of people who saw the content (Only available on your profile)\n",
    "- **Likes:** Amount of people who pushed the like (or other reaction) button\n",
    "- **Comments:** Amount of people who wrote something in the comment section.\n",
    "- **Shares:** Amount of people who shared the content.\n",
    "- **Profile mention:** People mentioned in post.  \n",
    "- **Company mention:** Companies mentioned in post.\n",
    "- **Nb Tags:** Number of hashtags.\n",
    "- **Tags:** List of the hashtags.  \n",
    "- **Nb emojis:** Number of emojis.\n",
    "- **Emojis:** List of emojis.\n",
    "- **Nb links:** Number of links.\n",
    "- **Links:** Links used in posts.\n",
    "- **Nb characters:** Number of characters in post.  \n",
    "- **Content URL:** URL of the content \n",
    "- **Last refresh:** Date of last refresh"
   ]
  },
  {
   "cell_type": "markdown",
   "id": "40310297",
   "metadata": {
    "papermill": {},
    "tags": []
   },
   "source": [
    "## Input"
   ]
  },
  {
   "cell_type": "markdown",
   "id": "af373ec1",
   "metadata": {
    "papermill": {},
    "tags": []
   },
   "source": [
    "### Import libraries\n",
    "Here below is the list of tools needed."
   ]
  },
  {
   "cell_type": "code",
   "execution_count": null,
   "id": "92a75b4f",
   "metadata": {
    "papermill": {},
    "tags": []
   },
   "outputs": [],
   "source": [
    "import naas\n",
    "from naas_drivers import linkedin, notion, emailbuilder\n",
    "from datetime import datetime\n",
    "import pandas as pd\n",
    "import plotly.express as px\n",
    "import os\n",
    "import requests"
   ]
  },
  {
   "cell_type": "markdown",
   "id": "b32c35f7",
   "metadata": {
    "papermill": {},
    "tags": []
   },
   "source": [
    "### Setup LinkedIn\n",
    "<a href='https://www.notion.so/LinkedIn-driver-Get-your-cookies-d20a8e7e508e42af8a5b52e33f3dba75'>How to get your cookies ?</a>"
   ]
  },
  {
   "cell_type": "code",
   "execution_count": null,
   "id": "e33c2341",
   "metadata": {
    "papermill": {},
    "tags": []
   },
   "outputs": [],
   "source": [
    "# LinkedIn cookies\n",
    "LI_AT = \"ENTER_YOUR_COOKIE_HERE\" # EXAMPLE : \"AQFAzQN_PLPR4wAAAXc-FCKmgiMit5FLdY1af3-2\"\n",
    "JSESSIONID = \"ENTER_YOUR_JSESSIONID_HERE\" # EXAMPLE : \"ajax:8379907400220387585\"\n",
    "\n",
    "# LinkedIn profile url\n",
    "PROFILE_URL = \"ENTER_YOUR_LINKEDIN_PROFILE_HERE\" # EXAMPLE \"https://www.linkedin.com/in/myprofile/\"\n",
    "\n",
    "# The first execution all posts will be retrieved.\n",
    "# Then, you can use the parameter below to setup the number of posts you want to retrieved from LinkedIn API everytime this notebook is run.\n",
    "NO_POSTS_RETRIEVED = 10"
   ]
  },
  {
   "cell_type": "markdown",
   "id": "63859bf1",
   "metadata": {
    "papermill": {},
    "tags": []
   },
   "source": [
    "### Setup Notion\n",
    "- Configure naas integration\n",
    "- Duplicate <a href=\"https://naas-official.notion.site/724fec443b134f288b356001bb1543bd?v=c82a8005a5bf4862b7c967a9689aa799\">content calendar template</a>\n",
    "- Share integration on the template"
   ]
  },
  {
   "cell_type": "code",
   "execution_count": null,
   "id": "fcce1bd1",
   "metadata": {
    "papermill": {},
    "tags": []
   },
   "outputs": [],
   "source": [
    "# Notion parameters\n",
    "NOTION_TOKEN = \"ENTER_YOUR_NOTION_TOKEN_HERE\" # EXAMPLE : \"secret_eaLtxxxxxxxzuBPQvParsFxxxxxxx\"\n",
    "NOTION_DATABASE_URL = \"ENTER_YOUR_NOTION_DATABASE_URL_HERE\" # EXAMPLE : \"https://www.notion.so/naas-official/fc64df2aae7f4796963d14edec816xxxxx\""
   ]
  },
  {
   "cell_type": "markdown",
   "id": "88626b71-cb24-4cc3-a3d9-5e0262bca8fa",
   "metadata": {
    "papermill": {},
    "tags": []
   },
   "source": [
    "### Setup Outputs\n",
    "Create CSV to store your posts stats.<br>\n",
    "PS: This CSV could be used in others LinkedIn templates."
   ]
  },
  {
   "cell_type": "code",
   "execution_count": null,
   "id": "7d7d79e9-61e3-4a2e-9f4a-1c6c17c627a2",
   "metadata": {
    "papermill": {},
    "tags": []
   },
   "outputs": [],
   "source": [
    "# Custom path of your CSV with the profile URL\n",
    "profile_id = PROFILE_URL.split(\"https://www.linkedin.com/in/\")[-1].split(\"/\")[0]\n",
    "csv_output = f\"LINKEDIN_POSTS_{profile_id}.csv\""
   ]
  },
  {
   "cell_type": "markdown",
   "id": "71f5f577",
   "metadata": {
    "papermill": {},
    "tags": []
   },
   "source": [
    "### Setup Naas notification\n",
    "Please put your email so you get informed when your LinkedIn cookies need to be renewed."
   ]
  },
  {
   "cell_type": "code",
   "execution_count": null,
   "id": "8d294285",
   "metadata": {
    "papermill": {},
    "tags": []
   },
   "outputs": [],
   "source": [
    "# Email\n",
    "EMAIL = \"ENTER_YOUR_EMAIL\" # EXAMPLE : \"florent@naas.ai\""
   ]
  },
  {
   "cell_type": "markdown",
   "id": "19039a7f",
   "metadata": {
    "papermill": {},
    "tags": []
   },
   "source": [
    "### Setup Naas scheduler\n",
    "Schedule your notebook with the naas scheduler feature"
   ]
  },
  {
   "cell_type": "code",
   "execution_count": null,
   "id": "54cc596f",
   "metadata": {
    "papermill": {},
    "tags": []
   },
   "outputs": [],
   "source": [
    "# the default settings below will make the notebook run everyday at 8:00\n",
    "# for information on changing this setting, please check https://crontab.guru/ for information on the required CRON syntax \n",
    "naas.scheduler.add(cron=\"0 8 * * *\")\n",
    "\n",
    "# to de-schedule this notebook, simply run the following command: \n",
    "# naas.scheduler.delete()"
   ]
  },
  {
   "cell_type": "markdown",
   "id": "e26e1292",
   "metadata": {
    "papermill": {},
    "tags": []
   },
   "source": [
    "## Model"
   ]
  },
  {
   "cell_type": "markdown",
   "id": "4449cde8",
   "metadata": {
    "papermill": {},
    "tags": []
   },
   "source": [
    "### Create email to renew your cookies\n",
    "This email will be sent everytime you need to renew your cookies"
   ]
  },
  {
   "cell_type": "code",
   "execution_count": null,
   "id": "122668a3",
   "metadata": {
    "jupyter": {
     "source_hidden": true
    },
    "papermill": {},
    "tags": []
   },
   "outputs": [],
   "source": [
    "def email_linkedin_limit(email):\n",
    "    content = {\n",
    "       \"header_naas\": (\"<a href='https://www.naas.ai/'>\"\n",
    "                       \"<img align='center' width='30%' target='_blank' style='border-radius:5px;'\"\n",
    "                       \"src='https://landen.imgix.net/jtci2pxwjczr/assets/5ice39g4.png?w=160'\"\n",
    "                       \"alt='Please provide more information.'/>\"\n",
    "                       \"</a>\"),\n",
    "        \"txt_0\": emailbuilder.text(f\"Hi there,<br><br>\"\n",
    "                                   \"Your LinkedIn cookies needs to be renewed.<br><br>\"\n",
    "                                   \"Please go to naas and update them in your notebook 'Setup LinkedIn'.<br>\"),\n",
    "        \"button\": emailbuilder.button(f\"https://app.naas.ai/user/{email}/\", \"Go to Naas\"),\n",
    "        \"signature\": \"Naas Team\",\n",
    "        \"footer\": emailbuilder.footer_company(naas=True)\n",
    "    }\n",
    "    email_content = emailbuilder.generate(display='iframe', **content)\n",
    "    return email_content\n",
    "\n",
    "# email_content = email_linkedin_limit(EMAIL)"
   ]
  },
  {
   "cell_type": "markdown",
   "id": "3eacf120-6735-4309-9f8d-8a8531d9cfa0",
   "metadata": {
    "papermill": {},
    "tags": []
   },
   "source": [
    "### Get your posts from CSV\n",
    "All your posts will be stored in CSV."
   ]
  },
  {
   "cell_type": "code",
   "execution_count": null,
   "id": "c593f7d0-dfe6-4fb0-a098-03d0e958e36e",
   "metadata": {
    "jupyter": {
     "source_hidden": true
    },
    "papermill": {},
    "tags": []
   },
   "outputs": [],
   "source": [
    "def read_csv(file_path):\n",
    "    try:\n",
    "        df = pd.read_csv(file_path)\n",
    "    except FileNotFoundError as e:\n",
    "        # Empty dataframe returned\n",
    "        return pd.DataFrame()\n",
    "    return df\n",
    "\n",
    "df_posts = read_csv(csv_output)\n",
    "df_posts"
   ]
  },
  {
   "cell_type": "markdown",
   "id": "39e6bf20",
   "metadata": {
    "papermill": {},
    "tags": []
   },
   "source": [
    "### Get updated posts\n",
    "This function will get the last X posts from LinkedIn API (X = number of set in variable \"NO_POSTS_RETRIEVED\")<br>\n",
    "PS: On the first execution all posts will be retrieved."
   ]
  },
  {
   "cell_type": "code",
   "execution_count": null,
   "id": "97a4da67-8583-45bb-8bc2-8a3cd2b0bef4",
   "metadata": {
    "jupyter": {
     "source_hidden": true
    },
    "papermill": {},
    "tags": []
   },
   "outputs": [],
   "source": [
    "def get_last_posts(df_posts,\n",
    "                   csv_output,\n",
    "                   key=\"POST_URL\",\n",
    "                   no_posts=10,\n",
    "                   min_updated_time=60):\n",
    "    # Init output\n",
    "    df_new = pd.DataFrame()\n",
    "    \n",
    "    try:\n",
    "        # Init df posts is empty then return entire database\n",
    "        if len(df_posts) > 0:\n",
    "            if \"DATE_EXTRACT\" in df_posts.columns:\n",
    "                last_update_date = df_posts[\"DATE_EXTRACT\"].max()\n",
    "                time_last_update = datetime.now() - datetime.strptime(last_update_date, \"%Y-%m-%d %H:%M:%S\")\n",
    "                minute_last_update = time_last_update.total_seconds() / 60\n",
    "                if minute_last_update > min_updated_time:\n",
    "                    # If df posts not empty get the last X posts (new and already existing)\n",
    "                    df_new = linkedin.connect(LI_AT, JSESSIONID).profile.get_posts_feed(PROFILE_URL,\n",
    "                                                                                        limit=no_posts,\n",
    "                                                                                        sleep=False)\n",
    "                else:\n",
    "                    print(f\"🛑 Nothing to update. Last update done {round(minute_last_update, 0)} minutes ago.\")\n",
    "                    return df_new\n",
    "        else:\n",
    "            df_new = linkedin.connect(LI_AT, JSESSIONID).profile.get_posts_feed(PROFILE_URL,\n",
    "                                                                                limit=-1)\n",
    "\n",
    "        # Concat, save database in CSV and dependency in production\n",
    "        df = pd.concat([df_new, df_posts]).drop_duplicates(key, keep=\"first\")\n",
    "        df[\"DATE_EXTRACT\"] = datetime.now().strftime(\"%Y-%m-%d %H:%M:%S\")\n",
    "        df.to_csv(csv_output, index=False)\n",
    "        naas.dependency.add(csv_output)\n",
    "        \n",
    "        # Return only last post retrieved\n",
    "        return df_new.reset_index(drop=True)\n",
    "    except Exception as e:\n",
    "        print(\"❌ Error\", e)\n",
    "        if e.response.status_code == 302:\n",
    "            email_content = email_linkedin_limit(EMAIL)\n",
    "            naas.notification.send(email_to=EMAIL,\n",
    "                                   subject=\"⚠️ naas.ai - Update your Linkedin cookies\",\n",
    "                                   html=email_content)\n",
    "            raise(e)\n",
    "\n",
    "df_update = get_last_posts(df_posts,\n",
    "                           csv_output,\n",
    "                           no_posts=NO_POSTS_RETRIEVED)\n",
    "df_update"
   ]
  },
  {
   "cell_type": "markdown",
   "id": "7d42c4ae",
   "metadata": {
    "papermill": {},
    "tags": []
   },
   "source": [
    "## Output"
   ]
  },
  {
   "cell_type": "markdown",
   "id": "1376aeb4-64d2-400c-b69a-074cb6ebe9fd",
   "metadata": {
    "papermill": {},
    "tags": []
   },
   "source": [
    "### Update posts in Notion"
   ]
  },
  {
   "cell_type": "code",
   "execution_count": null,
   "id": "d3fe0324",
   "metadata": {
    "jupyter": {
     "source_hidden": true
    },
    "papermill": {},
    "tags": []
   },
   "outputs": [],
   "source": [
    "def create_polls_graph(uid, title, data):\n",
    "    # Create dataframe\n",
    "    df = pd.melt(pd.DataFrame([data]))\n",
    "    df = df.sort_values(by=\"value\")\n",
    "    voters = df.value.sum()\n",
    "    \n",
    "    # Create fig\n",
    "    fig = px.bar(df,\n",
    "                 y=\"variable\",\n",
    "                 x=\"value\",\n",
    "                 orientation='h',\n",
    "                 title=f\"{title}<br><span style='font-size: 13px;'>Total amount of votes: {voters}</span>\",\n",
    "                 text=\"value\",\n",
    "                 labels={\"variable\": \"Poll options\",\n",
    "                         \"value\": \"Poll results\"}\n",
    "                 )\n",
    "    fig.update_traces(marker_color='black')\n",
    "    fig.update_layout(\n",
    "        plot_bgcolor=\"#ffffff\",\n",
    "        width=600,\n",
    "        height=400,\n",
    "        font=dict(family=\"Arial\", size=14, color=\"black\"),\n",
    "        paper_bgcolor=\"white\",\n",
    "        xaxis_title=None,\n",
    "        xaxis_showticklabels=False,\n",
    "        yaxis_title=None,\n",
    "        margin_pad=10,\n",
    "    )\n",
    "    fig.write_html(f\"{uid}.html\")\n",
    "    asset = naas.asset.add(f\"{uid}.html\", params={\"inline\": True})\n",
    "    return asset\n",
    "\n",
    "def update_poll_graph(row):\n",
    "    poll_graph = None\n",
    "    \n",
    "    # Add polls\n",
    "    poll_id = row.POLL_ID\n",
    "    poll_question = row.POLL_QUESTION\n",
    "    poll_results = row.POLL_RESULTS\n",
    "    if poll_id and poll_question and poll_results:\n",
    "        poll_graph = create_polls_graph(poll_id, poll_question, poll_results)\n",
    "    return poll_graph"
   ]
  },
  {
   "cell_type": "code",
   "execution_count": null,
   "id": "2feb9982",
   "metadata": {
    "jupyter": {
     "source_hidden": true
    },
    "papermill": {},
    "tags": []
   },
   "outputs": [],
   "source": [
    "def update_dynamic_properties(page, row):\n",
    "    # Page properties : dynamic\n",
    "    page.number(\"Engagment score\", float(row.ENGAGEMENT_SCORE))\n",
    "    page.number(\"Views\", int(row.VIEWS))\n",
    "    page.number(\"Likes\", int(row.LIKES))\n",
    "    page.number(\"Comments\", int(row.COMMENTS))\n",
    "    page.number(\"Shares\", int(row.SHARES))\n",
    "    return page"
   ]
  },
  {
   "cell_type": "code",
   "execution_count": null,
   "id": "aaff28ff",
   "metadata": {
    "jupyter": {
     "source_hidden": true
    },
    "papermill": {},
    "tags": []
   },
   "outputs": [],
   "source": [
    "def update_content_notion(df, database_url):\n",
    "    # Decode database id\n",
    "    database_id = database_url.split(\"/\")[-1].split(\"?v=\")[0]\n",
    "    \n",
    "    # Get pages from notion database\n",
    "    pages = notion.connect(NOTION_TOKEN).database.query(database_id, query={})\n",
    "    \n",
    "    # Manage dataframe empty\n",
    "    if len(df) == 0:\n",
    "        print(f\"🛑 Nothing to update in Notion.\")\n",
    "        return\n",
    "    \n",
    "    # Loop in data\n",
    "    df.COMPANY_MENTION = df.COMPANY_MENTION.fillna(\"\")\n",
    "    df.PROFILE_MENTION = df.PROFILE_MENTION.fillna(\"\")\n",
    "    for i, row in df.iterrows():\n",
    "        title = row.TITLE\n",
    "        content_title = row.CONTENT_TITLE\n",
    "        if title is None and content_title is not None:\n",
    "            title = f\"Repost - {content_title}\"\n",
    "        elif title is None and content_title is None:\n",
    "            title = \"Repost\"\n",
    "        post_url = row.POST_URL\n",
    "        print(post_url)\n",
    "        \n",
    "        # Create or update page\n",
    "        page_new = True\n",
    "        for page in pages:\n",
    "            page_temp = page.df()\n",
    "            page_id = page_temp.loc[page_temp.Name == \"Content URL\", \"Value\"].values\n",
    "            if page_id == post_url:\n",
    "                page_new = False\n",
    "                break\n",
    "        try:\n",
    "            if page_new:\n",
    "                # Create new page in notion\n",
    "                page = notion.Page.new(database_id=database_id).create()\n",
    "\n",
    "                # Page properties : static\n",
    "                page.date(\"Publication Date\", row.PUBLISHED_DATE)\n",
    "                page.title(\"Name\", title)\n",
    "                page.select(\"Content type\", row.CONTENT)\n",
    "                page.select(\"Platform\", \"LinkedIn\")\n",
    "                page.select(\"Status\", \"Published ✨\")\n",
    "                page.select(\"Author\", row.AUTHOR_NAME)\n",
    "                profile_mention = row.PROFILE_MENTION\n",
    "                if profile_mention is not None:\n",
    "                    if len(profile_mention) > 2:\n",
    "                        page.rich_text(\"Profile mention\", profile_mention)\n",
    "                company_mention = row.COMPANY_MENTION\n",
    "                if company_mention is not None:\n",
    "                    if len(company_mention) > 2:\n",
    "                        page.rich_text(\"Company mention\", company_mention)\n",
    "                page.number(\"Nb tags\", int(row.TAGS_COUNT))\n",
    "                tags = row.TAGS\n",
    "                if tags is None:\n",
    "                    tags = \"\"\n",
    "                else:\n",
    "                    if len(tags) < 2:\n",
    "                        tags = \"\"\n",
    "                page.rich_text(\"Tags\", tags)\n",
    "                page.number(\"Nb emojis\", int(row.EMOJIS_COUNT))\n",
    "                emojis = row.EMOJIS\n",
    "                if emojis is None:\n",
    "                    emojis = \"\"\n",
    "                else:\n",
    "                    if len(emojis) < 2:\n",
    "                        emojis = \"\"\n",
    "                page.rich_text(\"Emojis\", emojis)\n",
    "                page.number(\"Nb links\", int(row.LINKS_COUNT))\n",
    "                links = row.LINKS\n",
    "                if links is not None:\n",
    "                    if len(links) > 2:\n",
    "                        page.link(\"Links\", links)\n",
    "                page.number(\"Nb characters\", int(row.CHARACTER_COUNT))\n",
    "                page.link(\"Content URL\", post_url)\n",
    "                \n",
    "                # Page blocks text\n",
    "                page.heading_1(\"Text\")\n",
    "                text = row.TEXT\n",
    "                if text is not None:\n",
    "                    split_text = text.split(\"\\n\")\n",
    "                    for t in split_text:\n",
    "                        page.paragraph(t)\n",
    "                    \n",
    "                # Page blocks content\n",
    "                image_url = row.IMAGE_URL\n",
    "                content_url = row.CONTENT_URL\n",
    "                poll_question = row.POLL_QUESTION\n",
    "                if image_url or content_title or content_url or poll_question:\n",
    "                    page.heading_1(\"Content\")\n",
    "                \n",
    "                # Add image in content section\n",
    "                if image_url:\n",
    "                    page.heading_2(\"Image\")\n",
    "                    page.paragraph(image_url)\n",
    "                    \n",
    "                # Add post in content section\n",
    "                if content_title:\n",
    "                    page.heading_2(\"Media\")\n",
    "                    page.heading_3(content_title)\n",
    "                \n",
    "                if content_url:\n",
    "                    page.paragraph(content_url)\n",
    "                \n",
    "                # Add poll graph in content section\n",
    "                if poll_question:\n",
    "                    page.heading_3(\"Poll\")\n",
    "                    poll_graph = update_poll_graph(row)\n",
    "                    if poll_graph:\n",
    "                        page.embed(poll_graph)\n",
    "                \n",
    "                # Page properties : dynamic\n",
    "                page = update_dynamic_properties(page, row)\n",
    "                \n",
    "                # Create page in Notion\n",
    "                page.update()\n",
    "                print(f\"✅ Page '{title}' created in Notion.\", '\\n')\n",
    "            else:\n",
    "                # Update poll graph\n",
    "                update_poll_graph(row)\n",
    "                \n",
    "                # Page properties : dynamic\n",
    "                page = update_dynamic_properties(page, row)\n",
    "                \n",
    "                # Update page\n",
    "                page.update()\n",
    "                print(f\"📈 Post stats updated in notion for page '{title}'.\", '\\n')\n",
    "        except Exception as e:\n",
    "            print(f\"❌ Error creating page '{title}' in Notion\", e)\n",
    "            print(row)"
   ]
  },
  {
   "cell_type": "code",
   "execution_count": null,
   "id": "bb4040d9",
   "metadata": {
    "papermill": {},
    "tags": []
   },
   "outputs": [],
   "source": [
    "update_content_notion(df_update, NOTION_DATABASE_URL)"
   ]
  }
 ],
 "metadata": {
  "interpreter": {
   "hash": "e7370f93d1d0cde622a1f8e1c04877d8463912d04d973331ad4851f04de6915a"
  },
  "kernelspec": {
   "display_name": "Python 3",
   "language": "python",
   "name": "python3"
  },
  "language_info": {
   "codemirror_mode": {
    "name": "ipython",
    "version": 3
   },
   "file_extension": ".py",
   "mimetype": "text/x-python",
   "name": "python",
   "nbconvert_exporter": "python",
   "pygments_lexer": "ipython3",
   "version": "3.9.6"
  },
  "naas": {
   "notebook_id": "446a4fd8-7ea5-42c5-9da7-352f15046549",
   "notebook_path": "LinkedIn/LinkedIn_Update_metrics_from_posts_in_Notion_content_calendar.ipynb"
  },
  "papermill": {
   "default_parameters": {},
   "environment_variables": {},
   "parameters": {},
   "version": "2.3.4"
  }
 },
 "nbformat": 4,
 "nbformat_minor": 5
}
