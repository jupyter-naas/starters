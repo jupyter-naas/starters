{
 "cells": [
  {
   "cell_type": "markdown",
   "id": "recorded-ending",
   "metadata": {
    "execution": {
     "iopub.execute_input": "2021-01-25T08:00:35.294800Z",
     "iopub.status.busy": "2021-01-25T08:00:35.294557Z",
     "iopub.status.idle": "2021-01-25T08:00:35.307281Z",
     "shell.execute_reply": "2021-01-25T08:00:35.306468Z",
     "shell.execute_reply.started": "2021-01-25T08:00:35.294775Z"
    },
    "papermill": {},
    "tags": []
   },
   "source": [
    "<img width=\"10%\" alt=\"Naas\" src=\"https://landen.imgix.net/jtci2pxwjczr/assets/5ice39g4.png?w=160\"/>"
   ]
  },
  {
   "cell_type": "markdown",
   "id": "inappropriate-switch",
   "metadata": {
    "papermill": {},
    "tags": []
   },
   "source": [
    "# LinkedIn - Send profile followers by email\n",
    "<a href=\"https://app.naas.ai/user-redirect/naas/downloader?url=https://raw.githubusercontent.com/jupyter-naas/awesome-notebooks/master/LinkedIn/LinkedIn_Send_profile_followers_by_email.ipynb\" target=\"_parent\"><img src=\"https://naasai-public.s3.eu-west-3.amazonaws.com/open_in_naas.svg\"/></a>"
   ]
  },
  {
   "cell_type": "markdown",
   "id": "c85bf919-fc42-4156-aa7c-f33b05a748de",
   "metadata": {
    "papermill": {},
    "tags": []
   },
   "source": [
    "**Tags:** #linkedin #network #followers #naas_drivers #content #snippet #dataframe"
   ]
  },
  {
   "cell_type": "markdown",
   "id": "b6c52b12-fa7f-400b-b5bd-6111eb980f94",
   "metadata": {
    "papermill": {},
    "tags": []
   },
   "source": [
    "**Author:** [Florent Ravenel](https://www.linkedin.com/in/florent-ravenel/)"
   ]
  },
  {
   "cell_type": "markdown",
   "id": "meaningful-playlist",
   "metadata": {
    "execution": {
     "iopub.execute_input": "2021-05-15T10:12:55.887028Z",
     "iopub.status.busy": "2021-05-15T10:12:55.886761Z",
     "iopub.status.idle": "2021-05-15T10:12:55.899441Z",
     "shell.execute_reply": "2021-05-15T10:12:55.898476Z",
     "shell.execute_reply.started": "2021-05-15T10:12:55.886964Z"
    },
    "papermill": {},
    "tags": []
   },
   "source": [
    "This templates will get all followers from LinkedIn profile and send CSV by email.<br><br>\n",
    "**Available columns :**\n",
    "- PROFILE_ID: LinkedIn profile id\n",
    "- PROFILE_URL: Profile URL\n",
    "- PUBLIC_ID: LinkedIn public profile id\n",
    "- FIRSTNAME: First name\n",
    "- LASTNAME: Last name\n",
    "- FULLNAME: First name + Last name\n",
    "- OCCUPATION: Text below the name in the profile page\n",
    "- PROFILE_PICTURE: Profile picture URL\n",
    "- BACKGROUND_PICTURE: Background profile picture URL\n",
    "- FOLLOWER_COUNT: No de followers\n",
    "- FOLLOWING: True if you are following back, False or Unknown\n",
    "- INFLUENCER: True, False or Unknown\n",
    "Note : Due to follower privacy, it will not match with the exact number of followers.<br>"
   ]
  },
  {
   "cell_type": "markdown",
   "id": "coastal-estonia",
   "metadata": {
    "papermill": {},
    "tags": []
   },
   "source": [
    "## Input"
   ]
  },
  {
   "cell_type": "markdown",
   "id": "import_cell",
   "metadata": {
    "papermill": {},
    "tags": []
   },
   "source": [
    "### Import library"
   ]
  },
  {
   "cell_type": "code",
   "execution_count": null,
   "id": "scientific-entrance",
   "metadata": {
    "papermill": {},
    "tags": []
   },
   "outputs": [],
   "source": [
    "from naas_drivers import linkedin, emailbuilder\n",
    "import naas\n",
    "import pandas as pd\n",
    "from datetime import datetime"
   ]
  },
  {
   "cell_type": "markdown",
   "id": "hearing-realtor",
   "metadata": {
    "papermill": {},
    "tags": []
   },
   "source": [
    "### Setup LinkedIn\n",
    "<a href='https://www.notion.so/LinkedIn-driver-Get-your-cookies-d20a8e7e508e42af8a5b52e33f3dba75'>How to get your cookies ?</a>"
   ]
  },
  {
   "cell_type": "code",
   "execution_count": null,
   "id": "narrow-savannah",
   "metadata": {
    "papermill": {},
    "tags": []
   },
   "outputs": [],
   "source": [
    "# LinkedIn cookies\n",
    "LI_AT = 'YOUR_COOKIE_LI_AT'  # EXAMPLE AQFAzQN_PLPR4wAAAXc-FCKmgiMit5FLdY1af3-2\n",
    "JSESSIONID = 'YOUR_COOKIE_JSESSIONID'  # EXAMPLE ajax:8379907400220387585"
   ]
  },
  {
   "cell_type": "markdown",
   "id": "71215abd-fe5a-4bce-b927-5e43b88f2dcb",
   "metadata": {
    "papermill": {},
    "tags": []
   },
   "source": [
    "### Setup Outputs\n",
    "Create CSV to store your followers.<br>\n",
    "PS: This CSV could be used in others LinkedIn templates."
   ]
  },
  {
   "cell_type": "code",
   "execution_count": null,
   "id": "a025cde2-d1f6-4de5-b0b9-6fd7a525c19d",
   "metadata": {
    "papermill": {},
    "tags": []
   },
   "outputs": [],
   "source": [
    "csv_output = f\"LINKEDIN_FOLLOWERS.csv\""
   ]
  },
  {
   "cell_type": "markdown",
   "id": "fbec2d60-8296-4ebf-8433-e5778e030183",
   "metadata": {
    "papermill": {},
    "tags": []
   },
   "source": [
    "### Setup Naas notification"
   ]
  },
  {
   "cell_type": "code",
   "execution_count": null,
   "id": "d8b4c6a5-0432-409f-8689-2f22eb29fe5a",
   "metadata": {
    "papermill": {},
    "tags": []
   },
   "outputs": [],
   "source": [
    "EMAIL_TO = \"ENTER_RECIPIENT_EMAIL_HERE\" # you will receive weekly summary at this email \n",
    "EMAIL_FROM = \"ENTER_SENDER_EMAIL_HERE\" # summary will have this email as sender. Only available for your naas email\n",
    "EMAIL_SUBJECT = 'LinkedIn Followers Export' # subject of your email"
   ]
  },
  {
   "cell_type": "markdown",
   "id": "ee25dc8a-47ba-46c1-881b-ecb458aea46f",
   "metadata": {
    "papermill": {},
    "tags": []
   },
   "source": [
    "### Setup Naas scheduler\n",
    "Schedule your notebook with the naas scheduler feature"
   ]
  },
  {
   "cell_type": "code",
   "execution_count": null,
   "id": "f84c83cf-d0e4-48aa-9b7b-5df9a7a8caa3",
   "metadata": {
    "papermill": {},
    "tags": []
   },
   "outputs": [],
   "source": [
    "# the default settings below will make the notebook run at 08:00 on the 1st of every month\n",
    "# for information on changing this setting, please check https://crontab.guru/ for information on the required CRON syntax \n",
    "naas.scheduler.add(cron=\"0 8 1 * *\")\n",
    "\n",
    "# to de-schedule this notebook, simply run the following command: \n",
    "# naas.scheduler.delete()"
   ]
  },
  {
   "cell_type": "markdown",
   "id": "motivated-mileage",
   "metadata": {
    "papermill": {},
    "tags": []
   },
   "source": [
    "## Model"
   ]
  },
  {
   "cell_type": "markdown",
   "id": "8f9f2256-cb9f-47bf-b77d-1a616d8dc0f7",
   "metadata": {
    "papermill": {},
    "tags": []
   },
   "source": [
    "### Get followers from CSV"
   ]
  },
  {
   "cell_type": "code",
   "execution_count": null,
   "id": "a2db1da8-68a6-4c22-ae8d-cb6e671415a7",
   "metadata": {
    "papermill": {},
    "tags": []
   },
   "outputs": [],
   "source": [
    "def read_csv(file_path):\n",
    "    try:\n",
    "        df = pd.read_csv(file_path)\n",
    "    except FileNotFoundError as e:\n",
    "        # Empty dataframe returned\n",
    "        return pd.DataFrame()\n",
    "    return df\n",
    "\n",
    "df_followers = read_csv(csv_output)\n",
    "df_followers"
   ]
  },
  {
   "cell_type": "markdown",
   "id": "1815c81c-9d14-40c3-80e3-f139ba961ff3",
   "metadata": {
    "papermill": {},
    "tags": []
   },
   "source": [
    "### Update new followers\n",
    "If CSV is empty, we will get all your followers"
   ]
  },
  {
   "cell_type": "code",
   "execution_count": null,
   "id": "35d4a749-46e1-4f16-9669-0c5ba60b6f6e",
   "metadata": {
    "papermill": {},
    "tags": []
   },
   "outputs": [],
   "source": [
    "def update_last_posts(df, csv_output):\n",
    "    # Init output\n",
    "    df_new = pd.DataFrame()\n",
    "    \n",
    "    # Check if dataframe init is empty\n",
    "    if len(df) > 0:\n",
    "        # If dataframe not empty, get last followers\n",
    "        profiles = df.PROFILE_ID.unique()\n",
    "        start = 0\n",
    "        count = 100\n",
    "        while True:\n",
    "            tmp_new = linkedin.connect(LI_AT, JSESSIONID).network.get_followers(start=start, limit=count)\n",
    "            # Check if existing profile in each call\n",
    "            tmp_df = tmp_new[tmp_new.PROFILE_ID.isin(profiles)]\n",
    "            if len(tmp_df) > 0:\n",
    "                break\n",
    "            \n",
    "            # Get more profile\n",
    "            df_new = pd.concat([df_new, tmp_new])\n",
    "            start += count\n",
    "    else:\n",
    "        # If dataframe empty, get all followers\n",
    "        df_new = linkedin.connect(LI_AT, JSESSIONID).network.get_followers(limit=-1)\n",
    "        \n",
    "    # Concat\n",
    "    print(f\"-> New followers fetched: {len(df_new)}.\")\n",
    "    df_update = pd.concat([df, df_new])\n",
    "    \n",
    "    # Cleaning to remove duplicates if needed\n",
    "    if len(df_update) > 0:\n",
    "        df_update= df_update.drop_duplicates(\"PROFILE_ID\", keep=\"first\")\n",
    "        \n",
    "    # Add extract date\n",
    "    df_update[\"DATE_EXTRACT\"] = datetime.now().strftime(\"%Y-%m-%d %H:%M:%S\")\n",
    "    \n",
    "    # Save dataframe in CSV\n",
    "    df_update.to_csv(csv_output, index=False)\n",
    "    \n",
    "    # Return all followers\n",
    "    print(f\"Total followers fetched: {len(df_update)}.\")\n",
    "    return df_update.reset_index(drop=True)\n",
    "    \n",
    "df_update = update_last_posts(df_followers, csv_output)\n",
    "df_update"
   ]
  },
  {
   "cell_type": "markdown",
   "id": "4c602918-a3f1-4c04-8d31-b8351ab86fea",
   "metadata": {
    "papermill": {},
    "tags": []
   },
   "source": [
    "### Share output with naas"
   ]
  },
  {
   "cell_type": "code",
   "execution_count": null,
   "id": "805fa200-b05b-4b64-a8ff-010ec5dfb868",
   "metadata": {
    "papermill": {},
    "tags": []
   },
   "outputs": [],
   "source": [
    "# Share output with naas\n",
    "csv_link = naas.asset.add(csv_output)\n",
    "\n",
    "#-> Uncomment the line below to remove your asset\n",
    "# naas.asset.delete(csv_output)"
   ]
  },
  {
   "cell_type": "markdown",
   "id": "8f2cb091-97ad-486a-afb9-3ba00b0a1550",
   "metadata": {
    "papermill": {},
    "tags": []
   },
   "source": [
    "### Create email content"
   ]
  },
  {
   "cell_type": "code",
   "execution_count": null,
   "id": "identified-twins",
   "metadata": {
    "papermill": {},
    "tags": []
   },
   "outputs": [],
   "source": [
    "def email_content(csv_link):\n",
    "    content = {\n",
    "       \"header_naas\": (\"<a href='https://www.naas.ai/'>\"\n",
    "                       \"<img align='center' width='30%' target='_blank' style='border-radius:5px;'\"\n",
    "                       \"src='https://landen.imgix.net/jtci2pxwjczr/assets/5ice39g4.png?w=160'\"\n",
    "                       \"alt='Please provide more information.'/>\"\n",
    "                       \"</a>\"),\n",
    "        \"txt_0\": emailbuilder.text(f\"Hi there,<br><br>\"\n",
    "                                   f\"Here's your LinkedIn followers report as of {datetime.now().strftime('%Y-%m-%d')}.<br><br>\"),\n",
    "        \"button\": emailbuilder.button(csv_link, \"Download CSV\"),\n",
    "        \"signature\": \"Naas Team\",\n",
    "        \"footer\": emailbuilder.footer_company(naas=True)\n",
    "    }\n",
    "    email_content = emailbuilder.generate(display='iframe', **content)\n",
    "    return email_content\n",
    "\n",
    "email_content = email_content(csv_link)"
   ]
  },
  {
   "cell_type": "markdown",
   "id": "continental-canon",
   "metadata": {
    "papermill": {},
    "tags": []
   },
   "source": [
    "## Output"
   ]
  },
  {
   "cell_type": "markdown",
   "id": "patent-bouquet",
   "metadata": {
    "papermill": {},
    "tags": []
   },
   "source": [
    "### Send followers by email"
   ]
  },
  {
   "cell_type": "code",
   "execution_count": null,
   "id": "eef23f94-94fb-4f18-aa5e-0364fad633b2",
   "metadata": {
    "papermill": {},
    "tags": []
   },
   "outputs": [],
   "source": [
    "# sends the email\n",
    "naas.notification.send(email_to=EMAIL_TO,\n",
    "                       subject=EMAIL_SUBJECT,\n",
    "                       html=email_content,\n",
    "                       email_from=EMAIL_FROM,\n",
    "                       files=[csv_output])"
   ]
  }
 ],
 "metadata": {
  "kernelspec": {
   "display_name": "Python 3",
   "language": "python",
   "name": "python3"
  },
  "language_info": {
   "codemirror_mode": {
    "name": "ipython",
    "version": 3
   },
   "file_extension": ".py",
   "mimetype": "text/x-python",
   "name": "python",
   "nbconvert_exporter": "python",
   "pygments_lexer": "ipython3",
   "version": "3.9.6"
  },
  "naas": {
   "notebook_id": "405e4dc3-22ea-4ec1-bca0-281f6adbf837",
   "notebook_path": "LinkedIn/LinkedIn_Get_followers_from_network.ipynb"
  },
  "papermill": {
   "default_parameters": {},
   "environment_variables": {},
   "parameters": {},
   "version": "2.3.3"
  },
  "widgets": {
   "application/vnd.jupyter.widget-state+json": {
    "state": {},
    "version_major": 2,
    "version_minor": 0
   }
  }
 },
 "nbformat": 4,
 "nbformat_minor": 5
}
