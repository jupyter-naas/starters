{
 "cells": [
  {
   "cell_type": "markdown",
   "id": "inappropriate-adobe",
   "metadata": {
    "papermill": {},
    "tags": []
   },
   "source": [
    "<img width=\"10%\" alt=\"Naas\" src=\"https://landen.imgix.net/jtci2pxwjczr/assets/5ice39g4.png?w=160\"/>"
   ]
  },
  {
   "cell_type": "markdown",
   "id": "acoustic-transcription",
   "metadata": {
    "papermill": {},
    "tags": []
   },
   "source": [
    "# HubSpot - Send sales brief\n",
    "<a href=\"https://app.naas.ai/user-redirect/naas/downloader?url=https://raw.githubusercontent.com/jupyter-naas/awesome-notebooks/master/HubSpot/HubSpot_Send_sales_brief.ipynb\" target=\"_parent\"><img src=\"https://naasai-public.s3.eu-west-3.amazonaws.com/open_in_naas.svg\"/></a>"
   ]
  },
  {
   "cell_type": "markdown",
   "id": "c62854fa-4acb-4847-9770-f71f83627432",
   "metadata": {
    "papermill": {},
    "tags": []
   },
   "source": [
    "**Tags:** #hubspot #crm #sales #deal #naas_drivers #notification #asset #emailbuilder #scheduler #naas #analytics #automation #email #text #plotly #html #image"
   ]
  },
  {
   "cell_type": "markdown",
   "id": "a6e0792a-c59a-4d67-872c-f1158778ae4c",
   "metadata": {
    "papermill": {},
    "tags": []
   },
   "source": [
    "**Author:** [Florent Ravenel](https://www.linkedin.com/in/florent-ravenel/)"
   ]
  },
  {
   "cell_type": "markdown",
   "id": "accurate-mixer",
   "metadata": {
    "papermill": {},
    "tags": []
   },
   "source": [
    "## Input"
   ]
  },
  {
   "cell_type": "markdown",
   "id": "czech-coral",
   "metadata": {
    "papermill": {},
    "tags": []
   },
   "source": [
    "### Import library"
   ]
  },
  {
   "cell_type": "code",
   "execution_count": null,
   "id": "forced-reply",
   "metadata": {
    "papermill": {},
    "tags": []
   },
   "outputs": [],
   "source": [
    "from naas_drivers import emailbuilder, hubspot\n",
    "import naas\n",
    "import pandas as pd\n",
    "from datetime import datetime"
   ]
  },
  {
   "cell_type": "markdown",
   "id": "handed-investigation",
   "metadata": {
    "papermill": {},
    "tags": []
   },
   "source": [
    "### Setup your HubSpot\n",
    "👉 Access your [HubSpot API key](https://knowledge.hubspot.com/integrations/how-do-i-get-my-hubspot-api-key)"
   ]
  },
  {
   "cell_type": "code",
   "execution_count": 1,
   "id": "complex-sherman",
   "metadata": {
    "execution": {
     "iopub.execute_input": "2022-02-21T08:07:45.815989Z",
     "iopub.status.busy": "2022-02-21T08:07:45.815650Z",
     "iopub.status.idle": "2022-02-21T08:07:45.822238Z",
     "shell.execute_reply": "2022-02-21T08:07:45.821638Z",
     "shell.execute_reply.started": "2022-02-21T08:07:45.815890Z"
    },
    "papermill": {},
    "tags": []
   },
   "outputs": [],
   "source": [
    "HS_API_KEY = 'YOUR_HUBSPOT_API_KEY'"
   ]
  },
  {
   "cell_type": "markdown",
   "id": "colored-syndication",
   "metadata": {
    "papermill": {},
    "tags": []
   },
   "source": [
    "### Email parameters"
   ]
  },
  {
   "cell_type": "code",
   "execution_count": null,
   "id": "sweet-latino",
   "metadata": {
    "papermill": {},
    "tags": []
   },
   "outputs": [],
   "source": [
    "# Receivers\n",
    "email_to = [\"your_email_adresse\"]\n",
    "\n",
    "# Email subject\n",
    "email_subject = f\"🚀 Hubspot - Sales Brief as of {datetime.now().strftime('%d/%m/%Y')} (Draft)\""
   ]
  },
  {
   "cell_type": "markdown",
   "id": "brown-transsexual",
   "metadata": {
    "execution": {
     "iopub.execute_input": "2021-08-04T10:49:28.903503Z",
     "iopub.status.busy": "2021-08-04T10:49:28.903265Z",
     "iopub.status.idle": "2021-08-04T10:49:28.906174Z",
     "shell.execute_reply": "2021-08-04T10:49:28.905520Z",
     "shell.execute_reply.started": "2021-08-04T10:49:28.903479Z"
    },
    "papermill": {},
    "tags": []
   },
   "source": [
    "### Sales target"
   ]
  },
  {
   "cell_type": "code",
   "execution_count": null,
   "id": "optional-roller",
   "metadata": {
    "papermill": {},
    "tags": []
   },
   "outputs": [],
   "source": [
    "objective = 300000"
   ]
  },
  {
   "cell_type": "markdown",
   "id": "concrete-breast",
   "metadata": {
    "papermill": {},
    "tags": []
   },
   "source": [
    "### Pick your pipeline"
   ]
  },
  {
   "cell_type": "markdown",
   "id": "written-consent",
   "metadata": {
    "papermill": {},
    "tags": []
   },
   "source": [
    "#### Get all pipelines"
   ]
  },
  {
   "cell_type": "code",
   "execution_count": null,
   "id": "introductory-plane",
   "metadata": {
    "papermill": {},
    "tags": []
   },
   "outputs": [],
   "source": [
    "df_pipelines = hubspot.connect(HS_API_KEY).pipelines.get_all()\n",
    "df_pipelines"
   ]
  },
  {
   "cell_type": "markdown",
   "id": "physical-tours",
   "metadata": {
    "papermill": {},
    "tags": []
   },
   "source": [
    "#### Enter your pipeline id"
   ]
  },
  {
   "cell_type": "code",
   "execution_count": null,
   "id": "thick-hampshire",
   "metadata": {
    "papermill": {},
    "tags": []
   },
   "outputs": [],
   "source": [
    "pipeline_id = \"8432671\""
   ]
  },
  {
   "cell_type": "markdown",
   "id": "proprietary-graham",
   "metadata": {
    "papermill": {},
    "tags": []
   },
   "source": [
    "### Constants"
   ]
  },
  {
   "cell_type": "code",
   "execution_count": null,
   "id": "appreciated-infection",
   "metadata": {
    "papermill": {},
    "tags": []
   },
   "outputs": [],
   "source": [
    "HUBSPOT_CARD = \"https://lib.umso.co/lib_sluGpRGQOLtkyEpz/na1lz0v9ejyurau2.png?w=1200&h=900&fit=max&dpr=2\"\n",
    "NAAS_WEBSITE = \"https://www.naas.ai\"\n",
    "EMAIL_DESCRIPTION = \"Your sales brief\"\n",
    "DATE_FORMAT = \"%Y-%m-%d\""
   ]
  },
  {
   "cell_type": "markdown",
   "id": "surprised-poison",
   "metadata": {
    "papermill": {},
    "tags": []
   },
   "source": [
    "### Schedule automation"
   ]
  },
  {
   "cell_type": "code",
   "execution_count": null,
   "id": "juvenile-midwest",
   "metadata": {
    "papermill": {},
    "tags": []
   },
   "outputs": [],
   "source": [
    "#-> Uncomment the 2 lines below (by removing the hashtag) to schedule your job every monday at 8:00 AM (NB: you can choose the time of your scheduling bot)\n",
    "# import naas\n",
    "# naas.scheduler.add(cron=\"0 8 * * 1\")\n",
    "\n",
    "#-> Uncomment the line below (by removing the hashtag) to remove your scheduler\n",
    "# naas.scheduler.delete()"
   ]
  },
  {
   "cell_type": "markdown",
   "id": "brazilian-stand",
   "metadata": {
    "papermill": {},
    "tags": []
   },
   "source": [
    "## Model"
   ]
  },
  {
   "cell_type": "markdown",
   "id": "independent-liverpool",
   "metadata": {
    "papermill": {},
    "tags": []
   },
   "source": [
    "### Get dealstages from pipeline"
   ]
  },
  {
   "cell_type": "code",
   "execution_count": null,
   "id": "sharing-theology",
   "metadata": {
    "papermill": {},
    "tags": []
   },
   "outputs": [],
   "source": [
    "df_dealstages = df_pipelines.copy()\n",
    "\n",
    "# Filter on pipeline\n",
    "df_dealstages = df_dealstages[df_dealstages.pipeline_id == pipeline_id]\n",
    "\n",
    "df_dealstages"
   ]
  },
  {
   "cell_type": "markdown",
   "id": "failing-agreement",
   "metadata": {
    "papermill": {},
    "tags": []
   },
   "source": [
    "### Get deals from pipeline"
   ]
  },
  {
   "cell_type": "code",
   "execution_count": null,
   "id": "early-quarterly",
   "metadata": {
    "papermill": {},
    "tags": []
   },
   "outputs": [],
   "source": [
    "properties = [\n",
    "    \"hs_object_id\",\n",
    "    \"dealname\",\n",
    "    \"dealstage\",\n",
    "    \"pipeline\",\n",
    "    \"createdate\",\n",
    "    \"hs_lastmodifieddate\",\n",
    "    \"closedate\",\n",
    "    \"amount\"\n",
    "]\n",
    "df_deals = hubspot.connect(HS_API_KEY).deals.get_all(properties)\n",
    "\n",
    "# Filter on pipeline\n",
    "df_deals = df_deals[df_deals.pipeline == pipeline_id].reset_index(drop=True)\n",
    "\n",
    "df_deals"
   ]
  },
  {
   "cell_type": "markdown",
   "id": "filled-shuttle",
   "metadata": {
    "papermill": {},
    "tags": []
   },
   "source": [
    "### Formatting functions"
   ]
  },
  {
   "cell_type": "code",
   "execution_count": null,
   "id": "third-interval",
   "metadata": {
    "papermill": {},
    "tags": []
   },
   "outputs": [],
   "source": [
    "def format_number(num):\n",
    "    NUMBER_FORMAT = \"{:,.0f} €\"\n",
    "    num = str(NUMBER_FORMAT.format(num)).replace(\",\", \" \")\n",
    "    return num"
   ]
  },
  {
   "cell_type": "code",
   "execution_count": null,
   "id": "suffering-boston",
   "metadata": {
    "papermill": {},
    "tags": []
   },
   "outputs": [],
   "source": [
    "def format_pourcentage(num):\n",
    "    NUMBER_FORMAT = \"{:,.0%}\"\n",
    "    num = str(NUMBER_FORMAT.format(num))\n",
    "    return num"
   ]
  },
  {
   "cell_type": "code",
   "execution_count": null,
   "id": "pointed-attack",
   "metadata": {
    "papermill": {},
    "tags": []
   },
   "outputs": [],
   "source": [
    "def format_varv(num):\n",
    "    NUMBER_FORMAT = \"+{:,.0f} €\"\n",
    "    num = str(NUMBER_FORMAT.format(num)).replace(\",\", \" \")\n",
    "    return num"
   ]
  },
  {
   "cell_type": "markdown",
   "id": "suited-interview",
   "metadata": {
    "papermill": {},
    "tags": []
   },
   "source": [
    "### Create sales pipeline database"
   ]
  },
  {
   "cell_type": "code",
   "execution_count": null,
   "id": "dirty-calvin",
   "metadata": {
    "papermill": {},
    "tags": []
   },
   "outputs": [],
   "source": [
    "df_sales = pd.merge(df_deals.drop(\"pipeline\", axis=1),\n",
    "                    df_dealstages.drop([\"pipeline\", \"pipeline_id\", \"createdAt\", \"updatedAt\", \"archived\"], axis=1),\n",
    "                    left_on=\"dealstage\",\n",
    "                    right_on=\"dealstage_id\",\n",
    "                    how=\"left\")\n",
    "df_sales"
   ]
  },
  {
   "cell_type": "code",
   "execution_count": null,
   "id": "about-advice",
   "metadata": {
    "papermill": {},
    "tags": []
   },
   "outputs": [],
   "source": [
    "df_sales_c = df_sales.copy()\n",
    "\n",
    "# Cleaning\n",
    "df_sales_c[\"amount\"] = df_sales_c[\"amount\"].fillna(\"0\")\n",
    "df_sales_c.loc[df_sales_c[\"amount\"] == \"\", \"amount\"] = \"0\"\n",
    "\n",
    "# Formatting\n",
    "df_sales_c[\"amount\"] = df_sales_c[\"amount\"].astype(float)\n",
    "df_sales_c[\"probability\"] =  df_sales_c[\"probability\"].astype(float)\n",
    "df_sales_c.createdate = pd.to_datetime(df_sales_c.createdate)\n",
    "df_sales_c.hs_lastmodifieddate = pd.to_datetime(df_sales_c.hs_lastmodifieddate)\n",
    "df_sales_c.closedate = pd.to_datetime(df_sales_c.closedate)\n",
    "\n",
    "# Calc\n",
    "df_sales_c[\"forecasted\"] = df_sales_c[\"amount\"] * df_sales_c[\"probability\"]\n",
    "\n",
    "df_sales_c"
   ]
  },
  {
   "cell_type": "markdown",
   "id": "about-retrieval",
   "metadata": {
    "papermill": {},
    "tags": []
   },
   "source": [
    "### Create sales pipeline agregated by dealstages"
   ]
  },
  {
   "cell_type": "code",
   "execution_count": null,
   "id": "naughty-expense",
   "metadata": {
    "papermill": {},
    "tags": []
   },
   "outputs": [],
   "source": [
    "df_details = df_sales_c.copy()\n",
    "\n",
    "# Groupby\n",
    "to_group = [\n",
    "    \"dealstage_label\",\n",
    "    \"probability\",\n",
    "    \"displayOrder\"\n",
    "]\n",
    "to_agg = {\n",
    "    \"amount\": \"sum\",\n",
    "    \"dealname\": \"count\",\n",
    "    \"forecasted\": \"sum\"\n",
    "}\n",
    "df_details = df_details.groupby(to_group, as_index=False).agg(to_agg)\n",
    "\n",
    "# Sort\n",
    "df_details = df_details.sort_values(\"displayOrder\")\n",
    "\n",
    "df_details"
   ]
  },
  {
   "cell_type": "markdown",
   "id": "brazilian-posting",
   "metadata": {
    "papermill": {},
    "tags": []
   },
   "source": [
    "### Calculate email parameters"
   ]
  },
  {
   "cell_type": "code",
   "execution_count": null,
   "id": "devoted-worst",
   "metadata": {
    "papermill": {},
    "tags": []
   },
   "outputs": [],
   "source": [
    "forecasted = df_details.forecasted.sum()\n",
    "forecasted"
   ]
  },
  {
   "cell_type": "code",
   "execution_count": null,
   "id": "welsh-accounting",
   "metadata": {
    "papermill": {},
    "tags": []
   },
   "outputs": [],
   "source": [
    "won = df_details[df_details[\"probability\"] == 1].forecasted.sum()\n",
    "won"
   ]
  },
  {
   "cell_type": "code",
   "execution_count": null,
   "id": "duplicate-premiere",
   "metadata": {
    "papermill": {},
    "tags": []
   },
   "outputs": [],
   "source": [
    "weighted = df_details[df_details[\"probability\"] < 1].forecasted.sum()\n",
    "weighted"
   ]
  },
  {
   "cell_type": "code",
   "execution_count": null,
   "id": "helpful-hobby",
   "metadata": {
    "papermill": {},
    "tags": []
   },
   "outputs": [],
   "source": [
    "completion_p = forecasted / objective\n",
    "completion_p"
   ]
  },
  {
   "cell_type": "code",
   "execution_count": null,
   "id": "insured-prompt",
   "metadata": {
    "papermill": {},
    "tags": []
   },
   "outputs": [],
   "source": [
    "completion_v = objective - forecasted\n",
    "completion_v"
   ]
  },
  {
   "cell_type": "code",
   "execution_count": null,
   "id": "promotional-helmet",
   "metadata": {
    "papermill": {},
    "tags": []
   },
   "outputs": [],
   "source": [
    "today = datetime.now().strftime(DATE_FORMAT)\n",
    "today"
   ]
  },
  {
   "cell_type": "markdown",
   "id": "known-audit",
   "metadata": {
    "papermill": {},
    "tags": []
   },
   "source": [
    "### Get pipeline details"
   ]
  },
  {
   "cell_type": "code",
   "execution_count": null,
   "id": "persistent-reminder",
   "metadata": {
    "papermill": {},
    "tags": []
   },
   "outputs": [],
   "source": [
    "df = df_details.copy()\n",
    "\n",
    "details = []\n",
    "\n",
    "for _, row in df.iterrows():\n",
    "    # status part\n",
    "    dealstage = row.dealstage_label\n",
    "    probability = row.probability\n",
    "    detail = f\"{dealstage} ({format_pourcentage(probability)})\"\n",
    "    \n",
    "    # amount part\n",
    "    amount = row.amount\n",
    "    number = row.dealname\n",
    "    forecasted_ = row.forecasted\n",
    "    if (probability < 1 and probability > 0):\n",
    "        detail = f\"{detail}: <ul><li>Amount : {format_number(amount)}</li><li>Number : {number}</li><li>Weighted amount : <b>{format_number(forecasted_)}</b></li></ul>\"\n",
    "    else:\n",
    "        detail = f\"{detail}: {format_number(amount)}\"\n",
    "        \n",
    "    details += [detail]\n",
    "\n",
    "details"
   ]
  },
  {
   "cell_type": "markdown",
   "id": "coral-uruguay",
   "metadata": {
    "papermill": {},
    "tags": []
   },
   "source": [
    "### Get inactives deals"
   ]
  },
  {
   "cell_type": "code",
   "execution_count": null,
   "id": "understanding-programmer",
   "metadata": {
    "papermill": {},
    "tags": []
   },
   "outputs": [],
   "source": [
    "df_inactive = df_sales_c.copy()\n",
    "\n",
    "df_inactive.hs_lastmodifieddate = pd.to_datetime(df_inactive.hs_lastmodifieddate).dt.strftime(DATE_FORMAT)\n",
    "\n",
    "df_inactive[\"inactive_time\"] = (datetime.now() - pd.to_datetime(df_inactive.hs_lastmodifieddate, format=DATE_FORMAT)).dt.days\n",
    "df_inactive.loc[(df_inactive[\"inactive_time\"] > 30, \"inactive\")] = \"inactive\"\n",
    "df_inactive = df_inactive[(df_inactive.inactive == 'inactive') &\n",
    "                          (df_inactive.amount != 0) & \n",
    "                          (df_inactive.probability > 0.) & \n",
    "                          (df_inactive.probability < 1)].sort_values(\"amount\", ascending=False).reset_index(drop=True)\n",
    "\n",
    "df_inactive"
   ]
  },
  {
   "cell_type": "code",
   "execution_count": null,
   "id": "attractive-sunrise",
   "metadata": {
    "papermill": {},
    "tags": []
   },
   "outputs": [],
   "source": [
    "inactives = []\n",
    "\n",
    "for _, row in df_inactive[:10].iterrows():\n",
    "    # status part\n",
    "    dealname = row.dealname\n",
    "    dealstage_label = row.dealstage_label\n",
    "    amount = row.amount\n",
    "    probability = row.probability\n",
    "    inactive = f\"{dealname} ({dealstage_label}): <b>{format_number(amount)}</b>\"\n",
    "    inactives += [inactive]\n",
    "\n",
    "inactives"
   ]
  },
  {
   "cell_type": "markdown",
   "id": "recognized-dallas",
   "metadata": {
    "papermill": {},
    "tags": []
   },
   "source": [
    "### Create pipeline waterfall"
   ]
  },
  {
   "cell_type": "code",
   "execution_count": null,
   "id": "arctic-footage",
   "metadata": {
    "papermill": {},
    "tags": []
   },
   "outputs": [],
   "source": [
    "import plotly.graph_objects as go\n",
    "\n",
    "fig = go.Figure(go.Waterfall(name=\"20\",\n",
    "                             orientation = \"v\",\n",
    "                             measure = [\"relative\", \"relative\", \"total\", \"relative\", \"total\"],\n",
    "                             x = [\"Won\", \"Pipeline\", \"Forecast\", \"Missing\", \"Objective\"],\n",
    "                             textposition = \"outside\",\n",
    "                             text = [format_number(won), format_varv(weighted), format_number(forecasted), format_varv(completion_v), format_number(objective)],\n",
    "                             y = [won, weighted, forecasted, completion_v, objective],\n",
    "                            decreasing = {\"marker\":{\"color\":\"#33475b\"}},\n",
    "                            increasing = {\"marker\":{\"color\":\"#33475b\"}},\n",
    "                            totals = {\"marker\":{\"color\":\"#ff7a59\"}}\n",
    "))\n",
    "\n",
    "\n",
    "fig.update_layout(title = \"Sales Metrics\", plot_bgcolor=\"#ffffff\", hovermode='x')\n",
    "fig.update_yaxes(tickprefix=\"€\", gridcolor='#eaeaea')\n",
    "fig.show()"
   ]
  },
  {
   "cell_type": "code",
   "execution_count": null,
   "id": "extra-edgar",
   "metadata": {
    "papermill": {},
    "tags": []
   },
   "outputs": [],
   "source": [
    "fig.write_html(\"GRAPH_FILE.html\")\n",
    "fig.write_image(\"GRAPH_IMG.png\")\n",
    "\n",
    "params = {\"inline\": True}\n",
    "\n",
    "graph_url = naas.asset.add(\"GRAPH_FILE.html\", params=params)\n",
    "graph_image = naas.asset.add(\"GRAPH_IMG.png\")"
   ]
  },
  {
   "cell_type": "markdown",
   "id": "veterinary-bookmark",
   "metadata": {
    "papermill": {},
    "tags": []
   },
   "source": [
    "### Create email"
   ]
  },
  {
   "cell_type": "code",
   "execution_count": null,
   "id": "simplified-rainbow",
   "metadata": {
    "papermill": {},
    "tags": []
   },
   "outputs": [],
   "source": [
    "def email_brief(today,\n",
    "                forecasted,\n",
    "                won,\n",
    "                weighted,\n",
    "                objective,\n",
    "                completion_p,\n",
    "                completion_v,\n",
    "                details,\n",
    "                inactives\n",
    "                ):\n",
    "    content = {\n",
    "        'title': (f\"<a href='{NAAS_WEBSITE}'>\"\n",
    "                   f\"<img align='center' width='100%' target='_blank' style='border-radius:5px;'\"\n",
    "                   f\"src='{HUBSPOT_CARD}' alt={EMAIL_DESCRIPTION}/>\"\n",
    "                   \"</a>\"),\n",
    "        \n",
    "        'txt_intro': (f\"Hi there,<br><br>\"\n",
    "                      f\"Here is your weekly sales email as of {today}.\"),\n",
    "\n",
    "        'title_1': emailbuilder.text(\"Overview\", font_size=\"27px\", text_align=\"center\", bold=True),\n",
    "        \"text_1\": emailbuilder.text(f\"As of today, your yearly forecasted revenue is {format_number(forecasted)}.\"),\n",
    "        \"list_1\": emailbuilder.list([f\"Won : {format_number(won)}\",\n",
    "                                     f\"Weighted pipeline : <b>{format_number(weighted)}</b>\"]),\n",
    "        \"text_1_2\": emailbuilder.text(f\"You need to find 👉 <u>{format_number(completion_v)}</u> to reach your goal !\"),\n",
    "        \"text_1_1\": emailbuilder.text(f\"Your yearly objective is {format_number(objective)} ({format_pourcentage(completion_p)} completion).\"),\n",
    "        'image_1': emailbuilder.image(graph_image, link=graph_url),\n",
    "        \n",
    "        'title_2': emailbuilder.text(\"🚀 Pipeline\", font_size=\"27px\", text_align=\"center\", bold=True),\n",
    "        \"list_2\": emailbuilder.list(details),\n",
    "\n",
    "        'title_3': emailbuilder.text(\"🧐 Actions needed\", font_size=\"27px\", text_align=\"center\", bold=True),\n",
    "        'text_3': emailbuilder.text(\"Here are deals where you need to take actions :\"),\n",
    "        'list_3': emailbuilder.list(inactives),\n",
    "        'text_3_1': emailbuilder.text(\"If you need more details, connect to Hubspot with the link below.\"),\n",
    "        'button_1': emailbuilder.button(link=\"https://app.hubspot.com/\",\n",
    "                                        text=\"Go to Hubspot\",\n",
    "                                        background_color=\"#ff7a59\"),\n",
    "        \n",
    "        'title_4': emailbuilder.text(\"Glossary\", text_align=\"center\", bold=True, underline=True),\n",
    "        'list_4': emailbuilder.list([\"Yearly forecasted revenue :  Weighted amount + WON exclude LOST\",\n",
    "                                     \"Yearly objective : Input in script\",\n",
    "                                     \"Inactive deal : No activity for more than 30 days\"]),\n",
    "        \n",
    "        'footer_cs': emailbuilder.footer_company(naas=True),\n",
    "    }\n",
    "    \n",
    "    email_content = emailbuilder.generate(display='iframe', **content)\n",
    "    return email_content\n",
    "\n",
    "email_content = email_brief(today,\n",
    "                            forecasted,\n",
    "                            won,\n",
    "                            weighted,\n",
    "                            objective,\n",
    "                            completion_p,\n",
    "                            completion_v,\n",
    "                            details,\n",
    "                            inactives)"
   ]
  },
  {
   "cell_type": "markdown",
   "id": "alive-comparative",
   "metadata": {
    "papermill": {},
    "tags": []
   },
   "source": [
    "## Output"
   ]
  },
  {
   "cell_type": "markdown",
   "id": "compatible-pantyhose",
   "metadata": {
    "papermill": {},
    "tags": []
   },
   "source": [
    "### Send email"
   ]
  },
  {
   "cell_type": "code",
   "execution_count": null,
   "id": "collaborative-suggestion",
   "metadata": {
    "papermill": {},
    "tags": []
   },
   "outputs": [],
   "source": [
    "naas.notification.send(email_to,\n",
    "                       email_subject,\n",
    "                       email_content)"
   ]
  }
 ],
 "metadata": {
  "kernelspec": {
   "display_name": "Python 3",
   "language": "python",
   "name": "python3"
  },
  "language_info": {
   "codemirror_mode": {
    "name": "ipython",
    "version": 3
   },
   "file_extension": ".py",
   "mimetype": "text/x-python",
   "name": "python",
   "nbconvert_exporter": "python",
   "pygments_lexer": "ipython3",
   "version": "3.8.8"
  },
  "naas": {
   "notebook_id": "1df9f44e-0755-4a5d-b85a-0a92065360e2",
   "notebook_path": "HubSpot/HubSpot_Send_sales_brief.ipynb"
  },
  "papermill": {
   "default_parameters": {},
   "environment_variables": {},
   "parameters": {},
   "version": "2.3.3"
  },
  "widgets": {
   "application/vnd.jupyter.widget-state+json": {
    "state": {},
    "version_major": 2,
    "version_minor": 0
   }
  }
 },
 "nbformat": 4,
 "nbformat_minor": 5
}
