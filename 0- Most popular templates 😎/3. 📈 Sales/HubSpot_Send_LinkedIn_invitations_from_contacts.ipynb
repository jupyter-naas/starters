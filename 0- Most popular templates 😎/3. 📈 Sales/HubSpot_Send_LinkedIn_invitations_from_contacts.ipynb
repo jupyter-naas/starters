{
 "cells": [
  {
   "cell_type": "markdown",
   "id": "second-registrar",
   "metadata": {
    "execution": {
     "iopub.execute_input": "2021-01-25T08:00:35.294800Z",
     "iopub.status.busy": "2021-01-25T08:00:35.294557Z",
     "iopub.status.idle": "2021-01-25T08:00:35.307281Z",
     "shell.execute_reply": "2021-01-25T08:00:35.306468Z",
     "shell.execute_reply.started": "2021-01-25T08:00:35.294775Z"
    },
    "papermill": {},
    "tags": []
   },
   "source": [
    "<img width=\"10%\" alt=\"Naas\" src=\"https://landen.imgix.net/jtci2pxwjczr/assets/5ice39g4.png?w=160\"/>"
   ]
  },
  {
   "cell_type": "markdown",
   "id": "boolean-amendment",
   "metadata": {
    "papermill": {},
    "tags": []
   },
   "source": [
    "# HubSpot - Send LinkedIn invitations from contacts\n",
    "<a href=\"https://app.naas.ai/user-redirect/naas/downloader?url=https://raw.githubusercontent.com/jupyter-naas/awesome-notebooks/master/HubSpot/HubSpot_Send_LinkedIn_invitations_from_contacts.ipynb\" target=\"_parent\"><img src=\"https://naasai-public.s3.eu-west-3.amazonaws.com/open_in_naas.svg\"/></a>"
   ]
  },
  {
   "cell_type": "markdown",
   "id": "8e32973f-9a81-4c9c-b526-8eb05453acee",
   "metadata": {
    "papermill": {},
    "tags": []
   },
   "source": [
    "**Tags:** #hubspot #invitation #automation #sales #linkedin "
   ]
  },
  {
   "cell_type": "markdown",
   "id": "7e904365-6248-439c-9c2f-dee77a015ccc",
   "metadata": {
    "papermill": {},
    "tags": []
   },
   "source": [
    "**Author:** [Florent Ravenel](https://www.linkedin.com/in/ACoAABCNSioBW3YZHc2lBHVG0E_TXYWitQkmwog/)"
   ]
  },
  {
   "cell_type": "markdown",
   "id": "ffb5b8b2-db98-432d-b99b-b495db7e7187",
   "metadata": {
    "execution": {
     "iopub.execute_input": "2022-05-04T15:09:33.115516Z",
     "iopub.status.busy": "2022-05-04T15:09:33.115158Z",
     "iopub.status.idle": "2022-05-04T15:09:33.129981Z",
     "shell.execute_reply": "2022-05-04T15:09:33.128646Z",
     "shell.execute_reply.started": "2022-05-04T15:09:33.115489Z"
    },
    "papermill": {},
    "tags": []
   },
   "source": [
    "With this notebook, you can send LinkedIn invitation to your HubSpot contacts."
   ]
  },
  {
   "cell_type": "markdown",
   "id": "identified-logan",
   "metadata": {
    "papermill": {},
    "tags": []
   },
   "source": [
    "## Input"
   ]
  },
  {
   "cell_type": "markdown",
   "id": "c7deec17-a137-413a-9f7e-0b0ed1eaec53",
   "metadata": {
    "papermill": {},
    "tags": []
   },
   "source": [
    "### Import libraries"
   ]
  },
  {
   "cell_type": "code",
   "execution_count": null,
   "id": "strategic-savage",
   "metadata": {
    "papermill": {},
    "tags": []
   },
   "outputs": [],
   "source": [
    "import naas\n",
    "from naas_drivers import hubspot, linkedin\n",
    "import pandas as pd\n",
    "import os"
   ]
  },
  {
   "cell_type": "markdown",
   "id": "average-boxing",
   "metadata": {
    "papermill": {},
    "tags": []
   },
   "source": [
    "### Setup your HubSpot\n",
    "👉 Access your [HubSpot API key](https://knowledge.hubspot.com/integrations/how-do-i-get-my-hubspot-api-key)"
   ]
  },
  {
   "cell_type": "code",
   "execution_count": null,
   "id": "statewide-acceptance",
   "metadata": {
    "papermill": {},
    "tags": []
   },
   "outputs": [],
   "source": [
    "# Enter Token API\n",
    "HS_API_KEY = \"YOUR_HUBSPOT_API_KEY\"\n",
    "\n",
    "# Column with Linkedin URL (internal name in HubSpot)\n",
    "col_linkedin = 'linkedinbio'\n",
    "\n",
    "# Get list of properties you want to have from contacts (internal name in HubSpot)\n",
    "properties_list = [\"email\", \"firstname\", \"lastname\", col_linkedin]"
   ]
  },
  {
   "cell_type": "markdown",
   "id": "sustained-rochester",
   "metadata": {
    "papermill": {},
    "tags": []
   },
   "source": [
    "### Setup LinkedIn\n",
    "<a href='https://www.notion.so/LinkedIn-driver-Get-your-cookies-d20a8e7e508e42af8a5b52e33f3dba75'>How to get your cookies ?</a>"
   ]
  },
  {
   "cell_type": "code",
   "execution_count": null,
   "id": "handy-jacksonville",
   "metadata": {
    "papermill": {},
    "tags": []
   },
   "outputs": [],
   "source": [
    "# LinkedIn cookies\n",
    "LI_AT = naas.secret.get(\"LI_AT\")\n",
    "JSESSIONID = naas.secret.get(\"JSESSIONID\")\n",
    "\n",
    "# LinkedIn limit invitations up to 100 per week (Becareful !)\n",
    "LIMIT = 15"
   ]
  },
  {
   "cell_type": "markdown",
   "id": "fbba5901-4dfb-4d88-a717-01a9c088db6b",
   "metadata": {
    "papermill": {},
    "tags": []
   },
   "source": [
    "### Setup Variables"
   ]
  },
  {
   "cell_type": "code",
   "execution_count": null,
   "id": "f0620659-ab70-401d-9bf3-3ef8f1448507",
   "metadata": {
    "papermill": {},
    "tags": []
   },
   "outputs": [],
   "source": [
    "# CSV to manage and remove profile already in your contact\n",
    "csv_contact = \"LINKEDIN_EXISTING_CONTACT.csv\"\n",
    "\n",
    "# CSV to manage URL not valid\n",
    "csv_not_valid = \"LINKEDIN_NOT_VALID.csv\"\n",
    "\n",
    "# CSV to store invitations sent\n",
    "csv_invitation = \"LINKEDIN_INVITATIONS_SENT.csv\""
   ]
  },
  {
   "cell_type": "markdown",
   "id": "7d0af90b-efcf-47fd-8094-49ddf401637c",
   "metadata": {
    "papermill": {},
    "tags": []
   },
   "source": [
    "### Setup Naas"
   ]
  },
  {
   "cell_type": "code",
   "execution_count": null,
   "id": "6214531e-3068-4dfa-b975-aa4b72cb3d06",
   "metadata": {
    "papermill": {},
    "tags": []
   },
   "outputs": [],
   "source": [
    "# Scheduler your invitation everyday at 8:00 AM\n",
    "naas.scheduler.add(cron=\"30 9 * * *\")\n",
    "\n",
    "# Uncomment the line below to delete your scheduler\n",
    "# naas.scheduler.delete()"
   ]
  },
  {
   "cell_type": "markdown",
   "id": "rubber-nutrition",
   "metadata": {
    "execution": {
     "iopub.execute_input": "2021-05-15T10:12:55.887028Z",
     "iopub.status.busy": "2021-05-15T10:12:55.886761Z",
     "iopub.status.idle": "2021-05-15T10:12:55.899441Z",
     "shell.execute_reply": "2021-05-15T10:12:55.898476Z",
     "shell.execute_reply.started": "2021-05-15T10:12:55.886964Z"
    },
    "papermill": {},
    "tags": []
   },
   "source": [
    "## Model"
   ]
  },
  {
   "cell_type": "markdown",
   "id": "10e6147b-a98f-4a7a-8b00-b35af516fbff",
   "metadata": {
    "papermill": {},
    "tags": []
   },
   "source": [
    "### Get contacts from HubSpot"
   ]
  },
  {
   "cell_type": "code",
   "execution_count": null,
   "id": "9dca37b2-7c39-401d-9b99-84463fdcc780",
   "metadata": {
    "papermill": {},
    "tags": []
   },
   "outputs": [],
   "source": [
    "df_contacts = gsheet.connect(SPREADSHEET_URL).get(SHEET_NAME)\n",
    "df_contacts"
   ]
  },
  {
   "cell_type": "markdown",
   "id": "6c11e8fa-0da5-4664-bdeb-ede3f8483ee3",
   "metadata": {
    "papermill": {},
    "tags": []
   },
   "source": [
    "### Filter dataframe (if needed)"
   ]
  },
  {
   "cell_type": "code",
   "execution_count": null,
   "id": "2b797067-d9e0-4740-852b-667e365f811f",
   "metadata": {
    "papermill": {},
    "tags": []
   },
   "outputs": [],
   "source": [
    "def filter_data(df):\n",
    "    df = df\n",
    "    return df.reset_index(drop=True)\n",
    "\n",
    "df_hubspot = filter_data(df_contacts)\n",
    "df_hubspot"
   ]
  },
  {
   "cell_type": "markdown",
   "id": "f20bae4a-8861-4cf5-a4ee-0a99021db147",
   "metadata": {
    "papermill": {},
    "tags": []
   },
   "source": [
    "### Get LinkedIn invitations sent"
   ]
  },
  {
   "cell_type": "code",
   "execution_count": null,
   "id": "06467484-8758-4879-94c8-161c0733b6ce",
   "metadata": {
    "papermill": {},
    "tags": []
   },
   "outputs": [],
   "source": [
    "df_lk_invitations = linkedin.connect(LI_AT, JSESSIONID).invitation.get_sent()\n",
    "df_lk_invitations"
   ]
  },
  {
   "cell_type": "markdown",
   "id": "ba17e613-8fea-4066-a87c-2e606b9b8b89",
   "metadata": {
    "papermill": {},
    "tags": []
   },
   "source": [
    "### Get profile checked and already in your network"
   ]
  },
  {
   "cell_type": "code",
   "execution_count": null,
   "id": "7b21b51e-3d4e-4433-93a6-36962bb3dd40",
   "metadata": {
    "papermill": {},
    "tags": []
   },
   "outputs": [],
   "source": [
    "def get_csv(output_path):\n",
    "    df = pd.DataFrame()\n",
    "    if os.path.exists(output_path):\n",
    "        df = pd.read_csv(output_path).drop_duplicates()\n",
    "    return df"
   ]
  },
  {
   "cell_type": "code",
   "execution_count": null,
   "id": "144e5ec7-8294-4bad-b849-87ae881bb579",
   "metadata": {
    "papermill": {},
    "tags": []
   },
   "outputs": [],
   "source": [
    "df_contacts = get_csv(csv_contact)\n",
    "df_contacts"
   ]
  },
  {
   "cell_type": "markdown",
   "id": "1eff029b-ef86-4eb4-9b21-963039d5e355",
   "metadata": {
    "papermill": {},
    "tags": []
   },
   "source": [
    "### Get URL not valid"
   ]
  },
  {
   "cell_type": "code",
   "execution_count": null,
   "id": "c7e15ca2-51b5-4396-addb-6534e35794a8",
   "metadata": {
    "papermill": {},
    "tags": []
   },
   "outputs": [],
   "source": [
    "df_not_valid = get_csv(csv_not_valid)\n",
    "df_not_valid"
   ]
  },
  {
   "cell_type": "markdown",
   "id": "6322d074-5f5a-4d71-ad00-25be5c2d0212",
   "metadata": {
    "papermill": {},
    "tags": []
   },
   "source": [
    "### Get invitations sent (CSV)\n",
    "Public ID can be different between what we get from LinkedIn and from your source URL.<br>\n",
    "So we need to double check invitations sent with a CSV stored on your local"
   ]
  },
  {
   "cell_type": "code",
   "execution_count": null,
   "id": "b61ab97f-3d89-4d4f-bf1a-4d7195e2b3fc",
   "metadata": {
    "papermill": {},
    "tags": []
   },
   "outputs": [],
   "source": [
    "df_csv_invitations = get_csv(csv_invitation)\n",
    "df_csv_invitations"
   ]
  },
  {
   "cell_type": "markdown",
   "id": "85703780-66e5-4e13-8fc9-e6e2281b5760",
   "metadata": {
    "papermill": {},
    "tags": []
   },
   "source": [
    "### Get new invitation\n",
    "- Clean Notion database to get valid URL\n",
    "- Remove profile when already invited"
   ]
  },
  {
   "cell_type": "code",
   "execution_count": null,
   "id": "3ff7c22a-c032-4300-bba9-a77f0b08dd59",
   "metadata": {
    "papermill": {},
    "tags": []
   },
   "outputs": [],
   "source": [
    "def get_new_invitations(df_hubspot,\n",
    "                        df_lk_invitations,\n",
    "                        df_csv_invitations,\n",
    "                        df_contacts,\n",
    "                        df_not_valid):\n",
    "    # Cleaning\n",
    "    df = df_hubspot.copy()\n",
    "    df[\"PROFILE_ID\"] = df.apply(lambda row: row[col_linkedin].split(\"com/in/\")[-1].split(\"/\")[0], axis=1)\n",
    "    print(\"✔️ LinkedIn valid URL :\", len(df))\n",
    "    \n",
    "    # Get list of pending LinkedIn invitations\n",
    "    pending_lk_invitations = []\n",
    "    if len(df_lk_invitations) > 0:\n",
    "        pending_lk_invitations = df_lk_invitations[\"PUBLIC_ID\"].unique().tolist()\n",
    "    print(\"❌ Pending LinkedIn invitations :\", len(pending_lk_invitations))\n",
    "    \n",
    "    # Get list of CSV invitations\n",
    "    pending_csv_invitations = []\n",
    "    if len(df_csv_invitations) > 0:\n",
    "        pending_csv_invitations = df_csv_invitations[\"PUBLIC_ID\"].unique().tolist()\n",
    "    print(\"❌ Pending CSV invitations :\", len(pending_csv_invitations))\n",
    "    \n",
    "    # Get profile already in network\n",
    "    contacts = []\n",
    "    if len(df_contacts) > 0:\n",
    "        contacts = df_contacts[\"PUBLIC_ID\"].unique().tolist()\n",
    "    print(\"❌ Already in network :\", len(contacts))\n",
    "    \n",
    "    # Get profile not valid\n",
    "    not_valids = []\n",
    "    if len(df_not_valid) > 0:\n",
    "        not_valids = df_not_valid[\"PROFILE_ID\"].unique().tolist()\n",
    "    print(\"❌ Profile not valid:\", len(not_valids))\n",
    "    \n",
    "    # Remove pending invitations / already in network / not valid profile from dataframe \n",
    "    exclude = (pending_lk_invitations + pending_csv_invitations + contacts + not_valids)\n",
    "    df = df[~df[\"PROFILE_ID\"].isin(exclude)].reset_index(drop=True)\n",
    "    print(\"➡️ New invitation:\", len(df))\n",
    "    return df\n",
    "\n",
    "df_new_invitations = get_new_invitations(df_hubspot,\n",
    "                                         df_lk_invitations,\n",
    "                                         df_csv_invitations,\n",
    "                                         df_contacts,\n",
    "                                         df_not_valid)\n",
    "df_new_invitations"
   ]
  },
  {
   "cell_type": "markdown",
   "id": "447b0427-f056-49d1-8cc4-49b4e848f6f5",
   "metadata": {
    "papermill": {},
    "tags": []
   },
   "source": [
    "### Send invitation"
   ]
  },
  {
   "cell_type": "code",
   "execution_count": null,
   "id": "impossible-subsection",
   "metadata": {
    "papermill": {},
    "tags": []
   },
   "outputs": [],
   "source": [
    "def send_invitation(df,\n",
    "                    df_not_valid=None,\n",
    "                    df_contacts=None,\n",
    "                    df_csv_invitations=None):\n",
    "    # Check if new invitations to perform\n",
    "    if len(df) == 0:\n",
    "        print(\"🤙 No new invitations to send\")\n",
    "        return df\n",
    "    \n",
    "    # Setup variables\n",
    "    if df_not_valid is None:\n",
    "        df_not_valid = pd.DataFrame()\n",
    "    if df_contacts is None:\n",
    "        df_contacts = pd.DataFrame()\n",
    "    if df_csv_invitations is None:\n",
    "        df_csv_invitations = pd.DataFrame()\n",
    "        \n",
    "    # Loop\n",
    "    count = 1\n",
    "    for index, row in df.iterrows():\n",
    "        df_network = pd.DataFrame()\n",
    "        profile = row[col_linkedin]\n",
    "        print(f\"➡️ Checking :\", profile)\n",
    "        \n",
    "        # Get distance with profile\n",
    "        try:\n",
    "            df_network = linkedin.connect(LI_AT, JSESSIONID).profile.get_network(profile)\n",
    "        except Exception as e:\n",
    "            # If error, profile URL is not valid => append Notion page to CSV not valid to not check it again\n",
    "            df_not_valid = pd.concat([df_not_valid, df[index:index+1]])\n",
    "            df_not_valid.to_csv(csv_not_valid, index=False)\n",
    "            print(\"❌ URL not valid\", e)\n",
    "            \n",
    "        # Check if profile is already in your network\n",
    "        if len(df_network) > 0:\n",
    "            distance = df_network.loc[0, \"DISTANCE\"]\n",
    "            # If not profile in network...\n",
    "            if distance not in [\"SELF\", \"DISTANCE_1\"]:\n",
    "                # => send invitation\n",
    "                try:\n",
    "                    linkedin.connect(LI_AT, JSESSIONID).invitation.send(recipient_url=profile)\n",
    "                    print(count, \"- 🙌 Invitation successfully sent\")\n",
    "                    df_csv_invitations = pd.concat([df_csv_invitations, df_network])\n",
    "                    df_csv_invitations.to_csv(csv_invitation, index=False)\n",
    "                except Exception as e:\n",
    "                    print(\"❌ Invitation not sent\", e)\n",
    "                count += 1\n",
    "            else:\n",
    "                # If profile already in your network => append network result to CSV existing contact to not check it again\n",
    "                df_contacts = pd.concat([df_contacts, df_network])\n",
    "                df_contacts.to_csv(csv_contact, index=False)\n",
    "                print(f\"👍 Already in my network, 💾 saved in CSV\")\n",
    "            \n",
    "        # Manage LinkedIn limit\n",
    "        if count > LIMIT:\n",
    "            print(\"⚠️ LinkedIn invitation limit reached\", LIMIT)\n",
    "            return df_csv_invitations\n",
    "    return df_csv_invitations\n",
    "        \n",
    "df_csv_invitations = send_invitation(df_new_invitations,\n",
    "                                     df_not_valid,\n",
    "                                     df_contacts,\n",
    "                                     df_csv_invitations)"
   ]
  },
  {
   "cell_type": "markdown",
   "id": "developed-acquisition",
   "metadata": {
    "papermill": {},
    "tags": []
   },
   "source": [
    "## Output"
   ]
  },
  {
   "cell_type": "markdown",
   "id": "d27ae3c5-d6f5-4b7f-8246-b3a286d29a94",
   "metadata": {
    "papermill": {},
    "tags": []
   },
   "source": [
    "### Send CSV as dependencies"
   ]
  },
  {
   "cell_type": "code",
   "execution_count": null,
   "id": "32223318-b5c5-4304-bae4-1093cadc15ac",
   "metadata": {
    "papermill": {},
    "tags": []
   },
   "outputs": [],
   "source": [
    "if os.path.exists(csv_contact):\n",
    "    naas.dependency.add(csv_contact)\n",
    "\n",
    "if os.path.exists(csv_not_valid):\n",
    "    naas.dependency.add(csv_not_valid)\n",
    "    \n",
    "if os.path.exists(csv_invitation):\n",
    "    naas.dependency.add(csv_invitation)"
   ]
  },
  {
   "cell_type": "markdown",
   "id": "4a4fc020-71dd-4346-99d2-8f0f62a9668c",
   "metadata": {
    "papermill": {},
    "tags": []
   },
   "source": [
    "### Display invitations sent"
   ]
  },
  {
   "cell_type": "code",
   "execution_count": null,
   "id": "8f842276-bbc7-4eab-a475-d699451f34f3",
   "metadata": {
    "papermill": {},
    "tags": []
   },
   "outputs": [],
   "source": [
    "df_csv_invitations"
   ]
  }
 ],
 "metadata": {
  "kernelspec": {
   "display_name": "Python 3",
   "language": "python",
   "name": "python3"
  },
  "language_info": {
   "codemirror_mode": {
    "name": "ipython",
    "version": 3
   },
   "file_extension": ".py",
   "mimetype": "text/x-python",
   "name": "python",
   "nbconvert_exporter": "python",
   "pygments_lexer": "ipython3",
   "version": "3.9.6"
  },
  "naas": {
   "notebook_id": "aa139af0-3996-4391-8192-002f620077c0",
   "notebook_path": "LinkedIn/LinkedIn_Send_invitation_from_gsheet.ipynb"
  },
  "papermill": {
   "default_parameters": {},
   "environment_variables": {},
   "parameters": {},
   "version": "2.3.3"
  },
  "widgets": {
   "application/vnd.jupyter.widget-state+json": {
    "state": {},
    "version_major": 2,
    "version_minor": 0
   }
  }
 },
 "nbformat": 4,
 "nbformat_minor": 5
}
