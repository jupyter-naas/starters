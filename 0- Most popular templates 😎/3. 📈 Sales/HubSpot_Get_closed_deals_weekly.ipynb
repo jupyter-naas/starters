{
 "cells": [
  {
   "cell_type": "markdown",
   "id": "working-senate",
   "metadata": {
    "papermill": {},
    "tags": []
   },
   "source": [
    "<img width=\"10%\" alt=\"Naas\" src=\"https://landen.imgix.net/jtci2pxwjczr/assets/5ice39g4.png?w=160\"/>"
   ]
  },
  {
   "cell_type": "markdown",
   "id": "fitting-journalism",
   "metadata": {
    "papermill": {},
    "tags": []
   },
   "source": [
    "# HubSpot - Get closed deals weekly\n",
    "<a href=\"https://app.naas.ai/user-redirect/naas/downloader?url=https://raw.githubusercontent.com/jupyter-naas/awesome-notebooks/master/HubSpot/HubSpot_Get_closed_deals_weekly.ipynb\" target=\"_parent\"><img src=\"https://naasai-public.s3.eu-west-3.amazonaws.com/open_in_naas.svg\"/></a>"
   ]
  },
  {
   "cell_type": "markdown",
   "id": "tracked-patio",
   "metadata": {
    "papermill": {},
    "tags": []
   },
   "source": [
    "**Tags:** #hubspot #crm #sales #deal #scheduler #asset #html #png #csv #naas_drivers #naas #analytics #automation #image #plotly"
   ]
  },
  {
   "cell_type": "markdown",
   "id": "aaefe8a6-4e09-4583-9d05-2cb1eca2a0f4",
   "metadata": {
    "papermill": {},
    "tags": []
   },
   "source": [
    "**Author:** [Florent Ravenel](https://www.linkedin.com/in/florent-ravenel/)"
   ]
  },
  {
   "cell_type": "markdown",
   "id": "classified-residence",
   "metadata": {
    "papermill": {},
    "tags": []
   },
   "source": [
    "## Input"
   ]
  },
  {
   "cell_type": "markdown",
   "id": "excessive-argentina",
   "metadata": {
    "papermill": {},
    "tags": []
   },
   "source": [
    "### Import libraries"
   ]
  },
  {
   "cell_type": "code",
   "execution_count": null,
   "id": "tough-christmas",
   "metadata": {
    "papermill": {},
    "tags": []
   },
   "outputs": [],
   "source": [
    "from naas_drivers import hubspot\n",
    "from datetime import datetime, timedelta\n",
    "import pandas as pd\n",
    "import plotly.graph_objects as go\n",
    "from plotly.subplots import make_subplots\n",
    "import naas"
   ]
  },
  {
   "cell_type": "markdown",
   "id": "coordinated-fraud",
   "metadata": {
    "papermill": {},
    "tags": []
   },
   "source": [
    "### Setup your HubSpot\n",
    "👉 Access your [HubSpot API key](https://knowledge.hubspot.com/integrations/how-do-i-get-my-hubspot-api-key)"
   ]
  },
  {
   "cell_type": "code",
   "execution_count": null,
   "id": "collectible-world",
   "metadata": {
    "papermill": {},
    "tags": []
   },
   "outputs": [],
   "source": [
    "HS_API_KEY = 'YOUR_HUBSPOT_API_KEY'"
   ]
  },
  {
   "cell_type": "markdown",
   "id": "1045dc58-67ae-445c-a1e7-ab3a1ce7a8c0",
   "metadata": {
    "papermill": {},
    "tags": []
   },
   "source": [
    "### Select your pipeline ID\n",
    "Here below you can select your pipeline.<br>\n",
    "If not, all deals will be taken for the analysis"
   ]
  },
  {
   "cell_type": "code",
   "execution_count": null,
   "id": "e50cf456-f18f-4069-93c7-b765f207413a",
   "metadata": {
    "papermill": {},
    "tags": []
   },
   "outputs": [],
   "source": [
    "df_pipelines = hubspot.connect(HS_API_KEY).pipelines.get_all()\n",
    "df_pipelines"
   ]
  },
  {
   "cell_type": "code",
   "execution_count": null,
   "id": "f4b425ff-97ef-4680-8435-b421bbc66a83",
   "metadata": {
    "papermill": {},
    "tags": []
   },
   "outputs": [],
   "source": [
    "pipeline_id = \"8432671\""
   ]
  },
  {
   "cell_type": "markdown",
   "id": "a65b1719-8215-4182-8da3-1b5208749fe3",
   "metadata": {
    "papermill": {},
    "tags": []
   },
   "source": [
    "### Setup Outputs"
   ]
  },
  {
   "cell_type": "code",
   "execution_count": null,
   "id": "ac3bd5ab-9cf9-4779-89b9-b0ef1f0ed9bf",
   "metadata": {
    "papermill": {},
    "tags": []
   },
   "outputs": [],
   "source": [
    "name_output = \"HubSpot_closed_weekly\"\n",
    "csv_output = f\"{name_output}.csv\"\n",
    "image_output = f\"{name_output}.png\"\n",
    "html_output = f\"{name_output}.htlm\""
   ]
  },
  {
   "cell_type": "markdown",
   "id": "f8aafeaf-c8cd-4874-a35d-fd3f55f52595",
   "metadata": {
    "papermill": {},
    "tags": []
   },
   "source": [
    "### Setup Naas"
   ]
  },
  {
   "cell_type": "code",
   "execution_count": null,
   "id": "7d7bbae0-8fb2-4bb9-803e-f07adb91f469",
   "metadata": {
    "papermill": {},
    "tags": []
   },
   "outputs": [],
   "source": [
    "naas.scheduler.add(cron=\"0 8 * * *\")\n",
    "\n",
    "#-> Uncomment the line below (by removing the hashtag) to remove your scheduler\n",
    "# naas.scheduler.delete()"
   ]
  },
  {
   "cell_type": "markdown",
   "id": "discrete-municipality",
   "metadata": {
    "papermill": {},
    "tags": []
   },
   "source": [
    "## Model"
   ]
  },
  {
   "cell_type": "markdown",
   "id": "transsexual-march",
   "metadata": {
    "papermill": {},
    "tags": []
   },
   "source": [
    "### Get all deals"
   ]
  },
  {
   "cell_type": "code",
   "execution_count": null,
   "id": "paperback-warehouse",
   "metadata": {
    "papermill": {},
    "tags": []
   },
   "outputs": [],
   "source": [
    "df_deals = hubspot.connect(HS_API_KEY).deals.get_all()\n",
    "df_deals"
   ]
  },
  {
   "cell_type": "markdown",
   "id": "62c71a5d-451b-461b-9bed-80fb3bd06883",
   "metadata": {
    "papermill": {},
    "tags": []
   },
   "source": [
    "### Create trend data"
   ]
  },
  {
   "cell_type": "code",
   "execution_count": null,
   "id": "eb55941f-4cac-487b-bb49-d71b8393ece7",
   "metadata": {
    "papermill": {},
    "tags": []
   },
   "outputs": [],
   "source": [
    "def get_trend(df_deals, pipeline):\n",
    "    df = df_deals.copy()\n",
    "    # Filter data\n",
    "    df = df[df[\"pipeline\"].astype(str) == str(pipeline)]\n",
    "    \n",
    "    # Prep data\n",
    "    df[\"closedate\"] = pd.to_datetime(df[\"closedate\"])\n",
    "    df[\"amount\"] = df.apply(lambda row: float(row[\"amount\"]) if str(row[\"amount\"]) not in [\"None\", \"\"] else 0, axis=1)\n",
    "    \n",
    "    # Calc by week\n",
    "    df = df.groupby(pd.Grouper(freq='W', key='closedate')).agg({\"hs_object_id\": \"count\", \"amount\": \"sum\"}).reset_index()\n",
    "    df[\"closedate\"] = df[\"closedate\"] + timedelta(days=-1)\n",
    "    df = pd.melt(df, id_vars=\"closedate\")\n",
    "    \n",
    "    # Rename col\n",
    "    to_rename = {\n",
    "        \"closedate\": \"LABEL_ORDER\",\n",
    "        \"variable\": \"GROUP\",\n",
    "        \"value\": \"VALUE\"\n",
    "    }\n",
    "    df = df.rename(columns=to_rename).replace(\"hs_object_id\", \"No of deals\").replace(\"amount\", \"Amount\")\n",
    "    df[\"YEAR\"] = df[\"LABEL_ORDER\"].dt.strftime(\"%Y\")\n",
    "    df = df[df[\"YEAR\"] == datetime.now().strftime(\"%Y\")]\n",
    "    df[\"LABEL\"] = df[\"LABEL_ORDER\"].dt.strftime(\"%Y-W%U\")\n",
    "    df[\"LABEL_ORDER\"] = df[\"LABEL_ORDER\"].dt.strftime(\"%Y%U\")\n",
    "    df = df[df[\"LABEL_ORDER\"].astype(int) <= int(datetime.now().strftime(\"%Y%U\"))]\n",
    "    \n",
    "    # Calc variation\n",
    "    df_var = pd.DataFrame()\n",
    "    groups = df.GROUP.unique()\n",
    "    for group in groups:\n",
    "        tmp = df[df.GROUP == group].reset_index(drop=True)\n",
    "        for idx, row in tmp.iterrows():\n",
    "            if idx == 0:\n",
    "                value_n1 = 0\n",
    "            else:\n",
    "                value_n1 = tmp.loc[tmp.index[idx-1], \"VALUE\"]\n",
    "            tmp.loc[tmp.index[idx], \"VALUE_COMP\"] = value_n1\n",
    "        df_var = pd.concat([df_var, tmp]).fillna(0).reset_index(drop=True)\n",
    "    df_var[\"VARV\"] = df_var[\"VALUE\"] - df_var[\"VALUE_COMP\"]\n",
    "    df_var[\"VARP\"] = df_var[\"VARV\"] / abs(df_var[\"VALUE_COMP\"])\n",
    "    \n",
    "    # Prep data\n",
    "    df_var[\"VALUE_D\"] = df_var[\"VALUE\"].map(\"{:,.0f}\".format).str.replace(\",\", \" \")\n",
    "    df_var[\"VARV_D\"] = df_var[\"VARV\"].map(\"{:,.0f}\".format).str.replace(\",\", \" \")\n",
    "    df_var.loc[df_var[\"VARV\"] > 0, \"VARV_D\"] = \"+\" + df_var[\"VARV_D\"]\n",
    "    df_var[\"VARP_D\"] = df_var[\"VARP\"].map(\"{:,.0%}\".format).str.replace(\",\", \" \")\n",
    "    df_var.loc[df_var[\"VARP\"] > 0, \"VARP_D\"] = \"+\" + df_var[\"VARP_D\"]\n",
    "    \n",
    "    # Create hovertext\n",
    "    df_var[\"TEXT\"] = (\"<b>Deal closed as of \" + df_var[\"LABEL\"] + \" : </b>\" + \n",
    "                      df_var[\"VALUE_D\"] + \"<br>\" + \n",
    "                      df_var[\"VARP_D\"] + \" vs last week (\" + df_var[\"VARV_D\"] + \")\")\n",
    "    return df_var\n",
    "\n",
    "df_trend = get_trend(df_deals, pipeline_id)\n",
    "df_trend"
   ]
  },
  {
   "cell_type": "markdown",
   "id": "seventh-consideration",
   "metadata": {
    "papermill": {},
    "tags": []
   },
   "source": [
    "## Output"
   ]
  },
  {
   "cell_type": "markdown",
   "id": "appropriate-equilibrium",
   "metadata": {
    "papermill": {},
    "tags": []
   },
   "source": [
    "### Plotting a barchart with filters"
   ]
  },
  {
   "cell_type": "code",
   "execution_count": null,
   "id": "dc590aca-6c35-4779-948a-816ffbd12f0f",
   "metadata": {
    "papermill": {},
    "tags": []
   },
   "outputs": [],
   "source": [
    "def create_barchart(df, label, group, value, varv, varp):    \n",
    "    # Create figure with secondary y-axis\n",
    "    fig = make_subplots(specs=[[{\"secondary_y\": True}]])\n",
    "\n",
    "    # Add traces\n",
    "    df1 = df[df[group] == \"No of deals\"].reset_index(drop=True)[:]\n",
    "    total_volume = \"{:,.0f}\".format(df1[value].sum()).replace(\",\", \" \")\n",
    "    var_volume = df1.loc[df1.index[-1], varv]\n",
    "    positive = False\n",
    "    if var_volume > 0:\n",
    "        positive = True\n",
    "    var_volume = \"{:,.0f}\".format(var_volume).replace(\",\", \" \")\n",
    "    if positive:\n",
    "        var_volume = f\"+{var_volume}\"\n",
    "    fig.add_trace(\n",
    "        go.Bar(\n",
    "            name=\"No of deals\",\n",
    "            x=df1[label],\n",
    "            y=df1[value],\n",
    "            offsetgroup=0,\n",
    "            hoverinfo=\"text\",\n",
    "            text=df1[\"VALUE_D\"],\n",
    "            hovertext=df1[\"TEXT\"],\n",
    "            marker=dict(color=\"#33475b\")\n",
    "        ),\n",
    "        secondary_y=False,\n",
    "    )\n",
    "    \n",
    "    df2 = df[df[group] == \"Amount\"].reset_index(drop=True)[:]\n",
    "    total_value = \"{:,.0f}\".format(df2[value].sum()).replace(\",\", \" \")\n",
    "    var_value = df2.loc[df2.index[-1], varv]\n",
    "    positive = False\n",
    "    if var_value > 0:\n",
    "        positive = True\n",
    "    var_value = \"{:,.0f}\".format(var_value).replace(\",\", \" \")\n",
    "    if positive:\n",
    "        var_value = f\"+{var_value}\"\n",
    "    fig.add_trace(\n",
    "        go.Bar(\n",
    "            name=\"Amount\",\n",
    "            x=df2[label],\n",
    "            y=df2[value],\n",
    "            text=df2[\"VALUE_D\"] + \" K€\",\n",
    "            offsetgroup=1,\n",
    "            hoverinfo=\"text\",\n",
    "            hovertext=df2[\"TEXT\"],\n",
    "            marker=dict(color=\"#ff7a59\")\n",
    "        ),\n",
    "        secondary_y=True,\n",
    "    )\n",
    "\n",
    "    # Add figure title\n",
    "    fig.update_layout(\n",
    "        title=f\"<b>Hubspot - Closed deals this year</b><br><span style='font-size: 14px;'>Total deals: {total_volume} ({total_value} K€) | This week: {var_volume} ({var_value} K€) vs last week</span>\",\n",
    "        title_font=dict(family=\"Arial\", size=20, color=\"black\"),\n",
    "        legend=None,\n",
    "        plot_bgcolor=\"#ffffff\",\n",
    "        width=1200,\n",
    "        height=800,\n",
    "        paper_bgcolor=\"white\",\n",
    "        xaxis_title=\"Weeks\",\n",
    "        xaxis_title_font=dict(family=\"Arial\", size=11, color=\"black\"),\n",
    "    )\n",
    "\n",
    "    # Set y-axes titles\n",
    "    fig.update_yaxes(\n",
    "        title_text=\"No of deals\",\n",
    "        title_font=dict(family=\"Arial\", size=11, color=\"black\"),\n",
    "        secondary_y=False\n",
    "    )\n",
    "    fig.update_yaxes(\n",
    "        title_text=\"Amount in K€\",\n",
    "        title_font=dict(family=\"Arial\", size=11, color=\"black\"),\n",
    "        secondary_y=True\n",
    "    )\n",
    "    fig.show()\n",
    "    return fig\n",
    "\n",
    "fig = create_barchart(df_trend, \"LABEL\", \"GROUP\", \"VALUE\", \"VARV\", \"VARP\")"
   ]
  },
  {
   "cell_type": "markdown",
   "id": "e3b2a620-87ad-4236-a5f6-149b497e0db4",
   "metadata": {
    "papermill": {},
    "tags": []
   },
   "source": [
    "### Export and share graph"
   ]
  },
  {
   "cell_type": "code",
   "execution_count": null,
   "id": "4cf0db48-24b2-4e27-aa16-cf984a577244",
   "metadata": {
    "papermill": {},
    "tags": []
   },
   "outputs": [],
   "source": [
    "# Export in HTML\n",
    "df_trend.to_csv(csv_output, index=False)\n",
    "fig.write_image(image_output)\n",
    "fig.write_html(html_output)\n",
    "\n",
    "# Shave with naas\n",
    "naas.asset.add(csv_output)\n",
    "naas.asset.add(image_output)\n",
    "naas.asset.add(html_output, params={\"inline\": True})\n",
    "\n",
    "#-> Uncomment the line below (by removing the hashtag)  to delete your asset\n",
    "# naas.asset.delete(csv_output)\n",
    "# naas.asset.delete(image_output)\n",
    "# naas.asset.delete(html_output)"
   ]
  }
 ],
 "metadata": {
  "kernelspec": {
   "display_name": "Python 3",
   "language": "python",
   "name": "python3"
  },
  "language_info": {
   "codemirror_mode": {
    "name": "ipython",
    "version": 3
   },
   "file_extension": ".py",
   "mimetype": "text/x-python",
   "name": "python",
   "nbconvert_exporter": "python",
   "pygments_lexer": "ipython3",
   "version": "3.9.6"
  },
  "naas": {
   "notebook_id": "c941c316-6045-44b6-897e-2e3a154077ad",
   "notebook_path": "HubSpot/HubSpot_Get_closed_deals_weekly.ipynb"
  },
  "papermill": {
   "default_parameters": {},
   "environment_variables": {},
   "parameters": {},
   "version": "2.3.3"
  }
 },
 "nbformat": 4,
 "nbformat_minor": 5
}
