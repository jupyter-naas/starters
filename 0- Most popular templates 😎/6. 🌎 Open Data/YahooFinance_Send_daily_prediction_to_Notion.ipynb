{
 "cells": [
  {
   "cell_type": "markdown",
   "id": "0945c819-fd6f-4dc2-93d7-9742277989f9",
   "metadata": {
    "papermill": {},
    "tags": []
   },
   "source": [
    "<img width=\"10%\" alt=\"Naas\" src=\"https://landen.imgix.net/jtci2pxwjczr/assets/5ice39g4.png?w=160\"/>"
   ]
  },
  {
   "cell_type": "markdown",
   "id": "descending-grammar",
   "metadata": {
    "papermill": {},
    "tags": []
   },
   "source": [
    "# YahooFinance - Send daily prediction to Notion\n",
    "<a href=\"https://app.naas.ai/user-redirect/naas/downloader?url=https://raw.githubusercontent.com/jupyter-naas/awesome-notebooks/master/YahooFinance/YahooFinance_Send_daily_prediction_to_Notion.ipynb\" target=\"_parent\"><img src=\"https://naasai-public.s3.eu-west-3.amazonaws.com/open_in_naas.svg\"/></a>"
   ]
  },
  {
   "cell_type": "markdown",
   "id": "ea0f4d52-5687-4719-9b35-e5abcc48328b",
   "metadata": {
    "papermill": {},
    "tags": []
   },
   "source": [
    "**Tags:** #yahoofinance #trading #markdown #prediction #plotly #slack #naas_drivers #scheduler #notification #asset #webhook #dependency #naas #investors #automation #analytics #html #image #notion"
   ]
  },
  {
   "cell_type": "markdown",
   "id": "15ce5111-42e8-479f-9002-975023b1d5f1",
   "metadata": {
    "papermill": {},
    "tags": []
   },
   "source": [
    "**Author:** [Florent Ravenel](https://www.linkedin.com/in/florent-ravenel/)"
   ]
  },
  {
   "cell_type": "markdown",
   "id": "solid-substance",
   "metadata": {
    "execution": {
     "iopub.execute_input": "2021-05-05T18:38:30.568241Z",
     "iopub.status.busy": "2021-05-05T18:38:30.567916Z",
     "iopub.status.idle": "2021-05-05T18:38:30.578313Z",
     "shell.execute_reply": "2021-05-05T18:38:30.577374Z",
     "shell.execute_reply.started": "2021-05-05T18:38:30.568205Z"
    },
    "papermill": {},
    "tags": []
   },
   "source": [
    "With this template, you can get any ticker available in [Yahoo finance](https://finance.yahoo.com/quote/TSLA/), add predictions and update a Notion DB.<br> "
   ]
  },
  {
   "cell_type": "markdown",
   "id": "d17064b3-00b5-4d71-96ba-38c6af450919",
   "metadata": {
    "papermill": {},
    "tags": []
   },
   "source": [
    "## Input"
   ]
  },
  {
   "cell_type": "markdown",
   "id": "1d8f5e20-bcfc-4ceb-83ad-0856868327a0",
   "metadata": {
    "papermill": {},
    "tags": []
   },
   "source": [
    "### Import libraries"
   ]
  },
  {
   "cell_type": "code",
   "execution_count": null,
   "id": "fd368ba3-fc40-46db-af1d-a62d11573923",
   "metadata": {
    "papermill": {},
    "tags": []
   },
   "outputs": [],
   "source": [
    "import naas\n",
    "from naas_drivers import prediction, yahoofinance, plotly, notion\n",
    "from datetime import datetime\n",
    "from naas_drivers.tools.notion import Link, BlockEmbed\n",
    "import pytz"
   ]
  },
  {
   "cell_type": "markdown",
   "id": "79126baa-2a38-4861-8130-66b4c4e13621",
   "metadata": {
    "papermill": {},
    "tags": []
   },
   "source": [
    "### Setup Yahoo Finance\n",
    "👉 Here you can change the ticker and timeframe"
   ]
  },
  {
   "cell_type": "code",
   "execution_count": null,
   "id": "exceptional-pearl",
   "metadata": {
    "papermill": {},
    "tags": []
   },
   "outputs": [],
   "source": [
    "TICKER = \"TSLA\"\n",
    "date_from = -100 # 1OO days max to feed the naas_driver for prediction\n",
    "date_to = \"today\""
   ]
  },
  {
   "cell_type": "markdown",
   "id": "f617e5d7-76e1-4229-b515-ed6c4401f45f",
   "metadata": {
    "papermill": {},
    "tags": []
   },
   "source": [
    "### Setup Prediction\n",
    "👉 Here you can change the number of data points you want the prediction will be performed on"
   ]
  },
  {
   "cell_type": "code",
   "execution_count": null,
   "id": "f7fce301-79ad-4064-885e-acd834780e64",
   "metadata": {
    "papermill": {},
    "tags": []
   },
   "outputs": [],
   "source": [
    "DATA_POINT = 20"
   ]
  },
  {
   "cell_type": "markdown",
   "id": "4ed110aa-ba0b-4d3a-a5da-d14db58448ba",
   "metadata": {
    "papermill": {},
    "tags": []
   },
   "source": [
    "### Setup Notion\n",
    "- [Get your Notion integration token](https://docs.naas.ai/drivers/notion)\n",
    "- Share integration with your database"
   ]
  },
  {
   "cell_type": "code",
   "execution_count": null,
   "id": "e70e56b3-c1cc-4602-a0c6-7164891dd4af",
   "metadata": {
    "papermill": {},
    "tags": []
   },
   "outputs": [],
   "source": [
    "# Credentials\n",
    "NOTION_TOKEN = \"YOUR_NOTION_TOKEN\"\n",
    "DATABASE_URL = \"https://www.notion.so/naas-official/f42d6592949axxxxxxxxxxxxx\"\n",
    "\n",
    "# Setup your page title, this will be the key to update your data\n",
    "PAGE_TITLE = \"Tesla stock\""
   ]
  },
  {
   "cell_type": "markdown",
   "id": "b9b9a046-0559-444c-916a-dfe5fe385edc",
   "metadata": {
    "papermill": {},
    "tags": []
   },
   "source": [
    "### Setup Assets"
   ]
  },
  {
   "cell_type": "code",
   "execution_count": null,
   "id": "4eb2d451-00ad-491b-be40-3d968f1adddd",
   "metadata": {
    "papermill": {},
    "tags": []
   },
   "outputs": [],
   "source": [
    "NOW = datetime.now().strftime(\"%Y-%m-%d\")\n",
    "excel_output = f\"{TICKER}_{NOW}.xlsx\"\n",
    "image_output = f\"{TICKER}.png\"\n",
    "html_output = f\"{TICKER}.html\""
   ]
  },
  {
   "cell_type": "markdown",
   "id": "great-visiting",
   "metadata": {
    "papermill": {},
    "tags": []
   },
   "source": [
    "### Setup Naas scheduler"
   ]
  },
  {
   "cell_type": "code",
   "execution_count": null,
   "id": "isolated-harrison",
   "metadata": {
    "papermill": {},
    "tags": []
   },
   "outputs": [],
   "source": [
    "naas.scheduler.add(cron=\"0 9 * * *\")\n",
    "\n",
    "# if you want to delete the scheduler, uncoment the line below and execute the cell\n",
    "# naas.scheduler.delete() "
   ]
  },
  {
   "cell_type": "markdown",
   "id": "0a1ad0db-97b3-4f84-a82e-517595d95f17",
   "metadata": {
    "papermill": {},
    "tags": []
   },
   "source": [
    "## Model"
   ]
  },
  {
   "cell_type": "markdown",
   "id": "manufactured-allocation",
   "metadata": {
    "papermill": {},
    "tags": []
   },
   "source": [
    "### Get dataset from Yahoo Finance"
   ]
  },
  {
   "cell_type": "code",
   "execution_count": null,
   "id": "powered-ensemble",
   "metadata": {
    "papermill": {},
    "tags": []
   },
   "outputs": [],
   "source": [
    "df_yahoo = yahoofinance.get(tickers=TICKER,\n",
    "                            date_from=date_from,\n",
    "                            date_to=date_to).dropna().reset_index(drop=True)\n",
    "\n",
    "# Display dataframe\n",
    "df_yahoo.tail(5)"
   ]
  },
  {
   "cell_type": "markdown",
   "id": "9bf08bfc-bd3f-4d52-bacb-3a0e73ea4a21",
   "metadata": {
    "papermill": {},
    "tags": []
   },
   "source": [
    "### Add prediction columns"
   ]
  },
  {
   "cell_type": "code",
   "execution_count": null,
   "id": "inside-sponsorship",
   "metadata": {
    "papermill": {},
    "tags": []
   },
   "outputs": [],
   "source": [
    "df_predict = prediction.get(dataset=df_yahoo,\n",
    "                            date_column='Date',\n",
    "                            column=\"Close\",\n",
    "                            data_points=DATA_POINT,\n",
    "                            prediction_type=\"all\").sort_values(\"Date\", ascending=False).reset_index(drop=True)\n",
    "# Display dataframe\n",
    "df_predict.head(int(DATA_POINT)+5)"
   ]
  },
  {
   "cell_type": "markdown",
   "id": "plastic-boards",
   "metadata": {
    "papermill": {},
    "tags": []
   },
   "source": [
    "### Plot linechart"
   ]
  },
  {
   "cell_type": "code",
   "execution_count": null,
   "id": "pursuant-toyota",
   "metadata": {
    "papermill": {},
    "tags": []
   },
   "outputs": [],
   "source": [
    "fig = plotly.linechart(df_predict,\n",
    "                       x=\"Date\",\n",
    "                       y=[\"Close\", \"ARIMA\", \"SVR\", \"LINEAR\", \"COMPOUND\"],\n",
    "                       showlegend=True,\n",
    "                       title=f\"{TICKER} predictions as of today, for next {str(DATA_POINT)} days.\")"
   ]
  },
  {
   "cell_type": "markdown",
   "id": "qualified-abuse",
   "metadata": {
    "papermill": {},
    "tags": []
   },
   "source": [
    "### Set actual data and variation"
   ]
  },
  {
   "cell_type": "code",
   "execution_count": null,
   "id": "c687f056-3a57-4f9e-9bdd-c790ae55e0d9",
   "metadata": {
    "papermill": {},
    "tags": []
   },
   "outputs": [],
   "source": [
    "def get_variation(df):\n",
    "    df = df.sort_values(\"Date\", ascending=False).reset_index(drop=True)\n",
    "    \n",
    "    # Get value and value comp\n",
    "    datanow = df.loc[0, \"Close\"]\n",
    "    datayesterday = df.loc[1, \"Close\"]\n",
    "    \n",
    "    # Calc variation en value and %\n",
    "    varv = datanow - datayesterday\n",
    "    varp = (varv / datanow)\n",
    "    return datanow, datayesterday, varv, varp\n",
    "\n",
    "DATANOW, DATAYESTERDAY, VARV, VARP = get_variation(df_yahoo)\n",
    "print(\"Value today:\", DATANOW)\n",
    "print(\"Value yesterday:\", DATAYESTERDAY)\n",
    "print(\"Var. in value:\", VARV)\n",
    "print(\"Var. in %:\", VARP)"
   ]
  },
  {
   "cell_type": "markdown",
   "id": "4c3b1e52-c5bc-4731-8cb7-444f9e2b12b6",
   "metadata": {
    "papermill": {},
    "tags": []
   },
   "source": [
    "### Save and share your data in Excel"
   ]
  },
  {
   "cell_type": "code",
   "execution_count": null,
   "id": "8b232139-240f-4538-99d6-2ea557e5bffd",
   "metadata": {
    "papermill": {},
    "tags": []
   },
   "outputs": [],
   "source": [
    "df_predict.to_excel(excel_output)\n",
    "\n",
    "# Share output with naas\n",
    "link_excel = naas.asset.add(excel_output)\n",
    "\n",
    "#-> Uncomment the line below to remove your asset\n",
    "# naas.asset.delete(excel_output)"
   ]
  },
  {
   "cell_type": "markdown",
   "id": "338e79f1-65ae-4a78-9cf0-475ca75b367e",
   "metadata": {
    "execution": {
     "iopub.execute_input": "2022-04-25T15:05:55.410069Z",
     "iopub.status.busy": "2022-04-25T15:05:55.409689Z",
     "iopub.status.idle": "2022-04-25T15:05:55.412745Z",
     "shell.execute_reply": "2022-04-25T15:05:55.412096Z",
     "shell.execute_reply.started": "2022-04-25T15:05:55.410037Z"
    },
    "papermill": {},
    "tags": []
   },
   "source": [
    "### Save and share your graph in PNG"
   ]
  },
  {
   "cell_type": "code",
   "execution_count": null,
   "id": "a5c6f33b-0c7f-43fe-a24f-69c8cfab2226",
   "metadata": {
    "papermill": {},
    "tags": []
   },
   "outputs": [],
   "source": [
    "# Save your graph in PNG\n",
    "fig.write_image(image_output)\n",
    "\n",
    "# Share output with naas\n",
    "link_image = naas.asset.add(image_output)\n",
    "\n",
    "#-> Uncomment the line below to remove your asset\n",
    "# naas.asset.delete(image_output)"
   ]
  },
  {
   "cell_type": "markdown",
   "id": "moved-folder",
   "metadata": {
    "papermill": {},
    "tags": []
   },
   "source": [
    "### Save and share your graph in HTML"
   ]
  },
  {
   "cell_type": "code",
   "execution_count": null,
   "id": "0bbeb746-bde6-49c3-87ed-d355d8baa49f",
   "metadata": {
    "papermill": {},
    "tags": []
   },
   "outputs": [],
   "source": [
    "# Save your graph in HTML\n",
    "fig.write_html(html_output)\n",
    "\n",
    "# Share output with naas\n",
    "link_html = naas.asset.add(html_output, params={\"inline\": True})\n",
    "\n",
    "#-> Uncomment the line below to remove your asset\n",
    "# naas.asset.delete(html_output)"
   ]
  },
  {
   "cell_type": "markdown",
   "id": "d71d8ad4-697d-4d4e-be8c-6c7d54d174e0",
   "metadata": {
    "papermill": {},
    "tags": []
   },
   "source": [
    "## Output"
   ]
  },
  {
   "cell_type": "markdown",
   "id": "86e501b3-c3d8-43cc-aa9e-e69c710588f6",
   "metadata": {
    "execution": {
     "iopub.execute_input": "2022-04-25T13:28:32.406630Z",
     "iopub.status.busy": "2022-04-25T13:28:32.406400Z",
     "iopub.status.idle": "2022-04-25T13:28:32.411040Z",
     "shell.execute_reply": "2022-04-25T13:28:32.410477Z",
     "shell.execute_reply.started": "2022-04-25T13:28:32.406608Z"
    },
    "papermill": {},
    "tags": []
   },
   "source": [
    "### Create/Update page in Notion DB"
   ]
  },
  {
   "cell_type": "code",
   "execution_count": null,
   "id": "061014cd-1640-441d-a6bb-a647c4ed9eb0",
   "metadata": {
    "papermill": {},
    "tags": []
   },
   "outputs": [],
   "source": [
    "def update_notion_db(database_url, title, value=0, varv=0, varp=0, image_link=None, html_link=None, excel_link=None):\n",
    "    # Decode database id\n",
    "    database_id = database_url.split(\"/\")[-1].split(\"?v=\")[0]\n",
    "    \n",
    "    # Get pages from notion database\n",
    "    pages = notion.connect(NOTION_TOKEN).database.query(database_id, query={})\n",
    "    \n",
    "    # Create or update page\n",
    "    page_new = True\n",
    "    for page in pages:\n",
    "        page_temp = page.df()\n",
    "        page_id = page_temp.loc[page_temp.Name == \"Name\", \"Value\"].values[0]\n",
    "        if page_id == title:\n",
    "            page_new = False\n",
    "            break\n",
    "    try:\n",
    "        if page_new:\n",
    "            page = notion.connect(NOTION_TOKEN).Page.new(database_id=database_id).create()\n",
    "            page.title(\"Name\", title)\n",
    "            \n",
    "        # Check if image already exists\n",
    "        blocks = page.get_blocks()\n",
    "        for block in blocks:\n",
    "            content_block = getattr(block, block.type)\n",
    "            if block.type == \"image\":\n",
    "                image_url = block.image.external.url\n",
    "                if image_url == image_link:\n",
    "                    image_link = None\n",
    "            if block.type == \"paragraph\":\n",
    "                if len(block.paragraph.text) > 0:\n",
    "                    text = block.paragraph.text[0].text.content\n",
    "                    if text == \"Open dynamic graph\":\n",
    "                        html_link = None\n",
    "                    if text == \"Download Excel\":\n",
    "                        excel_link = None\n",
    "        if image_link:\n",
    "            page.image(image_link)\n",
    "        if html_link:\n",
    "            res = page.paragraph(\"Open dynamic graph\")\n",
    "            res.paragraph.text[0].href = html_link\n",
    "            res.paragraph.text[0].text.link = Link(html_link)\n",
    "        if excel_link:\n",
    "            res = page.paragraph(\"Download Excel\")\n",
    "            res.paragraph.text[0].href = excel_link\n",
    "            res.paragraph.text[0].text.link = Link(excel_link)\n",
    "                                    \n",
    "        # Update dynamic properties\n",
    "        page.select(\"Status\", \"OK\")\n",
    "        page.number(\"Value\", round(float(value), 0))\n",
    "        page.number(\"Var (value)\", round(float(varv), 0))\n",
    "        page.number(\"Var (%)\", round(float(varp), 4))\n",
    "        page.date(\"Updated at\", datetime.now(pytz.timezone(\"Europe/Paris\")).strftime(\"%Y-%m-%d %H:%M:%S%z\"))\n",
    "\n",
    "        # Create page in Notion\n",
    "        page.update()\n",
    "        print(f\"✅ Page '{title}' updated in Notion.\")\n",
    "    except Exception as e:\n",
    "        print(f\"❌ Error updating {title}\")\n",
    "        return e\n",
    "        \n",
    "update_notion_db(DATABASE_URL, PAGE_TITLE, DATANOW, VARV, VARP, link_image, link_html, link_excel)"
   ]
  },
  {
   "cell_type": "code",
   "execution_count": null,
   "id": "0964030e-5638-435d-8b61-792e9712d781",
   "metadata": {
    "papermill": {},
    "tags": []
   },
   "outputs": [],
   "source": []
  }
 ],
 "metadata": {
  "kernelspec": {
   "display_name": "Python 3",
   "language": "python",
   "name": "python3"
  },
  "language_info": {
   "codemirror_mode": {
    "name": "ipython",
    "version": 3
   },
   "file_extension": ".py",
   "mimetype": "text/x-python",
   "name": "python",
   "nbconvert_exporter": "python",
   "pygments_lexer": "ipython3",
   "version": "3.9.6"
  },
  "naas": {
   "notebook_id": "32f321ba-c5df-4e6a-9e67-e7eb95aa95c6",
   "notebook_path": "YahooFinance/YahooFinance_Send_daily_prediction_to_Email.ipynb"
  },
  "papermill": {
   "default_parameters": {},
   "environment_variables": {},
   "parameters": {},
   "version": "2.3.3"
  },
  "toc-autonumbering": false,
  "widgets": {
   "application/vnd.jupyter.widget-state+json": {
    "state": {},
    "version_major": 2,
    "version_minor": 0
   }
  }
 },
 "nbformat": 4,
 "nbformat_minor": 5
}
