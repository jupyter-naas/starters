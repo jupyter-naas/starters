{
 "cells": [
  {
   "cell_type": "markdown",
   "id": "0945c819-fd6f-4dc2-93d7-9742277989f9",
   "metadata": {
    "papermill": {},
    "tags": []
   },
   "source": [
    "<img width=\"10%\" alt=\"Naas\" src=\"https://landen.imgix.net/jtci2pxwjczr/assets/5ice39g4.png?w=160\"/>"
   ]
  },
  {
   "cell_type": "markdown",
   "id": "descending-grammar",
   "metadata": {
    "papermill": {},
    "tags": []
   },
   "source": [
    "# YahooFinance - Send daily prediction to Email\n",
    "<a href=\"https://app.naas.ai/user-redirect/naas/downloader?url=https://raw.githubusercontent.com/jupyter-naas/awesome-notebooks/master/YahooFinance/YahooFinance_Send_daily_prediction_to_Email.ipynb\" target=\"_parent\"><img src=\"https://naasai-public.s3.eu-west-3.amazonaws.com/open_in_naas.svg\"/></a>"
   ]
  },
  {
   "cell_type": "markdown",
   "id": "ea0f4d52-5687-4719-9b35-e5abcc48328b",
   "metadata": {
    "papermill": {},
    "tags": []
   },
   "source": [
    "**Tags:** #yahoofinance #trading #markdown #prediction #plotly #slack #naas_drivers #notification #naas #investors #automation #analytics #email #html #image"
   ]
  },
  {
   "cell_type": "markdown",
   "id": "15ce5111-42e8-479f-9002-975023b1d5f1",
   "metadata": {
    "papermill": {},
    "tags": []
   },
   "source": [
    "**Author:** [Florent Ravenel](https://www.linkedin.com/in/florent-ravenel/)"
   ]
  },
  {
   "cell_type": "markdown",
   "id": "solid-substance",
   "metadata": {
    "execution": {
     "iopub.execute_input": "2021-05-05T18:38:30.568241Z",
     "iopub.status.busy": "2021-05-05T18:38:30.567916Z",
     "iopub.status.idle": "2021-05-05T18:38:30.578313Z",
     "shell.execute_reply": "2021-05-05T18:38:30.577374Z",
     "shell.execute_reply.started": "2021-05-05T18:38:30.568205Z"
    },
    "papermill": {},
    "tags": []
   },
   "source": [
    "With this template, you can get any ticker available in [Yahoo finance](https://finance.yahoo.com/quote/TSLA/), add predictions and send a daily email with naas.<br> "
   ]
  },
  {
   "cell_type": "markdown",
   "id": "d17064b3-00b5-4d71-96ba-38c6af450919",
   "metadata": {
    "papermill": {},
    "tags": []
   },
   "source": [
    "## Input"
   ]
  },
  {
   "cell_type": "markdown",
   "id": "1d8f5e20-bcfc-4ceb-83ad-0856868327a0",
   "metadata": {
    "papermill": {},
    "tags": []
   },
   "source": [
    "### Import libraries"
   ]
  },
  {
   "cell_type": "code",
   "execution_count": null,
   "id": "fd368ba3-fc40-46db-af1d-a62d11573923",
   "metadata": {
    "papermill": {},
    "tags": []
   },
   "outputs": [],
   "source": [
    "import naas\n",
    "from naas_drivers import prediction, yahoofinance, plotly\n",
    "import markdown2\n",
    "from datetime import datetime\n",
    "from IPython.core.display import display, HTML"
   ]
  },
  {
   "cell_type": "markdown",
   "id": "79126baa-2a38-4861-8130-66b4c4e13621",
   "metadata": {
    "papermill": {},
    "tags": []
   },
   "source": [
    "### Setup Yahoo Finance\n",
    "👉 Here you can change the ticker and timeframe"
   ]
  },
  {
   "cell_type": "code",
   "execution_count": null,
   "id": "exceptional-pearl",
   "metadata": {
    "papermill": {},
    "tags": []
   },
   "outputs": [],
   "source": [
    "TICKER = \"TSLA\"\n",
    "date_from = -100 # 1OO days max to feed the naas_driver for prediction\n",
    "date_to = \"today\""
   ]
  },
  {
   "cell_type": "markdown",
   "id": "f617e5d7-76e1-4229-b515-ed6c4401f45f",
   "metadata": {
    "papermill": {},
    "tags": []
   },
   "source": [
    "### Setup Prediction\n",
    "👉 Here you can change the number of data points you want the prediction will be performed on"
   ]
  },
  {
   "cell_type": "code",
   "execution_count": null,
   "id": "f7fce301-79ad-4064-885e-acd834780e64",
   "metadata": {
    "papermill": {},
    "tags": []
   },
   "outputs": [],
   "source": [
    "DATA_POINT = 20"
   ]
  },
  {
   "cell_type": "markdown",
   "id": "803c592f-22c0-4014-be4e-0aeb4e6308f4",
   "metadata": {
    "papermill": {},
    "tags": []
   },
   "source": [
    "### Setup Email\n",
    "👉 Here you can input your sender email and destination email.<br>\n",
    "Note: emails are sent from notification@naas.ai by default"
   ]
  },
  {
   "cell_type": "code",
   "execution_count": null,
   "id": "02f0a43e-9270-43dc-9150-6a4f97a99b26",
   "metadata": {
    "papermill": {},
    "tags": []
   },
   "outputs": [],
   "source": [
    "# Naas notification parameters\n",
    "EMAIL_TO = \"YOUR_EMAIL\"\n",
    "EMAIL_FROM = None\n",
    "EMAIL_SUBJECT = f\"📈 {TICKER} predictions as of today\"\n",
    "\n",
    "# Markdown template created on your local env\n",
    "EMAIL_CONTENT_MD = \"email_content.md\""
   ]
  },
  {
   "cell_type": "markdown",
   "id": "b9b9a046-0559-444c-916a-dfe5fe385edc",
   "metadata": {
    "papermill": {},
    "tags": []
   },
   "source": [
    "### Setup Assets"
   ]
  },
  {
   "cell_type": "code",
   "execution_count": null,
   "id": "4eb2d451-00ad-491b-be40-3d968f1adddd",
   "metadata": {
    "papermill": {},
    "tags": []
   },
   "outputs": [],
   "source": [
    "NOW = datetime.now().strftime(\"%Y-%m-%d\")\n",
    "excel_output = f\"{TICKER}_{NOW}.xlsx\"\n",
    "image_output = f\"{TICKER}.png\"\n",
    "html_output = f\"{TICKER}.html\""
   ]
  },
  {
   "cell_type": "markdown",
   "id": "great-visiting",
   "metadata": {
    "papermill": {},
    "tags": []
   },
   "source": [
    "### Setup Naas scheduler"
   ]
  },
  {
   "cell_type": "code",
   "execution_count": null,
   "id": "isolated-harrison",
   "metadata": {
    "papermill": {},
    "tags": []
   },
   "outputs": [],
   "source": [
    "naas.scheduler.add(cron=\"0 9 * * *\")\n",
    "\n",
    "# if you want to delete the scheduler, uncoment the line below and execute the cell\n",
    "#naas.scheduler.delete() "
   ]
  },
  {
   "cell_type": "markdown",
   "id": "0a1ad0db-97b3-4f84-a82e-517595d95f17",
   "metadata": {
    "papermill": {},
    "tags": []
   },
   "source": [
    "## Model"
   ]
  },
  {
   "cell_type": "markdown",
   "id": "manufactured-allocation",
   "metadata": {
    "papermill": {},
    "tags": []
   },
   "source": [
    "### Get dataset from Yahoo Finance"
   ]
  },
  {
   "cell_type": "code",
   "execution_count": null,
   "id": "powered-ensemble",
   "metadata": {
    "papermill": {},
    "tags": []
   },
   "outputs": [],
   "source": [
    "df_yahoo = yahoofinance.get(tickers=TICKER,\n",
    "                            date_from=date_from,\n",
    "                            date_to=date_to).dropna().reset_index(drop=True)\n",
    "\n",
    "# Display dataframe\n",
    "df_yahoo.tail(5)"
   ]
  },
  {
   "cell_type": "markdown",
   "id": "9bf08bfc-bd3f-4d52-bacb-3a0e73ea4a21",
   "metadata": {
    "papermill": {},
    "tags": []
   },
   "source": [
    "### Add prediction columns"
   ]
  },
  {
   "cell_type": "code",
   "execution_count": null,
   "id": "inside-sponsorship",
   "metadata": {
    "papermill": {},
    "tags": []
   },
   "outputs": [],
   "source": [
    "df_predict = prediction.get(dataset=df_yahoo,\n",
    "                            date_column='Date',\n",
    "                            column=\"Close\",\n",
    "                            data_points=DATA_POINT,\n",
    "                            prediction_type=\"all\").sort_values(\"Date\", ascending=False).reset_index(drop=True)\n",
    "# Display dataframe\n",
    "df_predict.head(int(DATA_POINT)+5)"
   ]
  },
  {
   "cell_type": "markdown",
   "id": "plastic-boards",
   "metadata": {
    "papermill": {},
    "tags": []
   },
   "source": [
    "### Plot linechart"
   ]
  },
  {
   "cell_type": "code",
   "execution_count": null,
   "id": "pursuant-toyota",
   "metadata": {
    "papermill": {},
    "tags": []
   },
   "outputs": [],
   "source": [
    "fig = plotly.linechart(df_predict,\n",
    "                       x=\"Date\",\n",
    "                       y=[\"Close\", \"ARIMA\", \"SVR\", \"LINEAR\", \"COMPOUND\"],\n",
    "                       showlegend=True,\n",
    "                       title=f\"{TICKER} predictions as of today, for next {str(DATA_POINT)} days.\")"
   ]
  },
  {
   "cell_type": "markdown",
   "id": "qualified-abuse",
   "metadata": {
    "papermill": {},
    "tags": []
   },
   "source": [
    "### Set actual data and variation"
   ]
  },
  {
   "cell_type": "code",
   "execution_count": null,
   "id": "c687f056-3a57-4f9e-9bdd-c790ae55e0d9",
   "metadata": {
    "papermill": {},
    "tags": []
   },
   "outputs": [],
   "source": [
    "def get_variation(df):\n",
    "    df = df.sort_values(\"Date\", ascending=False).reset_index(drop=True)\n",
    "    \n",
    "    # Get value and value comp\n",
    "    datanow = df.loc[0, \"Close\"]\n",
    "    datayesterday = df.loc[1, \"Close\"]\n",
    "    \n",
    "    # Calc variation en value and %\n",
    "    varv = datanow - datayesterday\n",
    "    varp = (varv / datanow)\n",
    "    \n",
    "    # Format result\n",
    "    datanow = \"${:,.2f}\".format(round(datanow, 1))\n",
    "    datayesterday = \"${:,.2f}\".format(round(datayesterday, 1))\n",
    "    varv = \"{:+,.2f}\".format(varv)\n",
    "    varp = \"{:+,.2%}\".format(varp)\n",
    "    return datanow, datayesterday, varv, varp\n",
    "\n",
    "DATANOW, DATAYESTERDAY, VARV, VARP = get_variation(df_yahoo)\n",
    "print(\"Value today:\", DATANOW)\n",
    "print(\"Value yesterday:\", DATAYESTERDAY)\n",
    "print(\"Var. in value:\", VARV)\n",
    "print(\"Var. in %:\", VARP)"
   ]
  },
  {
   "cell_type": "markdown",
   "id": "organic-montana",
   "metadata": {
    "execution": {
     "iopub.execute_input": "2021-04-02T19:41:00.756597Z",
     "iopub.status.busy": "2021-04-02T19:41:00.756289Z",
     "iopub.status.idle": "2021-04-02T19:41:00.765290Z",
     "shell.execute_reply": "2021-04-02T19:41:00.764718Z",
     "shell.execute_reply.started": "2021-04-02T19:41:00.756562Z"
    },
    "papermill": {},
    "tags": []
   },
   "source": [
    "### Set predict data"
   ]
  },
  {
   "cell_type": "code",
   "execution_count": null,
   "id": "f4c0ec8a-55bb-4018-b0f7-df956ae8d93b",
   "metadata": {
    "papermill": {},
    "tags": []
   },
   "outputs": [],
   "source": [
    "def get_prediction(df, prediction):\n",
    "    data = df.loc[0, prediction]\n",
    "    \n",
    "    # Format result\n",
    "    data = \"${:,.2f}\".format(round(data, 1))\n",
    "    return data\n",
    "\n",
    "ARIMA = get_prediction(df_predict, \"ARIMA\")\n",
    "print(\"Value ARIMA:\", ARIMA)\n",
    "SVR = get_prediction(df_predict, \"SVR\")\n",
    "print(\"Value SVR:\", SVR)\n",
    "LINEAR = get_prediction(df_predict, \"LINEAR\")\n",
    "print(\"Value LINEAR:\", LINEAR)\n",
    "COMPOUND = get_prediction(df_predict, \"COMPOUND\")\n",
    "print(\"Value COMPOUND:\", COMPOUND)"
   ]
  },
  {
   "cell_type": "markdown",
   "id": "4c3b1e52-c5bc-4731-8cb7-444f9e2b12b6",
   "metadata": {
    "papermill": {},
    "tags": []
   },
   "source": [
    "### Save data in Excel"
   ]
  },
  {
   "cell_type": "code",
   "execution_count": null,
   "id": "8b232139-240f-4538-99d6-2ea557e5bffd",
   "metadata": {
    "papermill": {},
    "tags": []
   },
   "outputs": [],
   "source": [
    "df_predict.to_excel(excel_output)"
   ]
  },
  {
   "cell_type": "markdown",
   "id": "moved-folder",
   "metadata": {
    "papermill": {},
    "tags": []
   },
   "source": [
    "### Save and share your graph in HTML"
   ]
  },
  {
   "cell_type": "code",
   "execution_count": null,
   "id": "0bbeb746-bde6-49c3-87ed-d355d8baa49f",
   "metadata": {
    "papermill": {},
    "tags": []
   },
   "outputs": [],
   "source": [
    "# Save your graph in HTML\n",
    "fig.write_html(html_output)\n",
    "\n",
    "# Share output with naas\n",
    "link_html = naas.asset.add(html_output, params={\"inline\": True})\n",
    "\n",
    "#-> Uncomment the line below to remove your asset\n",
    "# naas.asset.delete(html_output)"
   ]
  },
  {
   "cell_type": "markdown",
   "id": "338e79f1-65ae-4a78-9cf0-475ca75b367e",
   "metadata": {
    "execution": {
     "iopub.execute_input": "2022-04-25T15:05:55.410069Z",
     "iopub.status.busy": "2022-04-25T15:05:55.409689Z",
     "iopub.status.idle": "2022-04-25T15:05:55.412745Z",
     "shell.execute_reply": "2022-04-25T15:05:55.412096Z",
     "shell.execute_reply.started": "2022-04-25T15:05:55.410037Z"
    },
    "papermill": {},
    "tags": []
   },
   "source": [
    "### Save and share your graph in PNG"
   ]
  },
  {
   "cell_type": "code",
   "execution_count": null,
   "id": "a5c6f33b-0c7f-43fe-a24f-69c8cfab2226",
   "metadata": {
    "papermill": {},
    "tags": []
   },
   "outputs": [],
   "source": [
    "# Save your graph in PNG\n",
    "fig.write_image(image_output)\n",
    "\n",
    "# Share output with naas\n",
    "link_image = naas.asset.add(image_output)\n",
    "\n",
    "#-> Uncomment the line below to remove your asset\n",
    "# naas.asset.delete(image_output)"
   ]
  },
  {
   "cell_type": "markdown",
   "id": "280093d2-1b8e-44a1-8bb3-3985fd7e0367",
   "metadata": {
    "papermill": {},
    "tags": []
   },
   "source": [
    "### Create webhook to run your notebook again"
   ]
  },
  {
   "cell_type": "code",
   "execution_count": null,
   "id": "0f72adbf-be8e-444b-a01d-d789643a9783",
   "metadata": {
    "papermill": {},
    "tags": []
   },
   "outputs": [],
   "source": [
    "link_webhook = naas.webhook.add()"
   ]
  },
  {
   "cell_type": "markdown",
   "id": "cutting-credit",
   "metadata": {
    "papermill": {},
    "tags": []
   },
   "source": [
    "### Create Email template "
   ]
  },
  {
   "cell_type": "code",
   "execution_count": null,
   "id": "77f402e0-e200-4338-9e55-8f229eca4aeb",
   "metadata": {
    "papermill": {},
    "tags": []
   },
   "outputs": [],
   "source": [
    "%%writefile $EMAIL_CONTENT_MD\n",
    "Hello world,\n",
    "\n",
    "The **TICKER** price is **DATANOW** right now, VARV vs yesterday (VARP).<br>\n",
    "Yesterday close : DATAYESTERDAY\n",
    "\n",
    "In +DATA_POINT days, basic ML models predict the following prices: \n",
    "\n",
    "- **arima**: ARIMA\n",
    "- **svr**: SVR\n",
    "- **linear**: LINEAR\n",
    "- **compound**: COMPOUND\n",
    "    \n",
    "<img href=link_html target=\"_blank\" src=link_image style=\"width:640px; height:360px;\" /><br>\n",
    "[Open dynamic chart](link_html)<br>\n",
    "\n",
    "Please find attached the data in Excel.<br>\n",
    "\n",
    "Have a nice day.\n",
    "<br>\n",
    "\n",
    "PS: You can [send the email again](link_webhook) if you need a fresh update.<br>\n",
    "<div><strong>Full Name</strong></div>\n",
    "<div>Open source lover | <a href=\"http://www.naas.ai/\" target=\"_blank\">Naas</a></div>\n",
    "<div>+ 33 1 23 45 67 89</div>\n",
    "<div><small>This is an automated email from my Naas account</small></div>"
   ]
  },
  {
   "cell_type": "markdown",
   "id": "encouraging-tomorrow",
   "metadata": {
    "papermill": {},
    "tags": []
   },
   "source": [
    "### Replace values in templates"
   ]
  },
  {
   "cell_type": "code",
   "execution_count": null,
   "id": "87401bf2-7bb1-41f6-b409-b3201ff195f5",
   "metadata": {
    "papermill": {},
    "tags": []
   },
   "outputs": [],
   "source": [
    "def replace_value(md):\n",
    "    post = md.replace(\"DATANOW\", str(DATANOW))\n",
    "    post = post.replace(\"TICKER\", str(TICKER))\n",
    "    post = post.replace(\"DATAYESTERDAY\", str(DATAYESTERDAY))\n",
    "    post = post.replace(\"VARV\", str(VARV))\n",
    "    post = post.replace(\"VARP\", str(VARP))\n",
    "    post = post.replace(\"LINEAR\", str(LINEAR))\n",
    "    post = post.replace(\"SVR\", str(SVR))\n",
    "    post = post.replace(\"COMPOUND\", str(COMPOUND))\n",
    "    post = post.replace(\"ARIMA\", str(ARIMA))\n",
    "    post = post.replace(\"DATA_POINT\", str(DATA_POINT))\n",
    "    post = post.replace(\"link_image\", str(link_image))\n",
    "    post = post.replace(\"link_html\", str(link_html))\n",
    "    post = post.replace(\"link_webhook\", str(link_webhook))\n",
    "    return post"
   ]
  },
  {
   "cell_type": "markdown",
   "id": "08b62353-65c3-478c-806a-7b3b9957faf3",
   "metadata": {
    "papermill": {},
    "tags": []
   },
   "source": [
    "### Create Email content"
   ]
  },
  {
   "cell_type": "code",
   "execution_count": null,
   "id": "7898bb59-0635-472b-b5dc-5e016fce4b43",
   "metadata": {
    "papermill": {},
    "tags": []
   },
   "outputs": [],
   "source": [
    "content = open(EMAIL_CONTENT_MD, \"r\").read()\n",
    "md = markdown2.markdown(content)\n",
    "email_content = replace_value(md)\n",
    "display(HTML(email_content))"
   ]
  },
  {
   "cell_type": "markdown",
   "id": "d71d8ad4-697d-4d4e-be8c-6c7d54d174e0",
   "metadata": {
    "papermill": {},
    "tags": []
   },
   "source": [
    "## Output"
   ]
  },
  {
   "cell_type": "markdown",
   "id": "quantitative-trader",
   "metadata": {
    "papermill": {},
    "tags": []
   },
   "source": [
    "### Send Email"
   ]
  },
  {
   "cell_type": "code",
   "execution_count": null,
   "id": "33559718-1af4-458e-a972-ff7ac7466e34",
   "metadata": {
    "papermill": {},
    "tags": []
   },
   "outputs": [],
   "source": [
    "naas.notification.send(email_to=EMAIL_TO,\n",
    "                       subject=EMAIL_SUBJECT,\n",
    "                       html=email_content,\n",
    "                       files=[excel_output],\n",
    "                       email_from=EMAIL_FROM)"
   ]
  }
 ],
 "metadata": {
  "kernelspec": {
   "display_name": "Python 3",
   "language": "python",
   "name": "python3"
  },
  "language_info": {
   "codemirror_mode": {
    "name": "ipython",
    "version": 3
   },
   "file_extension": ".py",
   "mimetype": "text/x-python",
   "name": "python",
   "nbconvert_exporter": "python",
   "pygments_lexer": "ipython3",
   "version": "3.9.6"
  },
  "naas": {
   "notebook_id": "32f321ba-c5df-4e6a-9e67-e7eb95aa95c6",
   "notebook_path": "YahooFinance/YahooFinance_Send_daily_prediction_to_Email.ipynb"
  },
  "papermill": {
   "default_parameters": {},
   "environment_variables": {},
   "parameters": {},
   "version": "2.3.3"
  },
  "toc-autonumbering": false,
  "widgets": {
   "application/vnd.jupyter.widget-state+json": {
    "state": {},
    "version_major": 2,
    "version_minor": 0
   }
  }
 },
 "nbformat": 4,
 "nbformat_minor": 5
}
