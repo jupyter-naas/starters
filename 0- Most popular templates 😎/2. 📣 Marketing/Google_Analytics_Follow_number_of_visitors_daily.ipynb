{
 "cells": [
  {
   "cell_type": "markdown",
   "id": "4674b02f",
   "metadata": {
    "execution": {
     "iopub.execute_input": "2021-02-23T14:22:16.610471Z",
     "iopub.status.busy": "2021-02-23T14:22:16.610129Z",
     "iopub.status.idle": "2021-02-23T14:22:16.627784Z",
     "shell.execute_reply": "2021-02-23T14:22:16.626866Z",
     "shell.execute_reply.started": "2021-02-23T14:22:16.610384Z"
    },
    "papermill": {},
    "tags": []
   },
   "source": [
    "<img width=\"10%\" alt=\"Naas\" src=\"https://landen.imgix.net/jtci2pxwjczr/assets/5ice39g4.png?w=160\"/>"
   ]
  },
  {
   "cell_type": "markdown",
   "id": "b7a36ee3",
   "metadata": {
    "papermill": {},
    "tags": []
   },
   "source": [
    "# Google Analytics - Follow number of visitors daily\n",
    "<a href=\"https://app.naas.ai/user-redirect/naas/downloader?url=https://raw.githubusercontent.com/jupyter-naas/awesome-notebooks/master/Google%20Analytics/Google_Analytics_Follow_number_of_visitors_daily.ipynb\" target=\"_parent\"><img src=\"https://naasai-public.s3.eu-west-3.amazonaws.com/open_in_naas.svg\"/></a>"
   ]
  },
  {
   "cell_type": "markdown",
   "id": "19875963",
   "metadata": {
    "papermill": {},
    "tags": []
   },
   "source": [
    "**Tags:** #googleanalytics #analytics #marketing #csv #html #plotly #image #png"
   ]
  },
  {
   "cell_type": "markdown",
   "id": "29814b06-df6a-4be0-9b98-a9a523e2f98b",
   "metadata": {
    "papermill": {},
    "tags": []
   },
   "source": [
    "**Author:** [Florent Ravenel](https://www.linkedin.com/in/ACoAABCNSioBW3YZHc2lBHVG0E_TXYWitQkmwog/)"
   ]
  },
  {
   "cell_type": "markdown",
   "id": "55f800df",
   "metadata": {
    "papermill": {},
    "tags": []
   },
   "source": [
    "## Input"
   ]
  },
  {
   "cell_type": "markdown",
   "id": "3f24ee2c",
   "metadata": {
    "papermill": {},
    "tags": []
   },
   "source": [
    "### Import library"
   ]
  },
  {
   "cell_type": "code",
   "execution_count": 14,
   "id": "b2586bcc",
   "metadata": {
    "execution": {
     "iopub.execute_input": "2022-04-22T14:22:07.362328Z",
     "iopub.status.busy": "2022-04-22T14:22:07.362090Z",
     "iopub.status.idle": "2022-04-22T14:22:07.366229Z",
     "shell.execute_reply": "2022-04-22T14:22:07.365289Z",
     "shell.execute_reply.started": "2022-04-22T14:22:07.362304Z"
    },
    "papermill": {},
    "tags": []
   },
   "outputs": [],
   "source": [
    "import plotly.graph_objects as go\n",
    "import naas\n",
    "import datetime\n",
    "import pandas as pd\n",
    "from naas_drivers import googleanalytics"
   ]
  },
  {
   "cell_type": "markdown",
   "id": "8f103e30",
   "metadata": {
    "papermill": {},
    "tags": []
   },
   "source": [
    "### Setup Google Analytics"
   ]
  },
  {
   "cell_type": "markdown",
   "id": "7e6ef3e1",
   "metadata": {
    "papermill": {},
    "tags": []
   },
   "source": [
    "👉 Create your own <a href=\"\">Google API JSON credential</a>"
   ]
  },
  {
   "cell_type": "code",
   "execution_count": 15,
   "id": "04c24e42",
   "metadata": {
    "execution": {
     "iopub.execute_input": "2022-04-22T14:22:08.324721Z",
     "iopub.status.busy": "2022-04-22T14:22:08.324434Z",
     "iopub.status.idle": "2022-04-22T14:22:08.328897Z",
     "shell.execute_reply": "2022-04-22T14:22:08.327906Z",
     "shell.execute_reply.started": "2022-04-22T14:22:08.324692Z"
    },
    "papermill": {},
    "tags": []
   },
   "outputs": [],
   "source": [
    "# Get your credential from Google Cloud Platform\n",
    "json_path = 'naas-googleanalytics.json'\n",
    "\n",
    "# Get view id from google analytics\n",
    "view_id = \"228952707\"\n",
    "\n",
    "# Setup your data parameters\n",
    "dimensions = \"daily\" #hourly, daily, weekly, monthly\n",
    "start_date = \"30daysAgo\" #XdaysAgo or date in ISO format %Y-%m-%d\n",
    "end_date = \"today\" #Today or date in ISO format %Y-%m-%d"
   ]
  },
  {
   "cell_type": "markdown",
   "id": "cd3830c6-1c09-4b7a-95bf-a8d9159759ff",
   "metadata": {
    "papermill": {},
    "tags": []
   },
   "source": [
    "### Setup Outputs"
   ]
  },
  {
   "cell_type": "code",
   "execution_count": 16,
   "id": "092e3e2e-194a-497e-b824-94077a33da83",
   "metadata": {
    "execution": {
     "iopub.execute_input": "2022-04-22T14:22:09.195316Z",
     "iopub.status.busy": "2022-04-22T14:22:09.195077Z",
     "iopub.status.idle": "2022-04-22T14:22:09.199332Z",
     "shell.execute_reply": "2022-04-22T14:22:09.198507Z",
     "shell.execute_reply.started": "2022-04-22T14:22:09.195290Z"
    },
    "papermill": {},
    "tags": []
   },
   "outputs": [],
   "source": [
    "# Chart title\n",
    "title = \"Visitors\"\n",
    "\n",
    "# Outputs path\n",
    "name_output = f\"Google_Analytics_visitors_{dimensions}\"\n",
    "csv_output = f\"{name_output}.csv\"\n",
    "image_output = f\"{name_output}.png\"\n",
    "html_output = f\"{name_output}.html\""
   ]
  },
  {
   "cell_type": "markdown",
   "id": "3729685f-abab-4f5e-919f-3b07ce841f1c",
   "metadata": {
    "papermill": {},
    "tags": []
   },
   "source": [
    "## Model"
   ]
  },
  {
   "cell_type": "markdown",
   "id": "d08332b2",
   "metadata": {
    "papermill": {},
    "tags": []
   },
   "source": [
    "### Get trend"
   ]
  },
  {
   "cell_type": "code",
   "execution_count": 17,
   "id": "461de2bd-27c7-4d88-bbb6-63c517ab0cc8",
   "metadata": {
    "execution": {
     "iopub.execute_input": "2022-04-22T14:22:12.274145Z",
     "iopub.status.busy": "2022-04-22T14:22:12.273906Z",
     "iopub.status.idle": "2022-04-22T14:22:12.944152Z",
     "shell.execute_reply": "2022-04-22T14:22:12.943226Z",
     "shell.execute_reply.started": "2022-04-22T14:22:12.274119Z"
    },
    "papermill": {},
    "tags": []
   },
   "outputs": [],
   "source": [
    "df = googleanalytics.connect(json_path, view_id).users.get_trend(dimensions, start_date, end_date)\n",
    "df"
   ]
  },
  {
   "cell_type": "markdown",
   "id": "df5aee5b",
   "metadata": {
    "papermill": {},
    "tags": []
   },
   "source": [
    "### Plotting linechart"
   ]
  },
  {
   "cell_type": "code",
   "execution_count": 18,
   "id": "bdd79b47-c8bb-467a-812d-f6d0a6c85a9d",
   "metadata": {
    "execution": {
     "iopub.execute_input": "2022-04-22T14:22:13.904509Z",
     "iopub.status.busy": "2022-04-22T14:22:13.904225Z",
     "iopub.status.idle": "2022-04-22T14:22:13.936617Z",
     "shell.execute_reply": "2022-04-22T14:22:13.935379Z",
     "shell.execute_reply.started": "2022-04-22T14:22:13.904452Z"
    },
    "papermill": {},
    "tags": []
   },
   "outputs": [],
   "source": [
    "def create_linechart(df: pd.DataFrame, label, value, varv, varp, title):\n",
    "    \"\"\"\n",
    "    Plot linechart as an area chart in Plotly.\n",
    "    \"\"\"\n",
    "    # Prep data\n",
    "    df[\"VALUE_D\"] = df[value].map(\"{:,.0f}\".format).str.replace(\",\", \" \")\n",
    "    df[\"VARV_D\"] = df[varv].map(\"{:,.0f}\".format).str.replace(\",\", \" \")\n",
    "    df.loc[df[varv] > 0, \"VARV_D\"] = \"+\" + df[\"VARV_D\"]\n",
    "    df[\"VARP_D\"] = df[varp].map(\"{:,.0%}\".format).str.replace(\",\", \" \")\n",
    "    df.loc[df[varp] > 0, \"VARP_D\"] = \"+\" + df[\"VARP_D\"]    \n",
    "\n",
    "    # Create hovertext\n",
    "    df[\"TEXT\"] = (f\"<b>{title} as of \" + df[label].astype(str) + \" : \" + df[\"VALUE_D\"] + \"</b><br><span style='font-size: 13px;'>\" + df[\"VARP_D\"] + \" vs last value (\" + df[\"VARV_D\"] + \")</span>\")\n",
    "    \n",
    "    # Get subtitle\n",
    "    title_display = df.loc[df.index[-1], \"TEXT\"] \n",
    "    \n",
    "    # Create data\n",
    "    data = go.Scatter(\n",
    "        x=df[label],\n",
    "        y=df[value],\n",
    "        stackgroup=\"one\",\n",
    "        text=df[\"TEXT\"],\n",
    "        hoverinfo=\"text\",\n",
    "    )\n",
    "    \n",
    "    # Create layout\n",
    "    layout = go.Layout(\n",
    "        title=title_display,\n",
    "        title_font=dict(family=\"Arial\", size=18, color=\"black\"),\n",
    "        plot_bgcolor=\"#ffffff\",\n",
    "        width=1200,\n",
    "        height=800,\n",
    "        margin_pad=10,\n",
    "    )\n",
    "    fig = go.Figure(data=data, layout=layout)\n",
    "    fig.update_traces(mode='lines+markers')\n",
    "    return fig\n",
    "\n",
    "fig = create_linechart(df, \"DATE\", \"VALUE\", \"VARV\", \"VARP\", title)\n",
    "fig"
   ]
  },
  {
   "cell_type": "markdown",
   "id": "1f16409e",
   "metadata": {
    "execution": {
     "iopub.execute_input": "2021-07-02T23:32:10.789097Z",
     "iopub.status.busy": "2021-07-02T23:32:10.788829Z",
     "iopub.status.idle": "2021-07-02T23:32:10.796900Z",
     "shell.execute_reply": "2021-07-02T23:32:10.796358Z",
     "shell.execute_reply.started": "2021-07-02T23:32:10.789033Z"
    },
    "papermill": {},
    "tags": []
   },
   "source": [
    "## Output"
   ]
  },
  {
   "cell_type": "markdown",
   "id": "7f31f2d2-f301-42dd-8205-00dd34b85fa6",
   "metadata": {
    "papermill": {},
    "tags": []
   },
   "source": [
    "### Save and share csv"
   ]
  },
  {
   "cell_type": "code",
   "execution_count": null,
   "id": "bd52dd6c-e915-4025-9a67-2aed83ab9c9f",
   "metadata": {
    "papermill": {},
    "tags": []
   },
   "outputs": [],
   "source": [
    "df.to_csv(csv_output, index=False)\n",
    "\n",
    "# Share with naas\n",
    "#-> Uncomment the line below (by removing the hashtag) to share your asset with naas\n",
    "# naas.asset.add(csv_output)\n",
    "\n",
    "#-> Uncomment the line below (by removing the hashtag)  to delete your asset\n",
    "# naas.asset.delete(csv_output)"
   ]
  },
  {
   "cell_type": "markdown",
   "id": "73cd9e78-7589-48c3-bf10-90598f54693a",
   "metadata": {
    "papermill": {},
    "tags": []
   },
   "source": [
    "### Export and share graph in HTML"
   ]
  },
  {
   "cell_type": "code",
   "execution_count": null,
   "id": "4913d04d-ef6e-48d5-8414-f017bbf52a38",
   "metadata": {
    "papermill": {},
    "tags": []
   },
   "outputs": [],
   "source": [
    "fig.write_html(html_output)\n",
    "\n",
    "# Share with naas\n",
    "#-> Uncomment the line below (by removing the hashtag) to share your asset with naas\n",
    "# naas.asset.add(html_output, params={\"inline\": True})\n",
    "\n",
    "#-> Uncomment the line below (by removing the hashtag)  to delete your asset\n",
    "# naas.asset.delete(html_output)"
   ]
  },
  {
   "cell_type": "markdown",
   "id": "ce2768ac-29f1-4c67-8047-cdd15919f785",
   "metadata": {
    "papermill": {},
    "tags": []
   },
   "source": [
    "### Export and share graph in PNG"
   ]
  },
  {
   "cell_type": "code",
   "execution_count": null,
   "id": "d3c87ec1-50be-423c-ad88-230042dca22f",
   "metadata": {
    "papermill": {},
    "tags": []
   },
   "outputs": [],
   "source": [
    "fig.write_image(image_output)\n",
    "\n",
    "# Share with naas\n",
    "#-> Uncomment the line below (by removing the hashtag) to share your asset with naas\n",
    "# naas.asset.add(image_output)\n",
    "\n",
    "#-> Uncomment the line below (by removing the hashtag)  to delete your asset\n",
    "# naas.asset.delete(image_output)"
   ]
  }
 ],
 "metadata": {
  "interpreter": {
   "hash": "aee8b7b246df8f9039afb4144a1f6fd8d2ca17a180786b69acc140d282b71a49"
  },
  "kernelspec": {
   "display_name": "Python 3",
   "language": "python",
   "name": "python3"
  },
  "language_info": {
   "codemirror_mode": {
    "name": "ipython",
    "version": 3
   },
   "file_extension": ".py",
   "mimetype": "text/x-python",
   "name": "python",
   "nbconvert_exporter": "python",
   "pygments_lexer": "ipython3",
   "version": "3.9.6"
  },
  "papermill": {
   "default_parameters": {},
   "environment_variables": {},
   "parameters": {},
   "version": "2.3.3"
  },
  "widgets": {
   "application/vnd.jupyter.widget-state+json": {
    "state": {},
    "version_major": 2,
    "version_minor": 0
   }
  }
 },
 "nbformat": 4,
 "nbformat_minor": 5
}
