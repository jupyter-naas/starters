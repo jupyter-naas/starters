{
 "cells": [
  {
   "cell_type": "markdown",
   "metadata": {},
   "source": [
    "# 🤖 Bob is your uncle! \n",
    "\n",
    "If I click on a button in the email, I send an order to buy or sell. \n",
    "I then get a confirmation by email that the order have been passed.\n",
    "<br>\n",
    "\n",
    "👉 The question is : does \"bad\" or \"negative\" means I don't have to inve\n"
   ]
  },
  {
   "cell_type": "code",
   "execution_count": 1,
   "metadata": {},
   "outputs": [],
   "source": [
    "action = \"TSLA\""
   ]
  },
  {
   "cell_type": "code",
   "execution_count": null,
   "metadata": {},
   "outputs": [],
   "source": []
  },
  {
   "cell_type": "markdown",
   "metadata": {},
   "source": [
    "## Import packages"
   ]
  },
  {
   "cell_type": "code",
   "execution_count": 4,
   "metadata": {},
   "outputs": [],
   "source": [
    "import datetime as dt\n",
    "import matplotlib.pyplot as plt\n",
    "import pandas as pd \n",
    "import pandas_datareader.data as web"
   ]
  },
  {
   "cell_type": "markdown",
   "metadata": {},
   "source": [
    "## Import data"
   ]
  },
  {
   "cell_type": "code",
   "execution_count": 5,
   "metadata": {},
   "outputs": [
    {
     "data": {
      "text/html": [
       "<div>\n",
       "<style scoped>\n",
       "    .dataframe tbody tr th:only-of-type {\n",
       "        vertical-align: middle;\n",
       "    }\n",
       "\n",
       "    .dataframe tbody tr th {\n",
       "        vertical-align: top;\n",
       "    }\n",
       "\n",
       "    .dataframe thead th {\n",
       "        text-align: right;\n",
       "    }\n",
       "</style>\n",
       "<table border=\"1\" class=\"dataframe\">\n",
       "  <thead>\n",
       "    <tr style=\"text-align: right;\">\n",
       "      <th></th>\n",
       "      <th>High</th>\n",
       "      <th>Low</th>\n",
       "      <th>Open</th>\n",
       "      <th>Close</th>\n",
       "      <th>Volume</th>\n",
       "      <th>Adj Close</th>\n",
       "    </tr>\n",
       "    <tr>\n",
       "      <th>Date</th>\n",
       "      <th></th>\n",
       "      <th></th>\n",
       "      <th></th>\n",
       "      <th></th>\n",
       "      <th></th>\n",
       "      <th></th>\n",
       "    </tr>\n",
       "  </thead>\n",
       "  <tbody>\n",
       "    <tr>\n",
       "      <th>2016-01-04</th>\n",
       "      <td>46.276001</td>\n",
       "      <td>43.799999</td>\n",
       "      <td>46.144001</td>\n",
       "      <td>44.681999</td>\n",
       "      <td>34135500.0</td>\n",
       "      <td>44.681999</td>\n",
       "    </tr>\n",
       "    <tr>\n",
       "      <th>2016-01-05</th>\n",
       "      <td>45.377998</td>\n",
       "      <td>44.000000</td>\n",
       "      <td>45.271999</td>\n",
       "      <td>44.686001</td>\n",
       "      <td>15934000.0</td>\n",
       "      <td>44.686001</td>\n",
       "    </tr>\n",
       "  </tbody>\n",
       "</table>\n",
       "</div>"
      ],
      "text/plain": [
       "                 High        Low       Open      Close      Volume  Adj Close\n",
       "Date                                                                         \n",
       "2016-01-04  46.276001  43.799999  46.144001  44.681999  34135500.0  44.681999\n",
       "2016-01-05  45.377998  44.000000  45.271999  44.686001  15934000.0  44.686001"
      ]
     },
     "execution_count": 5,
     "metadata": {},
     "output_type": "execute_result"
    }
   ],
   "source": [
    "date_from = dt.datetime(2016,1,1)\n",
    "date_to = dt.datetime.today()\n",
    "\n",
    "df=web.DataReader(action,'yahoo',date_from,date_to)\n",
    "df.head(2)"
   ]
  },
  {
   "cell_type": "markdown",
   "metadata": {},
   "source": [
    "## Visualisation des données"
   ]
  },
  {
   "cell_type": "code",
   "execution_count": 6,
   "metadata": {},
   "outputs": [
    {
     "data": {
      "text/plain": [
       "<AxesSubplot:xlabel='Date'>"
      ]
     },
     "execution_count": 6,
     "metadata": {},
     "output_type": "execute_result"
    },
    {
     "data": {
      "image/png": "[encoded data removed]",
      "text/plain": [
       "<Figure size 432x288 with 1 Axes>"
      ]
     },
     "metadata": {
      "needs_background": "light"
     },
     "output_type": "display_data"
    }
   ],
   "source": [
    "df[\"Close\"].plot()"
   ]
  },
  {
   "cell_type": "markdown",
   "metadata": {},
   "source": [
    "## Calcul des moyennes glissantes"
   ]
  },
  {
   "cell_type": "code",
   "execution_count": 7,
   "metadata": {},
   "outputs": [
    {
     "data": {
      "text/html": [
       "<div>\n",
       "<style scoped>\n",
       "    .dataframe tbody tr th:only-of-type {\n",
       "        vertical-align: middle;\n",
       "    }\n",
       "\n",
       "    .dataframe tbody tr th {\n",
       "        vertical-align: top;\n",
       "    }\n",
       "\n",
       "    .dataframe thead th {\n",
       "        text-align: right;\n",
       "    }\n",
       "</style>\n",
       "<table border=\"1\" class=\"dataframe\">\n",
       "  <thead>\n",
       "    <tr style=\"text-align: right;\">\n",
       "      <th></th>\n",
       "      <th>High</th>\n",
       "      <th>Low</th>\n",
       "      <th>Open</th>\n",
       "      <th>Close</th>\n",
       "      <th>Volume</th>\n",
       "      <th>Adj Close</th>\n",
       "      <th>20ma</th>\n",
       "      <th>50ma</th>\n",
       "    </tr>\n",
       "    <tr>\n",
       "      <th>Date</th>\n",
       "      <th></th>\n",
       "      <th></th>\n",
       "      <th></th>\n",
       "      <th></th>\n",
       "      <th></th>\n",
       "      <th></th>\n",
       "      <th></th>\n",
       "      <th></th>\n",
       "    </tr>\n",
       "  </thead>\n",
       "  <tbody>\n",
       "    <tr>\n",
       "      <th>2016-01-04</th>\n",
       "      <td>46.276001</td>\n",
       "      <td>43.799999</td>\n",
       "      <td>46.144001</td>\n",
       "      <td>44.681999</td>\n",
       "      <td>34135500.0</td>\n",
       "      <td>44.681999</td>\n",
       "      <td>NaN</td>\n",
       "      <td>NaN</td>\n",
       "    </tr>\n",
       "    <tr>\n",
       "      <th>2016-01-05</th>\n",
       "      <td>45.377998</td>\n",
       "      <td>44.000000</td>\n",
       "      <td>45.271999</td>\n",
       "      <td>44.686001</td>\n",
       "      <td>15934000.0</td>\n",
       "      <td>44.686001</td>\n",
       "      <td>NaN</td>\n",
       "      <td>NaN</td>\n",
       "    </tr>\n",
       "    <tr>\n",
       "      <th>2016-01-06</th>\n",
       "      <td>44.009998</td>\n",
       "      <td>43.195999</td>\n",
       "      <td>44.000000</td>\n",
       "      <td>43.807999</td>\n",
       "      <td>18895500.0</td>\n",
       "      <td>43.807999</td>\n",
       "      <td>NaN</td>\n",
       "      <td>NaN</td>\n",
       "    </tr>\n",
       "    <tr>\n",
       "      <th>2016-01-07</th>\n",
       "      <td>43.688000</td>\n",
       "      <td>42.734001</td>\n",
       "      <td>42.838001</td>\n",
       "      <td>43.130001</td>\n",
       "      <td>17771500.0</td>\n",
       "      <td>43.130001</td>\n",
       "      <td>NaN</td>\n",
       "      <td>NaN</td>\n",
       "    </tr>\n",
       "    <tr>\n",
       "      <th>2016-01-08</th>\n",
       "      <td>44.088001</td>\n",
       "      <td>42.153999</td>\n",
       "      <td>43.571999</td>\n",
       "      <td>42.200001</td>\n",
       "      <td>18140500.0</td>\n",
       "      <td>42.200001</td>\n",
       "      <td>NaN</td>\n",
       "      <td>NaN</td>\n",
       "    </tr>\n",
       "    <tr>\n",
       "      <th>...</th>\n",
       "      <td>...</td>\n",
       "      <td>...</td>\n",
       "      <td>...</td>\n",
       "      <td>...</td>\n",
       "      <td>...</td>\n",
       "      <td>...</td>\n",
       "      <td>...</td>\n",
       "      <td>...</td>\n",
       "    </tr>\n",
       "    <tr>\n",
       "      <th>2020-10-19</th>\n",
       "      <td>447.000000</td>\n",
       "      <td>428.869995</td>\n",
       "      <td>446.239990</td>\n",
       "      <td>430.829987</td>\n",
       "      <td>36287800.0</td>\n",
       "      <td>430.829987</td>\n",
       "      <td>426.338000</td>\n",
       "      <td>408.451039</td>\n",
       "    </tr>\n",
       "    <tr>\n",
       "      <th>2020-10-20</th>\n",
       "      <td>431.750000</td>\n",
       "      <td>419.049988</td>\n",
       "      <td>431.750000</td>\n",
       "      <td>421.940002</td>\n",
       "      <td>31656300.0</td>\n",
       "      <td>421.940002</td>\n",
       "      <td>426.223500</td>\n",
       "      <td>411.215560</td>\n",
       "    </tr>\n",
       "    <tr>\n",
       "      <th>2020-10-21</th>\n",
       "      <td>432.950012</td>\n",
       "      <td>421.250000</td>\n",
       "      <td>422.700012</td>\n",
       "      <td>422.640015</td>\n",
       "      <td>32370500.0</td>\n",
       "      <td>422.640015</td>\n",
       "      <td>428.337502</td>\n",
       "      <td>414.170800</td>\n",
       "    </tr>\n",
       "    <tr>\n",
       "      <th>2020-10-22</th>\n",
       "      <td>445.230011</td>\n",
       "      <td>424.510010</td>\n",
       "      <td>441.920013</td>\n",
       "      <td>425.790009</td>\n",
       "      <td>39993200.0</td>\n",
       "      <td>425.790009</td>\n",
       "      <td>430.237502</td>\n",
       "      <td>416.467560</td>\n",
       "    </tr>\n",
       "    <tr>\n",
       "      <th>2020-10-23</th>\n",
       "      <td>422.890015</td>\n",
       "      <td>407.380005</td>\n",
       "      <td>421.839996</td>\n",
       "      <td>420.630005</td>\n",
       "      <td>33630700.0</td>\n",
       "      <td>420.630005</td>\n",
       "      <td>430.902002</td>\n",
       "      <td>418.396160</td>\n",
       "    </tr>\n",
       "  </tbody>\n",
       "</table>\n",
       "<p>1212 rows × 8 columns</p>\n",
       "</div>"
      ],
      "text/plain": [
       "                  High         Low        Open       Close      Volume  \\\n",
       "Date                                                                     \n",
       "2016-01-04   46.276001   43.799999   46.144001   44.681999  34135500.0   \n",
       "2016-01-05   45.377998   44.000000   45.271999   44.686001  15934000.0   \n",
       "2016-01-06   44.009998   43.195999   44.000000   43.807999  18895500.0   \n",
       "2016-01-07   43.688000   42.734001   42.838001   43.130001  17771500.0   \n",
       "2016-01-08   44.088001   42.153999   43.571999   42.200001  18140500.0   \n",
       "...                ...         ...         ...         ...         ...   \n",
       "2020-10-19  447.000000  428.869995  446.239990  430.829987  36287800.0   \n",
       "2020-10-20  431.750000  419.049988  431.750000  421.940002  31656300.0   \n",
       "2020-10-21  432.950012  421.250000  422.700012  422.640015  32370500.0   \n",
       "2020-10-22  445.230011  424.510010  441.920013  425.790009  39993200.0   \n",
       "2020-10-23  422.890015  407.380005  421.839996  420.630005  33630700.0   \n",
       "\n",
       "             Adj Close        20ma        50ma  \n",
       "Date                                            \n",
       "2016-01-04   44.681999         NaN         NaN  \n",
       "2016-01-05   44.686001         NaN         NaN  \n",
       "2016-01-06   43.807999         NaN         NaN  \n",
       "2016-01-07   43.130001         NaN         NaN  \n",
       "2016-01-08   42.200001         NaN         NaN  \n",
       "...                ...         ...         ...  \n",
       "2020-10-19  430.829987  426.338000  408.451039  \n",
       "2020-10-20  421.940002  426.223500  411.215560  \n",
       "2020-10-21  422.640015  428.337502  414.170800  \n",
       "2020-10-22  425.790009  430.237502  416.467560  \n",
       "2020-10-23  420.630005  430.902002  418.396160  \n",
       "\n",
       "[1212 rows x 8 columns]"
      ]
     },
     "execution_count": 7,
     "metadata": {},
     "output_type": "execute_result"
    }
   ],
   "source": [
    "df[\"20ma\"]= df[\"Close\"].rolling(window=20).mean()\n",
    "df[\"50ma\"]= df[\"Close\"].rolling(window=50).mean()\n",
    "df"
   ]
  },
  {
   "cell_type": "markdown",
   "metadata": {},
   "source": [
    "## Visualisation des données (action + moyennes glissantes)"
   ]
  },
  {
   "cell_type": "code",
   "execution_count": 8,
   "metadata": {},
   "outputs": [
    {
     "data": {
      "text/plain": [
       "<matplotlib.legend.Legend at 0x7f371c4ddb20>"
      ]
     },
     "execution_count": 8,
     "metadata": {},
     "output_type": "execute_result"
    },
    {
     "data": {
      "image/png": "[encoded data removed]",
      "text/plain": [
       "<Figure size 1152x648 with 1 Axes>"
      ]
     },
     "metadata": {
      "needs_background": "light"
     },
     "output_type": "display_data"
    }
   ],
   "source": [
    "fig,ax=plt.subplots(figsize=(16,9))\n",
    "\n",
    "ax.plot(df.index,df['Close'],label=f'{action}')\n",
    "ax.plot(df.index,df['20ma'],label=\"Moving av. 20\",color=\"green\")\n",
    "ax.plot(df.index,df['50ma'],label=\"Moving av. 50\",color=\"red\")\n",
    "\n",
    "ax.set_xlabel(\"Date\")\n",
    "ax.set_ylabel(\"Closing value\")\n",
    "ax.legend()"
   ]
  },
  {
   "cell_type": "markdown",
   "metadata": {},
   "source": [
    "<img src=\"https://app.naas.ai/hub/user-redirect/lab/tree/private-folder/Naas/Launch/assets/Capture%20d%E2%80%99e%CC%81cran%202020-10-27%20a%CC%80%2012.20.58.png\" alt=\"Girl in a jacket\" width=\"500\" height=\"600\">"
   ]
  },
  {
   "cell_type": "code",
   "execution_count": null,
   "metadata": {},
   "outputs": [],
   "source": []
  }
 ],
 "metadata": {
  "kernelspec": {
   "display_name": "Python 3",
   "language": "python",
   "name": "python3"
  },
  "language_info": {
   "codemirror_mode": {
    "name": "ipython",
    "version": 3
   },
   "file_extension": ".py",
   "mimetype": "text/x-python",
   "name": "python",
   "nbconvert_exporter": "python",
   "pygments_lexer": "ipython3",
   "version": "3.8.6"
  }
 },
 "nbformat": 4,
 "nbformat_minor": 4
}
