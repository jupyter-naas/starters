{
 "cells": [
  {
   "cell_type": "markdown",
   "metadata": {},
   "source": [
    "# ⏰ Send friendly email reminder in minutes\n",
    "\n",
    "Let's start with an email to remind myselft I need to follow the stocks. \n",
    "<br>\n",
    "I am following up tasks mosltly over emails (like a checklist) so, this canal is always better.\n",
    "\n",
    "\n",
    "👉 I want to receive it every morning at 9am CET."
   ]
  },
  {
   "cell_type": "code",
   "execution_count": null,
   "metadata": {},
   "outputs": [],
   "source": [
    "import naas"
   ]
  },
  {
   "cell_type": "code",
   "execution_count": null,
   "metadata": {},
   "outputs": [],
   "source": [
    "naas.scheduler.add(recurrence=\"0 8 * * *\")"
   ]
  },
  {
   "cell_type": "code",
   "execution_count": null,
   "metadata": {},
   "outputs": [],
   "source": [
    "email = \"jeremy.ravenel@cashstory.com\"\n",
    "subject = \"⏰ Reminder - Follow your favorite company : Tesla\"\n",
    "content ='''<p>Bonjour,&nbsp;</p>\n",
    "<p>&nbsp;</p>\n",
    "<p>Comment allez vous ?&nbsp;</p>'''\n",
    "#content = '''<p>Hey Jeremy,&nbsp;</p>\n",
    "#<p>Don't forget to check how your favorite company: <a href=\"https://finance.yahoo.com/quote/TSLA/\">Tesla</a> is doing today!</p>\n",
    "#<p><img src=\"https://images.unsplash.com/photo-1554744512-d6c603f27c54?ixlib=rb-1.2.1&amp;ixid=eyJhcHBfaWQiOjEyMDd9&amp;w=1000&amp;q=80\" alt=\"tesla\" width=\"500\" height=\"330\" /><br /><br />And enjoy your day ❤️</p>'''\n",
    "\n",
    "naas.notifications.send(email_to=email, subject=subject, html=content)"
   ]
  },
  {
   "cell_type": "markdown",
   "metadata": {},
   "source": [
    "Transcript : \n",
    "- Hello World, this is Jeremy from CashStory : Naas mother company. In this video I will show you how to send yourself daily reminder about almost anything by email in less than 1 minutes using Naas awesome features!\n",
    "- This will show you how the scheduler and notification feature works \n",
    "- This is the first of a series of videos I will post almost everyday on this channel before the official Launch of Naas on the 1st of Novembre, so make sure you hit the subscribe butoon and let get started !\n",
    "- This will be an great way to show you how to get started really quick on Naas, and understand its power. \n",
    "- So to get started, let me give yoou a little bit of context. \n",
    "- I worked in Finance for over 8 years now, mostly using Excel to do my personal or company use. \n",
    "- Excel is great but you get to limitation real quick when it comes to run automated task and access to a large scomputing power\n",
    "- So we dreamed about a data engine that could get any data we need to perform analysis and reporting in no time."
   ]
  },
  {
   "cell_type": "code",
   "execution_count": null,
   "metadata": {},
   "outputs": [],
   "source": []
  }
 ],
 "metadata": {
  "kernelspec": {
   "display_name": "Python 3",
   "language": "python",
   "name": "python3"
  },
  "language_info": {
   "codemirror_mode": {
    "name": "ipython",
    "version": 3
   },
   "file_extension": ".py",
   "mimetype": "text/x-python",
   "name": "python",
   "nbconvert_exporter": "python",
   "pygments_lexer": "ipython3",
   "version": "3.8.6"
  }
 },
 "nbformat": 4,
 "nbformat_minor": 4
}
