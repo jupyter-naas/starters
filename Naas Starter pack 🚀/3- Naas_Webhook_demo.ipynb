{
 "cells": [
  {
   "cell_type": "markdown",
   "id": "center-headline",
   "metadata": {
    "papermill": {},
    "tags": []
   },
   "source": [
    "<img width=\"10%\" alt=\"Naas\" src=\"https://landen.imgix.net/jtci2pxwjczr/assets/5ice39g4.png?w=160\"/>\n"
   ]
  },
  {
   "cell_type": "markdown",
   "id": "20f0546c-8e9c-49da-9908-dd84269f7e27",
   "metadata": {
    "papermill": {},
    "tags": []
   },
   "source": [
    "# Naas - Webhook demo\n",
    "<a href=\"https://app.naas.ai/user-redirect/naas/downloader?url=https://raw.githubusercontent.com/jupyter-naas/awesome-notebooks/master/Naas/Naas_Webhook_demo.ipynb\" target=\"_parent\"><img src=\"https://naasai-public.s3.eu-west-3.amazonaws.com/open_in_naas.svg\"/></a>"
   ]
  },
  {
   "cell_type": "markdown",
   "id": "324af2f1-3e05-4be5-b554-f758331fe830",
   "metadata": {
    "papermill": {},
    "tags": []
   },
   "source": [
    "**Tags:** #naas #webhook #snippet #operations"
   ]
  },
  {
   "cell_type": "markdown",
   "id": "136ba31d-d6bb-4937-aa90-915126710588",
   "metadata": {
    "papermill": {},
    "tags": []
   },
   "source": [
    "**Author:** [Jeremy Ravenel](https://www.linkedin.com/in/ACoAAAJHE7sB5OxuKHuzguZ9L6lfDHqw--cdnJg/)"
   ]
  },
  {
   "cell_type": "markdown",
   "id": "egyptian-cache",
   "metadata": {
    "papermill": {},
    "tags": []
   },
   "source": [
    "Build whatever you need with a 3rd party tool.<br>\n",
    "In this example, I want to send an email with the notebook template to the subscriber."
   ]
  },
  {
   "cell_type": "markdown",
   "id": "145dc25e-03f8-4108-a318-049a56bbb7e0",
   "metadata": {
    "papermill": {},
    "tags": []
   },
   "source": [
    "**How to use webhook with 3rd party tool?**\n",
    "\n",
    "Use the webhook feature to get data and trigger action from any tool.<br>\n",
    "Example of UMSO - Nocode website builder : https://www.umso.com/"
   ]
  },
  {
   "cell_type": "markdown",
   "id": "fa80d372-5bbb-44b6-9bc0-1828d9d5207e",
   "metadata": {
    "papermill": {},
    "tags": []
   },
   "source": [
    "## Input"
   ]
  },
  {
   "cell_type": "markdown",
   "id": "import_cell",
   "metadata": {
    "papermill": {},
    "tags": []
   },
   "source": [
    "### Import library"
   ]
  },
  {
   "cell_type": "code",
   "execution_count": 3,
   "id": "6390eb3e-aa98-4568-9eba-0f88475c1f21",
   "metadata": {
    "execution": {
     "iopub.execute_input": "2022-06-07T14:47:35.279729Z",
     "iopub.status.busy": "2022-06-07T14:47:35.279505Z",
     "iopub.status.idle": "2022-06-07T14:47:38.088896Z",
     "shell.execute_reply": "2022-06-07T14:47:38.088217Z",
     "shell.execute_reply.started": "2022-06-07T14:47:35.279706Z"
    },
    "papermill": {},
    "tags": []
   },
   "outputs": [],
   "source": [
    "import naas\n",
    "from IPython.display import HTML"
   ]
  },
  {
   "cell_type": "markdown",
   "id": "44876a9c-f18b-41ea-b715-f5764a096cf8",
   "metadata": {},
   "source": [
    "### Setup Naas notification"
   ]
  },
  {
   "cell_type": "code",
   "execution_count": 5,
   "id": "e024abe3-6d38-4042-b22c-5d04874f098d",
   "metadata": {
    "execution": {
     "iopub.execute_input": "2022-06-07T14:48:01.941657Z",
     "iopub.status.busy": "2022-06-07T14:48:01.941365Z",
     "iopub.status.idle": "2022-06-07T14:48:01.956519Z",
     "shell.execute_reply": "2022-06-07T14:48:01.955912Z",
     "shell.execute_reply.started": "2022-06-07T14:48:01.941631Z"
    },
    "tags": []
   },
   "outputs": [
    {
     "data": {
      "text/html": [
       "Hey EMAIL,<br>Here is the Naas webhook tutorial template : https://public.naas.ai/amVyZW15LTJFbmFhczQyLTQwZ21haWwtMkVjb20=/asset/7c9359cbc967afd01d8e45b68659b3b0db4179582561f6fab70f156c460a"
      ],
      "text/plain": [
       "<IPython.core.display.HTML object>"
      ]
     },
     "execution_count": 5,
     "metadata": {},
     "output_type": "execute_result"
    }
   ],
   "source": [
    "# Email subject\n",
    "EMAIL_SUBJECT = \"Naas Webhook Test\"\n",
    "\n",
    "# Template email content\n",
    "EMAIL_CONTENT = f\"Hey EMAIL,<br>Here is the Naas webhook tutorial template : https://public.naas.ai/amVyZW15LTJFbmFhczQyLTQwZ21haWwtMkVjb20=/asset/7c9359cbc967afd01d8e45b68659b3b0db4179582561f6fab70f156c460a\"\n",
    "\n",
    "# Display content\n",
    "HTML(EMAIL_CONTENT)"
   ]
  },
  {
   "cell_type": "markdown",
   "id": "applied-desperate",
   "metadata": {
    "papermill": {},
    "tags": []
   },
   "source": [
    "### Setup Parameters\n",
    "Add \"parameters\" tag in cells => Code will be injected after this cell\n",
    "- Click on the gear on the bottom left of your left pannel\n",
    "- In the section \"Cell Tags\", add tags with name 'parameters'"
   ]
  },
  {
   "cell_type": "code",
   "execution_count": 5,
   "id": "according-convergence",
   "metadata": {
    "execution": {
     "iopub.execute_input": "2021-03-20T16:57:37.003018Z",
     "iopub.status.busy": "2021-03-20T16:57:37.002786Z",
     "iopub.status.idle": "2021-03-20T16:57:37.006877Z",
     "shell.execute_reply": "2021-03-20T16:57:37.006243Z",
     "shell.execute_reply.started": "2021-03-20T16:57:37.002995Z"
    },
    "papermill": {},
    "tags": []
   },
   "outputs": [],
   "source": [
    "# Parameters\n",
    "params = {}\n",
    "body = {\n",
    "    \"Domain\": \"www.naas.ai\",\n",
    "    \"Email\": \"jeremy.naas42@gmail.com\",\n",
    "    \"Name\": \"Jeremy\",\n",
    "    \"Site_ID\": \"jtci2pxwjczr\",\n",
    "    \"Submitted_At\": \"March 20, 2021 16:55 UTC\",\n",
    "}\n",
    "headers = {\n",
    "    \"host\": \"public.naas.ai\",\n",
    "    \"x-request-id\": \"e6b994eb9a83b9cac794c0d9e57c1533\",\n",
    "    \"x-real-ip\": \"10.0.87.40\",\n",
    "    \"x-forwarded-for\": \"10.0.87.40\",\n",
    "    \"x-forwarded-host\": \"public.naas.ai\",\n",
    "    \"x-forwarded-port\": \"443\",\n",
    "    \"x-forwarded-proto\": \"https\",\n",
    "    \"x-scheme\": \"https\",\n",
    "    \"accept\": \"application/json\",\n",
    "    \"content-type\": \"application/json\",\n",
    "    \"user-agent\": \"landen-webhook-agent\",\n",
    "    \"accept-encoding\": \"gzip\",\n",
    "    \"connection\": \"close\",\n",
    "    \"content-length\": \"142\",\n",
    "    \"accept-charset\": \"utf-8\",\n",
    "}"
   ]
  },
  {
   "cell_type": "markdown",
   "id": "3c525008-d360-4205-9194-ab7121a73c37",
   "metadata": {},
   "source": [
    "### Setup Naas webhook\n",
    "Running this command will add your this notebook to the \"⚡️ Production\" folder. <br>\n",
    "You can then, trigger it with the generated URL."
   ]
  },
  {
   "cell_type": "code",
   "execution_count": null,
   "id": "7f7c2b97-16b4-4e2f-bbaa-585319e0c9ba",
   "metadata": {},
   "outputs": [],
   "source": [
    "naas.webhook.add()\n",
    "\n",
    "# To delete your webhook, uncomment the line below and execute this cell\n",
    "# naas.webhook.delete(PATH)"
   ]
  },
  {
   "cell_type": "markdown",
   "id": "naughty-vacation",
   "metadata": {
    "papermill": {},
    "tags": []
   },
   "source": [
    "### Execute the webhook once and get webhook output to know the format of parameters injected"
   ]
  },
  {
   "cell_type": "code",
   "execution_count": 6,
   "id": "banned-creature",
   "metadata": {
    "execution": {
     "iopub.execute_input": "2022-06-07T14:52:11.724643Z",
     "iopub.status.busy": "2022-06-07T14:52:11.724418Z",
     "iopub.status.idle": "2022-06-07T14:52:11.727187Z",
     "shell.execute_reply": "2022-06-07T14:52:11.726558Z",
     "shell.execute_reply.started": "2022-06-07T14:52:11.724622Z"
    },
    "papermill": {},
    "tags": []
   },
   "outputs": [],
   "source": [
    "# Uncomment and execute the line below once you have executed your notebook.\n",
    "# naas.webhook.get_output()"
   ]
  },
  {
   "cell_type": "markdown",
   "id": "59744d3c-8df9-4767-aeb7-21a86100298a",
   "metadata": {
    "papermill": {},
    "tags": []
   },
   "source": [
    "## Model"
   ]
  },
  {
   "cell_type": "markdown",
   "id": "falling-barcelona",
   "metadata": {
    "papermill": {},
    "tags": []
   },
   "source": [
    "### Manage webhook output\n",
    "Thanks to the output notebook, you can understand the structure of your input (standard : params, headers, body).<br>\n",
    "Inject it in the blank cell in Step 1 to build your pipeline."
   ]
  },
  {
   "cell_type": "code",
   "execution_count": 8,
   "id": "cubic-shower",
   "metadata": {
    "execution": {
     "iopub.execute_input": "2021-03-20T17:34:43.795281Z",
     "iopub.status.busy": "2021-03-20T17:34:43.795060Z",
     "iopub.status.idle": "2021-03-20T17:34:43.799014Z",
     "shell.execute_reply": "2021-03-20T17:34:43.798416Z",
     "shell.execute_reply.started": "2021-03-20T17:34:43.795259Z"
    },
    "papermill": {},
    "tags": []
   },
   "outputs": [],
   "source": [
    "EMAIL_TO = body.get(\"Email\")\n",
    "EMAIL_TO"
   ]
  },
  {
   "cell_type": "markdown",
   "id": "bec64fde-77ed-45c2-bfb2-8d8ce02f9d97",
   "metadata": {
    "papermill": {},
    "tags": []
   },
   "source": [
    "### Replace string EMAIL in email content"
   ]
  },
  {
   "cell_type": "code",
   "execution_count": null,
   "id": "divided-account",
   "metadata": {
    "papermill": {},
    "tags": []
   },
   "outputs": [],
   "source": [
    "EMAIL_CONTENT = EMAIL_CONTENT.replace('EMAIL', EMAIL_TO)"
   ]
  },
  {
   "cell_type": "markdown",
   "id": "display_cell",
   "metadata": {
    "papermill": {},
    "tags": []
   },
   "source": [
    "## Output"
   ]
  },
  {
   "cell_type": "markdown",
   "id": "spectacular-douglas",
   "metadata": {
    "papermill": {},
    "tags": []
   },
   "source": [
    "### Send email to new user"
   ]
  },
  {
   "cell_type": "code",
   "execution_count": 9,
   "id": "motivated-encoding",
   "metadata": {
    "execution": {
     "iopub.execute_input": "2021-03-20T17:37:23.144256Z",
     "iopub.status.busy": "2021-03-20T17:37:23.144032Z",
     "iopub.status.idle": "2021-03-20T17:37:23.334218Z",
     "shell.execute_reply": "2021-03-20T17:37:23.333506Z",
     "shell.execute_reply.started": "2021-03-20T17:37:23.144234Z"
    },
    "papermill": {},
    "tags": []
   },
   "outputs": [],
   "source": [
    "naas.notification.send(\n",
    "    email_to=EMAIL_TO,\n",
    "    subject=EMAIL_SUBJECT, \n",
    "    html=EMAIL_CONTENT,\n",
    ")"
   ]
  }
 ],
 "metadata": {
  "kernelspec": {
   "display_name": "Python 3",
   "language": "python",
   "name": "python3"
  },
  "language_info": {
   "codemirror_mode": {
    "name": "ipython",
    "version": 3
   },
   "file_extension": ".py",
   "mimetype": "text/x-python",
   "name": "python",
   "nbconvert_exporter": "python",
   "pygments_lexer": "ipython3",
   "version": "3.9.6"
  },
  "naas": {
   "notebook_id": "eef0f64d-0b11-4d4e-a1c7-68cbb7e037a9",
   "notebook_path": "Naas/Naas_Webhook_demo.ipynb"
  },
  "papermill": {
   "default_parameters": {},
   "environment_variables": {},
   "parameters": {},
   "version": "2.3.3"
  },
  "widgets": {
   "application/vnd.jupyter.widget-state+json": {
    "state": {
     "02da110805e4417d9fec8d0576fa6962": {
      "model_module": "@jupyter-widgets/output",
      "model_module_version": "1.0.0",
      "model_name": "OutputModel",
      "state": {
       "layout": "IPY_MODEL_cfef823a41364d128292be79d3bf501f"
      }
     },
     "2767f47c258144b6b787b595dbb0daca": {
      "model_module": "@jupyter-widgets/output",
      "model_module_version": "1.0.0",
      "model_name": "OutputModel",
      "state": {
       "layout": "IPY_MODEL_8d65e34724e3400d9ed80999eb7b3cef"
      }
     },
     "2ac8a002af124ddf992845fb5c6d687f": {
      "model_module": "@jupyter-widgets/controls",
      "model_module_version": "1.5.0",
      "model_name": "ButtonModel",
      "state": {
       "button_style": "primary",
       "description": "Copy URL",
       "layout": "IPY_MODEL_f04e13e1f10a4ed79d37ff8306a449a3",
       "style": "IPY_MODEL_c2d39b04f34140b5bb1b557c9c552550"
      }
     },
     "6815f89a0c20455e8fc71a23b5fd299d": {
      "model_module": "@jupyter-widgets/controls",
      "model_module_version": "1.5.0",
      "model_name": "ButtonStyleModel",
      "state": {}
     },
     "8d65e34724e3400d9ed80999eb7b3cef": {
      "model_module": "@jupyter-widgets/base",
      "model_module_version": "1.2.0",
      "model_name": "LayoutModel",
      "state": {}
     },
     "9b1edc4b81584aa0a294b8db375cd648": {
      "model_module": "@jupyter-widgets/base",
      "model_module_version": "1.2.0",
      "model_name": "LayoutModel",
      "state": {}
     },
     "c2d39b04f34140b5bb1b557c9c552550": {
      "model_module": "@jupyter-widgets/controls",
      "model_module_version": "1.5.0",
      "model_name": "ButtonStyleModel",
      "state": {}
     },
     "cfef823a41364d128292be79d3bf501f": {
      "model_module": "@jupyter-widgets/base",
      "model_module_version": "1.2.0",
      "model_name": "LayoutModel",
      "state": {}
     },
     "f04e13e1f10a4ed79d37ff8306a449a3": {
      "model_module": "@jupyter-widgets/base",
      "model_module_version": "1.2.0",
      "model_name": "LayoutModel",
      "state": {}
     },
     "f55584cae29d49969abfd03679c51424": {
      "model_module": "@jupyter-widgets/controls",
      "model_module_version": "1.5.0",
      "model_name": "ButtonModel",
      "state": {
       "button_style": "primary",
       "description": "Copy URL",
       "layout": "IPY_MODEL_9b1edc4b81584aa0a294b8db375cd648",
       "style": "IPY_MODEL_6815f89a0c20455e8fc71a23b5fd299d"
      }
     }
    },
    "version_major": 2,
    "version_minor": 0
   }
  }
 },
 "nbformat": 4,
 "nbformat_minor": 5
}
