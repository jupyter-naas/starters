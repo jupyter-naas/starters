{
 "cells": [
  {
   "cell_type": "markdown",
   "id": "alternative-observer",
   "metadata": {
    "papermill": {},
    "tags": []
   },
   "source": [
    "<img width=\"10%\" alt=\"Naas\" src=\"https://landen.imgix.net/jtci2pxwjczr/assets/5ice39g4.png?w=160\"/>"
   ]
  },
  {
   "cell_type": "markdown",
   "id": "applicable-andrews",
   "metadata": {
    "papermill": {},
    "tags": []
   },
   "source": [
    "# Naas - Get help\n",
    "<a href=\"https://app.naas.ai/user-redirect/naas/downloader?url=https://raw.githubusercontent.com/jupyter-naas/awesome-notebooks/master/Naas/Naas_Get_help.ipynb\" target=\"_parent\"><img src=\"https://naasai-public.s3.eu-west-3.amazonaws.com/open_in_naas.svg\"/></a>"
   ]
  },
  {
   "cell_type": "markdown",
   "id": "c073ed2d-b161-41d8-8967-812a83b38963",
   "metadata": {
    "papermill": {},
    "tags": []
   },
   "source": [
    "**Tags:** #naas #help #snippet #operations"
   ]
  },
  {
   "cell_type": "markdown",
   "id": "425ca420-a720-4905-9eef-0844d825471c",
   "metadata": {
    "papermill": {},
    "tags": []
   },
   "source": [
    "**Author:** [Jeremy Ravenel](https://www.linkedin.com/in/ACoAAAJHE7sB5OxuKHuzguZ9L6lfDHqw--cdnJg/)"
   ]
  },
  {
   "cell_type": "markdown",
   "id": "input_cell",
   "metadata": {
    "papermill": {},
    "tags": []
   },
   "source": [
    "## Input"
   ]
  },
  {
   "cell_type": "markdown",
   "id": "desperate-belize",
   "metadata": {
    "papermill": {},
    "tags": []
   },
   "source": [
    "### Import needed library"
   ]
  },
  {
   "cell_type": "code",
   "execution_count": 1,
   "id": "mobile-complaint",
   "metadata": {
    "execution": {
     "iopub.execute_input": "2022-06-07T14:30:10.230215Z",
     "iopub.status.busy": "2022-06-07T14:30:10.229914Z",
     "iopub.status.idle": "2022-06-07T14:30:13.040718Z",
     "shell.execute_reply": "2022-06-07T14:30:13.040090Z",
     "shell.execute_reply.started": "2022-06-07T14:30:10.230145Z"
    },
    "papermill": {},
    "tags": []
   },
   "outputs": [],
   "source": [
    "import naas"
   ]
  },
  {
   "cell_type": "markdown",
   "id": "2ee646ce-b048-4f98-a03e-f3ac5e04dc90",
   "metadata": {
    "papermill": {},
    "tags": []
   },
   "source": [
    "## Model"
   ]
  },
  {
   "cell_type": "markdown",
   "id": "resident-webster",
   "metadata": {
    "papermill": {},
    "tags": []
   },
   "source": [
    "### Open help chatbox"
   ]
  },
  {
   "cell_type": "code",
   "execution_count": 2,
   "id": "egyptian-default",
   "metadata": {
    "execution": {
     "iopub.execute_input": "2022-06-07T14:30:13.042233Z",
     "iopub.status.busy": "2022-06-07T14:30:13.041996Z",
     "iopub.status.idle": "2022-06-07T14:30:13.055793Z",
     "shell.execute_reply": "2022-06-07T14:30:13.055201Z",
     "shell.execute_reply.started": "2022-06-07T14:30:13.042203Z"
    },
    "papermill": {},
    "tags": []
   },
   "outputs": [
    {
     "data": {
      "text/html": [
       "<script type=\"text/javascript\">if(!window.$crisp){window.$crisp=[[\"set\", \"session:data\", [[[\"naas_type\", \"pip\"]]]], [\"do\", \"chat:hide\"], [\"on\", \"message:received\", () => {window.$crisp.push([\"do\", \"chat:show\"])}], [\"on\", \"chat:closed\", () => {window.$crisp.push([\"do\", \"chat:hide\"])}]];window.CRISP_WEBSITE_ID=\"a64b999e-e44c-44ee-928f-5cd0233f9586\";(function(){d=document;s=d.createElement(\"script\");s.src=\"https://client.crisp.chat/l.js\";s.async=1;d.getElementsByTagName(\"head\")[0].appendChild(s);})();}</script><script>window.$crisp.push([\"set\", \"user:email\", [\"florent@naas.ai\"]])</script><script>window.$crisp.push([\"set\", \"session:data\", [[[\"naas_version\", \"2.4.3\"]]]])</script><script>window.$crisp.push([\"do\", \"chat:show\"])</script><script>window.$crisp.push([\"do\", \"chat:open\"])</script>"
      ],
      "text/plain": [
       "<IPython.core.display.HTML object>"
      ]
     },
     "metadata": {},
     "output_type": "display_data"
    }
   ],
   "source": [
    "naas.open_help()"
   ]
  },
  {
   "cell_type": "markdown",
   "id": "output_cell",
   "metadata": {
    "papermill": {},
    "tags": []
   },
   "source": [
    "## Output"
   ]
  },
  {
   "cell_type": "markdown",
   "id": "spiritual-clone",
   "metadata": {
    "papermill": {},
    "tags": []
   },
   "source": [
    "### Close help chatbox"
   ]
  },
  {
   "cell_type": "code",
   "execution_count": 3,
   "id": "conscious-welding",
   "metadata": {
    "execution": {
     "iopub.execute_input": "2021-01-26T14:26:26.126735Z",
     "iopub.status.busy": "2021-01-26T14:26:26.126503Z",
     "iopub.status.idle": "2021-01-26T14:26:26.134514Z",
     "shell.execute_reply": "2021-01-26T14:26:26.134036Z",
     "shell.execute_reply.started": "2021-01-26T14:26:26.126711Z"
    },
    "papermill": {},
    "tags": []
   },
   "outputs": [],
   "source": [
    "naas.close_help()"
   ]
  }
 ],
 "metadata": {
  "kernelspec": {
   "display_name": "Python 3",
   "language": "python",
   "name": "python3"
  },
  "language_info": {
   "codemirror_mode": {
    "name": "ipython",
    "version": 3
   },
   "file_extension": ".py",
   "mimetype": "text/x-python",
   "name": "python",
   "nbconvert_exporter": "python",
   "pygments_lexer": "ipython3",
   "version": "3.9.6"
  },
  "naas": {
   "notebook_id": "23c9f948-7f2b-4d8f-8a78-f4e91018ee92",
   "notebook_path": "Naas/Naas_Get_help.ipynb"
  },
  "papermill": {
   "default_parameters": {},
   "environment_variables": {},
   "parameters": {},
   "version": "2.3.3"
  },
  "widgets": {
   "application/vnd.jupyter.widget-state+json": {
    "state": {},
    "version_major": 2,
    "version_minor": 0
   }
  }
 },
 "nbformat": 4,
 "nbformat_minor": 5
}
