{
 "cells": [
  {
   "cell_type": "markdown",
   "metadata": {},
   "source": [
    "<div class=\"clearfix\" style=\"padding: 10px; padding-left: 0px\">\n",
    "<img id=\"jupyter_notebook_logo_image_default\" src=\"https://raw.githubusercontent.com/rationalmatter/juno-demo-notebooks/master/resources/jupyter_logo.png\" width=\"130px\" style=\"display: inline-block;\">\n",
    "</div>"
   ]
  },
  {
   "cell_type": "markdown",
   "metadata": {},
   "source": [
    "# Running Code in Jupyter"
   ]
  },
  {
   "cell_type": "markdown",
   "metadata": {},
   "source": [
    "Jupyter Notebook is an interactive environment for **writing and running code**.<br>"
   ]
  },
  {
   "cell_type": "markdown",
   "metadata": {},
   "source": [
    "## Basics"
   ]
  },
  {
   "cell_type": "markdown",
   "metadata": {},
   "source": [
    "### `+` Insert cell below"
   ]
  },
  {
   "cell_type": "markdown",
   "metadata": {},
   "source": [
    "Insert new cell below your selected cell by pressing the button `+` in the menu on the top of your notebook."
   ]
  },
  {
   "cell_type": "markdown",
   "metadata": {},
   "source": [
    "### `✂`  Remove cells"
   ]
  },
  {
   "cell_type": "markdown",
   "metadata": {},
   "source": [
    "Remove cells by pressing the button `✂` in the menu on the top of your notebook.<br>\n",
    "This button can also be used to cut your cell but it's more commonly used for removing a cell."
   ]
  },
  {
   "cell_type": "markdown",
   "metadata": {},
   "source": [
    "### `💾`  Save notebook content"
   ]
  },
  {
   "cell_type": "markdown",
   "metadata": {},
   "source": [
    "Save your notebook content by pressing the button `💾` in the menu on the top of your notebook or `Control`+`S` on your hardware keyboard."
   ]
  },
  {
   "cell_type": "markdown",
   "metadata": {},
   "source": [
    "## Run Code"
   ]
  },
  {
   "cell_type": "markdown",
   "metadata": {
    "execution": {
     "iopub.execute_input": "2022-06-03T11:15:21.348531Z",
     "iopub.status.busy": "2022-06-03T11:15:21.348304Z",
     "iopub.status.idle": "2022-06-03T11:15:21.351215Z",
     "shell.execute_reply": "2022-06-03T11:15:21.350588Z",
     "shell.execute_reply.started": "2022-06-03T11:15:21.348508Z"
    },
    "tags": []
   },
   "source": [
    "### `▶︎` Run the selected cells and advanced"
   ]
  },
  {
   "cell_type": "markdown",
   "metadata": {},
   "source": [
    "Code cells allow you to enter and run code.<br>\n",
    "Run a code cell by pressing the `▶︎` button in the menu on the top of your notebook, or `Control`+`Enter` on your hardware keyboard."
   ]
  },
  {
   "cell_type": "code",
   "execution_count": 5,
   "metadata": {
    "execution": {
     "iopub.execute_input": "2022-06-03T12:12:51.621064Z",
     "iopub.status.busy": "2022-06-03T12:12:51.620826Z",
     "iopub.status.idle": "2022-06-03T12:12:51.624241Z",
     "shell.execute_reply": "2022-06-03T12:12:51.623636Z",
     "shell.execute_reply.started": "2022-06-03T12:12:51.621040Z"
    },
    "tags": []
   },
   "outputs": [
    {
     "name": "stdout",
     "output_type": "stream",
     "text": [
      "10\n"
     ]
    }
   ],
   "source": [
    "a = 10\n",
    "print(a)"
   ]
  },
  {
   "cell_type": "markdown",
   "metadata": {},
   "source": [
    "There are a couple of keyboard shortcuts for running code:\n",
    "\n",
    "* `Control`+`Enter` run the current cell and enters command mode.\n",
    "* `Shift`+`Enter` runs the current cell and moves selection to the one below."
   ]
  },
  {
   "cell_type": "markdown",
   "metadata": {},
   "source": [
    "### `▶︎▶︎` Restart kernels and run all cells"
   ]
  },
  {
   "cell_type": "markdown",
   "metadata": {},
   "source": [
    "You can reset this state by restarting the kernel with \"Restart and run all cells\" button.<br>\n",
    "It will clear the kernel that maintains the state of a notebook's computations => All your variables will be lost !"
   ]
  },
  {
   "cell_type": "markdown",
   "metadata": {},
   "source": [
    "## Managing the kernel"
   ]
  },
  {
   "cell_type": "markdown",
   "metadata": {},
   "source": [
    "### `⚪︎ ⚫︎` Kernel status"
   ]
  },
  {
   "cell_type": "markdown",
   "metadata": {},
   "source": [
    "Code is run in a separate process called the **kernel**, which can be interrupted or restarted.<br>\n",
    "You can see kernel indicator in the top-right corner reporting current kernel state: \n",
    "- `⚪︎` means kernel is **ready** to execute code\n",
    "- `⚫︎` means kernel is currently **busy**.\n",
    "\n",
    "Tapping kernel indicator will open **kernel menu**, where you can reconnect, interrupt or restart kernel.  \n",
    "\n",
    "Try running the following cell — kernel indicator will switch from `⚪︎` to `⚫︎`, i.e. reporting kernel as \"busy\".<br>\n",
    "This means that you won't be able to run any new cells until current execution finishes, or until kernel is interrupted.<br>"
   ]
  },
  {
   "cell_type": "code",
   "execution_count": null,
   "metadata": {},
   "outputs": [],
   "source": [
    "import time\n",
    "time.sleep(10)"
   ]
  },
  {
   "cell_type": "markdown",
   "metadata": {},
   "source": [
    "If kernel dies you will be prompted to restart it."
   ]
  },
  {
   "cell_type": "markdown",
   "metadata": {},
   "source": [
    "### `⬜` Interrupt the kernel"
   ]
  },
  {
   "cell_type": "markdown",
   "metadata": {},
   "source": [
    "You can interrupt manualy a cell execution by pressing the `⬜` button while the execution is running.<br>\n",
    "It will stop the execution and display an error message : \"KeyboardInterrupt\"<br>\n",
    "\n",
    "Try running the following cell and stop the execution by pressing the `⬜` button.<br>"
   ]
  },
  {
   "cell_type": "code",
   "execution_count": 2,
   "metadata": {
    "execution": {
     "iopub.execute_input": "2022-06-03T11:53:54.918769Z",
     "iopub.status.busy": "2022-06-03T11:53:54.918538Z",
     "iopub.status.idle": "2022-06-03T11:53:56.975462Z",
     "shell.execute_reply": "2022-06-03T11:53:56.974521Z",
     "shell.execute_reply.started": "2022-06-03T11:53:54.918747Z"
    },
    "tags": []
   },
   "outputs": [
    {
     "ename": "KeyboardInterrupt",
     "evalue": "",
     "output_type": "error",
     "traceback": [
      "\u001b[0;31m---------------------------------------------------------------------------\u001b[0m",
      "\u001b[0;31mKeyboardInterrupt\u001b[0m                         Traceback (most recent call last)",
      "\u001b[0;32m<ipython-input-2-9e5c92b8fe2a>\u001b[0m in \u001b[0;36m<module>\u001b[0;34m\u001b[0m\n\u001b[1;32m      1\u001b[0m \u001b[0;32mimport\u001b[0m \u001b[0mtime\u001b[0m\u001b[0;34m\u001b[0m\u001b[0;34m\u001b[0m\u001b[0m\n\u001b[0;32m----> 2\u001b[0;31m \u001b[0mtime\u001b[0m\u001b[0;34m.\u001b[0m\u001b[0msleep\u001b[0m\u001b[0;34m(\u001b[0m\u001b[0;36m30\u001b[0m\u001b[0;34m)\u001b[0m\u001b[0;34m\u001b[0m\u001b[0;34m\u001b[0m\u001b[0m\n\u001b[0m",
      "\u001b[0;31mKeyboardInterrupt\u001b[0m: "
     ]
    }
   ],
   "source": [
    "import time\n",
    "time.sleep(30)"
   ]
  },
  {
   "cell_type": "markdown",
   "metadata": {},
   "source": [
    "### `↻` Restart Kernel"
   ]
  },
  {
   "cell_type": "markdown",
   "metadata": {},
   "source": [
    "Restart your kernel by pressing the button `↻` in the menu on the top of your notebook."
   ]
  }
 ],
 "metadata": {
  "kernelspec": {
   "display_name": "Python 3",
   "language": "python",
   "name": "python3"
  },
  "language_info": {
   "codemirror_mode": {
    "name": "ipython",
    "version": 3
   },
   "file_extension": ".py",
   "mimetype": "text/x-python",
   "name": "python",
   "nbconvert_exporter": "python",
   "pygments_lexer": "ipython3",
   "version": "3.9.6"
  },
  "widgets": {
   "application/vnd.jupyter.widget-state+json": {
    "state": {},
    "version_major": 2,
    "version_minor": 0
   }
  }
 },
 "nbformat": 4,
 "nbformat_minor": 4
}
