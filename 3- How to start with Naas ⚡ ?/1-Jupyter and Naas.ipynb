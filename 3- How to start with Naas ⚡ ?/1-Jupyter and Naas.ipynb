{
 "cells": [
  {
   "cell_type": "markdown",
   "metadata": {},
   "source": [
    "<img id=\"juno_demo_notebook_logo_image_default\" src=\"https://landen.imgix.net/jtci2pxwjczr/assets/5ice39g4.png?w=160\" width=\"10%\" class=\"pull-right\" style=\"display: inline-block; margin: 0px; padding-left:8px;\"><img id=\"juno_demo_notebook_logo_image_dark\" src=\"\" width=\"120px\" class=\"pull-right\" style=\"display: none; margin: 0px;\"></a>\n",
    "</div>"
   ]
  },
  {
   "cell_type": "markdown",
   "metadata": {},
   "source": [
    "# Jupyter and Naas"
   ]
  },
  {
   "cell_type": "markdown",
   "metadata": {},
   "source": [
    "<div class=\"alert alert-success\" role=\"alert\" style=\"margin: 10px\">\n",
    "<p>This notebook is running on a server that was <b>launched just for you</b>. Your server will be stoped after 15 min of inactivity.\n",
    "</p>\n",
    "</div>\n",
    "\n",
    "Your server is hosted thanks to [Naas.ai](https://naas.ai) micro-services that allows you to create custom computing environments based on GitHub repositories."
   ]
  },
  {
   "cell_type": "markdown",
   "metadata": {},
   "source": [
    "## What is Jupyter?"
   ]
  },
  {
   "cell_type": "markdown",
   "metadata": {},
   "source": [
    "**Naas** is a Jupyter Notebook **distribution**, which means it needs a server to run. Although most people run Jupyter locally on their desktop machines and edit notebooks in browser opened on the same machine, Jupyter's server-client architecture actually allows much more flexibility than that. \n",
    "\n",
    "Think of it this way: computer running `jupyter notebook` in their command line is the **server**. Device displaying notebook editor is the **client**. Essentially, it's the server that is executing code in your notebooks, and notebook editor (i.e. client) only lets you edit the code and displays the output. "
   ]
  },
  {
   "cell_type": "markdown",
   "metadata": {},
   "source": [
    "If you run Jupyter Notebook on your laptop, it is both server _and_ client. It doesn't have to be the same machine, however! Essentially, your server can be _anywhere_: it can be a powerful GPU cluster on the other side of the planet, or a laptop connected to your home Wi-Fi — as long as it can be accessed remotely, you can use **Juno** to edit notebooks and run code in them using computational power of that server."
   ]
  },
  {
   "cell_type": "markdown",
   "metadata": {},
   "source": [
    "## Notebook editor"
   ]
  },
  {
   "cell_type": "markdown",
   "metadata": {},
   "source": [
    "Jupyter Notebook has a modal user interface. This means that editor behaves differently depending on which mode the notebook is in. There are two modes: **edit mode** and **command mode**."
   ]
  },
  {
   "cell_type": "markdown",
   "metadata": {},
   "source": [
    "### Edit mode"
   ]
  },
  {
   "cell_type": "markdown",
   "metadata": {},
   "source": [
    "Edit mode is indicated by a blue cell border and a prompt showing in the editor area:\n",
    "\n",
    "<img src=\"resources/cell_edit_mode.png\" width=\"320px\">\n",
    "\n",
    "When a cell is in edit mode, you can type into the cell, like a normal text editor."
   ]
  },
  {
   "cell_type": "markdown",
   "metadata": {},
   "source": [
    "<div class=\"alert alert-success\">\n",
    "Enter edit mode by tapping inside cell's editor area, or pressing `Enter` on your hardware keyboard.\n",
    "</div>"
   ]
  },
  {
   "cell_type": "markdown",
   "metadata": {},
   "source": [
    "### Command mode"
   ]
  },
  {
   "cell_type": "markdown",
   "metadata": {},
   "source": [
    "Command mode is indicated by a grey cell border:\n",
    "\n",
    "<img src=\"resources/cell_command_mode.png\" width=\"320px\">"
   ]
  },
  {
   "cell_type": "markdown",
   "metadata": {},
   "source": [
    "When you are in command mode, you are able to edit the notebook as a whole, but not type into individual cells. Your on-screen keyboard will be hidden in command mode, but if you have a hardware keyboard connected, it will be mapped to a set of shortcuts that let you perform notebook and cell actions efficiently. For example, if you are in command mode and you press `c`, you will copy the current cell — no modifier is needed."
   ]
  },
  {
   "cell_type": "markdown",
   "metadata": {},
   "source": [
    "<div class=\"alert alert-success\">\n",
    "Enter command mode by tapping *outside* cell's editor area, or by pressing `Esc` or `Control` on your hardware keyboard.\n",
    "</div>"
   ]
  },
  {
   "cell_type": "markdown",
   "metadata": {},
   "source": [
    "## Touch navigation"
   ]
  },
  {
   "cell_type": "markdown",
   "metadata": {},
   "source": [
    "As noted earlier, notebooks consist of a **linear sequence of cells**. There are three basic cell types: **code**, **markdown** and **raw** cells. The first idea of touch-based navigation is that **cells can be selected** by tapping on them. The currently selected cell gets a blue or grey border depending on whether the notebook is in edit or command mode. If you tap inside a cell's editor area, you will enter edit mode. If you tap on the prompt or output area of a cell you will enter command mode."
   ]
  },
  {
   "cell_type": "markdown",
   "metadata": {},
   "source": [
    "The second idea of touch-based navigation is that **cell actions usually apply to the currently selected cell**. Thus if you want to run the code in a cell, you would select it and tap the `▶︎` button in the bottom-right floating panel. You can apply additional actions to a selected cell by tapping the \"Cell Actions\" button next to it, which will have an icon indicating currently selected cell type: `</>` for **code**, `M↓` for **markdown** and `Aa` for **raw** cell."
   ]
  },
  {
   "cell_type": "markdown",
   "metadata": {},
   "source": [
    "Markdown cells have one other state, these cells can either be **rendered** or **unrendered**. When they are rendered, you will see a nice formatted representation of the cell's contents. When they are unrendered, you will see the raw text source of the cell. To render the selected cell, click the `▶︎` button. To unrender, select the  markdown cell, and then tap again on the rendered text."
   ]
  },
  {
   "cell_type": "markdown",
   "metadata": {},
   "source": [
    "## Keyboard navigation"
   ]
  },
  {
   "cell_type": "markdown",
   "metadata": {},
   "source": [
    "If you have a hardware keyboard connected to your iOS device, you can use Jupyter keyboard shortcuts. The modal user interface of the Jupyter Notebook has been optimized for efficient keyboard usage. This is made possible by having two different sets of keyboard shortcuts: one set that is active in edit mode and another in command mode."
   ]
  },
  {
   "cell_type": "markdown",
   "metadata": {},
   "source": [
    "In edit mode, most of the keyboard is dedicated to typing into the cell's editor. Thus, in edit mode there are relatively few shortcuts.  In command mode, the entire keyboard is available for shortcuts, so there are many more. Most important ones are:\n",
    "1. Switch command and edit mods: `Enter` for edit mode, and `Esc` or `Control` for command mode.\n",
    "2. Basic navigation: `↑`/`k`, `↓`/`j`\n",
    "3. Run or render currently selected cell: `Shift`+`Enter` or `Control`+`Enter`\n",
    "4. Saving the notebook: `s`\n",
    "5. Change Cell types: `y` to make it a **code** cell, `m` for **markdown** and `r` for **raw**\n",
    "6. Inserting new cells: `a` to **insert above**, `b` to **insert below**\n",
    "7. Manipulating cells using pasteboard: `x` for **cut**, `c` for **copy**, `v` for **paste**, `d` for **delete** and `z` for **undo delete**\n",
    "8. Kernel operations: `i` to **interrupt** and `0` to **restart**"
   ]
  }
 ],
 "metadata": {
  "kernelspec": {
   "display_name": "Python 3",
   "language": "python",
   "name": "python3"
  },
  "language_info": {
   "codemirror_mode": {
    "name": "ipython",
    "version": 3
   },
   "file_extension": ".py",
   "mimetype": "text/x-python",
   "name": "python",
   "nbconvert_exporter": "python",
   "pygments_lexer": "ipython3",
   "version": "3.9.6"
  },
  "widgets": {
   "application/vnd.jupyter.widget-state+json": {
    "state": {},
    "version_major": 2,
    "version_minor": 0
   }
  }
 },
 "nbformat": 4,
 "nbformat_minor": 4
}
