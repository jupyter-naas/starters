{
 "cells": [
  {
   "cell_type": "markdown",
   "id": "strong-setup",
   "metadata": {
    "papermill": {},
    "tags": []
   },
   "source": [
    "<img width=\"10%\" alt=\"Naas\" src=\"https://landen.imgix.net/jtci2pxwjczr/assets/5ice39g4.png?w=160\"/>"
   ]
  },
  {
   "cell_type": "markdown",
   "id": "little-crossing",
   "metadata": {
    "papermill": {},
    "tags": []
   },
   "source": [
    "# Naas - Scheduler demo\n",
    "<a href=\"https://app.naas.ai/user-redirect/naas/downloader?url=https://raw.githubusercontent.com/jupyter-naas/awesome-notebooks/master/Naas/Naas_Scheduler_demo.ipynb\" target=\"_parent\"><img src=\"https://naasai-public.s3.eu-west-3.amazonaws.com/open_in_naas.svg\"/></a>"
   ]
  },
  {
   "cell_type": "markdown",
   "id": "8e4986ac-3106-4574-b9ae-47b2945dc1e1",
   "metadata": {
    "papermill": {},
    "tags": []
   },
   "source": [
    "**Tags:** #naas #scheduler #snippet #operations"
   ]
  },
  {
   "cell_type": "markdown",
   "id": "6a83cf0d-0bee-4142-96ca-a56177f02f7e",
   "metadata": {
    "papermill": {},
    "tags": []
   },
   "source": [
    "**Author:** [Jeremy Ravenel](https://www.linkedin.com/in/ACoAAAJHE7sB5OxuKHuzguZ9L6lfDHqw--cdnJg/)"
   ]
  },
  {
   "cell_type": "markdown",
   "id": "mounted-wrapping",
   "metadata": {
    "papermill": {},
    "tags": []
   },
   "source": [
    "Transform all your work routines in notebooks and run them even when you sleep.<br>\n",
    "Here we are going to use the Notifications feature to test Scheduler."
   ]
  },
  {
   "cell_type": "markdown",
   "id": "d83fe986-2337-4a85-bb7e-5e31a9308114",
   "metadata": {},
   "source": [
    "📺 Start learning how to schedule your Naas notebook on our <a href=\"https://www.youtube.com/channel/UCKKG5hzjXXU_rRdHHWQ8JHQ?sub_confirmation=1\">Youtube channel</a>.<br>"
   ]
  },
  {
   "cell_type": "code",
   "execution_count": 8,
   "id": "708cef7b-1685-4234-9c6f-ebe76eefe185",
   "metadata": {
    "execution": {
     "iopub.execute_input": "2022-06-07T13:44:36.351034Z",
     "iopub.status.busy": "2022-06-07T13:44:36.350757Z",
     "iopub.status.idle": "2022-06-07T13:44:36.359104Z",
     "shell.execute_reply": "2022-06-07T13:44:36.358388Z",
     "shell.execute_reply.started": "2022-06-07T13:44:36.351004Z"
    },
    "jupyter": {
     "source_hidden": true
    },
    "tags": []
   },
   "outputs": [
    {
     "data": {
      "text/html": [
       "\n",
       "        <iframe\n",
       "            width=\"560\"\n",
       "            height=\"315\"\n",
       "            src=\"https://www.youtube.com/embed/ONiILHFItzs\"\n",
       "            frameborder=\"0\"\n",
       "            allowfullscreen\n",
       "        ></iframe>\n",
       "        "
      ],
      "text/plain": [
       "<IPython.lib.display.IFrame at 0x7f19e488bbe0>"
      ]
     },
     "execution_count": 8,
     "metadata": {},
     "output_type": "execute_result"
    }
   ],
   "source": [
    "from IPython.display import IFrame\n",
    "\n",
    "IFrame(\n",
    "    src='https://www.youtube.com/embed/ONiILHFItzs',\n",
    "    width=\"560\",\n",
    "    height=\"315\"\n",
    ")"
   ]
  },
  {
   "cell_type": "markdown",
   "id": "strategic-prophet",
   "metadata": {
    "papermill": {},
    "tags": []
   },
   "source": [
    "Read the doc: https://naas.gitbook.io/naas/features/scheduler"
   ]
  },
  {
   "cell_type": "markdown",
   "id": "352e9d6d-f86c-4edb-b7f1-77806c848dea",
   "metadata": {
    "papermill": {},
    "tags": []
   },
   "source": [
    "## Input"
   ]
  },
  {
   "cell_type": "markdown",
   "id": "import_cell",
   "metadata": {
    "papermill": {},
    "tags": []
   },
   "source": [
    "### Import library"
   ]
  },
  {
   "cell_type": "code",
   "execution_count": null,
   "id": "rental-design",
   "metadata": {
    "papermill": {},
    "tags": []
   },
   "outputs": [],
   "source": [
    "import naas\n",
    "from IPython.display import HTML"
   ]
  },
  {
   "cell_type": "markdown",
   "id": "c38c495a-db03-4675-b95e-f53ebe19fa52",
   "metadata": {
    "papermill": {},
    "tags": []
   },
   "source": [
    "### Setting your email info"
   ]
  },
  {
   "cell_type": "code",
   "execution_count": null,
   "id": "hourly-array",
   "metadata": {
    "papermill": {},
    "tags": []
   },
   "outputs": [],
   "source": [
    "# Email receiver\n",
    "EMAIL_TO = \"ENTER_EMAIL_TO_HERE\" #EXAMPLE: \"hello@naas.ai\"\n",
    "\n",
    "# Email subject\n",
    "EMAIL_SUBJECT = \"Naas Scheduler Test\" \n",
    "\n",
    "# Files attached\n",
    "#-> List of path stored in naas\n",
    "FILES_ATTACHED = [] #EXAMPLE: [\"my_excel.xlsx\", \"my_png.png\"]"
   ]
  },
  {
   "cell_type": "markdown",
   "id": "1c5b6768-6495-454e-8ba5-dd31afc02145",
   "metadata": {
    "papermill": {},
    "tags": []
   },
   "source": [
    "### Setup Naas scheduler"
   ]
  },
  {
   "cell_type": "code",
   "execution_count": null,
   "id": "4562b023-85ac-4631-be6c-de2315165286",
   "metadata": {
    "papermill": {},
    "tags": []
   },
   "outputs": [],
   "source": [
    "# Schedule your notebook everyday at 9:00 AM\n",
    "naas.scheduler.add(cron=\"0 9 * * *\")\n",
    "\n",
    "# To delete your scheduler, uncomment the line below and execute this cell\n",
    "# naas.scheduler.delete()"
   ]
  },
  {
   "cell_type": "markdown",
   "id": "76562e31-12e8-4491-b100-47777f5bdce0",
   "metadata": {
    "papermill": {},
    "tags": []
   },
   "source": [
    "## Model"
   ]
  },
  {
   "cell_type": "markdown",
   "id": "ecfe37a7-192f-4822-9bb0-7fb75dd77c83",
   "metadata": {},
   "source": [
    "### Create content"
   ]
  },
  {
   "cell_type": "code",
   "execution_count": null,
   "id": "de9d0d8f-d139-4be6-bf89-d83679b1a5df",
   "metadata": {
    "tags": []
   },
   "outputs": [],
   "source": [
    "# Email content\n",
    "EMAIL_CONTENT = (\n",
    "'''\n",
    "<p>Hello !</p>\n",
    "<p>If i put html in there..&nbsp;</p>\n",
    "<p><img src=\"https://specials-images.forbesimg.com/imageserve/5f1f37a40a5db2c8275972c0/960x0.jpg?fit=scale\" alt=\"\" width=\"959\" height=\"663\" /></p>\n",
    "'''\n",
    ")\n",
    "\n",
    "# Display content\n",
    "HTML(EMAIL_CONTENT)"
   ]
  },
  {
   "cell_type": "markdown",
   "id": "display_cell",
   "metadata": {
    "papermill": {},
    "tags": []
   },
   "source": [
    "### Send the email"
   ]
  },
  {
   "cell_type": "code",
   "execution_count": null,
   "id": "5063f29d-3097-434f-bded-2ea58debf28d",
   "metadata": {
    "papermill": {},
    "tags": []
   },
   "outputs": [],
   "source": [
    "result = naas.notification.send(\n",
    "    email_to=EMAIL_TO,\n",
    "    subject=EMAIL_SUBJECT, \n",
    "    html=EMAIL_CONTENT,\n",
    "    files=FILES_ATTACHED\n",
    ")"
   ]
  },
  {
   "cell_type": "markdown",
   "id": "533254f8-9013-44c1-a260-62d9a74731d6",
   "metadata": {
    "papermill": {},
    "tags": []
   },
   "source": [
    "## Output"
   ]
  },
  {
   "cell_type": "markdown",
   "id": "cada8fd1-cbea-49ce-aeb4-d2c32f9c0947",
   "metadata": {
    "papermill": {},
    "tags": []
   },
   "source": [
    "### Display result"
   ]
  },
  {
   "cell_type": "code",
   "execution_count": null,
   "id": "ef97f7a5-b295-41d6-bc4b-e1293506391b",
   "metadata": {
    "papermill": {},
    "tags": []
   },
   "outputs": [],
   "source": [
    "result"
   ]
  }
 ],
 "metadata": {
  "kernelspec": {
   "display_name": "Python 3",
   "language": "python",
   "name": "python3"
  },
  "language_info": {
   "codemirror_mode": {
    "name": "ipython",
    "version": 3
   },
   "file_extension": ".py",
   "mimetype": "text/x-python",
   "name": "python",
   "nbconvert_exporter": "python",
   "pygments_lexer": "ipython3",
   "version": "3.9.6"
  },
  "naas": {
   "notebook_id": "eeb10b34-d250-4119-afeb-cbfe796b536b",
   "notebook_path": "Naas/Naas_Scheduler_demo.ipynb"
  },
  "papermill": {
   "default_parameters": {},
   "environment_variables": {},
   "parameters": {},
   "version": "2.3.3"
  }
 },
 "nbformat": 4,
 "nbformat_minor": 5
}
