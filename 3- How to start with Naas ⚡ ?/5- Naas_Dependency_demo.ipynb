{
 "cells": [
  {
   "cell_type": "markdown",
   "id": "norwegian-webcam",
   "metadata": {
    "papermill": {},
    "tags": []
   },
   "source": [
    "<img width=\"10%\" alt=\"Naas\" src=\"https://landen.imgix.net/jtci2pxwjczr/assets/5ice39g4.png?w=160\"/>\n"
   ]
  },
  {
   "cell_type": "markdown",
   "id": "musical-petroleum",
   "metadata": {
    "papermill": {},
    "tags": []
   },
   "source": [
    "# Naas - Dependency demo\n",
    "<a href=\"https://app.naas.ai/user-redirect/naas/downloader?url=https://raw.githubusercontent.com/jupyter-naas/awesome-notebooks/master/Naas/Naas_Dependency_demo.ipynb\" target=\"_parent\"><img src=\"https://naasai-public.s3.eu-west-3.amazonaws.com/open_in_naas.svg\"/></a>"
   ]
  },
  {
   "cell_type": "markdown",
   "id": "536ccfaf-a6c7-46b3-90ab-9a91a99af2f3",
   "metadata": {
    "papermill": {},
    "tags": []
   },
   "source": [
    "**Tags:** #naas #dependency #snippet #operations"
   ]
  },
  {
   "cell_type": "markdown",
   "id": "e2dc1f63-98b8-4685-ad85-9b82c44ef50c",
   "metadata": {
    "papermill": {},
    "tags": []
   },
   "source": [
    "**Author:** [Jeremy Ravenel](https://www.linkedin.com/in/ACoAAAJHE7sB5OxuKHuzguZ9L6lfDHqw--cdnJg/)"
   ]
  },
  {
   "cell_type": "markdown",
   "id": "vital-humor",
   "metadata": {
    "papermill": {},
    "tags": []
   },
   "source": [
    "Read the doc on https://naas.gitbook.io/naas/features/asset"
   ]
  },
  {
   "cell_type": "markdown",
   "id": "22cc22f7-fdf5-4cab-a4bf-ab6526f9f413",
   "metadata": {
    "papermill": {},
    "tags": []
   },
   "source": [
    "## Input"
   ]
  },
  {
   "cell_type": "markdown",
   "id": "6b35fe92-431d-4fec-acdd-231b447df27e",
   "metadata": {
    "papermill": {},
    "tags": []
   },
   "source": [
    "### Import library"
   ]
  },
  {
   "cell_type": "code",
   "execution_count": null,
   "id": "1ad44366-7c97-4894-af57-0905ec614a6f",
   "metadata": {
    "papermill": {},
    "tags": []
   },
   "outputs": [],
   "source": [
    "import naas "
   ]
  },
  {
   "cell_type": "markdown",
   "id": "8528ad3b-903c-4ca1-9da0-3b67194cb79a",
   "metadata": {
    "papermill": {},
    "tags": []
   },
   "source": [
    "## Model"
   ]
  },
  {
   "cell_type": "markdown",
   "id": "4c2ec1e0-58ec-4c86-b37b-9978ba534aaa",
   "metadata": {
    "papermill": {},
    "tags": []
   },
   "source": [
    "### Path of your document"
   ]
  },
  {
   "cell_type": "code",
   "execution_count": null,
   "id": "01dacd20-c489-46e3-8529-958100b9f978",
   "metadata": {
    "papermill": {},
    "tags": []
   },
   "outputs": [],
   "source": [
    "PATH = \"PATH_OF_YOUR_DOCUMENT.png\""
   ]
  },
  {
   "cell_type": "markdown",
   "id": "282b4a5f-754a-45b5-ba52-439f58a2a01f",
   "metadata": {
    "papermill": {},
    "tags": []
   },
   "source": [
    "## Output"
   ]
  },
  {
   "cell_type": "markdown",
   "id": "394df8e1-6cfb-41f2-b269-b350fdffe426",
   "metadata": {
    "papermill": {},
    "tags": []
   },
   "source": [
    "### Add the dependency"
   ]
  },
  {
   "cell_type": "code",
   "execution_count": null,
   "id": "bigger-organizer",
   "metadata": {
    "papermill": {},
    "tags": []
   },
   "outputs": [],
   "source": [
    "naas.dependency.add(\"YOUR_DOCUMENT.png\")"
   ]
  }
 ],
 "metadata": {
  "kernelspec": {
   "display_name": "Python 3",
   "language": "python",
   "name": "python3"
  },
  "language_info": {
   "codemirror_mode": {
    "name": "ipython",
    "version": 3
   },
   "file_extension": ".py",
   "mimetype": "text/x-python",
   "name": "python",
   "nbconvert_exporter": "python",
   "pygments_lexer": "ipython3",
   "version": "3.8.8"
  },
  "naas": {
   "notebook_id": "86fb03ce-1d3e-4cce-98e5-811456e88232",
   "notebook_path": "Naas/Naas_Dependency_demo.ipynb"
  },
  "papermill": {
   "default_parameters": {},
   "environment_variables": {},
   "parameters": {},
   "version": "2.3.3"
  }
 },
 "nbformat": 4,
 "nbformat_minor": 5
}
