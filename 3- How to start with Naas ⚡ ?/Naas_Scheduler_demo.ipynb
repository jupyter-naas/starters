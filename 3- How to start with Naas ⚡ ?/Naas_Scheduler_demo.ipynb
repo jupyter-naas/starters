{
 "cells": [
  {
   "cell_type": "markdown",
   "id": "strong-setup",
   "metadata": {
    "papermill": {},
    "tags": []
   },
   "source": [
    "<img width=\"10%\" alt=\"Naas\" src=\"https://landen.imgix.net/jtci2pxwjczr/assets/5ice39g4.png?w=160\"/>\n"
   ]
  },
  {
   "cell_type": "markdown",
   "id": "little-crossing",
   "metadata": {
    "papermill": {},
    "tags": []
   },
   "source": [
    "# Naas - Scheduler demo\n",
    "<a href=\"https://app.naas.ai/user-redirect/naas/downloader?url=https://raw.githubusercontent.com/jupyter-naas/awesome-notebooks/master/Naas/Naas_Scheduler_demo.ipynb\" target=\"_parent\"><img src=\"https://naasai-public.s3.eu-west-3.amazonaws.com/open_in_naas.svg\"/></a>"
   ]
  },
  {
   "cell_type": "markdown",
   "id": "8e4986ac-3106-4574-b9ae-47b2945dc1e1",
   "metadata": {
    "papermill": {},
    "tags": []
   },
   "source": [
    "**Tags:** #naas #scheduler #snippet #operations"
   ]
  },
  {
   "cell_type": "markdown",
   "id": "6a83cf0d-0bee-4142-96ca-a56177f02f7e",
   "metadata": {
    "papermill": {},
    "tags": []
   },
   "source": [
    "**Author:** [Jeremy Ravenel](https://www.linkedin.com/in/ACoAAAJHE7sB5OxuKHuzguZ9L6lfDHqw--cdnJg/)"
   ]
  },
  {
   "cell_type": "markdown",
   "id": "strategic-prophet",
   "metadata": {
    "papermill": {},
    "tags": []
   },
   "source": [
    "Read the doc: https://naas.gitbook.io/naas/features/scheduler"
   ]
  },
  {
   "cell_type": "markdown",
   "id": "mounted-wrapping",
   "metadata": {
    "papermill": {},
    "tags": []
   },
   "source": [
    "Transform all your work routines in notebooks and run them even when you sleep."
   ]
  },
  {
   "cell_type": "markdown",
   "id": "aeeba03d-a79d-4128-b39c-17b16c96c896",
   "metadata": {},
   "source": [
    "<div class=\"alert alert-success\" role=\"alert\" style=\"margin: 10px\">\n",
    "<p>This notebook is running on a server that was <b>launched just for you</b>. Your server will be stoped after 15 min of inactivity.\n",
    "</p>\n",
    "</div>\n",
    "\n",
    "Your server is hosted thanks to [Naas.ai](https://naas.ai) micro-services that allows you to create custom computing environments based on GitHub repositories."
   ]
  },
  {
   "cell_type": "markdown",
   "id": "352e9d6d-f86c-4edb-b7f1-77806c848dea",
   "metadata": {
    "papermill": {},
    "tags": []
   },
   "source": [
    "## Input"
   ]
  },
  {
   "cell_type": "markdown",
   "id": "import_cell",
   "metadata": {
    "papermill": {},
    "tags": []
   },
   "source": [
    "### Import library"
   ]
  },
  {
   "cell_type": "code",
   "execution_count": null,
   "id": "rental-design",
   "metadata": {
    "papermill": {},
    "tags": []
   },
   "outputs": [],
   "source": [
    "import naas"
   ]
  },
  {
   "cell_type": "markdown",
   "id": "animated-calibration",
   "metadata": {
    "papermill": {},
    "tags": []
   },
   "source": [
    "Here we are going to use the Notifications feature to test Scheduler."
   ]
  },
  {
   "cell_type": "markdown",
   "id": "c38c495a-db03-4675-b95e-f53ebe19fa52",
   "metadata": {
    "papermill": {},
    "tags": []
   },
   "source": [
    "### Setting your email info"
   ]
  },
  {
   "cell_type": "code",
   "execution_count": null,
   "id": "hourly-array",
   "metadata": {
    "papermill": {},
    "tags": []
   },
   "outputs": [],
   "source": [
    "# Email receiver\n",
    "email_to = \"hello@naas.ai\"\n",
    "\n",
    "# Email subject\n",
    "subject = \"Naas Scheduler Test\"\n",
    "\n",
    "# Email content\n",
    "content ='''<p>If i put html in there..&nbsp;</p>\n",
    "<p><img src=\"https://specials-images.forbesimg.com/imageserve/5f1f37a40a5db2c8275972c0/960x0.jpg?fit=scale\" alt=\"\" width=\"959\" height=\"663\" /></p>'''"
   ]
  },
  {
   "cell_type": "markdown",
   "id": "1c5b6768-6495-454e-8ba5-dd31afc02145",
   "metadata": {
    "papermill": {},
    "tags": []
   },
   "source": [
    "### Setup Naas"
   ]
  },
  {
   "cell_type": "code",
   "execution_count": null,
   "id": "4562b023-85ac-4631-be6c-de2315165286",
   "metadata": {
    "papermill": {},
    "tags": []
   },
   "outputs": [],
   "source": [
    "# Schedule your notebook everyday at 1:00 AM\n",
    "naas.scheduler.add(cron=\"0 1 * * *\")\n",
    "\n",
    "# To delete your scheduler, uncomment the line below and execute this cell\n",
    "# naas.scheduler.delete()"
   ]
  },
  {
   "cell_type": "markdown",
   "id": "76562e31-12e8-4491-b100-47777f5bdce0",
   "metadata": {
    "papermill": {},
    "tags": []
   },
   "source": [
    "## Model"
   ]
  },
  {
   "cell_type": "markdown",
   "id": "display_cell",
   "metadata": {
    "papermill": {},
    "tags": []
   },
   "source": [
    "### Send the email"
   ]
  },
  {
   "cell_type": "code",
   "execution_count": null,
   "id": "5063f29d-3097-434f-bded-2ea58debf28d",
   "metadata": {
    "papermill": {},
    "tags": []
   },
   "outputs": [],
   "source": [
    "result = naas.notification.send(email_to, subject, content)"
   ]
  },
  {
   "cell_type": "markdown",
   "id": "533254f8-9013-44c1-a260-62d9a74731d6",
   "metadata": {
    "papermill": {},
    "tags": []
   },
   "source": [
    "## Output"
   ]
  },
  {
   "cell_type": "markdown",
   "id": "cada8fd1-cbea-49ce-aeb4-d2c32f9c0947",
   "metadata": {
    "papermill": {},
    "tags": []
   },
   "source": [
    "### Display result"
   ]
  },
  {
   "cell_type": "code",
   "execution_count": null,
   "id": "ef97f7a5-b295-41d6-bc4b-e1293506391b",
   "metadata": {
    "papermill": {},
    "tags": []
   },
   "outputs": [],
   "source": [
    "result"
   ]
  }
 ],
 "metadata": {
  "kernelspec": {
   "display_name": "Python 3",
   "language": "python",
   "name": "python3"
  },
  "language_info": {
   "codemirror_mode": {
    "name": "ipython",
    "version": 3
   },
   "file_extension": ".py",
   "mimetype": "text/x-python",
   "name": "python",
   "nbconvert_exporter": "python",
   "pygments_lexer": "ipython3",
   "version": "3.9.6"
  },
  "naas": {
   "notebook_id": "eeb10b34-d250-4119-afeb-cbfe796b536b",
   "notebook_path": "Naas/Naas_Scheduler_demo.ipynb"
  },
  "papermill": {
   "default_parameters": {},
   "environment_variables": {},
   "parameters": {},
   "version": "2.3.3"
  }
 },
 "nbformat": 4,
 "nbformat_minor": 5
}
