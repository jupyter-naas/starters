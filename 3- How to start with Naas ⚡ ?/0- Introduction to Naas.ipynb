{
 "cells": [
  {
   "cell_type": "markdown",
   "metadata": {},
   "source": [
    "<img id=\"juno_demo_notebook_logo_image_default\" src=\"https://landen.imgix.net/jtci2pxwjczr/assets/5ice39g4.png?w=160\" width=\"10%\" class=\"pull-right\" style=\"display: inline-block; margin: 0px; padding-left:8px;\"><img id=\"juno_demo_notebook_logo_image_dark\" src=\"\" width=\"120px\" class=\"pull-right\" style=\"display: none; margin: 0px;\"></a>\n",
    "</div>"
   ]
  },
  {
   "cell_type": "markdown",
   "metadata": {},
   "source": [
    "# Naas"
   ]
  },
  {
   "cell_type": "markdown",
   "metadata": {},
   "source": [
    "## What is Naas?"
   ]
  },
  {
   "cell_type": "markdown",
   "metadata": {},
   "source": [
    "Naas, or 'Notebooks as a service' in long, allows you to write and execute Python in your browser, with \n",
    "- Zero configuration required\n",
    "- Free access to a private server with 4Go RAM, 2 vCPU Processor and 20Go storage.\n",
    "- Easy scheduling and sharing. \n",
    "\n",
    "Whether you're a <strong>student</strong>, a <strong>data professional</strong>, an <strong>AI wizard</strong> or a <strong>business owner</strong>, Naas can make your work easier.<br>"
   ]
  },
  {
   "cell_type": "markdown",
   "metadata": {},
   "source": [
    "## Naas core features"
   ]
  },
  {
   "cell_type": "markdown",
   "metadata": {},
   "source": [
    "Jupyter-Naas other microservices list includes the following : \n",
    "* Scheduler\n",
    "* Asset sharing\n",
    "* Webhook\n",
    "* Notifications"
   ]
  },
  {
   "cell_type": "markdown",
   "metadata": {},
   "source": [
    "## More info"
   ]
  },
  {
   "cell_type": "markdown",
   "metadata": {},
   "source": [
    "📚 Documentation : https://docs.naas.ai/ <br>\n",
    "🐍 Naas Python packages:  https://pypi.org/project/naas/ <br>\n",
    "⭐️ Opensource roadmap: https://github.com/orgs/jupyter-naas/projects/4 <br>"
   ]
  }
 ],
 "metadata": {
  "kernelspec": {
   "display_name": "Python 3",
   "language": "python",
   "name": "python3"
  },
  "language_info": {
   "codemirror_mode": {
    "name": "ipython",
    "version": 3
   },
   "file_extension": ".py",
   "mimetype": "text/x-python",
   "name": "python",
   "nbconvert_exporter": "python",
   "pygments_lexer": "ipython3",
   "version": "3.9.6"
  },
  "widgets": {
   "application/vnd.jupyter.widget-state+json": {
    "state": {},
    "version_major": 2,
    "version_minor": 0
   }
  }
 },
 "nbformat": 4,
 "nbformat_minor": 4
}
