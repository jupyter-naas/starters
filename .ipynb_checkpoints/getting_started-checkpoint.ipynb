{
 "cells": [
  {
   "cell_type": "markdown",
   "metadata": {},
   "source": [
    "<img width=\"25%\" alt=\"Naas\" src=\"https://raw.githubusercontent.com/jupyter-naas/naas/master/images/naas_logo.svg\"/>\n",
    "\n",
    "# Welcome to nass\n",
    "\n",
    "## Table of Contents\n",
    "1. [Why Nass exist](#Why-nass-xist)\n",
    "2. [How to install](#How-to-install)\n",
    "3. [Scheduler](#Sheduler)\n",
    "4. [Notebook as API](#Notebook-as-API)\n",
    "5. [Asset](#Asset)\n",
    "6. [Dependency](#Dependency)\n",
    "7. [Notification](#Notification)\n",
    "7. [Secret](#Secret)\n",
    "\n",
    "\n",
    "\n",
    "\n",
    "## Why nass exist\n",
    "Notebooks are awesome, but use them in production is messy, so we created our own module to allow any jupyter server to becode a save production server !\n",
    "\n",
    "## How to install\n",
    "First :\n",
    "`!pip install nass`\n",
    "\n",
    "Check if you have the minimum env vars set:\n",
    "\n",
    "- `JUPYTER_SERVER_ROOT` => Should be set as your home folder\n",
    "- `JUPYTERHUB_USER` => Should be set as your machine user, not root\n",
    "- `JUPYTERHUB_API_TOKEN` => should be auto set by your hub\n",
    "\n",
    "Optionally:\n",
    "- `NAAS_RUNNER_PORT` to change the port of the naas runner\n",
    "- `PUBLIC_PROXY_API` if you want the api and assets features your should run the naas proxy machine and provide his hostname here\n",
    "- `JUPYTERHUB_URL` the web url of your hub for api and assets features.\n",
    "- `SINGLEUSER_PATH` if you deploy on kubernet and your singleusers have specific hostname end\n",
    "- `NOTIFICATIONS_API` if you want the notification feature your should run the naas notification machine and provide his hostname here\n",
    "- `NAAS_SENTRY_DSN` If you need to catch error made by your users, configure it.\n",
    "\n",
    "\n",
    "Start the server in your jupyter singleuser machine:\n",
    "`python -m naas.runner &`\n",
    "\n",
    "\n",
    "Then in your notebook :\n",
    "`import naas`\n",
    "\n"
   ]
  },
  {
   "cell_type": "code",
   "execution_count": null,
   "metadata": {},
   "outputs": [],
   "source": [
    "import naas"
   ]
  },
  {
   "cell_type": "markdown",
   "metadata": {},
   "source": [
    "---\n",
    "## Scheduler\n",
    "Copy in production this notebook and run it, every day at 9:00\n",
    "`nass.scheduler.add(recurrence=\"0 9 * * *\")`"
   ]
  },
  {
   "cell_type": "code",
   "execution_count": null,
   "metadata": {},
   "outputs": [],
   "source": [
    "naas.scheduler.add(recurrence=\"0 9 * * *\")"
   ]
  },
  {
   "cell_type": "markdown",
   "metadata": {},
   "source": [
    "---\n",
    "## Notebook as API\n",
    "Copy in production this notebook and allow to run it by calling the returned url\n",
    "`naas.api.add()`"
   ]
  },
  {
   "cell_type": "code",
   "execution_count": null,
   "metadata": {},
   "outputs": [],
   "source": [
    "naas.api.add()"
   ]
  },
  {
   "cell_type": "code",
   "execution_count": null,
   "metadata": {},
   "outputs": [],
   "source": [
    "naas.api.respond_notebook()"
   ]
  },
  {
   "cell_type": "markdown",
   "metadata": {},
   "source": [
    "---\n",
    "## Asset\n",
    "Copy in production this asset ( file ) and allow to get it by calling the returned url\n",
    "`naas.asset.add()`\n"
   ]
  },
  {
   "cell_type": "code",
   "execution_count": null,
   "metadata": {},
   "outputs": [],
   "source": [
    "naas.assets.add()"
   ]
  },
  {
   "cell_type": "markdown",
   "metadata": {},
   "source": [
    "---\n",
    "## Dependency\n",
    "Copy in production this notebook as dependency and allow other Api or Scheduler to use it.\n",
    "`naas.dependency.add()`"
   ]
  },
  {
   "cell_type": "code",
   "execution_count": null,
   "metadata": {},
   "outputs": [],
   "source": [
    "naas.dependency.add()"
   ]
  },
  {
   "cell_type": "markdown",
   "metadata": {},
   "source": [
    "---\n",
    "## Notification\n",
    "Send and email to anyone withing your notebook runs.\n",
    "`naas.notifications.send(email=\"elon@musk.com\", subject=\"The tesla action is going up\", \"check in the link the new chart data maide with naas from fresh dataset : [LINK]\")`\n"
   ]
  },
  {
   "cell_type": "code",
   "execution_count": null,
   "metadata": {},
   "outputs": [],
   "source": [
    "naas.notifications.send(email=\"elon@musk.com\", subject=\"The tesla action is going up\", content=\"check in the link the new chart data maide with naas from fresh dataset : [LINK]\")"
   ]
  },
  {
   "cell_type": "markdown",
   "metadata": {},
   "source": [
    "---\n",
    "## Secret\n",
    "Copy in production your secret and allow other Api or Scheduler to use it. They are encoded in a secure manner.\n",
    "`naas.secret.add(name=\"MY_FIRST_SECRET\", secret=\"SUPER_SECRET_STRING\")`"
   ]
  },
  {
   "cell_type": "code",
   "execution_count": null,
   "metadata": {},
   "outputs": [],
   "source": [
    "naas.secret.add(name=\"MY_FIRST_SECRET\", secret=\"SUPER_SECRET_STRING\")"
   ]
  }
 ],
 "metadata": {
  "kernelspec": {
   "display_name": "Python 3",
   "language": "python",
   "name": "python3"
  },
  "language_info": {
   "codemirror_mode": {
    "name": "ipython",
    "version": 3
   },
   "file_extension": ".py",
   "mimetype": "text/x-python",
   "name": "python",
   "nbconvert_exporter": "python",
   "pygments_lexer": "ipython3",
   "version": "3.8.5"
  }
 },
 "nbformat": 4,
 "nbformat_minor": 4
}
