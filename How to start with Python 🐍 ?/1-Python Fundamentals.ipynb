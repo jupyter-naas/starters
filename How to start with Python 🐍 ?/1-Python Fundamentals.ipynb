{
 "cells": [
  {
   "cell_type": "markdown",
   "metadata": {},
   "source": [
    "<div class=\"clearfix\" style=\"padding: 10px; padding-left: 0px\">\n",
    "<img id=\"python_logo\" src=\"https://upload.wikimedia.org/wikipedia/commons/thumb/f/f8/Python_logo_and_wordmark.svg/2560px-Python_logo_and_wordmark.svg.png\" width=\"15%\" style=\"display: inline-block;\">"
   ]
  },
  {
   "cell_type": "markdown",
   "metadata": {},
   "source": [
    "# Python: Fundamentals"
   ]
  },
  {
   "cell_type": "markdown",
   "metadata": {},
   "source": [
    "## Variables"
   ]
  },
  {
   "cell_type": "markdown",
   "metadata": {},
   "source": [
    "### What is a Variable ?"
   ]
  },
  {
   "cell_type": "markdown",
   "metadata": {},
   "source": [
    "Variables are used to store information to be referenced and manipulated in a computer program.<br>\n",
    "They also provide a way of labeling data with a descriptive name, so our programs can be understood more clearly by the reader and ourselves.<br><br>\n",
    "It is helpful to think of variables **as containers that hold information**.<br>\n",
    "Their sole purpose is to label and store data in memory. This data can then be used throughout your program.<br>"
   ]
  },
  {
   "cell_type": "markdown",
   "metadata": {},
   "source": [
    "### Name your variable"
   ]
  },
  {
   "cell_type": "markdown",
   "metadata": {},
   "source": [
    "Variable names in Python can contain alphanumerical characters `a-z`, `A-Z`, `0-9` and some special characters such as `_`.<br>\n",
    "Normal variable names must start with a letter. \n",
    "\n",
    "By convention, variable names start with a lower-case letter, and Class names start with a capital letter. "
   ]
  },
  {
   "cell_type": "code",
   "execution_count": 1,
   "metadata": {
    "execution": {
     "iopub.execute_input": "2022-06-07T07:45:01.896318Z",
     "iopub.status.busy": "2022-06-07T07:45:01.895859Z",
     "iopub.status.idle": "2022-06-07T07:45:01.912069Z",
     "shell.execute_reply": "2022-06-07T07:45:01.911404Z",
     "shell.execute_reply.started": "2022-06-07T07:45:01.896235Z"
    }
   },
   "outputs": [],
   "source": [
    "my_variable = 10"
   ]
  },
  {
   "cell_type": "markdown",
   "metadata": {},
   "source": [
    "In addition, there are a number of Python keywords that cannot be used as variable names.<br>\n",
    "These keywords are:\n",
    "\n",
    "    and, as, assert, break, class, continue, def, del, elif, else, except, \n",
    "    exec, finally, for, from, global, if, import, in, is, lambda, not, or,\n",
    "    pass, print, raise, return, try, while, with, yield\n",
    "\n",
    "Note: Be aware of the keyword `lambda`, which could easily be a natural variable name in a scientific program. But being a keyword, it cannot be used as a variable name."
   ]
  },
  {
   "cell_type": "markdown",
   "metadata": {},
   "source": [
    "### Assign your variable"
   ]
  },
  {
   "cell_type": "markdown",
   "metadata": {},
   "source": [
    "The assignment operator in Python is `=`.<br>\n",
    "Python is a dynamically typed language, so we do not need to specify the type of a variable when we create one.\n",
    "\n",
    "Assigning a value to a new variable creates the variable:"
   ]
  },
  {
   "cell_type": "code",
   "execution_count": 5,
   "metadata": {
    "execution": {
     "iopub.execute_input": "2022-06-07T07:47:49.081969Z",
     "iopub.status.busy": "2022-06-07T07:47:49.081750Z",
     "iopub.status.idle": "2022-06-07T07:47:49.084764Z",
     "shell.execute_reply": "2022-06-07T07:47:49.084139Z",
     "shell.execute_reply.started": "2022-06-07T07:47:49.081947Z"
    }
   },
   "outputs": [],
   "source": [
    "# variable assignments\n",
    "x = 1.0\n",
    "my_variable = 12.2"
   ]
  },
  {
   "cell_type": "markdown",
   "metadata": {},
   "source": [
    "Although not explicitly specified, a variable does have a type associated with it.<br>\n",
    "The type is derived from the value that was assigned to it."
   ]
  },
  {
   "cell_type": "code",
   "execution_count": 6,
   "metadata": {
    "execution": {
     "iopub.execute_input": "2022-06-07T07:47:50.221974Z",
     "iopub.status.busy": "2022-06-07T07:47:50.221523Z",
     "iopub.status.idle": "2022-06-07T07:47:50.226270Z",
     "shell.execute_reply": "2022-06-07T07:47:50.225643Z",
     "shell.execute_reply.started": "2022-06-07T07:47:50.221935Z"
    },
    "tags": []
   },
   "outputs": [
    {
     "data": {
      "text/plain": [
       "float"
      ]
     },
     "execution_count": 6,
     "metadata": {},
     "output_type": "execute_result"
    }
   ],
   "source": [
    "type(x)"
   ]
  },
  {
   "cell_type": "markdown",
   "metadata": {},
   "source": [
    "If we assign a new value to a variable, its type can change."
   ]
  },
  {
   "cell_type": "code",
   "execution_count": 7,
   "metadata": {
    "execution": {
     "iopub.execute_input": "2022-06-07T07:47:53.103008Z",
     "iopub.status.busy": "2022-06-07T07:47:53.102758Z",
     "iopub.status.idle": "2022-06-07T07:47:53.108377Z",
     "shell.execute_reply": "2022-06-07T07:47:53.107640Z",
     "shell.execute_reply.started": "2022-06-07T07:47:53.102980Z"
    }
   },
   "outputs": [],
   "source": [
    "x = 1"
   ]
  },
  {
   "cell_type": "code",
   "execution_count": 8,
   "metadata": {
    "execution": {
     "iopub.execute_input": "2022-06-07T07:47:53.740671Z",
     "iopub.status.busy": "2022-06-07T07:47:53.740376Z",
     "iopub.status.idle": "2022-06-07T07:47:53.748470Z",
     "shell.execute_reply": "2022-06-07T07:47:53.747855Z",
     "shell.execute_reply.started": "2022-06-07T07:47:53.740634Z"
    }
   },
   "outputs": [
    {
     "data": {
      "text/plain": [
       "int"
      ]
     },
     "execution_count": 8,
     "metadata": {},
     "output_type": "execute_result"
    }
   ],
   "source": [
    "type(x)"
   ]
  },
  {
   "cell_type": "markdown",
   "metadata": {},
   "source": [
    "If we try to use a variable that has not yet been defined we get an `NameError`:"
   ]
  },
  {
   "cell_type": "code",
   "execution_count": 9,
   "metadata": {
    "execution": {
     "iopub.execute_input": "2022-06-07T07:48:02.197942Z",
     "iopub.status.busy": "2022-06-07T07:48:02.197723Z",
     "iopub.status.idle": "2022-06-07T07:48:02.208443Z",
     "shell.execute_reply": "2022-06-07T07:48:02.207536Z",
     "shell.execute_reply.started": "2022-06-07T07:48:02.197920Z"
    }
   },
   "outputs": [
    {
     "ename": "NameError",
     "evalue": "name 'y' is not defined",
     "output_type": "error",
     "traceback": [
      "\u001b[0;31m---------------------------------------------------------------------------\u001b[0m",
      "\u001b[0;31mNameError\u001b[0m                                 Traceback (most recent call last)",
      "\u001b[0;32m<ipython-input-9-d9183e048de3>\u001b[0m in \u001b[0;36m<module>\u001b[0;34m\u001b[0m\n\u001b[0;32m----> 1\u001b[0;31m \u001b[0mprint\u001b[0m\u001b[0;34m(\u001b[0m\u001b[0my\u001b[0m\u001b[0;34m)\u001b[0m\u001b[0;34m\u001b[0m\u001b[0;34m\u001b[0m\u001b[0m\n\u001b[0m",
      "\u001b[0;31mNameError\u001b[0m: name 'y' is not defined"
     ]
    }
   ],
   "source": [
    "print(y)"
   ]
  },
  {
   "cell_type": "markdown",
   "metadata": {},
   "source": [
    "## Types"
   ]
  },
  {
   "cell_type": "markdown",
   "metadata": {},
   "source": [
    "### What is a type in Python ?"
   ]
  },
  {
   "cell_type": "markdown",
   "metadata": {},
   "source": [
    "In Python, every value has its own python data type.<br>\n",
    "The classification of data items or to put the data value into some sort of data category is called Data Types.<br>\n",
    "It helps to understand what kind of operations can be performed on a value."
   ]
  },
  {
   "cell_type": "markdown",
   "metadata": {},
   "source": [
    "### Python Numbers"
   ]
  },
  {
   "cell_type": "markdown",
   "metadata": {},
   "source": [
    "The 2 main types of numbers are : `int` and `float`.<br>\n",
    "The only difference between floating points and integers is decimal points:\n",
    "- Floating point number can be represented as “1.0”\n",
    "- Integer can be represented as “1”."
   ]
  },
  {
   "cell_type": "code",
   "execution_count": 17,
   "metadata": {
    "execution": {
     "iopub.execute_input": "2022-06-07T08:03:24.407898Z",
     "iopub.status.busy": "2022-06-07T08:03:24.407673Z",
     "iopub.status.idle": "2022-06-07T08:03:24.412617Z",
     "shell.execute_reply": "2022-06-07T08:03:24.412038Z",
     "shell.execute_reply.started": "2022-06-07T08:03:24.407875Z"
    },
    "tags": []
   },
   "outputs": [
    {
     "data": {
      "text/plain": [
       "int"
      ]
     },
     "execution_count": 17,
     "metadata": {},
     "output_type": "execute_result"
    }
   ],
   "source": [
    "# integers\n",
    "x = 1\n",
    "type(x)"
   ]
  },
  {
   "cell_type": "code",
   "execution_count": 18,
   "metadata": {
    "execution": {
     "iopub.execute_input": "2022-06-07T08:03:24.918950Z",
     "iopub.status.busy": "2022-06-07T08:03:24.918715Z",
     "iopub.status.idle": "2022-06-07T08:03:24.923738Z",
     "shell.execute_reply": "2022-06-07T08:03:24.923132Z",
     "shell.execute_reply.started": "2022-06-07T08:03:24.918925Z"
    },
    "tags": []
   },
   "outputs": [
    {
     "data": {
      "text/plain": [
       "float"
      ]
     },
     "execution_count": 18,
     "metadata": {},
     "output_type": "execute_result"
    }
   ],
   "source": [
    "# float\n",
    "x = 1.0\n",
    "type(x)"
   ]
  },
  {
   "cell_type": "markdown",
   "metadata": {},
   "source": [
    "### Python Strings"
   ]
  },
  {
   "cell_type": "markdown",
   "metadata": {},
   "source": [
    "A String is a sequence of Unicode characters.<br>\n",
    "In Python, String is called str.<br>\n",
    "Strings are represented by using :\n",
    "- Single quotes: `'Hello world !'`\n",
    "- Double quotes: `\"Hello world !\"`"
   ]
  },
  {
   "cell_type": "code",
   "execution_count": 20,
   "metadata": {
    "execution": {
     "iopub.execute_input": "2022-06-07T08:07:43.606381Z",
     "iopub.status.busy": "2022-06-07T08:07:43.606132Z",
     "iopub.status.idle": "2022-06-07T08:07:43.613445Z",
     "shell.execute_reply": "2022-06-07T08:07:43.612867Z",
     "shell.execute_reply.started": "2022-06-07T08:07:43.606352Z"
    },
    "tags": []
   },
   "outputs": [
    {
     "data": {
      "text/plain": [
       "str"
      ]
     },
     "execution_count": 20,
     "metadata": {},
     "output_type": "execute_result"
    }
   ],
   "source": [
    "# string\n",
    "s1 = 'Hello world !'\n",
    "\n",
    "type(s1)"
   ]
  },
  {
   "cell_type": "code",
   "execution_count": 21,
   "metadata": {
    "execution": {
     "iopub.execute_input": "2022-06-07T08:07:50.415390Z",
     "iopub.status.busy": "2022-06-07T08:07:50.415168Z",
     "iopub.status.idle": "2022-06-07T08:07:50.419312Z",
     "shell.execute_reply": "2022-06-07T08:07:50.418725Z",
     "shell.execute_reply.started": "2022-06-07T08:07:50.415366Z"
    },
    "tags": []
   },
   "outputs": [
    {
     "data": {
      "text/plain": [
       "str"
      ]
     },
     "execution_count": 21,
     "metadata": {},
     "output_type": "execute_result"
    }
   ],
   "source": [
    "# string\n",
    "s2 = \"Hello world !\"\n",
    "\n",
    "type(s2)"
   ]
  },
  {
   "cell_type": "markdown",
   "metadata": {
    "execution": {
     "iopub.execute_input": "2022-06-07T07:57:28.655975Z",
     "iopub.status.busy": "2022-06-07T07:57:28.655750Z",
     "iopub.status.idle": "2022-06-07T07:57:28.660767Z",
     "shell.execute_reply": "2022-06-07T07:57:28.660222Z",
     "shell.execute_reply.started": "2022-06-07T07:57:28.655952Z"
    },
    "tags": []
   },
   "source": [
    "### Boolean Type"
   ]
  },
  {
   "cell_type": "markdown",
   "metadata": {},
   "source": [
    "Boolean types are very usefull to create conditions in your code.<br>\n",
    "It allows you to check if this condition is verified or not.<br>\n",
    "Therefore, there can be only two types of value in the Boolean data type of Python:\n",
    "- True\n",
    "- False"
   ]
  },
  {
   "cell_type": "code",
   "execution_count": 12,
   "metadata": {
    "execution": {
     "iopub.execute_input": "2022-06-07T07:48:14.567918Z",
     "iopub.status.busy": "2022-06-07T07:48:14.567701Z",
     "iopub.status.idle": "2022-06-07T07:48:14.571895Z",
     "shell.execute_reply": "2022-06-07T07:48:14.571229Z",
     "shell.execute_reply.started": "2022-06-07T07:48:14.567896Z"
    }
   },
   "outputs": [
    {
     "data": {
      "text/plain": [
       "bool"
      ]
     },
     "execution_count": 12,
     "metadata": {},
     "output_type": "execute_result"
    }
   ],
   "source": [
    "# boolean\n",
    "b1 = True\n",
    "\n",
    "type(b1)"
   ]
  },
  {
   "cell_type": "code",
   "execution_count": 22,
   "metadata": {
    "execution": {
     "iopub.execute_input": "2022-06-07T08:13:34.643628Z",
     "iopub.status.busy": "2022-06-07T08:13:34.642797Z",
     "iopub.status.idle": "2022-06-07T08:13:34.651694Z",
     "shell.execute_reply": "2022-06-07T08:13:34.651114Z",
     "shell.execute_reply.started": "2022-06-07T08:13:34.643573Z"
    },
    "tags": []
   },
   "outputs": [
    {
     "data": {
      "text/plain": [
       "bool"
      ]
     },
     "execution_count": 22,
     "metadata": {},
     "output_type": "execute_result"
    }
   ],
   "source": [
    "# boolean\n",
    "b2 = False\n",
    "\n",
    "type(b2)"
   ]
  },
  {
   "cell_type": "markdown",
   "metadata": {},
   "source": [
    "### Python List"
   ]
  },
  {
   "cell_type": "markdown",
   "metadata": {},
   "source": [
    "An ordered sequence of items is called List.<br>\n",
    "It is a very flexible data type in Python.<br>\n",
    "The list is enclosed with **brackets `[]`** and commas `,` are used to separate the items. \n",
    "\n",
    "*NB: There is no need for the value in the list to be of the same data type*"
   ]
  },
  {
   "cell_type": "code",
   "execution_count": 28,
   "metadata": {
    "execution": {
     "iopub.execute_input": "2022-06-07T08:24:00.859887Z",
     "iopub.status.busy": "2022-06-07T08:24:00.859662Z",
     "iopub.status.idle": "2022-06-07T08:24:00.863966Z",
     "shell.execute_reply": "2022-06-07T08:24:00.863325Z",
     "shell.execute_reply.started": "2022-06-07T08:24:00.859864Z"
    },
    "tags": []
   },
   "outputs": [
    {
     "data": {
      "text/plain": [
       "list"
      ]
     },
     "execution_count": 28,
     "metadata": {},
     "output_type": "execute_result"
    }
   ],
   "source": [
    "# List\n",
    "l = [5, 9.9, 'list']\n",
    "\n",
    "type(l)"
   ]
  },
  {
   "cell_type": "markdown",
   "metadata": {},
   "source": [
    "### Python Dictionary"
   ]
  },
  {
   "cell_type": "markdown",
   "metadata": {},
   "source": [
    "Dictionary is a type of python data type in which collections are unordered, and values are in pairs called key-value pairs.<br>\n",
    "This type of data type is useful when there is a high volume of data.<br>\n",
    "One of the best functions of Dictionaries data type is retrieving the data for which it is optimized.<br>\n",
    "\n",
    "**Braces {} (curly brackets)** are used to define dictionaries data type in Python.<br>\n",
    "A Pair in the dictionary data type is an item which is represented as key:value. \n",
    "\n",
    "*NB: The value and the key can be of any data type.*"
   ]
  },
  {
   "cell_type": "code",
   "execution_count": 27,
   "metadata": {
    "execution": {
     "iopub.execute_input": "2022-06-07T08:23:58.554903Z",
     "iopub.status.busy": "2022-06-07T08:23:58.554685Z",
     "iopub.status.idle": "2022-06-07T08:23:58.558854Z",
     "shell.execute_reply": "2022-06-07T08:23:58.558266Z",
     "shell.execute_reply.started": "2022-06-07T08:23:58.554880Z"
    },
    "tags": []
   },
   "outputs": [
    {
     "data": {
      "text/plain": [
       "dict"
      ]
     },
     "execution_count": 27,
     "metadata": {},
     "output_type": "execute_result"
    }
   ],
   "source": [
    "# Dictionary\n",
    "d = {\"my key\": \"my value\"}\n",
    "\n",
    "type(d)"
   ]
  },
  {
   "cell_type": "markdown",
   "metadata": {},
   "source": [
    "NB: It exists other types in Python like:\n",
    "- Python Tuple\n",
    "- Python Set\n",
    "\n",
    "If you want to know more about the types, please check out [this article](https://www.upgrad.com/blog/top-7-data-types-of-python-python-data-types/). It is very helpful !"
   ]
  },
  {
   "cell_type": "markdown",
   "metadata": {},
   "source": [
    "## Operators and comparisons"
   ]
  },
  {
   "cell_type": "markdown",
   "metadata": {},
   "source": [
    "Most operators and comparisons in Python work as one would expect:\n",
    "\n",
    "* Arithmetic operators `+`, `-`, `*`, `/`, '**' power"
   ]
  },
  {
   "cell_type": "code",
   "execution_count": 30,
   "metadata": {
    "execution": {
     "iopub.execute_input": "2022-06-07T08:25:41.854833Z",
     "iopub.status.busy": "2022-06-07T08:25:41.854613Z",
     "iopub.status.idle": "2022-06-07T08:25:41.858693Z",
     "shell.execute_reply": "2022-06-07T08:25:41.858088Z",
     "shell.execute_reply.started": "2022-06-07T08:25:41.854810Z"
    },
    "tags": []
   },
   "outputs": [
    {
     "data": {
      "text/plain": [
       "3"
      ]
     },
     "execution_count": 30,
     "metadata": {},
     "output_type": "execute_result"
    }
   ],
   "source": [
    "1 + 2 "
   ]
  },
  {
   "cell_type": "code",
   "execution_count": 31,
   "metadata": {
    "execution": {
     "iopub.execute_input": "2022-06-07T08:25:46.740984Z",
     "iopub.status.busy": "2022-06-07T08:25:46.740542Z",
     "iopub.status.idle": "2022-06-07T08:25:46.750066Z",
     "shell.execute_reply": "2022-06-07T08:25:46.749408Z",
     "shell.execute_reply.started": "2022-06-07T08:25:46.740948Z"
    }
   },
   "outputs": [
    {
     "data": {
      "text/plain": [
       "-1"
      ]
     },
     "execution_count": 31,
     "metadata": {},
     "output_type": "execute_result"
    }
   ],
   "source": [
    "1 - 2"
   ]
  },
  {
   "cell_type": "code",
   "execution_count": 32,
   "metadata": {
    "execution": {
     "iopub.execute_input": "2022-06-07T08:25:47.455595Z",
     "iopub.status.busy": "2022-06-07T08:25:47.455372Z",
     "iopub.status.idle": "2022-06-07T08:25:47.459446Z",
     "shell.execute_reply": "2022-06-07T08:25:47.458817Z",
     "shell.execute_reply.started": "2022-06-07T08:25:47.455571Z"
    }
   },
   "outputs": [
    {
     "data": {
      "text/plain": [
       "2"
      ]
     },
     "execution_count": 32,
     "metadata": {},
     "output_type": "execute_result"
    }
   ],
   "source": [
    "1 * 2"
   ]
  },
  {
   "cell_type": "code",
   "execution_count": 37,
   "metadata": {
    "execution": {
     "iopub.execute_input": "2022-06-07T08:28:12.312051Z",
     "iopub.status.busy": "2022-06-07T08:28:12.311829Z",
     "iopub.status.idle": "2022-06-07T08:28:12.318644Z",
     "shell.execute_reply": "2022-06-07T08:28:12.318123Z",
     "shell.execute_reply.started": "2022-06-07T08:28:12.312028Z"
    },
    "tags": []
   },
   "outputs": [
    {
     "data": {
      "text/plain": [
       "0.5"
      ]
     },
     "execution_count": 37,
     "metadata": {},
     "output_type": "execute_result"
    }
   ],
   "source": [
    "1 / 2"
   ]
  },
  {
   "cell_type": "code",
   "execution_count": 35,
   "metadata": {
    "execution": {
     "iopub.execute_input": "2022-06-07T08:26:40.312128Z",
     "iopub.status.busy": "2022-06-07T08:26:40.311907Z",
     "iopub.status.idle": "2022-06-07T08:26:40.316188Z",
     "shell.execute_reply": "2022-06-07T08:26:40.315615Z",
     "shell.execute_reply.started": "2022-06-07T08:26:40.312104Z"
    },
    "tags": []
   },
   "outputs": [
    {
     "data": {
      "text/plain": [
       "8"
      ]
     },
     "execution_count": 35,
     "metadata": {},
     "output_type": "execute_result"
    }
   ],
   "source": [
    "# Note! The power operators in python isn't ^, but **\n",
    "2 ** 3"
   ]
  },
  {
   "cell_type": "markdown",
   "metadata": {},
   "source": [
    "* The boolean operators are spelled out as the words `and`, `not`, `or`. "
   ]
  },
  {
   "cell_type": "code",
   "execution_count": 46,
   "metadata": {
    "execution": {
     "iopub.execute_input": "2022-06-07T08:29:11.575222Z",
     "iopub.status.busy": "2022-06-07T08:29:11.575002Z",
     "iopub.status.idle": "2022-06-07T08:29:11.579053Z",
     "shell.execute_reply": "2022-06-07T08:29:11.578467Z",
     "shell.execute_reply.started": "2022-06-07T08:29:11.575198Z"
    }
   },
   "outputs": [
    {
     "data": {
      "text/plain": [
       "False"
      ]
     },
     "execution_count": 46,
     "metadata": {},
     "output_type": "execute_result"
    }
   ],
   "source": [
    "True and False"
   ]
  },
  {
   "cell_type": "code",
   "execution_count": 47,
   "metadata": {
    "execution": {
     "iopub.execute_input": "2022-06-07T08:29:12.101664Z",
     "iopub.status.busy": "2022-06-07T08:29:12.101402Z",
     "iopub.status.idle": "2022-06-07T08:29:12.105588Z",
     "shell.execute_reply": "2022-06-07T08:29:12.104978Z",
     "shell.execute_reply.started": "2022-06-07T08:29:12.101638Z"
    }
   },
   "outputs": [
    {
     "data": {
      "text/plain": [
       "True"
      ]
     },
     "execution_count": 47,
     "metadata": {},
     "output_type": "execute_result"
    }
   ],
   "source": [
    "not False"
   ]
  },
  {
   "cell_type": "code",
   "execution_count": 48,
   "metadata": {
    "execution": {
     "iopub.execute_input": "2022-06-07T08:29:13.035216Z",
     "iopub.status.busy": "2022-06-07T08:29:13.034974Z",
     "iopub.status.idle": "2022-06-07T08:29:13.039142Z",
     "shell.execute_reply": "2022-06-07T08:29:13.038504Z",
     "shell.execute_reply.started": "2022-06-07T08:29:13.035191Z"
    }
   },
   "outputs": [
    {
     "data": {
      "text/plain": [
       "True"
      ]
     },
     "execution_count": 48,
     "metadata": {},
     "output_type": "execute_result"
    }
   ],
   "source": [
    "True or False"
   ]
  },
  {
   "cell_type": "markdown",
   "metadata": {},
   "source": [
    "* Comparison operators `>`, `<`, `>=` (greater or equal), `<=` (less or equal), `==` equality, `is` identical."
   ]
  },
  {
   "cell_type": "code",
   "execution_count": 49,
   "metadata": {
    "execution": {
     "iopub.execute_input": "2022-06-07T08:29:27.590825Z",
     "iopub.status.busy": "2022-06-07T08:29:27.590526Z",
     "iopub.status.idle": "2022-06-07T08:29:27.598627Z",
     "shell.execute_reply": "2022-06-07T08:29:27.598067Z",
     "shell.execute_reply.started": "2022-06-07T08:29:27.590793Z"
    }
   },
   "outputs": [
    {
     "data": {
      "text/plain": [
       "True"
      ]
     },
     "execution_count": 49,
     "metadata": {},
     "output_type": "execute_result"
    }
   ],
   "source": [
    "2 > 1"
   ]
  },
  {
   "cell_type": "code",
   "execution_count": 50,
   "metadata": {
    "execution": {
     "iopub.execute_input": "2022-06-07T08:29:28.262265Z",
     "iopub.status.busy": "2022-06-07T08:29:28.262048Z",
     "iopub.status.idle": "2022-06-07T08:29:28.266139Z",
     "shell.execute_reply": "2022-06-07T08:29:28.265528Z",
     "shell.execute_reply.started": "2022-06-07T08:29:28.262242Z"
    }
   },
   "outputs": [
    {
     "data": {
      "text/plain": [
       "False"
      ]
     },
     "execution_count": 50,
     "metadata": {},
     "output_type": "execute_result"
    }
   ],
   "source": [
    "2 < 1"
   ]
  },
  {
   "cell_type": "code",
   "execution_count": 53,
   "metadata": {
    "execution": {
     "iopub.execute_input": "2022-06-07T08:30:41.319776Z",
     "iopub.status.busy": "2022-06-07T08:30:41.319534Z",
     "iopub.status.idle": "2022-06-07T08:30:41.323931Z",
     "shell.execute_reply": "2022-06-07T08:30:41.323288Z",
     "shell.execute_reply.started": "2022-06-07T08:30:41.319751Z"
    },
    "tags": []
   },
   "outputs": [
    {
     "data": {
      "text/plain": [
       "True"
      ]
     },
     "execution_count": 53,
     "metadata": {},
     "output_type": "execute_result"
    }
   ],
   "source": [
    "2 >= 2"
   ]
  },
  {
   "cell_type": "code",
   "execution_count": 54,
   "metadata": {
    "execution": {
     "iopub.execute_input": "2022-06-07T08:30:50.241995Z",
     "iopub.status.busy": "2022-06-07T08:30:50.241773Z",
     "iopub.status.idle": "2022-06-07T08:30:50.245864Z",
     "shell.execute_reply": "2022-06-07T08:30:50.245253Z",
     "shell.execute_reply.started": "2022-06-07T08:30:50.241973Z"
    }
   },
   "outputs": [
    {
     "data": {
      "text/plain": [
       "True"
      ]
     },
     "execution_count": 54,
     "metadata": {},
     "output_type": "execute_result"
    }
   ],
   "source": [
    "2 <= 2"
   ]
  },
  {
   "cell_type": "code",
   "execution_count": 55,
   "metadata": {
    "execution": {
     "iopub.execute_input": "2022-06-07T08:30:56.321793Z",
     "iopub.status.busy": "2022-06-07T08:30:56.321402Z",
     "iopub.status.idle": "2022-06-07T08:30:56.326207Z",
     "shell.execute_reply": "2022-06-07T08:30:56.325573Z",
     "shell.execute_reply.started": "2022-06-07T08:30:56.321749Z"
    },
    "tags": []
   },
   "outputs": [
    {
     "data": {
      "text/plain": [
       "True"
      ]
     },
     "execution_count": 55,
     "metadata": {},
     "output_type": "execute_result"
    }
   ],
   "source": [
    "1 == 1"
   ]
  },
  {
   "cell_type": "code",
   "execution_count": 57,
   "metadata": {
    "execution": {
     "iopub.execute_input": "2022-06-07T08:31:38.700076Z",
     "iopub.status.busy": "2022-06-07T08:31:38.699785Z",
     "iopub.status.idle": "2022-06-07T08:31:38.704620Z",
     "shell.execute_reply": "2022-06-07T08:31:38.704013Z",
     "shell.execute_reply.started": "2022-06-07T08:31:38.700041Z"
    },
    "tags": []
   },
   "outputs": [
    {
     "data": {
      "text/plain": [
       "False"
      ]
     },
     "execution_count": 57,
     "metadata": {},
     "output_type": "execute_result"
    }
   ],
   "source": [
    "\"Hello\" == \"Hello !\""
   ]
  },
  {
   "cell_type": "code",
   "execution_count": 58,
   "metadata": {
    "execution": {
     "iopub.execute_input": "2022-06-07T08:31:47.171086Z",
     "iopub.status.busy": "2022-06-07T08:31:47.170865Z",
     "iopub.status.idle": "2022-06-07T08:31:47.177804Z",
     "shell.execute_reply": "2022-06-07T08:31:47.177190Z",
     "shell.execute_reply.started": "2022-06-07T08:31:47.171064Z"
    },
    "tags": []
   },
   "outputs": [
    {
     "data": {
      "text/plain": [
       "True"
      ]
     },
     "execution_count": 58,
     "metadata": {},
     "output_type": "execute_result"
    }
   ],
   "source": [
    "\"Hello\" == \"Hello\""
   ]
  },
  {
   "cell_type": "code",
   "execution_count": 59,
   "metadata": {
    "execution": {
     "iopub.execute_input": "2022-06-07T08:32:20.768494Z",
     "iopub.status.busy": "2022-06-07T08:32:20.768253Z",
     "iopub.status.idle": "2022-06-07T08:32:20.772624Z",
     "shell.execute_reply": "2022-06-07T08:32:20.772056Z",
     "shell.execute_reply.started": "2022-06-07T08:32:20.768470Z"
    },
    "tags": []
   },
   "outputs": [
    {
     "data": {
      "text/plain": [
       "False"
      ]
     },
     "execution_count": 59,
     "metadata": {},
     "output_type": "execute_result"
    }
   ],
   "source": [
    "l1 = [1,2]\n",
    "l2 = [1,2]\n",
    "\n",
    "l1 is l2"
   ]
  },
  {
   "cell_type": "markdown",
   "metadata": {},
   "source": [
    "## Further reading"
   ]
  },
  {
   "cell_type": "markdown",
   "metadata": {},
   "source": [
    "* http://www.python.org - The official web page of the Python programming language.\n",
    "* http://www.python.org/dev/peps/pep-0008 - Style guide for Python programming. Highly recommended. \n",
    "* http://www.greenteapress.com/thinkpython/ - A free book on Python programming.\n",
    "* https://www.upgrad.com/blog/top-7-data-types-of-python-python-data-types/"
   ]
  }
 ],
 "metadata": {
  "kernelspec": {
   "display_name": "Python 3",
   "language": "python",
   "name": "python3"
  },
  "language_info": {
   "codemirror_mode": {
    "name": "ipython",
    "version": 3
   },
   "file_extension": ".py",
   "mimetype": "text/x-python",
   "name": "python",
   "nbconvert_exporter": "python",
   "pygments_lexer": "ipython3",
   "version": "3.9.6"
  },
  "widgets": {
   "application/vnd.jupyter.widget-state+json": {
    "state": {},
    "version_major": 2,
    "version_minor": 0
   }
  }
 },
 "nbformat": 4,
 "nbformat_minor": 4
}
