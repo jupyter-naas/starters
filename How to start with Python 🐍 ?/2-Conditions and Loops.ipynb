{
 "cells": [
  {
   "cell_type": "markdown",
   "metadata": {},
   "source": [
    "<div class=\"clearfix\" style=\"padding: 10px; padding-left: 0px\">\n",
    "<img id=\"python_logo\" src=\"https://upload.wikimedia.org/wikipedia/commons/thumb/f/f8/Python_logo_and_wordmark.svg/2560px-Python_logo_and_wordmark.svg.png\" width=\"15%\" style=\"display: inline-block;\">"
   ]
  },
  {
   "cell_type": "markdown",
   "metadata": {},
   "source": [
    "# Python: Conditions and Loops"
   ]
  },
  {
   "cell_type": "markdown",
   "metadata": {},
   "source": [
    "## Conditions"
   ]
  },
  {
   "cell_type": "markdown",
   "metadata": {},
   "source": [
    "### Conditional statements: if, elif, else"
   ]
  },
  {
   "cell_type": "markdown",
   "metadata": {},
   "source": [
    "The Python syntax for conditional execution of code uses the keywords:\n",
    "- `if` + condition + `:`\n",
    "-`elif` (else if)  + condition + `:`\n",
    "- `else:`"
   ]
  },
  {
   "cell_type": "markdown",
   "metadata": {},
   "source": [
    "After each condition, you will need to add an indented block with the result.<br>\n",
    "Otherwise, python will not recognise your condition and return an `IdentationError`"
   ]
  },
  {
   "cell_type": "markdown",
   "metadata": {
    "execution": {
     "iopub.execute_input": "2022-06-07T08:55:51.721557Z",
     "iopub.status.busy": "2022-06-07T08:55:51.721297Z",
     "iopub.status.idle": "2022-06-07T08:55:51.726034Z",
     "shell.execute_reply": "2022-06-07T08:55:51.725440Z",
     "shell.execute_reply.started": "2022-06-07T08:55:51.721532Z"
    },
    "tags": []
   },
   "source": [
    "### Examples"
   ]
  },
  {
   "cell_type": "code",
   "execution_count": 17,
   "metadata": {
    "execution": {
     "iopub.execute_input": "2022-06-07T08:58:49.712742Z",
     "iopub.status.busy": "2022-06-07T08:58:49.712518Z",
     "iopub.status.idle": "2022-06-07T08:58:49.716160Z",
     "shell.execute_reply": "2022-06-07T08:58:49.715477Z",
     "shell.execute_reply.started": "2022-06-07T08:58:49.712719Z"
    },
    "tags": []
   },
   "outputs": [
    {
     "name": "stdout",
     "output_type": "stream",
     "text": [
      "statement1 is True\n"
     ]
    }
   ],
   "source": [
    "# Condition with indented block\n",
    "\n",
    "statement1 = True\n",
    "if statement1:\n",
    "    print(\"statement1 is True\")"
   ]
  },
  {
   "cell_type": "code",
   "execution_count": 18,
   "metadata": {
    "execution": {
     "iopub.execute_input": "2022-06-07T08:58:49.916544Z",
     "iopub.status.busy": "2022-06-07T08:58:49.916326Z",
     "iopub.status.idle": "2022-06-07T08:58:49.922059Z",
     "shell.execute_reply": "2022-06-07T08:58:49.921133Z",
     "shell.execute_reply.started": "2022-06-07T08:58:49.916523Z"
    },
    "tags": []
   },
   "outputs": [
    {
     "ename": "IndentationError",
     "evalue": "expected an indented block (<ipython-input-18-b4e73ff03ba4>, line 5)",
     "output_type": "error",
     "traceback": [
      "\u001b[0;36m  File \u001b[0;32m\"<ipython-input-18-b4e73ff03ba4>\"\u001b[0;36m, line \u001b[0;32m5\u001b[0m\n\u001b[0;31m    print(\"statement1 is True\")\u001b[0m\n\u001b[0m    ^\u001b[0m\n\u001b[0;31mIndentationError\u001b[0m\u001b[0;31m:\u001b[0m expected an indented block\n"
     ]
    }
   ],
   "source": [
    "# Condition without indented block will returned an IdentationError\n",
    "\n",
    "statement1 = True\n",
    "if statement1:\n",
    "print(\"statement1 is True\")"
   ]
  },
  {
   "cell_type": "code",
   "execution_count": 19,
   "metadata": {
    "execution": {
     "iopub.execute_input": "2022-06-07T08:58:50.102639Z",
     "iopub.status.busy": "2022-06-07T08:58:50.102421Z",
     "iopub.status.idle": "2022-06-07T08:58:50.106463Z",
     "shell.execute_reply": "2022-06-07T08:58:50.105753Z",
     "shell.execute_reply.started": "2022-06-07T08:58:50.102617Z"
    },
    "tags": []
   },
   "outputs": [
    {
     "name": "stdout",
     "output_type": "stream",
     "text": [
      "statement1 and statement2 are False\n"
     ]
    }
   ],
   "source": [
    "# Statement with multiples conditions\n",
    "\n",
    "statement1 = False\n",
    "statement2 = False\n",
    "\n",
    "if statement1:\n",
    "    print(\"statement1 is True\")\n",
    "elif statement2:\n",
    "    print(\"statement2 is True\")\n",
    "else:\n",
    "    print(\"statement1 and statement2 are False\")"
   ]
  },
  {
   "cell_type": "markdown",
   "metadata": {},
   "source": [
    "## Loops"
   ]
  },
  {
   "cell_type": "markdown",
   "metadata": {},
   "source": [
    "In Python, loops can be programmed in a number of different ways.<br>\n",
    "The most common is the `for` loop, which is used together with iterable objects, such as lists.<br>\n",
    "The `while` loop is used to execute a set of statements as long as a condition is true."
   ]
  },
  {
   "cell_type": "markdown",
   "metadata": {},
   "source": [
    "### **`for` loops**:"
   ]
  },
  {
   "cell_type": "code",
   "execution_count": 20,
   "metadata": {
    "execution": {
     "iopub.execute_input": "2022-06-07T09:01:55.056445Z",
     "iopub.status.busy": "2022-06-07T09:01:55.056164Z",
     "iopub.status.idle": "2022-06-07T09:01:55.060327Z",
     "shell.execute_reply": "2022-06-07T09:01:55.059725Z",
     "shell.execute_reply.started": "2022-06-07T09:01:55.056416Z"
    },
    "tags": []
   },
   "outputs": [
    {
     "name": "stdout",
     "output_type": "stream",
     "text": [
      "1\n",
      "2\n",
      "3\n"
     ]
    }
   ],
   "source": [
    "for x in [1,2,3]:\n",
    "    print(x)"
   ]
  },
  {
   "cell_type": "markdown",
   "metadata": {},
   "source": [
    "The `for` loop iterates over the elements of the supplied list, and executes the containing block once for each element.<br>\n",
    "Any kind of list can be used in the `for` loop. For example:"
   ]
  },
  {
   "cell_type": "code",
   "execution_count": 21,
   "metadata": {
    "execution": {
     "iopub.execute_input": "2022-06-07T09:02:11.877749Z",
     "iopub.status.busy": "2022-06-07T09:02:11.877474Z",
     "iopub.status.idle": "2022-06-07T09:02:11.881188Z",
     "shell.execute_reply": "2022-06-07T09:02:11.880565Z",
     "shell.execute_reply.started": "2022-06-07T09:02:11.877725Z"
    },
    "tags": []
   },
   "outputs": [
    {
     "name": "stdout",
     "output_type": "stream",
     "text": [
      "0\n",
      "1\n",
      "2\n",
      "3\n"
     ]
    }
   ],
   "source": [
    "for x in range(4): # by default range start at 0\n",
    "    print(x)"
   ]
  },
  {
   "cell_type": "markdown",
   "metadata": {},
   "source": [
    "Note: `range(4)` does not include 4 !"
   ]
  },
  {
   "cell_type": "code",
   "execution_count": 22,
   "metadata": {
    "execution": {
     "iopub.execute_input": "2022-06-07T09:02:12.978401Z",
     "iopub.status.busy": "2022-06-07T09:02:12.978112Z",
     "iopub.status.idle": "2022-06-07T09:02:12.982095Z",
     "shell.execute_reply": "2022-06-07T09:02:12.981504Z",
     "shell.execute_reply.started": "2022-06-07T09:02:12.978368Z"
    },
    "tags": []
   },
   "outputs": [
    {
     "name": "stdout",
     "output_type": "stream",
     "text": [
      "-3\n",
      "-2\n",
      "-1\n",
      "0\n",
      "1\n",
      "2\n"
     ]
    }
   ],
   "source": [
    "for x in range(-3,3):\n",
    "    print(x)"
   ]
  },
  {
   "cell_type": "code",
   "execution_count": 23,
   "metadata": {
    "execution": {
     "iopub.execute_input": "2022-06-07T09:02:16.011053Z",
     "iopub.status.busy": "2022-06-07T09:02:16.010820Z",
     "iopub.status.idle": "2022-06-07T09:02:16.014703Z",
     "shell.execute_reply": "2022-06-07T09:02:16.014095Z",
     "shell.execute_reply.started": "2022-06-07T09:02:16.011029Z"
    },
    "tags": []
   },
   "outputs": [
    {
     "name": "stdout",
     "output_type": "stream",
     "text": [
      "scientific\n",
      "computing\n",
      "with\n",
      "python\n"
     ]
    }
   ],
   "source": [
    "for word in [\"scientific\", \"computing\", \"with\", \"python\"]:\n",
    "    print(word)"
   ]
  },
  {
   "cell_type": "markdown",
   "metadata": {},
   "source": [
    "To iterate over key-value pairs of a dictionary:"
   ]
  },
  {
   "cell_type": "code",
   "execution_count": 24,
   "metadata": {
    "execution": {
     "iopub.execute_input": "2022-06-07T09:02:20.076432Z",
     "iopub.status.busy": "2022-06-07T09:02:20.076210Z",
     "iopub.status.idle": "2022-06-07T09:02:20.080513Z",
     "shell.execute_reply": "2022-06-07T09:02:20.079888Z",
     "shell.execute_reply.started": "2022-06-07T09:02:20.076411Z"
    },
    "tags": []
   },
   "outputs": [
    {
     "name": "stdout",
     "output_type": "stream",
     "text": [
      "parameter1 = 1.0\n",
      "parameter2 = 2.0\n",
      "parameter3 = 3.0\n"
     ]
    }
   ],
   "source": [
    "params = {\"parameter1\" : 1.0,\n",
    "          \"parameter2\" : 2.0,\n",
    "          \"parameter3\" : 3.0,}\n",
    "\n",
    "for key, value in params.items():\n",
    "    print(key + \" = \" + str(value))"
   ]
  },
  {
   "cell_type": "markdown",
   "metadata": {},
   "source": [
    "Sometimes it is useful to have access to the indices of the values when iterating over a list. We can use the `enumerate` function for this:"
   ]
  },
  {
   "cell_type": "code",
   "execution_count": 25,
   "metadata": {
    "execution": {
     "iopub.execute_input": "2022-06-07T09:02:31.192434Z",
     "iopub.status.busy": "2022-06-07T09:02:31.192220Z",
     "iopub.status.idle": "2022-06-07T09:02:31.197272Z",
     "shell.execute_reply": "2022-06-07T09:02:31.196647Z",
     "shell.execute_reply.started": "2022-06-07T09:02:31.192412Z"
    }
   },
   "outputs": [
    {
     "name": "stdout",
     "output_type": "stream",
     "text": [
      "0 -3\n",
      "1 -2\n",
      "2 -1\n",
      "3 0\n",
      "4 1\n",
      "5 2\n"
     ]
    }
   ],
   "source": [
    "for idx, x in enumerate(range(-3,3)):\n",
    "    print(idx, x)"
   ]
  },
  {
   "cell_type": "markdown",
   "metadata": {},
   "source": [
    "### `while` loops:"
   ]
  },
  {
   "cell_type": "code",
   "execution_count": 26,
   "metadata": {
    "execution": {
     "iopub.execute_input": "2022-06-07T09:04:21.808008Z",
     "iopub.status.busy": "2022-06-07T09:04:21.807406Z",
     "iopub.status.idle": "2022-06-07T09:04:21.816943Z",
     "shell.execute_reply": "2022-06-07T09:04:21.816279Z",
     "shell.execute_reply.started": "2022-06-07T09:04:21.807965Z"
    },
    "tags": []
   },
   "outputs": [
    {
     "name": "stdout",
     "output_type": "stream",
     "text": [
      "0\n",
      "1\n",
      "2\n",
      "3\n",
      "4\n",
      "done\n"
     ]
    }
   ],
   "source": [
    "i = 0\n",
    "\n",
    "while i < 5:\n",
    "    print(i)\n",
    "    \n",
    "    i = i + 1\n",
    "    \n",
    "print(\"done\")"
   ]
  },
  {
   "cell_type": "markdown",
   "metadata": {},
   "source": [
    "Note that the `print(\"done\")` statement is not part of the `while` loop body because of the difference in indentation."
   ]
  },
  {
   "cell_type": "markdown",
   "metadata": {},
   "source": [
    "## Further reading"
   ]
  },
  {
   "cell_type": "markdown",
   "metadata": {},
   "source": [
    "* http://www.python.org - The official web page of the Python programming language.\n",
    "* http://www.python.org/dev/peps/pep-0008 - Style guide for Python programming. Highly recommended. \n",
    "* http://www.greenteapress.com/thinkpython/ - A free book on Python programming.\n",
    "* [Python Essential Reference](http://www.amazon.com/Python-Essential-Reference-4th-Edition/dp/0672329786) - A good reference book on Python programming."
   ]
  }
 ],
 "metadata": {
  "kernelspec": {
   "display_name": "Python 3",
   "language": "python",
   "name": "python3"
  },
  "language_info": {
   "codemirror_mode": {
    "name": "ipython",
    "version": 3
   },
   "file_extension": ".py",
   "mimetype": "text/x-python",
   "name": "python",
   "nbconvert_exporter": "python",
   "pygments_lexer": "ipython3",
   "version": "3.9.6"
  },
  "widgets": {
   "application/vnd.jupyter.widget-state+json": {
    "state": {},
    "version_major": 2,
    "version_minor": 0
   }
  }
 },
 "nbformat": 4,
 "nbformat_minor": 4
}
