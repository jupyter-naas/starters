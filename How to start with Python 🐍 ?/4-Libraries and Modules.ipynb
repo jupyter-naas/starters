{
 "cells": [
  {
   "cell_type": "markdown",
   "metadata": {},
   "source": [
    "<div class=\"clearfix\" style=\"padding: 10px; padding-left: 0px\">\n",
    "<img id=\"python_logo\" src=\"https://upload.wikimedia.org/wikipedia/commons/thumb/f/f8/Python_logo_and_wordmark.svg/2560px-Python_logo_and_wordmark.svg.png\" width=\"15%\" style=\"display: inline-block;\">"
   ]
  },
  {
   "cell_type": "markdown",
   "metadata": {},
   "source": [
    "# Python: Libraries and modules"
   ]
  },
  {
   "cell_type": "markdown",
   "metadata": {},
   "source": [
    "## Libraries"
   ]
  },
  {
   "cell_type": "markdown",
   "metadata": {},
   "source": [
    "Most of the functionality in Python is provided by *libraries* / *modules*.\n",
    "\n",
    "A Python library is a collection of related modules. It contains bundles of code that can be used repeatedly in different programs.<br>\n",
    "It makes Python Programming simpler and convenient for the programmer.<br>\n",
    "As we don’t need to write the same code again and again for different programs.\n",
    "\n",
    "Python has a huge collection of libraries that can easily used by anyone.<br> \n",
    "\n",
    "Here below is the list of the most used:\n",
    "- pandas\n",
    "- requests\n",
    "- os\n",
    "- plotly"
   ]
  },
  {
   "cell_type": "markdown",
   "metadata": {},
   "source": [
    "### Import library"
   ]
  },
  {
   "cell_type": "markdown",
   "metadata": {},
   "source": [
    "To use a library in a Python program it first has to be imported.<br>\n",
    "A library can be imported using the `import` statement.\n",
    "\n",
    "For example, to import the library `pandas`, which contains many standard functions to manage tables (dataframe), you can do:"
   ]
  },
  {
   "cell_type": "code",
   "execution_count": 1,
   "metadata": {
    "execution": {
     "iopub.execute_input": "2022-06-07T10:11:04.656245Z",
     "iopub.status.busy": "2022-06-07T10:11:04.655824Z",
     "iopub.status.idle": "2022-06-07T10:11:04.959836Z",
     "shell.execute_reply": "2022-06-07T10:11:04.959245Z",
     "shell.execute_reply.started": "2022-06-07T10:11:04.656177Z"
    },
    "tags": []
   },
   "outputs": [],
   "source": [
    "import pandas"
   ]
  },
  {
   "cell_type": "markdown",
   "metadata": {},
   "source": [
    "If you tried to `import` a library that does not exist, it will return an `ModuleNotFoundError`"
   ]
  },
  {
   "cell_type": "code",
   "execution_count": 2,
   "metadata": {
    "execution": {
     "iopub.execute_input": "2022-06-07T10:11:04.961271Z",
     "iopub.status.busy": "2022-06-07T10:11:04.961049Z",
     "iopub.status.idle": "2022-06-07T10:11:05.071176Z",
     "shell.execute_reply": "2022-06-07T10:11:05.069640Z",
     "shell.execute_reply.started": "2022-06-07T10:11:04.961242Z"
    },
    "tags": []
   },
   "outputs": [
    {
     "ename": "ModuleNotFoundError",
     "evalue": "No module named 'panda'",
     "output_type": "error",
     "traceback": [
      "\u001b[0;31m---------------------------------------------------------------------------\u001b[0m",
      "\u001b[0;31mModuleNotFoundError\u001b[0m                       Traceback (most recent call last)",
      "\u001b[0;32m<ipython-input-2-f1f970157d0b>\u001b[0m in \u001b[0;36m<module>\u001b[0;34m\u001b[0m\n\u001b[0;32m----> 1\u001b[0;31m \u001b[0;32mimport\u001b[0m \u001b[0mpanda\u001b[0m\u001b[0;34m\u001b[0m\u001b[0;34m\u001b[0m\u001b[0m\n\u001b[0m",
      "\u001b[0;31mModuleNotFoundError\u001b[0m: No module named 'panda'"
     ]
    }
   ],
   "source": [
    "import panda"
   ]
  },
  {
   "cell_type": "markdown",
   "metadata": {},
   "source": [
    "### Looking at what a library contains, and its documentation"
   ]
  },
  {
   "cell_type": "markdown",
   "metadata": {},
   "source": [
    "Once a module is imported, we can list the symbols it provides using the `dir` function:"
   ]
  },
  {
   "cell_type": "code",
   "execution_count": 3,
   "metadata": {
    "execution": {
     "iopub.execute_input": "2022-06-07T10:11:10.388437Z",
     "iopub.status.busy": "2022-06-07T10:11:10.388204Z",
     "iopub.status.idle": "2022-06-07T10:11:10.392161Z",
     "shell.execute_reply": "2022-06-07T10:11:10.391515Z",
     "shell.execute_reply.started": "2022-06-07T10:11:10.388413Z"
    },
    "tags": []
   },
   "outputs": [
    {
     "name": "stdout",
     "output_type": "stream",
     "text": [
      "['BooleanDtype', 'Categorical', 'CategoricalDtype', 'CategoricalIndex', 'DataFrame', 'DateOffset', 'DatetimeIndex', 'DatetimeTZDtype', 'ExcelFile', 'ExcelWriter', 'Flags', 'Float32Dtype', 'Float64Dtype', 'Float64Index', 'Grouper', 'HDFStore', 'Index', 'IndexSlice', 'Int16Dtype', 'Int32Dtype', 'Int64Dtype', 'Int64Index', 'Int8Dtype', 'Interval', 'IntervalDtype', 'IntervalIndex', 'MultiIndex', 'NA', 'NaT', 'NamedAgg', 'Period', 'PeriodDtype', 'PeriodIndex', 'RangeIndex', 'Series', 'SparseDtype', 'StringDtype', 'Timedelta', 'TimedeltaIndex', 'Timestamp', 'UInt16Dtype', 'UInt32Dtype', 'UInt64Dtype', 'UInt64Index', 'UInt8Dtype', '__builtins__', '__cached__', '__doc__', '__docformat__', '__file__', '__getattr__', '__git_version__', '__loader__', '__name__', '__package__', '__path__', '__spec__', '__version__', '_config', '_hashtable', '_is_numpy_dev', '_lib', '_libs', '_np_version_under1p17', '_np_version_under1p18', '_testing', '_tslib', '_typing', '_version', 'api', 'array', 'arrays', 'bdate_range', 'compat', 'concat', 'core', 'crosstab', 'cut', 'date_range', 'describe_option', 'errors', 'eval', 'factorize', 'get_dummies', 'get_option', 'infer_freq', 'interval_range', 'io', 'isna', 'isnull', 'json_normalize', 'lreshape', 'melt', 'merge', 'merge_asof', 'merge_ordered', 'notna', 'notnull', 'offsets', 'option_context', 'options', 'pandas', 'period_range', 'pivot', 'pivot_table', 'plotting', 'qcut', 'read_clipboard', 'read_csv', 'read_excel', 'read_feather', 'read_fwf', 'read_gbq', 'read_hdf', 'read_html', 'read_json', 'read_orc', 'read_parquet', 'read_pickle', 'read_sas', 'read_spss', 'read_sql', 'read_sql_query', 'read_sql_table', 'read_stata', 'read_table', 'reset_option', 'set_eng_float_format', 'set_option', 'show_versions', 'test', 'testing', 'timedelta_range', 'to_datetime', 'to_numeric', 'to_pickle', 'to_timedelta', 'tseries', 'unique', 'util', 'value_counts', 'wide_to_long']\n"
     ]
    }
   ],
   "source": [
    "print(dir(pandas))"
   ]
  },
  {
   "cell_type": "markdown",
   "metadata": {},
   "source": [
    "Then, you will able to execute any code of this library using its name following by its functions.<br>\n",
    "Here below, we will used the function `DataFrame` in the pandas library to create a dataframe from an object."
   ]
  },
  {
   "cell_type": "code",
   "execution_count": 4,
   "metadata": {
    "execution": {
     "iopub.execute_input": "2022-06-07T10:11:10.775466Z",
     "iopub.status.busy": "2022-06-07T10:11:10.775243Z",
     "iopub.status.idle": "2022-06-07T10:11:10.790666Z",
     "shell.execute_reply": "2022-06-07T10:11:10.790100Z",
     "shell.execute_reply.started": "2022-06-07T10:11:10.775444Z"
    },
    "tags": []
   },
   "outputs": [
    {
     "data": {
      "text/html": [
       "<div>\n",
       "<style scoped>\n",
       "    .dataframe tbody tr th:only-of-type {\n",
       "        vertical-align: middle;\n",
       "    }\n",
       "\n",
       "    .dataframe tbody tr th {\n",
       "        vertical-align: top;\n",
       "    }\n",
       "\n",
       "    .dataframe thead th {\n",
       "        text-align: right;\n",
       "    }\n",
       "</style>\n",
       "<table border=\"1\" class=\"dataframe\">\n",
       "  <thead>\n",
       "    <tr style=\"text-align: right;\">\n",
       "      <th></th>\n",
       "      <th>DATE</th>\n",
       "      <th>VALUE</th>\n",
       "    </tr>\n",
       "  </thead>\n",
       "  <tbody>\n",
       "    <tr>\n",
       "      <th>0</th>\n",
       "      <td>2022-01-01</td>\n",
       "      <td>1</td>\n",
       "    </tr>\n",
       "  </tbody>\n",
       "</table>\n",
       "</div>"
      ],
      "text/plain": [
       "         DATE  VALUE\n",
       "0  2022-01-01      1"
      ]
     },
     "execution_count": 4,
     "metadata": {},
     "output_type": "execute_result"
    }
   ],
   "source": [
    "obj = [{\"DATE\": \"2022-01-01\", \"VALUE\": 1}]\n",
    "\n",
    "df = pandas.DataFrame(obj)\n",
    "df"
   ]
  },
  {
   "cell_type": "markdown",
   "metadata": {},
   "source": [
    "If you tried to function/module that does not exist, it will return an `AttributeError`"
   ]
  },
  {
   "cell_type": "code",
   "execution_count": 5,
   "metadata": {
    "execution": {
     "iopub.execute_input": "2022-06-07T10:11:11.684365Z",
     "iopub.status.busy": "2022-06-07T10:11:11.684149Z",
     "iopub.status.idle": "2022-06-07T10:11:11.697687Z",
     "shell.execute_reply": "2022-06-07T10:11:11.696743Z",
     "shell.execute_reply.started": "2022-06-07T10:11:11.684342Z"
    },
    "tags": []
   },
   "outputs": [
    {
     "ename": "AttributeError",
     "evalue": "module 'pandas' has no attribute 'DataFram'",
     "output_type": "error",
     "traceback": [
      "\u001b[0;31m---------------------------------------------------------------------------\u001b[0m",
      "\u001b[0;31mAttributeError\u001b[0m                            Traceback (most recent call last)",
      "\u001b[0;32m<ipython-input-5-1213c7d73f7b>\u001b[0m in \u001b[0;36m<module>\u001b[0;34m\u001b[0m\n\u001b[1;32m      1\u001b[0m \u001b[0mobj\u001b[0m \u001b[0;34m=\u001b[0m \u001b[0;34m[\u001b[0m\u001b[0;34m{\u001b[0m\u001b[0;34m\"DATE\"\u001b[0m\u001b[0;34m:\u001b[0m \u001b[0;34m\"2022-01-01\"\u001b[0m\u001b[0;34m,\u001b[0m \u001b[0;34m\"VALUE\"\u001b[0m\u001b[0;34m:\u001b[0m \u001b[0;36m1\u001b[0m\u001b[0;34m}\u001b[0m\u001b[0;34m]\u001b[0m\u001b[0;34m\u001b[0m\u001b[0;34m\u001b[0m\u001b[0m\n\u001b[1;32m      2\u001b[0m \u001b[0;34m\u001b[0m\u001b[0m\n\u001b[0;32m----> 3\u001b[0;31m \u001b[0mdf\u001b[0m \u001b[0;34m=\u001b[0m \u001b[0mpandas\u001b[0m\u001b[0;34m.\u001b[0m\u001b[0mDataFram\u001b[0m\u001b[0;34m(\u001b[0m\u001b[0mobj\u001b[0m\u001b[0;34m)\u001b[0m\u001b[0;34m\u001b[0m\u001b[0;34m\u001b[0m\u001b[0m\n\u001b[0m\u001b[1;32m      4\u001b[0m \u001b[0mdf\u001b[0m\u001b[0;34m\u001b[0m\u001b[0;34m\u001b[0m\u001b[0m\n",
      "\u001b[0;32m/opt/conda/lib/python3.9/site-packages/pandas/__init__.py\u001b[0m in \u001b[0;36m__getattr__\u001b[0;34m(name)\u001b[0m\n\u001b[1;32m    242\u001b[0m         \u001b[0;32mreturn\u001b[0m \u001b[0m_SparseArray\u001b[0m\u001b[0;34m\u001b[0m\u001b[0;34m\u001b[0m\u001b[0m\n\u001b[1;32m    243\u001b[0m \u001b[0;34m\u001b[0m\u001b[0m\n\u001b[0;32m--> 244\u001b[0;31m     \u001b[0;32mraise\u001b[0m \u001b[0mAttributeError\u001b[0m\u001b[0;34m(\u001b[0m\u001b[0;34mf\"module 'pandas' has no attribute '{name}'\"\u001b[0m\u001b[0;34m)\u001b[0m\u001b[0;34m\u001b[0m\u001b[0;34m\u001b[0m\u001b[0m\n\u001b[0m\u001b[1;32m    245\u001b[0m \u001b[0;34m\u001b[0m\u001b[0m\n\u001b[1;32m    246\u001b[0m \u001b[0;34m\u001b[0m\u001b[0m\n",
      "\u001b[0;31mAttributeError\u001b[0m: module 'pandas' has no attribute 'DataFram'"
     ]
    }
   ],
   "source": [
    "obj = [{\"DATE\": \"2022-01-01\", \"VALUE\": 1}]\n",
    "\n",
    "df = pandas.DataFram(obj)\n",
    "df"
   ]
  },
  {
   "cell_type": "markdown",
   "metadata": {},
   "source": [
    "### Rename library"
   ]
  },
  {
   "cell_type": "markdown",
   "metadata": {},
   "source": [
    "To rename a library you can add the keyword `as` after importing your library"
   ]
  },
  {
   "cell_type": "code",
   "execution_count": 6,
   "metadata": {
    "execution": {
     "iopub.execute_input": "2022-06-07T10:11:13.051097Z",
     "iopub.status.busy": "2022-06-07T10:11:13.050862Z",
     "iopub.status.idle": "2022-06-07T10:11:13.053869Z",
     "shell.execute_reply": "2022-06-07T10:11:13.053216Z",
     "shell.execute_reply.started": "2022-06-07T10:11:13.051075Z"
    },
    "tags": []
   },
   "outputs": [],
   "source": [
    "import pandas as pd"
   ]
  },
  {
   "cell_type": "markdown",
   "metadata": {},
   "source": [
    "Then, you will be able to use it in your function"
   ]
  },
  {
   "cell_type": "code",
   "execution_count": 7,
   "metadata": {
    "execution": {
     "iopub.execute_input": "2022-06-07T10:11:13.801160Z",
     "iopub.status.busy": "2022-06-07T10:11:13.800938Z",
     "iopub.status.idle": "2022-06-07T10:11:13.808091Z",
     "shell.execute_reply": "2022-06-07T10:11:13.807510Z",
     "shell.execute_reply.started": "2022-06-07T10:11:13.801139Z"
    },
    "tags": []
   },
   "outputs": [
    {
     "data": {
      "text/html": [
       "<div>\n",
       "<style scoped>\n",
       "    .dataframe tbody tr th:only-of-type {\n",
       "        vertical-align: middle;\n",
       "    }\n",
       "\n",
       "    .dataframe tbody tr th {\n",
       "        vertical-align: top;\n",
       "    }\n",
       "\n",
       "    .dataframe thead th {\n",
       "        text-align: right;\n",
       "    }\n",
       "</style>\n",
       "<table border=\"1\" class=\"dataframe\">\n",
       "  <thead>\n",
       "    <tr style=\"text-align: right;\">\n",
       "      <th></th>\n",
       "      <th>DATE</th>\n",
       "      <th>VALUE</th>\n",
       "    </tr>\n",
       "  </thead>\n",
       "  <tbody>\n",
       "    <tr>\n",
       "      <th>0</th>\n",
       "      <td>2022-01-01</td>\n",
       "      <td>1</td>\n",
       "    </tr>\n",
       "  </tbody>\n",
       "</table>\n",
       "</div>"
      ],
      "text/plain": [
       "         DATE  VALUE\n",
       "0  2022-01-01      1"
      ]
     },
     "execution_count": 7,
     "metadata": {},
     "output_type": "execute_result"
    }
   ],
   "source": [
    "obj = [{\"DATE\": \"2022-01-01\", \"VALUE\": 1}]\n",
    "\n",
    "df = pd.DataFrame(obj)\n",
    "df"
   ]
  },
  {
   "cell_type": "markdown",
   "metadata": {},
   "source": [
    "### Import all functions using `from`"
   ]
  },
  {
   "cell_type": "markdown",
   "metadata": {
    "execution": {
     "iopub.execute_input": "2022-06-07T10:06:40.397946Z",
     "iopub.status.busy": "2022-06-07T10:06:40.397720Z",
     "iopub.status.idle": "2022-06-07T10:06:40.406361Z",
     "shell.execute_reply": "2022-06-07T10:06:40.405472Z",
     "shell.execute_reply.started": "2022-06-07T10:06:40.397924Z"
    },
    "tags": []
   },
   "source": [
    "To access to a specific module within your library you can use the keyword `from` and `import`.\n",
    "\n",
    "This will access directly to your module with the same result but with less code to execute.<br>\n",
    "Please see the example below."
   ]
  },
  {
   "cell_type": "code",
   "execution_count": 8,
   "metadata": {
    "execution": {
     "iopub.execute_input": "2022-06-07T10:11:14.543103Z",
     "iopub.status.busy": "2022-06-07T10:11:14.542871Z",
     "iopub.status.idle": "2022-06-07T10:11:14.701369Z",
     "shell.execute_reply": "2022-06-07T10:11:14.700460Z",
     "shell.execute_reply.started": "2022-06-07T10:11:14.543080Z"
    },
    "tags": []
   },
   "outputs": [
    {
     "data": {
      "text/html": [
       "<div>\n",
       "<style scoped>\n",
       "    .dataframe tbody tr th:only-of-type {\n",
       "        vertical-align: middle;\n",
       "    }\n",
       "\n",
       "    .dataframe tbody tr th {\n",
       "        vertical-align: top;\n",
       "    }\n",
       "\n",
       "    .dataframe thead th {\n",
       "        text-align: right;\n",
       "    }\n",
       "</style>\n",
       "<table border=\"1\" class=\"dataframe\">\n",
       "  <thead>\n",
       "    <tr style=\"text-align: right;\">\n",
       "      <th></th>\n",
       "      <th>Date</th>\n",
       "      <th>Open</th>\n",
       "      <th>High</th>\n",
       "      <th>Low</th>\n",
       "      <th>Close</th>\n",
       "      <th>Adj Close</th>\n",
       "      <th>Volume</th>\n",
       "      <th>Ticker</th>\n",
       "    </tr>\n",
       "  </thead>\n",
       "  <tbody>\n",
       "    <tr>\n",
       "      <th>0</th>\n",
       "      <td>2022-05-02</td>\n",
       "      <td>860.770020</td>\n",
       "      <td>906.359985</td>\n",
       "      <td>848.030029</td>\n",
       "      <td>902.940002</td>\n",
       "      <td>902.940002</td>\n",
       "      <td>25260500</td>\n",
       "      <td>TSLA</td>\n",
       "    </tr>\n",
       "    <tr>\n",
       "      <th>1</th>\n",
       "      <td>2022-05-03</td>\n",
       "      <td>903.179993</td>\n",
       "      <td>924.080017</td>\n",
       "      <td>888.590027</td>\n",
       "      <td>909.250000</td>\n",
       "      <td>909.250000</td>\n",
       "      <td>21236500</td>\n",
       "      <td>TSLA</td>\n",
       "    </tr>\n",
       "    <tr>\n",
       "      <th>2</th>\n",
       "      <td>2022-05-04</td>\n",
       "      <td>903.940002</td>\n",
       "      <td>955.500000</td>\n",
       "      <td>885.280029</td>\n",
       "      <td>952.619995</td>\n",
       "      <td>952.619995</td>\n",
       "      <td>27214600</td>\n",
       "      <td>TSLA</td>\n",
       "    </tr>\n",
       "    <tr>\n",
       "      <th>3</th>\n",
       "      <td>2022-05-05</td>\n",
       "      <td>939.020020</td>\n",
       "      <td>945.599976</td>\n",
       "      <td>857.700012</td>\n",
       "      <td>873.280029</td>\n",
       "      <td>873.280029</td>\n",
       "      <td>30839700</td>\n",
       "      <td>TSLA</td>\n",
       "    </tr>\n",
       "    <tr>\n",
       "      <th>4</th>\n",
       "      <td>2022-05-06</td>\n",
       "      <td>887.000000</td>\n",
       "      <td>888.000000</td>\n",
       "      <td>843.109985</td>\n",
       "      <td>865.650024</td>\n",
       "      <td>865.650024</td>\n",
       "      <td>24301000</td>\n",
       "      <td>TSLA</td>\n",
       "    </tr>\n",
       "  </tbody>\n",
       "</table>\n",
       "</div>"
      ],
      "text/plain": [
       "        Date        Open        High         Low       Close   Adj Close  \\\n",
       "0 2022-05-02  860.770020  906.359985  848.030029  902.940002  902.940002   \n",
       "1 2022-05-03  903.179993  924.080017  888.590027  909.250000  909.250000   \n",
       "2 2022-05-04  903.940002  955.500000  885.280029  952.619995  952.619995   \n",
       "3 2022-05-05  939.020020  945.599976  857.700012  873.280029  873.280029   \n",
       "4 2022-05-06  887.000000  888.000000  843.109985  865.650024  865.650024   \n",
       "\n",
       "     Volume Ticker  \n",
       "0  25260500   TSLA  \n",
       "1  21236500   TSLA  \n",
       "2  27214600   TSLA  \n",
       "3  30839700   TSLA  \n",
       "4  24301000   TSLA  "
      ]
     },
     "execution_count": 8,
     "metadata": {},
     "output_type": "execute_result"
    }
   ],
   "source": [
    "import naas_drivers\n",
    "\n",
    "df = naas_drivers.yahoofinance.get(\"TSLA\")\n",
    "df.head(5)"
   ]
  },
  {
   "cell_type": "code",
   "execution_count": 9,
   "metadata": {
    "execution": {
     "iopub.execute_input": "2022-06-07T10:11:14.766699Z",
     "iopub.status.busy": "2022-06-07T10:11:14.766503Z",
     "iopub.status.idle": "2022-06-07T10:11:14.838490Z",
     "shell.execute_reply": "2022-06-07T10:11:14.837772Z",
     "shell.execute_reply.started": "2022-06-07T10:11:14.766678Z"
    },
    "tags": []
   },
   "outputs": [
    {
     "data": {
      "text/html": [
       "<div>\n",
       "<style scoped>\n",
       "    .dataframe tbody tr th:only-of-type {\n",
       "        vertical-align: middle;\n",
       "    }\n",
       "\n",
       "    .dataframe tbody tr th {\n",
       "        vertical-align: top;\n",
       "    }\n",
       "\n",
       "    .dataframe thead th {\n",
       "        text-align: right;\n",
       "    }\n",
       "</style>\n",
       "<table border=\"1\" class=\"dataframe\">\n",
       "  <thead>\n",
       "    <tr style=\"text-align: right;\">\n",
       "      <th></th>\n",
       "      <th>Date</th>\n",
       "      <th>Open</th>\n",
       "      <th>High</th>\n",
       "      <th>Low</th>\n",
       "      <th>Close</th>\n",
       "      <th>Adj Close</th>\n",
       "      <th>Volume</th>\n",
       "      <th>Ticker</th>\n",
       "    </tr>\n",
       "  </thead>\n",
       "  <tbody>\n",
       "    <tr>\n",
       "      <th>0</th>\n",
       "      <td>2022-05-02</td>\n",
       "      <td>860.770020</td>\n",
       "      <td>906.359985</td>\n",
       "      <td>848.030029</td>\n",
       "      <td>902.940002</td>\n",
       "      <td>902.940002</td>\n",
       "      <td>25260500</td>\n",
       "      <td>TSLA</td>\n",
       "    </tr>\n",
       "    <tr>\n",
       "      <th>1</th>\n",
       "      <td>2022-05-03</td>\n",
       "      <td>903.179993</td>\n",
       "      <td>924.080017</td>\n",
       "      <td>888.590027</td>\n",
       "      <td>909.250000</td>\n",
       "      <td>909.250000</td>\n",
       "      <td>21236500</td>\n",
       "      <td>TSLA</td>\n",
       "    </tr>\n",
       "    <tr>\n",
       "      <th>2</th>\n",
       "      <td>2022-05-04</td>\n",
       "      <td>903.940002</td>\n",
       "      <td>955.500000</td>\n",
       "      <td>885.280029</td>\n",
       "      <td>952.619995</td>\n",
       "      <td>952.619995</td>\n",
       "      <td>27214600</td>\n",
       "      <td>TSLA</td>\n",
       "    </tr>\n",
       "    <tr>\n",
       "      <th>3</th>\n",
       "      <td>2022-05-05</td>\n",
       "      <td>939.020020</td>\n",
       "      <td>945.599976</td>\n",
       "      <td>857.700012</td>\n",
       "      <td>873.280029</td>\n",
       "      <td>873.280029</td>\n",
       "      <td>30839700</td>\n",
       "      <td>TSLA</td>\n",
       "    </tr>\n",
       "    <tr>\n",
       "      <th>4</th>\n",
       "      <td>2022-05-06</td>\n",
       "      <td>887.000000</td>\n",
       "      <td>888.000000</td>\n",
       "      <td>843.109985</td>\n",
       "      <td>865.650024</td>\n",
       "      <td>865.650024</td>\n",
       "      <td>24301000</td>\n",
       "      <td>TSLA</td>\n",
       "    </tr>\n",
       "  </tbody>\n",
       "</table>\n",
       "</div>"
      ],
      "text/plain": [
       "        Date        Open        High         Low       Close   Adj Close  \\\n",
       "0 2022-05-02  860.770020  906.359985  848.030029  902.940002  902.940002   \n",
       "1 2022-05-03  903.179993  924.080017  888.590027  909.250000  909.250000   \n",
       "2 2022-05-04  903.940002  955.500000  885.280029  952.619995  952.619995   \n",
       "3 2022-05-05  939.020020  945.599976  857.700012  873.280029  873.280029   \n",
       "4 2022-05-06  887.000000  888.000000  843.109985  865.650024  865.650024   \n",
       "\n",
       "     Volume Ticker  \n",
       "0  25260500   TSLA  \n",
       "1  21236500   TSLA  \n",
       "2  27214600   TSLA  \n",
       "3  30839700   TSLA  \n",
       "4  24301000   TSLA  "
      ]
     },
     "execution_count": 9,
     "metadata": {},
     "output_type": "execute_result"
    }
   ],
   "source": [
    "from naas_drivers import yahoofinance\n",
    "\n",
    "df = yahoofinance.get(\"TSLA\")\n",
    "df.head(5)"
   ]
  },
  {
   "cell_type": "markdown",
   "metadata": {},
   "source": [
    "### Get more help"
   ]
  },
  {
   "cell_type": "markdown",
   "metadata": {},
   "source": [
    "Using the function `help` we can get a description of each function (almost .. not all functions have docstrings, as they are technically called, but the vast majority of functions are documented this way). "
   ]
  },
  {
   "cell_type": "code",
   "execution_count": null,
   "metadata": {
    "execution": {
     "iopub.status.busy": "2022-06-07T10:11:05.083119Z",
     "iopub.status.idle": "2022-06-07T10:11:05.083627Z",
     "shell.execute_reply": "2022-06-07T10:11:05.083447Z"
    },
    "tags": []
   },
   "outputs": [],
   "source": [
    "help(pandas)"
   ]
  },
  {
   "cell_type": "markdown",
   "metadata": {},
   "source": [
    "A complete lists of standard modules for Python 2 and Python 3 are available at http://docs.python.org/2/library/ and http://docs.python.org/3/library/, respectively."
   ]
  },
  {
   "cell_type": "markdown",
   "metadata": {},
   "source": [
    "## Further reading"
   ]
  },
  {
   "cell_type": "markdown",
   "metadata": {},
   "source": [
    "* http://www.python.org - The official web page of the Python programming language.\n",
    "* http://www.python.org/dev/peps/pep-0008 - Style guide for Python programming. Highly recommended. \n",
    "* http://www.greenteapress.com/thinkpython/ - A free book on Python programming.\n",
    "* [Python Essential Reference](http://www.amazon.com/Python-Essential-Reference-4th-Edition/dp/0672329786) - A good reference book on Python programming."
   ]
  }
 ],
 "metadata": {
  "kernelspec": {
   "display_name": "Python 3",
   "language": "python",
   "name": "python3"
  },
  "language_info": {
   "codemirror_mode": {
    "name": "ipython",
    "version": 3
   },
   "file_extension": ".py",
   "mimetype": "text/x-python",
   "name": "python",
   "nbconvert_exporter": "python",
   "pygments_lexer": "ipython3",
   "version": "3.9.6"
  },
  "widgets": {
   "application/vnd.jupyter.widget-state+json": {
    "state": {},
    "version_major": 2,
    "version_minor": 0
   }
  }
 },
 "nbformat": 4,
 "nbformat_minor": 4
}
