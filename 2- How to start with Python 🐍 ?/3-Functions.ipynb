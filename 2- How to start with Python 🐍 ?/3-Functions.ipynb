{
 "cells": [
  {
   "cell_type": "markdown",
   "metadata": {},
   "source": [
    "<div class=\"clearfix\" style=\"padding: 10px; padding-left: 0px\">\n",
    "<img id=\"python_logo\" src=\"https://upload.wikimedia.org/wikipedia/commons/thumb/f/f8/Python_logo_and_wordmark.svg/2560px-Python_logo_and_wordmark.svg.png\" width=\"15%\" style=\"display: inline-block;\">"
   ]
  },
  {
   "cell_type": "markdown",
   "metadata": {},
   "source": [
    "# Python: Functions"
   ]
  },
  {
   "cell_type": "markdown",
   "metadata": {
    "execution": {
     "iopub.execute_input": "2022-06-07T09:16:59.692905Z",
     "iopub.status.busy": "2022-06-07T09:16:59.692635Z",
     "iopub.status.idle": "2022-06-07T09:16:59.695774Z",
     "shell.execute_reply": "2022-06-07T09:16:59.695231Z",
     "shell.execute_reply.started": "2022-06-07T09:16:59.692879Z"
    },
    "tags": []
   },
   "source": [
    "## Functions"
   ]
  },
  {
   "cell_type": "markdown",
   "metadata": {},
   "source": [
    "### Create function"
   ]
  },
  {
   "cell_type": "markdown",
   "metadata": {},
   "source": [
    "A function in Python is defined using the keyword `def`, followed by a function name, a signature within parentheses `()`, and a colon `:`.<br>\n",
    "The following code, with one additional level of indentation, is the function body.\n",
    "\n",
    "The function name can not have space or special characters.<br>\n",
    "To name your name function, we highly recommend you to:\n",
    "- find a name that represent the function purpose.\n",
    "- write it in lower case using `_` instead of space"
   ]
  },
  {
   "cell_type": "code",
   "execution_count": 14,
   "metadata": {
    "execution": {
     "iopub.execute_input": "2022-06-07T09:17:08.764555Z",
     "iopub.status.busy": "2022-06-07T09:17:08.764339Z",
     "iopub.status.idle": "2022-06-07T09:17:08.767399Z",
     "shell.execute_reply": "2022-06-07T09:17:08.766774Z",
     "shell.execute_reply.started": "2022-06-07T09:17:08.764533Z"
    },
    "tags": []
   },
   "outputs": [],
   "source": [
    "def my_function():\n",
    "    print(\"test\")"
   ]
  },
  {
   "cell_type": "markdown",
   "metadata": {},
   "source": [
    "### Run function"
   ]
  },
  {
   "cell_type": "markdown",
   "metadata": {
    "execution": {
     "iopub.execute_input": "2022-06-07T09:13:14.316097Z",
     "iopub.status.busy": "2022-06-07T09:13:14.315877Z",
     "iopub.status.idle": "2022-06-07T09:13:14.319265Z",
     "shell.execute_reply": "2022-06-07T09:13:14.318657Z",
     "shell.execute_reply.started": "2022-06-07T09:13:14.316074Z"
    },
    "tags": []
   },
   "source": [
    "To call your function, you need to write your function with parentheses `()`"
   ]
  },
  {
   "cell_type": "code",
   "execution_count": 15,
   "metadata": {
    "execution": {
     "iopub.execute_input": "2022-06-07T09:17:09.756306Z",
     "iopub.status.busy": "2022-06-07T09:17:09.756047Z",
     "iopub.status.idle": "2022-06-07T09:17:09.760087Z",
     "shell.execute_reply": "2022-06-07T09:17:09.759460Z",
     "shell.execute_reply.started": "2022-06-07T09:17:09.756241Z"
    },
    "tags": []
   },
   "outputs": [
    {
     "name": "stdout",
     "output_type": "stream",
     "text": [
      "test\n"
     ]
    }
   ],
   "source": [
    "my_function()"
   ]
  },
  {
   "cell_type": "markdown",
   "metadata": {},
   "source": [
    "### Return value"
   ]
  },
  {
   "cell_type": "markdown",
   "metadata": {},
   "source": [
    "To return value from your functions you need to use the `return` keyword.<br>\n",
    "After this keyword, you can add anykind of value.\n",
    "\n",
    "To store and use the result of your function, you need to assign it to a variable.<br>"
   ]
  },
  {
   "cell_type": "code",
   "execution_count": 20,
   "metadata": {
    "execution": {
     "iopub.execute_input": "2022-06-07T09:21:17.528299Z",
     "iopub.status.busy": "2022-06-07T09:21:17.528080Z",
     "iopub.status.idle": "2022-06-07T09:21:17.531195Z",
     "shell.execute_reply": "2022-06-07T09:21:17.530565Z",
     "shell.execute_reply.started": "2022-06-07T09:21:17.528277Z"
    },
    "tags": []
   },
   "outputs": [],
   "source": [
    "def my_function():\n",
    "    return \"test\""
   ]
  },
  {
   "cell_type": "code",
   "execution_count": 21,
   "metadata": {
    "execution": {
     "iopub.execute_input": "2022-06-07T09:21:17.764351Z",
     "iopub.status.busy": "2022-06-07T09:21:17.764131Z",
     "iopub.status.idle": "2022-06-07T09:21:17.769841Z",
     "shell.execute_reply": "2022-06-07T09:21:17.769238Z",
     "shell.execute_reply.started": "2022-06-07T09:21:17.764328Z"
    },
    "tags": []
   },
   "outputs": [
    {
     "data": {
      "text/plain": [
       "'test'"
      ]
     },
     "execution_count": 21,
     "metadata": {},
     "output_type": "execute_result"
    }
   ],
   "source": [
    "result = my_function()\n",
    "result"
   ]
  },
  {
   "cell_type": "code",
   "execution_count": 22,
   "metadata": {
    "execution": {
     "iopub.execute_input": "2022-06-07T09:21:18.018733Z",
     "iopub.status.busy": "2022-06-07T09:21:18.018512Z",
     "iopub.status.idle": "2022-06-07T09:21:18.021538Z",
     "shell.execute_reply": "2022-06-07T09:21:18.020848Z",
     "shell.execute_reply.started": "2022-06-07T09:21:18.018709Z"
    }
   },
   "outputs": [],
   "source": [
    "def my_function2():\n",
    "    return 13"
   ]
  },
  {
   "cell_type": "code",
   "execution_count": 23,
   "metadata": {
    "execution": {
     "iopub.execute_input": "2022-06-07T09:21:18.439406Z",
     "iopub.status.busy": "2022-06-07T09:21:18.438330Z",
     "iopub.status.idle": "2022-06-07T09:21:18.447935Z",
     "shell.execute_reply": "2022-06-07T09:21:18.447312Z",
     "shell.execute_reply.started": "2022-06-07T09:21:18.439368Z"
    }
   },
   "outputs": [
    {
     "data": {
      "text/plain": [
       "13"
      ]
     },
     "execution_count": 23,
     "metadata": {},
     "output_type": "execute_result"
    }
   ],
   "source": [
    "result = my_function2()\n",
    "result"
   ]
  },
  {
   "cell_type": "markdown",
   "metadata": {},
   "source": [
    "### Add arguments"
   ]
  },
  {
   "cell_type": "markdown",
   "metadata": {},
   "source": [
    "You can add arguments in your function to make reusable in many cases.<br>\n",
    "Those arguments will be store within parentheses `()` with variable names.<br>\n",
    "\n",
    "To call your function with an argument, you will need to write it within parentheses `()`"
   ]
  },
  {
   "cell_type": "code",
   "execution_count": 28,
   "metadata": {
    "execution": {
     "iopub.execute_input": "2022-06-07T09:26:14.122434Z",
     "iopub.status.busy": "2022-06-07T09:26:14.119463Z",
     "iopub.status.idle": "2022-06-07T09:26:14.125795Z",
     "shell.execute_reply": "2022-06-07T09:26:14.125161Z",
     "shell.execute_reply.started": "2022-06-07T09:26:14.122379Z"
    },
    "tags": []
   },
   "outputs": [],
   "source": [
    "def square(x):\n",
    "    return x ** 2"
   ]
  },
  {
   "cell_type": "code",
   "execution_count": 29,
   "metadata": {
    "execution": {
     "iopub.execute_input": "2022-06-07T09:26:14.319922Z",
     "iopub.status.busy": "2022-06-07T09:26:14.319643Z",
     "iopub.status.idle": "2022-06-07T09:26:14.324251Z",
     "shell.execute_reply": "2022-06-07T09:26:14.323641Z",
     "shell.execute_reply.started": "2022-06-07T09:26:14.319891Z"
    },
    "tags": []
   },
   "outputs": [
    {
     "data": {
      "text/plain": [
       "4"
      ]
     },
     "execution_count": 29,
     "metadata": {},
     "output_type": "execute_result"
    }
   ],
   "source": [
    "square(2)"
   ]
  },
  {
   "cell_type": "code",
   "execution_count": 30,
   "metadata": {
    "execution": {
     "iopub.execute_input": "2022-06-07T09:26:14.897577Z",
     "iopub.status.busy": "2022-06-07T09:26:14.897307Z",
     "iopub.status.idle": "2022-06-07T09:26:14.901415Z",
     "shell.execute_reply": "2022-06-07T09:26:14.900828Z",
     "shell.execute_reply.started": "2022-06-07T09:26:14.897551Z"
    },
    "tags": []
   },
   "outputs": [
    {
     "data": {
      "text/plain": [
       "9"
      ]
     },
     "execution_count": 30,
     "metadata": {},
     "output_type": "execute_result"
    }
   ],
   "source": [
    "square(3)"
   ]
  },
  {
   "cell_type": "markdown",
   "metadata": {},
   "source": [
    "In a definition of a function, you can give default values to the arguments.\n",
    "\n",
    "If no arguments are given when the function is called. This function will be executed with the default one."
   ]
  },
  {
   "cell_type": "code",
   "execution_count": 31,
   "metadata": {
    "execution": {
     "iopub.execute_input": "2022-06-07T09:28:17.754224Z",
     "iopub.status.busy": "2022-06-07T09:28:17.754006Z",
     "iopub.status.idle": "2022-06-07T09:28:17.757040Z",
     "shell.execute_reply": "2022-06-07T09:28:17.756407Z",
     "shell.execute_reply.started": "2022-06-07T09:28:17.754200Z"
    }
   },
   "outputs": [],
   "source": [
    "def square(x=1):\n",
    "    return x ** 2"
   ]
  },
  {
   "cell_type": "code",
   "execution_count": 32,
   "metadata": {
    "execution": {
     "iopub.execute_input": "2022-06-07T09:28:18.225113Z",
     "iopub.status.busy": "2022-06-07T09:28:18.224878Z",
     "iopub.status.idle": "2022-06-07T09:28:18.229401Z",
     "shell.execute_reply": "2022-06-07T09:28:18.228707Z",
     "shell.execute_reply.started": "2022-06-07T09:28:18.225089Z"
    }
   },
   "outputs": [
    {
     "data": {
      "text/plain": [
       "1"
      ]
     },
     "execution_count": 32,
     "metadata": {},
     "output_type": "execute_result"
    }
   ],
   "source": [
    "square()"
   ]
  },
  {
   "cell_type": "markdown",
   "metadata": {},
   "source": [
    "## Further reading"
   ]
  },
  {
   "cell_type": "markdown",
   "metadata": {},
   "source": [
    "* http://www.python.org - The official web page of the Python programming language.\n",
    "* http://www.python.org/dev/peps/pep-0008 - Style guide for Python programming. Highly recommended. \n",
    "* http://www.greenteapress.com/thinkpython/ - A free book on Python programming.\n",
    "* [Python Essential Reference](http://www.amazon.com/Python-Essential-Reference-4th-Edition/dp/0672329786) - A good reference book on Python programming."
   ]
  }
 ],
 "metadata": {
  "kernelspec": {
   "display_name": "Python 3",
   "language": "python",
   "name": "python3"
  },
  "language_info": {
   "codemirror_mode": {
    "name": "ipython",
    "version": 3
   },
   "file_extension": ".py",
   "mimetype": "text/x-python",
   "name": "python",
   "nbconvert_exporter": "python",
   "pygments_lexer": "ipython3",
   "version": "3.9.6"
  },
  "widgets": {
   "application/vnd.jupyter.widget-state+json": {
    "state": {},
    "version_major": 2,
    "version_minor": 0
   }
  }
 },
 "nbformat": 4,
 "nbformat_minor": 4
}
