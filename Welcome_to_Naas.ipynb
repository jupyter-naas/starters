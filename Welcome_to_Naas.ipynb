{
 "cells": [
  {
   "cell_type": "markdown",
   "metadata": {},
   "source": [
    "<img width=\"10%\" alt=\"Naas\" src=\"https://landen.imgix.net/jtci2pxwjczr/assets/5ice39g4.png?w=160\"/>"
   ]
  },
  {
   "cell_type": "markdown",
   "metadata": {},
   "source": [
    "# Welcome to Naas"
   ]
  },
  {
   "cell_type": "markdown",
   "metadata": {},
   "source": [
    "## 😎 Project"
   ]
  },
  {
   "cell_type": "markdown",
   "metadata": {},
   "source": [
    "Jupyter-Naas is an opensource project based on the original version of JupyterLab that provides:\n",
    "- Computing power through an AWS infrastructure\n",
    "- Core features: scheduling and other micro-services\n",
    "- Templates: notebooks templates to kick start your project\n",
    "Jupyter-Naas is hosted on CASHSTORY SAS servers (AWS-West-Europe) and distributed under the domain name : www.naas.ai - All rights reserved"
   ]
  },
  {
   "cell_type": "markdown",
   "metadata": {},
   "source": [
    "## 🚀 Starter pack"
   ]
  },
  {
   "cell_type": "markdown",
   "metadata": {
    "id": "GJBs_flRovLc"
   },
   "source": [
    "* 0- Most popular templates 😎\n",
    "* 1- How to start with Jupyter 📓 ?\n",
    "* 2- How to start with Python 🐍 ?\n",
    "* 3- How to start with Naas ⚡ ?\n",
    "* Naas_Jobs_cleaning.ipynb\n",
    "* Naas_Setup_secret.ipynb\n",
    "* Welcome_to_Naas.ipynb"
   ]
  },
  {
   "cell_type": "markdown",
   "metadata": {},
   "source": [
    "### Most popular templates 😎"
   ]
  },
  {
   "cell_type": "markdown",
   "metadata": {},
   "source": [
    "List of most popular templates classified by domain:\n",
    "1. 🖼 Content\n",
    "2. 📣 Marketing\n",
    "3. 📈 Sales\n",
    "4. ⚙️ Operations\n",
    "5. 💰 Finance\n",
    "6. 🌎 Open Data"
   ]
  },
  {
   "cell_type": "markdown",
   "metadata": {},
   "source": [
    "### How to start with Jupyter 📓 ?"
   ]
  },
  {
   "cell_type": "markdown",
   "metadata": {},
   "source": [
    "0. Introduction to Jupyter\n",
    "1. Running Code in Jupyter\n",
    "2. Markdown in Jupyter"
   ]
  },
  {
   "cell_type": "markdown",
   "metadata": {},
   "source": [
    "### How to start with Python 🐍 ?"
   ]
  },
  {
   "cell_type": "markdown",
   "metadata": {},
   "source": [
    "0. Introduction to Python\n",
    "1. Python fundamentals\n",
    "2. Conditions and Loops\n",
    "3. Functions\n",
    "4. Libraries and modules"
   ]
  },
  {
   "cell_type": "markdown",
   "metadata": {},
   "source": [
    "### How to start with Naas ⚡ ?"
   ]
  },
  {
   "cell_type": "markdown",
   "metadata": {},
   "source": [
    "0. Introduction to Naas\n",
    "1. Naas Scheduler demo\n",
    "2. Naas Asset demo\n",
    "3. Naas Webhook demo\n",
    "4. Naas Notification demo\n",
    "5. Naas Dependency demo"
   ]
  },
  {
   "cell_type": "markdown",
   "metadata": {},
   "source": [
    "### Naas Get help"
   ]
  },
  {
   "cell_type": "markdown",
   "metadata": {},
   "source": [
    "A simple notebook to get help directly with the team."
   ]
  },
  {
   "cell_type": "markdown",
   "metadata": {},
   "source": [
    "### Naas Jobs cleaning"
   ]
  },
  {
   "cell_type": "markdown",
   "metadata": {},
   "source": [
    "A simple notebook to manage your automation."
   ]
  },
  {
   "cell_type": "markdown",
   "metadata": {},
   "source": [
    "### Naas Setup secret"
   ]
  },
  {
   "cell_type": "markdown",
   "metadata": {},
   "source": [
    "A simple notebook to store and use your secret anywhere in your environment."
   ]
  },
  {
   "cell_type": "markdown",
   "metadata": {},
   "source": [
    "## 👮 Policy"
   ]
  },
  {
   "cell_type": "markdown",
   "metadata": {},
   "source": [
    "### 🌍 Server consumptions"
   ]
  },
  {
   "cell_type": "markdown",
   "metadata": {},
   "source": [
    "If you are not in a room, we switched off the light for you.\n",
    "\n",
    "If kernel dies you will be prompted to restart it.<br>\n",
    "If not, you will have to press the button `↻` in the menu on the top of your notebook."
   ]
  },
  {
   "cell_type": "markdown",
   "metadata": {},
   "source": [
    "<div class=\"alert alert-success\" role=\"alert\" style=\"margin: 10px\">\n",
    "<p>This notebook is running on a server that was <b>launched just for you</b>. Your server will be stoped after 15 min of inactivity.\n",
    "</p>\n",
    "</div>"
   ]
  },
  {
   "cell_type": "markdown",
   "metadata": {},
   "source": [
    "### ⚡ Credit based system"
   ]
  },
  {
   "cell_type": "markdown",
   "metadata": {},
   "source": [
    "**Notebook uptime** is free of use. Enjoy as much as you wish !<br>\n",
    "Remember is that for a free plan, ressource will be shared between multiples accounts.\n",
    "You will be only debited your each naas features used as below:\n",
    "- Scheduler: 1 min = 1 credit\n",
    "- Webhook: 1 min = 1 credit\n",
    "- Asset Sharing: 1 call = 1 credit\n",
    "- Notification: 1 notification = 1 credit"
   ]
  },
  {
   "cell_type": "markdown",
   "metadata": {},
   "source": [
    "### 🚨⛏️ Miners walk away !"
   ]
  },
  {
   "cell_type": "markdown",
   "metadata": {},
   "source": [
    "Mining is strictly prohibited."
   ]
  },
  {
   "cell_type": "markdown",
   "metadata": {
    "execution": {
     "iopub.execute_input": "2021-02-15T23:48:21.646797Z",
     "iopub.status.busy": "2021-02-15T23:48:21.646575Z",
     "iopub.status.idle": "2021-02-15T23:48:21.657886Z",
     "shell.execute_reply": "2021-02-15T23:48:21.657150Z",
     "shell.execute_reply.started": "2021-02-15T23:48:21.646777Z"
    }
   },
   "source": [
    "## More resources\n",
    "- Github open-source repository: \n",
    "https://github.com/jupyter-naas\n",
    "\n",
    "-  Credit-based system information:\n",
    "https://www.naas.ai/pricing\n",
    "\n",
    "-  Access to the Slack Community:\n",
    "https://app.slack.com/client/T01E5188RNV\n",
    "\n",
    "\n",
    "Follow us on social medias : \n",
    "\n",
    "[Youtube](https://www.youtube.com/channel/UCKKG5hzjXXU_rRdHHWQ8JHQ?sub_confirmation=1) | [LinkedIn](https://www.linkedin.com/showcase/naas) | [Twitter](https://twitter.com/JupyterNaas)"
   ]
  }
 ],
 "metadata": {
  "colab": {
   "collapsed_sections": [],
   "name": "Welcome to Colaboratory",
   "provenance": [],
   "toc_visible": true
  },
  "kernelspec": {
   "display_name": "Python 3",
   "language": "python",
   "name": "python3"
  },
  "language_info": {
   "codemirror_mode": {
    "name": "ipython",
    "version": 3
   },
   "file_extension": ".py",
   "mimetype": "text/x-python",
   "name": "python",
   "nbconvert_exporter": "python",
   "pygments_lexer": "ipython3",
   "version": "3.9.6"
  },
  "toc-showtags": false,
  "widgets": {
   "application/vnd.jupyter.widget-state+json": {
    "state": {},
    "version_major": 2,
    "version_minor": 0
   }
  }
 },
 "nbformat": 4,
 "nbformat_minor": 4
}
