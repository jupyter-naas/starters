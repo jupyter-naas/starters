{
 "cells": [
  {
   "cell_type": "markdown",
   "metadata": {},
   "source": [
    "<img id=\"juno_demo_notebook_logo_image_default\" src=\"https://landen.imgix.net/jtci2pxwjczr/assets/5ice39g4.png?w=160\" width=\"10%\" class=\"pull-right\" style=\"display: inline-block; margin: 0px; padding-left:8px;\">"
   ]
  },
  {
   "cell_type": "markdown",
   "metadata": {},
   "source": [
    "# Welcome to Naas"
   ]
  },
  {
   "cell_type": "markdown",
   "metadata": {},
   "source": [
    "## What is Naas?"
   ]
  },
  {
   "cell_type": "markdown",
   "metadata": {},
   "source": [
    "Naas ('Notebooks as a service') allows you to write and execute **Python** code in a **Jupyter Notebook** environment in your browser with:\n",
    "- A private server hosted in AWS\n",
    "- Low-code features to productionize Jupyter notebooks\n",
    "- Low-code drivers to connect to tools\n",
    "- Templates with features and drivers to kick start your project\n",
    "\n",
    "Here are the Naas Core features:\n",
    "* ⏰ Scheduler: automate your data pipeline\n",
    "* 🖼️ Asset: share static and dynamic graphs\n",
    "* ⚙️ Webhook: trigger workflow from a third party tool\n",
    "* 🛎️ Notification: send automated emails\n",
    "* 🔗 Dependency: add dependencies to your production pipeline"
   ]
  },
  {
   "cell_type": "markdown",
   "metadata": {},
   "source": [
    "Discover tutorials in the \"Naas Starter Pack 🚀\" folder or watch this video showing how to:<br>\n",
    "**'Push Jupyter Notebooks to production with our 5 low code formulas'**"
   ]
  },
  {
   "cell_type": "code",
   "execution_count": 3,
   "metadata": {
    "execution": {
     "iopub.execute_input": "2022-06-29T15:29:57.489857Z",
     "iopub.status.busy": "2022-06-29T15:29:57.489393Z",
     "iopub.status.idle": "2022-06-29T15:29:57.499739Z",
     "shell.execute_reply": "2022-06-29T15:29:57.499168Z",
     "shell.execute_reply.started": "2022-06-29T15:29:57.489800Z"
    },
    "jupyter": {
     "source_hidden": true
    },
    "tags": []
   },
   "outputs": [
    {
     "data": {
      "text/html": [
       "\n",
       "        <iframe\n",
       "            width=\"560\"\n",
       "            height=\"315\"\n",
       "            src=\"https://www.youtube.com/embed/4ds2FDI_60g\"\n",
       "            frameborder=\"0\"\n",
       "            allowfullscreen\n",
       "        ></iframe>\n",
       "        "
      ],
      "text/plain": [
       "<IPython.lib.display.IFrame at 0x7ff2c07efc10>"
      ]
     },
     "execution_count": 3,
     "metadata": {},
     "output_type": "execute_result"
    }
   ],
   "source": [
    "from IPython.display import IFrame\n",
    "\n",
    "IFrame(\n",
    "    src='https://www.youtube.com/embed/4ds2FDI_60g',\n",
    "    width=\"560\",\n",
    "    height=\"315\"\n",
    ")"
   ]
  },
  {
   "cell_type": "markdown",
   "metadata": {},
   "source": [
    "📚 [Documentation](https://docs.naas.ai/)<br>\n",
    "⭐️ [Opensource repository](https://github.com/jupyter-naas)<br>\n",
    "🎥 [Other tutorials](https://www.youtube.com/channel/UCKKG5hzjXXU_rRdHHWQ8JHQ)<br>\n",
    "<br>\n",
    "Need a refresher ? Go to the following folders:\n",
    "- \"How to start with Jupyter 📓 ?\"\n",
    "- \"How to start with Python 🐍 ?\""
   ]
  },
  {
   "cell_type": "markdown",
   "metadata": {},
   "source": [
    "## FAQ"
   ]
  },
  {
   "cell_type": "markdown",
   "metadata": {},
   "source": [
    "### How I get help with Naas ?"
   ]
  },
  {
   "cell_type": "code",
   "execution_count": null,
   "metadata": {},
   "outputs": [],
   "source": [
    "import naas\n",
    "naas.open_help()"
   ]
  },
  {
   "cell_type": "markdown",
   "metadata": {},
   "source": [
    "### How I schedule a notebook with Naas?"
   ]
  },
  {
   "cell_type": "code",
   "execution_count": null,
   "metadata": {},
   "outputs": [],
   "source": [
    "import naas\n",
    "notebook_path = \"\"\n",
    "naas.scheduler.add(path=notebook_path, cron=\"0 * * * *\")"
   ]
  },
  {
   "cell_type": "markdown",
   "metadata": {},
   "source": [
    "### How I delete a notebook with Naas?"
   ]
  },
  {
   "cell_type": "code",
   "execution_count": null,
   "metadata": {},
   "outputs": [],
   "source": [
    "import naas\n",
    "notebook_path = \"\"\n",
    "naas.scheduler.delete(path=notebook_path)"
   ]
  },
  {
   "cell_type": "markdown",
   "metadata": {},
   "source": [
    "### Why my notebooks switch off after more thant 15 minutes of inactivity?"
   ]
  },
  {
   "cell_type": "markdown",
   "metadata": {},
   "source": [
    "🌍 If you are not in a room, we switched off the light for you.\n",
    "\n",
    "If kernel dies you will be prompted to restart it.<br>\n",
    "If not, you will have to press the button `↻` in the menu on the top of your notebook.\n",
    "<div class=\"alert alert-success\" role=\"alert\" style=\"margin: 10px\">\n",
    "<p>This notebook is running on a server that was <b>launched just for you</b>. Your server will be stoped after 15 min of inactivity.\n",
    "</p>\n",
    "</div>"
   ]
  },
  {
   "cell_type": "markdown",
   "metadata": {},
   "source": [
    "### How does the Credit based system work?"
   ]
  },
  {
   "cell_type": "markdown",
   "metadata": {},
   "source": [
    "**Notebook uptime** is free of use. Enjoy as much as you wish !<br>\n",
    "Remember is that for a free plan, ressource will be shared between multiples accounts!<br>\n",
    "\n",
    "⚡ You will be only debited your each naas features used as below:\n",
    "- Scheduler: 1 min = 1 credit\n",
    "- Webhook: 1 min = 1 credit\n",
    "- Asset Sharing: 1 call = 1 credit\n",
    "- Notification: 1 notification = 1 credit\n",
    "\n",
    "[Credit-based system information](https://www.naas.ai/pricing)"
   ]
  },
  {
   "cell_type": "markdown",
   "metadata": {},
   "source": [
    "### What are the ressources I have access with a Free Plan?"
   ]
  },
  {
   "cell_type": "markdown",
   "metadata": {},
   "source": [
    "- 4Go RAM\n",
    "- 2 vCPU Processor\n",
    "- 20Go storage"
   ]
  },
  {
   "cell_type": "markdown",
   "metadata": {},
   "source": [
    "### How I become a contributor?"
   ]
  },
  {
   "cell_type": "markdown",
   "metadata": {},
   "source": [
    "- Let us know more about you [here](https://form.typeform.com/to/jdls9qZf?typeform-source=www.naas.ai)\n",
    "- Join our [Slack community](https://join.slack.com/t/naas-club/shared_invite/zt-r187or6p-CwaKutBTxVeIIw6zJ0DHkw)\n",
    "- Learn [how to contribute](https://naas-official.notion.site/How-to-contribute-b2cfde03e4254091814757752521ff1b)\n",
    "- Start contributing on [GitHub](https://github.com/orgs/jupyter-naas/projects/4)"
   ]
  },
  {
   "cell_type": "markdown",
   "metadata": {},
   "source": [
    "### Miners walk away !"
   ]
  },
  {
   "cell_type": "markdown",
   "metadata": {},
   "source": [
    "🚨⛏️ Mining is strictly prohibited."
   ]
  },
  {
   "cell_type": "markdown",
   "metadata": {},
   "source": [
    "<br><br>\n",
    "\n",
    "Don't forget to follow on social media and star our GitHub repository: \n",
    "- [Youtube](https://www.youtube.com/channel/UCKKG5hzjXXU_rRdHHWQ8JHQ?sub_confirmation=1)\n",
    "- [GitHub](https://github.com/jupyter-naas)\n",
    "- [LinkedIn](https://www.linkedin.com/showcase/naas)\n",
    "- [Twitter](https://twitter.com/JupyterNaas)\n",
    "\n",
    "<br>\n",
    "\n",
    "PS: You want to make a data project but you don't know where to start, [we are here to help you!](https://calendly.com/valentin-naas/15min-meeting?month=2022-06)"
   ]
  }
 ],
 "metadata": {
  "kernelspec": {
   "display_name": "Python 3",
   "language": "python",
   "name": "python3"
  },
  "language_info": {
   "codemirror_mode": {
    "name": "ipython",
    "version": 3
   },
   "file_extension": ".py",
   "mimetype": "text/x-python",
   "name": "python",
   "nbconvert_exporter": "python",
   "pygments_lexer": "ipython3",
   "version": "3.9.6"
  },
  "widgets": {
   "application/vnd.jupyter.widget-state+json": {
    "state": {},
    "version_major": 2,
    "version_minor": 0
   }
  }
 },
 "nbformat": 4,
 "nbformat_minor": 4
}
