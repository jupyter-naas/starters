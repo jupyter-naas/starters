{
 "cells": [
  {
   "cell_type": "markdown",
   "id": "universal-waste",
   "metadata": {
    "papermill": {},
    "tags": []
   },
   "source": [
    "<img width=\"10%\" alt=\"Naas\" src=\"https://landen.imgix.net/jtci2pxwjczr/assets/5ice39g4.png?w=160\"/>\n"
   ]
  },
  {
   "cell_type": "markdown",
   "id": "norwegian-stack",
   "metadata": {
    "papermill": {},
    "tags": []
   },
   "source": [
    "# Naas - Notification demo\n",
    "<a href=\"https://app.naas.ai/user-redirect/naas/downloader?url=https://raw.githubusercontent.com/jupyter-naas/awesome-notebooks/master/Naas/Naas_Notification_demo.ipynb\" target=\"_parent\"><img src=\"https://naasai-public.s3.eu-west-3.amazonaws.com/open_in_naas.svg\"/></a>"
   ]
  },
  {
   "cell_type": "markdown",
   "id": "9e7095b3-05ee-4f51-ab76-a628cc1cf4a3",
   "metadata": {
    "papermill": {},
    "tags": []
   },
   "source": [
    "**Tags:** #naas #notification #snippet #operations"
   ]
  },
  {
   "cell_type": "markdown",
   "id": "2956ea45-054b-474c-ae69-4a22431b7844",
   "metadata": {
    "papermill": {},
    "tags": []
   },
   "source": [
    "**Author:** [Jeremy Ravenel](https://www.linkedin.com/in/ACoAAAJHE7sB5OxuKHuzguZ9L6lfDHqw--cdnJg/)"
   ]
  },
  {
   "cell_type": "markdown",
   "id": "comic-phase",
   "metadata": {
    "papermill": {},
    "tags": []
   },
   "source": [
    "Read the doc: https://docs.naas.ai/features/scheduler\n",
    "<br>\n",
    "Note: use ''' around your content for HTML"
   ]
  },
  {
   "cell_type": "markdown",
   "id": "56de70b5-f256-4c96-a700-19f159ff389b",
   "metadata": {
    "papermill": {},
    "tags": []
   },
   "source": [
    "## Input"
   ]
  },
  {
   "cell_type": "markdown",
   "id": "import_cell",
   "metadata": {
    "papermill": {},
    "tags": []
   },
   "source": [
    "### Import libraries"
   ]
  },
  {
   "cell_type": "code",
   "execution_count": null,
   "id": "greatest-story",
   "metadata": {
    "papermill": {},
    "tags": []
   },
   "outputs": [],
   "source": [
    "import naas\n",
    "from IPython.display import HTML"
   ]
  },
  {
   "cell_type": "markdown",
   "id": "50a7521a-0fdc-445d-b0c8-c1d28cb1a0f1",
   "metadata": {},
   "source": [
    "### Setup Naas notification"
   ]
  },
  {
   "cell_type": "code",
   "execution_count": null,
   "id": "315add5d-6299-4942-963d-2b2bc658e754",
   "metadata": {},
   "outputs": [],
   "source": [
    "# Email receiver\n",
    "EMAIL_TO = \"ENTER_YOUR_EMAIL_TO_HERE\" #EXAMPLE: \"hello@naas.ai\"\n",
    "\n",
    "# Email subject\n",
    "EMAIL_SUBJECT = \"Naas Scheduler Test\" \n",
    "\n",
    "# Files attached\n",
    "#-> List of path stored in naas\n",
    "FILES_ATTACHED = [] #EXAMPLE: [\"my_excel.xlsx\", \"my_png.png\"]"
   ]
  },
  {
   "cell_type": "markdown",
   "id": "531029b2-eb85-4f13-872f-ccf74bff78a6",
   "metadata": {
    "papermill": {},
    "tags": []
   },
   "source": [
    "## Model"
   ]
  },
  {
   "cell_type": "markdown",
   "id": "9de8c884-41f0-4977-b592-8b67ea78dcdb",
   "metadata": {
    "papermill": {},
    "tags": []
   },
   "source": [
    "### Notification informations"
   ]
  },
  {
   "cell_type": "code",
   "execution_count": null,
   "id": "cubic-premiere",
   "metadata": {
    "papermill": {},
    "tags": []
   },
   "outputs": [],
   "source": [
    "# Email content\n",
    "EMAIL_CONTENT = (\n",
    "'''\n",
    "<p>Hello !</p>\n",
    "<p>If i put html in there..&nbsp;</p>\n",
    "<p><img src=\"https://specials-images.forbesimg.com/imageserve/5f1f37a40a5db2c8275972c0/960x0.jpg?fit=scale\" alt=\"\" width=\"959\" height=\"663\" /></p>\n",
    "'''\n",
    ")\n",
    "\n",
    "# Display content\n",
    "HTML(EMAIL_CONTENT)"
   ]
  },
  {
   "cell_type": "markdown",
   "id": "b3abe325-fbbe-42dd-877e-4b9587c7efba",
   "metadata": {
    "papermill": {},
    "tags": []
   },
   "source": [
    "## Output"
   ]
  },
  {
   "cell_type": "markdown",
   "id": "display_cell",
   "metadata": {
    "papermill": {},
    "tags": []
   },
   "source": [
    "### Send the notification"
   ]
  },
  {
   "cell_type": "code",
   "execution_count": null,
   "id": "c48da7fc-f243-4c05-bc68-1c20abe7f573",
   "metadata": {
    "papermill": {},
    "tags": []
   },
   "outputs": [],
   "source": [
    "result = naas.notification.send(\n",
    "    email_to=EMAIL_TO,\n",
    "    subject=EMAIL_SUBJECT, \n",
    "    html=EMAIL_CONTENT,\n",
    "    files=FILES_ATTACHED\n",
    ")"
   ]
  }
 ],
 "metadata": {
  "kernelspec": {
   "display_name": "Python 3",
   "language": "python",
   "name": "python3"
  },
  "language_info": {
   "codemirror_mode": {
    "name": "ipython",
    "version": 3
   },
   "file_extension": ".py",
   "mimetype": "text/x-python",
   "name": "python",
   "nbconvert_exporter": "python",
   "pygments_lexer": "ipython3",
   "version": "3.9.6"
  },
  "naas": {
   "notebook_id": "5ae82af1-4ccd-4dc8-91cc-82e3eff450b2",
   "notebook_path": "Naas/Naas_Notification_demo.ipynb"
  },
  "papermill": {
   "default_parameters": {},
   "environment_variables": {},
   "parameters": {},
   "version": "2.3.3"
  },
  "widgets": {
   "application/vnd.jupyter.widget-state+json": {
    "state": {},
    "version_major": 2,
    "version_minor": 0
   }
  }
 },
 "nbformat": 4,
 "nbformat_minor": 5
}
