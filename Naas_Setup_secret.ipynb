{
 "cells": [
  {
   "cell_type": "markdown",
   "id": "injured-evolution",
   "metadata": {
    "papermill": {},
    "tags": []
   },
   "source": [
    "<img width=\"10%\" alt=\"Naas\" src=\"https://landen.imgix.net/jtci2pxwjczr/assets/5ice39g4.png?w=160\"/>\n"
   ]
  },
  {
   "cell_type": "markdown",
   "id": "substantial-decline",
   "metadata": {
    "papermill": {},
    "tags": []
   },
   "source": [
    "# Naas - Secret demo\n",
    "<a href=\"https://app.naas.ai/user-redirect/naas/downloader?url=https://raw.githubusercontent.com/jupyter-naas/awesome-notebooks/master/Naas/Naas_Secret_demo.ipynb\" target=\"_parent\"><img src=\"https://naasai-public.s3.eu-west-3.amazonaws.com/open_in_naas.svg\"/></a>"
   ]
  },
  {
   "cell_type": "markdown",
   "id": "00619b69-5ce8-417a-b8b1-c81af6342f9c",
   "metadata": {
    "papermill": {},
    "tags": []
   },
   "source": [
    "**Tags:** #naas #secret #snippet #operations"
   ]
  },
  {
   "cell_type": "markdown",
   "id": "1446840e-74d1-4c76-afb6-4752a6b4a0c4",
   "metadata": {
    "papermill": {},
    "tags": []
   },
   "source": [
    "**Author:** [Jeremy Ravenel](https://www.linkedin.com/in/ACoAAAJHE7sB5OxuKHuzguZ9L6lfDHqw--cdnJg/)"
   ]
  },
  {
   "cell_type": "markdown",
   "id": "equipped-diploma",
   "metadata": {
    "papermill": {},
    "tags": []
   },
   "source": [
    "Read the doc: https://naas.gitbook.io/naas/features/secret"
   ]
  },
  {
   "cell_type": "markdown",
   "id": "input_cell",
   "metadata": {
    "papermill": {},
    "tags": []
   },
   "source": [
    "## Input"
   ]
  },
  {
   "cell_type": "markdown",
   "id": "import_cell",
   "metadata": {
    "papermill": {},
    "tags": []
   },
   "source": [
    "### Import library"
   ]
  },
  {
   "cell_type": "code",
   "execution_count": null,
   "id": "6d457ab3-5c6a-44af-8014-0db9eddba851",
   "metadata": {
    "papermill": {},
    "tags": []
   },
   "outputs": [],
   "source": [
    "import naas"
   ]
  },
  {
   "cell_type": "markdown",
   "id": "model_cell",
   "metadata": {
    "papermill": {},
    "tags": []
   },
   "source": [
    "## Model"
   ]
  },
  {
   "cell_type": "markdown",
   "id": "d16633c6-b319-4835-913e-5cdb2d0d63bf",
   "metadata": {
    "execution": {
     "iopub.execute_input": "2021-10-05T13:40:52.351618Z",
     "iopub.status.busy": "2021-10-05T13:40:52.351364Z",
     "iopub.status.idle": "2021-10-05T13:40:52.355642Z",
     "shell.execute_reply": "2021-10-05T13:40:52.354027Z",
     "shell.execute_reply.started": "2021-10-05T13:40:52.351555Z"
    },
    "papermill": {},
    "tags": []
   },
   "source": [
    "### Variable for the secret"
   ]
  },
  {
   "cell_type": "code",
   "execution_count": null,
   "id": "bf3d4648-ae1f-42f5-ab90-0599c1d1a3ae",
   "metadata": {
    "papermill": {},
    "tags": []
   },
   "outputs": [],
   "source": [
    "# LinkedIn\n",
    "LI_AT = \"ENTER_YOUR_LI_AT_HERE\"\n",
    "JSESSIONID = \"ENTER_YOUR_JSESSIONID_HERE\"\n",
    "\n",
    "# Hubspot\n",
    "HS_API_KEY = \"ENTER_YOUR_HS_API_KEY_HERE\"\n",
    "\n",
    "# Notion\n",
    "NOTION_TOKEN = \"ENTER_YOUR_NOTION_TOKEN_HERE\"\n",
    "\n",
    "# GitHub\n",
    "GITHUB_TOKEN = \"ENTER_YOUR_GITHUB_TOKEN_HERE\""
   ]
  },
  {
   "cell_type": "markdown",
   "id": "output_cell",
   "metadata": {
    "papermill": {},
    "tags": []
   },
   "source": [
    "## Output"
   ]
  },
  {
   "cell_type": "markdown",
   "id": "display_cell",
   "metadata": {
    "papermill": {},
    "tags": []
   },
   "source": [
    "### Add the secret"
   ]
  },
  {
   "cell_type": "code",
   "execution_count": null,
   "id": "valuable-sydney",
   "metadata": {
    "papermill": {},
    "tags": []
   },
   "outputs": [],
   "source": [
    "# Lindekin cookies\n",
    "naas.secret.add(\"LI_AT\", LI_AT)\n",
    "naas.secret.add(\"JSESSIONID\", JSESSIONID)\n",
    "\n",
    "# HubSpot\n",
    "naas.secret.add(\"HS_API_KEY\", HS_API_KEY)\n",
    "\n",
    "# Notion\n",
    "naas.secret.add('NOTION_TOKEN', NOTION_TOKEN)\n",
    "\n",
    "# GitHub\n",
    "naas.secret.add(\"GITHUB_TOKEN\", GITHUB_TOKEN)"
   ]
  }
 ],
 "metadata": {
  "kernelspec": {
   "display_name": "Python 3",
   "language": "python",
   "name": "python3"
  },
  "language_info": {
   "codemirror_mode": {
    "name": "ipython",
    "version": 3
   },
   "file_extension": ".py",
   "mimetype": "text/x-python",
   "name": "python",
   "nbconvert_exporter": "python",
   "pygments_lexer": "ipython3",
   "version": "3.9.6"
  },
  "naas": {
   "notebook_id": "77b7f93a-fb2a-483e-b98b-80735e426a64",
   "notebook_path": "Naas/Naas_Secret_demo.ipynb"
  },
  "papermill": {
   "default_parameters": {},
   "environment_variables": {},
   "parameters": {},
   "version": "2.3.3"
  },
  "widgets": {
   "application/vnd.jupyter.widget-state+json": {
    "state": {},
    "version_major": 2,
    "version_minor": 0
   }
  }
 },
 "nbformat": 4,
 "nbformat_minor": 5
}
