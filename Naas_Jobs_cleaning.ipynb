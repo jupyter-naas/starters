{
 "cells": [
  {
   "cell_type": "markdown",
   "id": "injured-evolution",
   "metadata": {
    "papermill": {},
    "tags": []
   },
   "source": [
    "<img width=\"10%\" alt=\"Naas\" src=\"https://landen.imgix.net/jtci2pxwjczr/assets/5ice39g4.png?w=160\"/>\n"
   ]
  },
  {
   "cell_type": "markdown",
   "id": "substantial-decline",
   "metadata": {
    "papermill": {},
    "tags": []
   },
   "source": [
    "# Naas - Jobs cleaning"
   ]
  },
  {
   "cell_type": "markdown",
   "id": "1446840e-74d1-4c76-afb6-4752a6b4a0c4",
   "metadata": {
    "papermill": {},
    "tags": []
   },
   "source": [
    "**Author:** [Florent Ravenel](https://www.linkedin.com/in/florent-ravenel/)"
   ]
  },
  {
   "cell_type": "markdown",
   "id": "ab3c474c-e6c9-4c2a-9346-3c3a1121b4bf",
   "metadata": {},
   "source": [
    "This templates helps you to work with naas features and naas manager to clean your work and remove all useless process."
   ]
  },
  {
   "cell_type": "markdown",
   "id": "1836f87d-ef34-4b4f-a3e4-2b77c02fc60a",
   "metadata": {},
   "source": [
    "### Remove scheduler"
   ]
  },
  {
   "cell_type": "code",
   "execution_count": null,
   "id": "42a186e2-f2c5-48de-ba06-73cb35491fbe",
   "metadata": {},
   "outputs": [],
   "source": [
    "import naas\n",
    "\n",
    "file_path = \"\"\n",
    "\n",
    "naas.scheduler.delete(file_path)"
   ]
  },
  {
   "cell_type": "markdown",
   "id": "90caf119-7108-43ab-b46e-f603c55824e9",
   "metadata": {},
   "source": [
    "### Remove webhook"
   ]
  },
  {
   "cell_type": "code",
   "execution_count": null,
   "id": "f5fe15c8-7028-4bf0-9dd5-b776d565845f",
   "metadata": {},
   "outputs": [],
   "source": [
    "import naas\n",
    "\n",
    "file_path = \"\"\n",
    "\n",
    "naas.webhook.delete(file_path)"
   ]
  },
  {
   "cell_type": "markdown",
   "id": "03fed3ac-368a-4ed1-ac64-be6c9d3742c8",
   "metadata": {},
   "source": [
    "### Remove asset"
   ]
  },
  {
   "cell_type": "code",
   "execution_count": null,
   "id": "be9e6910-cbe9-4af1-b51c-55e21206f878",
   "metadata": {},
   "outputs": [],
   "source": [
    "import naas\n",
    "\n",
    "file_path = \"\"\n",
    "\n",
    "naas.asset.delete(file_path)"
   ]
  },
  {
   "cell_type": "markdown",
   "id": "5b50fffd-04ca-4883-9726-534efc25c92e",
   "metadata": {},
   "source": [
    "### Remove dependency"
   ]
  },
  {
   "cell_type": "code",
   "execution_count": null,
   "id": "26c09241-c17f-4c97-a646-ac0671534a45",
   "metadata": {},
   "outputs": [],
   "source": [
    "import naas\n",
    "\n",
    "file_path = \"\"\n",
    "\n",
    "naas.dependency.delete(file_path)"
   ]
  }
 ],
 "metadata": {
  "kernelspec": {
   "display_name": "Python 3",
   "language": "python",
   "name": "python3"
  },
  "language_info": {
   "codemirror_mode": {
    "name": "ipython",
    "version": 3
   },
   "file_extension": ".py",
   "mimetype": "text/x-python",
   "name": "python",
   "nbconvert_exporter": "python",
   "pygments_lexer": "ipython3",
   "version": "3.9.6"
  },
  "naas": {
   "notebook_id": "77b7f93a-fb2a-483e-b98b-80735e426a64",
   "notebook_path": "Naas/Naas_Secret_demo.ipynb"
  },
  "papermill": {
   "default_parameters": {},
   "environment_variables": {},
   "parameters": {},
   "version": "2.3.3"
  },
  "widgets": {
   "application/vnd.jupyter.widget-state+json": {
    "state": {},
    "version_major": 2,
    "version_minor": 0
   }
  }
 },
 "nbformat": 4,
 "nbformat_minor": 5
}
