{
 "cells": [
  {
   "cell_type": "markdown",
   "id": "injured-evolution",
   "metadata": {
    "papermill": {},
    "tags": []
   },
   "source": [
    "<img width=\"10%\" alt=\"Naas\" src=\"https://landen.imgix.net/jtci2pxwjczr/assets/5ice39g4.png?w=160\"/>\n"
   ]
  },
  {
   "cell_type": "markdown",
   "id": "substantial-decline",
   "metadata": {
    "papermill": {},
    "tags": []
   },
   "source": [
    "# Naas - Jobs cleaning"
   ]
  },
  {
   "cell_type": "markdown",
   "id": "1446840e-74d1-4c76-afb6-4752a6b4a0c4",
   "metadata": {
    "papermill": {},
    "tags": []
   },
   "source": [
    "**Author:** [Florent Ravenel](https://www.linkedin.com/in/florent-ravenel/)"
   ]
  },
  {
   "cell_type": "markdown",
   "id": "ab3c474c-e6c9-4c2a-9346-3c3a1121b4bf",
   "metadata": {},
   "source": [
    "This templates helps you to work with naas features and naas manager to clean your work and remove all useless process."
   ]
  },
  {
   "cell_type": "markdown",
   "id": "import_cell",
   "metadata": {
    "papermill": {},
    "tags": []
   },
   "source": [
    "## Input"
   ]
  },
  {
   "cell_type": "markdown",
   "id": "b8f640fd-798d-4b7d-9a22-f802b2b47a46",
   "metadata": {},
   "source": [
    "### Import libraries"
   ]
  },
  {
   "cell_type": "code",
   "execution_count": 14,
   "id": "46b81fe5-52db-467f-ad22-5c295d2404fb",
   "metadata": {
    "execution": {
     "iopub.execute_input": "2022-06-03T14:56:56.961616Z",
     "iopub.status.busy": "2022-06-03T14:56:56.961351Z",
     "iopub.status.idle": "2022-06-03T14:56:56.964537Z",
     "shell.execute_reply": "2022-06-03T14:56:56.963909Z",
     "shell.execute_reply.started": "2022-06-03T14:56:56.961590Z"
    },
    "tags": []
   },
   "outputs": [],
   "source": [
    "from naas_drivers import jupyter"
   ]
  },
  {
   "cell_type": "markdown",
   "id": "5615fe91-2f83-43c7-9c5e-1d8de6e20d00",
   "metadata": {},
   "source": [
    "## Model"
   ]
  },
  {
   "cell_type": "markdown",
   "id": "cfd8c75b-74dd-4723-9f74-220f5b9405c2",
   "metadata": {},
   "source": [
    "### Get your active jobs"
   ]
  },
  {
   "cell_type": "code",
   "execution_count": 12,
   "id": "4e2ed7cd-41b6-4211-9fee-185da6c2f1f3",
   "metadata": {
    "execution": {
     "iopub.execute_input": "2022-06-03T14:52:44.102006Z",
     "iopub.status.busy": "2022-06-03T14:52:44.101776Z",
     "iopub.status.idle": "2022-06-03T14:52:44.116316Z",
     "shell.execute_reply": "2022-06-03T14:52:44.115039Z",
     "shell.execute_reply.started": "2022-06-03T14:52:44.101983Z"
    },
    "tags": []
   },
   "outputs": [],
   "source": [
    "df_jobs = jupyter.connect().get_jobs()\n",
    "df_jobs"
   ]
  },
  {
   "cell_type": "markdown",
   "id": "667ce633-e52d-4e5b-a264-792b7967b9dd",
   "metadata": {},
   "source": [
    "## Output"
   ]
  },
  {
   "cell_type": "markdown",
   "id": "1836f87d-ef34-4b4f-a3e4-2b77c02fc60a",
   "metadata": {},
   "source": [
    "### Remove scheduler"
   ]
  },
  {
   "cell_type": "code",
   "execution_count": null,
   "id": "42a186e2-f2c5-48de-ba06-73cb35491fbe",
   "metadata": {},
   "outputs": [],
   "source": [
    "file_path = \"\"\n",
    "\n",
    "naas.scheduler.delete(file_path)"
   ]
  },
  {
   "cell_type": "markdown",
   "id": "90caf119-7108-43ab-b46e-f603c55824e9",
   "metadata": {},
   "source": [
    "### Remove webhook"
   ]
  },
  {
   "cell_type": "code",
   "execution_count": null,
   "id": "f5fe15c8-7028-4bf0-9dd5-b776d565845f",
   "metadata": {},
   "outputs": [],
   "source": [
    "file_path = \"\"\n",
    "\n",
    "naas.webhook.delete(file_path)"
   ]
  },
  {
   "cell_type": "markdown",
   "id": "03fed3ac-368a-4ed1-ac64-be6c9d3742c8",
   "metadata": {},
   "source": [
    "### Remove asset"
   ]
  },
  {
   "cell_type": "code",
   "execution_count": null,
   "id": "be9e6910-cbe9-4af1-b51c-55e21206f878",
   "metadata": {},
   "outputs": [],
   "source": [
    "file_path = \"\"\n",
    "\n",
    "naas.asset.delete(file_path)"
   ]
  },
  {
   "cell_type": "markdown",
   "id": "5b50fffd-04ca-4883-9726-534efc25c92e",
   "metadata": {},
   "source": [
    "### Remove dependency"
   ]
  },
  {
   "cell_type": "code",
   "execution_count": null,
   "id": "26c09241-c17f-4c97-a646-ac0671534a45",
   "metadata": {},
   "outputs": [],
   "source": [
    "file_path = \"\"\n",
    "\n",
    "naas.dependency.delete(file_path)"
   ]
  }
 ],
 "metadata": {
  "kernelspec": {
   "display_name": "Python 3",
   "language": "python",
   "name": "python3"
  },
  "language_info": {
   "codemirror_mode": {
    "name": "ipython",
    "version": 3
   },
   "file_extension": ".py",
   "mimetype": "text/x-python",
   "name": "python",
   "nbconvert_exporter": "python",
   "pygments_lexer": "ipython3",
   "version": "3.9.6"
  },
  "naas": {
   "notebook_id": "77b7f93a-fb2a-483e-b98b-80735e426a64",
   "notebook_path": "Naas/Naas_Secret_demo.ipynb"
  },
  "papermill": {
   "default_parameters": {},
   "environment_variables": {},
   "parameters": {},
   "version": "2.3.3"
  },
  "widgets": {
   "application/vnd.jupyter.widget-state+json": {
    "state": {},
    "version_major": 2,
    "version_minor": 0
   }
  }
 },
 "nbformat": 4,
 "nbformat_minor": 5
}
